{
 "cells": [
  {
   "cell_type": "code",
   "execution_count": 4,
   "metadata": {
    "collapsed": true
   },
   "outputs": [],
   "source": [
    "from catboost import CatBoostClassifier\n",
    "import numpy as np\n",
    "from lightgbm import LGBMClassifier\n",
    "from sklearn.ensemble import StackingClassifier\n",
    "from sklearn.linear_model import LogisticRegression\n",
    "import scipy\n",
    "from sklearn.model_selection import RandomizedSearchCV\n",
    "from kneed import KneeLocator\n",
    "from eli5.sklearn import PermutationImportance\n",
    "from utils.general_utils import load_data_old, get_cat_feature_names\n",
    "from utils.model_extensions_utils import FocalLossObjective\n",
    "from utils.plot_utils import Evaluation\n",
    "from utils.preprocessing_utils import Boruta_feature_selection, drop_by_correlation\n",
    "from utils.fe_utils import get_growth_features"
   ]
  },
  {
   "cell_type": "code",
   "execution_count": 5,
   "outputs": [],
   "source": [
    "df = load_data_old('test.sql')"
   ],
   "metadata": {
    "collapsed": false,
    "pycharm": {
     "name": "#%%\n"
    }
   }
  },
  {
   "cell_type": "code",
   "execution_count": 6,
   "outputs": [
    {
     "data": {
      "text/plain": "   expiring_arr  expiring_arr_ytd  arr_amount event_month    event_yr  \\\n0           NaN               NaN         NaN  2018-01-01  2018-01-01   \n1       -2950.0           -2950.0     -2950.0  2018-01-01  2018-01-01   \n2       -5500.0           -5500.0     -5500.0  2018-01-01  2018-01-01   \n3      -29500.0          -29500.0    -29500.0  2018-01-01  2018-01-01   \n4      -37300.0          -37300.0    -37300.0  2018-01-01  2018-01-01   \n5       -5500.0           -5500.0     -5500.0  2018-01-01  2018-01-01   \n6       -2950.0           -2950.0     -2950.0  2018-01-01  2018-01-01   \n\n    event_qtr  event_half            event_type business_unit  \\\n0  2018-01-01  2018-01-01  Monthly Subscription           NaN   \n1  2018-01-01  2018-01-01      Customer Success          EMEA   \n2  2018-01-01  2018-01-01      Customer Success           NaN   \n3  2018-01-01  2018-01-01      Customer Success           NaN   \n4  2018-01-01  2018-01-01      Customer Success           NaN   \n5  2018-01-01  2018-01-01      Customer Success           NaN   \n6  2018-01-01  2018-01-01      Customer Success          EMEA   \n\n  sales_business_unit  ... move_to_onprem move_to_consolidation_migration  \\\n0               Cloud  ...            NaN                             NaN   \n1                EMEA  ...            NaN                             NaN   \n2                 NaN  ...            NaN                             NaN   \n3                 NaN  ...            NaN                             NaN   \n4                 NaN  ...            NaN                             NaN   \n5                 NaN  ...            NaN                             NaN   \n6                EMEA  ...            NaN                             NaN   \n\n  opportunity_full_id renewal_contract related_contract_end_date opp_commit  \\\n0                 NaN              NaN                       NaN        NaN   \n1  006w000000oE98SAAS  8001r000006G4lJ                2018-01-15      False   \n2  006w000000oEJNxAAO              NaN                2018-01-19      False   \n3  006w000000oEkh1AAC  8001r000006G4p6                2018-01-11      False   \n4  006w000000oFvzMAAS  8001r000006G4SR                2018-09-28      False   \n5  006w000000oEBjoAAG  8001r000006G4YF                2018-01-08      False   \n6  006w000000okmxOAAQ  8001r000006Fwa8                2018-01-20      False   \n\n  account_id_renewal product_renewal_id             insert_datetime  \\\n0                NaN    01tw0000004u5DY  2021-08-25 07:02:00.759071   \n1    001w000001Pzv5t    01tw0000004CuUy  2021-08-25 07:02:00.759071   \n2    001w000001CP8KP    01tw0000004CuUy  2021-08-25 07:02:00.759071   \n3    001w000001TGRla    01tw0000004CuVD  2021-08-25 07:02:00.759071   \n4    0012000000uD2Er    01tw0000004CuVD  2021-08-25 07:02:00.759071   \n5    001w000001Pz3ej    01tw0000004CuUy  2021-08-25 07:02:00.759071   \n6    0012000000t89BU    01tw0000004CuUy  2021-08-25 07:02:00.759071   \n\n  insert_date  \n0  2021-08-25  \n1  2021-08-25  \n2  2021-08-25  \n3  2021-08-25  \n4  2021-08-25  \n5  2021-08-25  \n6  2021-08-25  \n\n[7 rows x 91 columns]",
      "text/html": "<div>\n<style scoped>\n    .dataframe tbody tr th:only-of-type {\n        vertical-align: middle;\n    }\n\n    .dataframe tbody tr th {\n        vertical-align: top;\n    }\n\n    .dataframe thead th {\n        text-align: right;\n    }\n</style>\n<table border=\"1\" class=\"dataframe\">\n  <thead>\n    <tr style=\"text-align: right;\">\n      <th></th>\n      <th>expiring_arr</th>\n      <th>expiring_arr_ytd</th>\n      <th>arr_amount</th>\n      <th>event_month</th>\n      <th>event_yr</th>\n      <th>event_qtr</th>\n      <th>event_half</th>\n      <th>event_type</th>\n      <th>business_unit</th>\n      <th>sales_business_unit</th>\n      <th>...</th>\n      <th>move_to_onprem</th>\n      <th>move_to_consolidation_migration</th>\n      <th>opportunity_full_id</th>\n      <th>renewal_contract</th>\n      <th>related_contract_end_date</th>\n      <th>opp_commit</th>\n      <th>account_id_renewal</th>\n      <th>product_renewal_id</th>\n      <th>insert_datetime</th>\n      <th>insert_date</th>\n    </tr>\n  </thead>\n  <tbody>\n    <tr>\n      <th>0</th>\n      <td>NaN</td>\n      <td>NaN</td>\n      <td>NaN</td>\n      <td>2018-01-01</td>\n      <td>2018-01-01</td>\n      <td>2018-01-01</td>\n      <td>2018-01-01</td>\n      <td>Monthly Subscription</td>\n      <td>NaN</td>\n      <td>Cloud</td>\n      <td>...</td>\n      <td>NaN</td>\n      <td>NaN</td>\n      <td>NaN</td>\n      <td>NaN</td>\n      <td>NaN</td>\n      <td>NaN</td>\n      <td>NaN</td>\n      <td>01tw0000004u5DY</td>\n      <td>2021-08-25 07:02:00.759071</td>\n      <td>2021-08-25</td>\n    </tr>\n    <tr>\n      <th>1</th>\n      <td>-2950.0</td>\n      <td>-2950.0</td>\n      <td>-2950.0</td>\n      <td>2018-01-01</td>\n      <td>2018-01-01</td>\n      <td>2018-01-01</td>\n      <td>2018-01-01</td>\n      <td>Customer Success</td>\n      <td>EMEA</td>\n      <td>EMEA</td>\n      <td>...</td>\n      <td>NaN</td>\n      <td>NaN</td>\n      <td>006w000000oE98SAAS</td>\n      <td>8001r000006G4lJ</td>\n      <td>2018-01-15</td>\n      <td>False</td>\n      <td>001w000001Pzv5t</td>\n      <td>01tw0000004CuUy</td>\n      <td>2021-08-25 07:02:00.759071</td>\n      <td>2021-08-25</td>\n    </tr>\n    <tr>\n      <th>2</th>\n      <td>-5500.0</td>\n      <td>-5500.0</td>\n      <td>-5500.0</td>\n      <td>2018-01-01</td>\n      <td>2018-01-01</td>\n      <td>2018-01-01</td>\n      <td>2018-01-01</td>\n      <td>Customer Success</td>\n      <td>NaN</td>\n      <td>NaN</td>\n      <td>...</td>\n      <td>NaN</td>\n      <td>NaN</td>\n      <td>006w000000oEJNxAAO</td>\n      <td>NaN</td>\n      <td>2018-01-19</td>\n      <td>False</td>\n      <td>001w000001CP8KP</td>\n      <td>01tw0000004CuUy</td>\n      <td>2021-08-25 07:02:00.759071</td>\n      <td>2021-08-25</td>\n    </tr>\n    <tr>\n      <th>3</th>\n      <td>-29500.0</td>\n      <td>-29500.0</td>\n      <td>-29500.0</td>\n      <td>2018-01-01</td>\n      <td>2018-01-01</td>\n      <td>2018-01-01</td>\n      <td>2018-01-01</td>\n      <td>Customer Success</td>\n      <td>NaN</td>\n      <td>NaN</td>\n      <td>...</td>\n      <td>NaN</td>\n      <td>NaN</td>\n      <td>006w000000oEkh1AAC</td>\n      <td>8001r000006G4p6</td>\n      <td>2018-01-11</td>\n      <td>False</td>\n      <td>001w000001TGRla</td>\n      <td>01tw0000004CuVD</td>\n      <td>2021-08-25 07:02:00.759071</td>\n      <td>2021-08-25</td>\n    </tr>\n    <tr>\n      <th>4</th>\n      <td>-37300.0</td>\n      <td>-37300.0</td>\n      <td>-37300.0</td>\n      <td>2018-01-01</td>\n      <td>2018-01-01</td>\n      <td>2018-01-01</td>\n      <td>2018-01-01</td>\n      <td>Customer Success</td>\n      <td>NaN</td>\n      <td>NaN</td>\n      <td>...</td>\n      <td>NaN</td>\n      <td>NaN</td>\n      <td>006w000000oFvzMAAS</td>\n      <td>8001r000006G4SR</td>\n      <td>2018-09-28</td>\n      <td>False</td>\n      <td>0012000000uD2Er</td>\n      <td>01tw0000004CuVD</td>\n      <td>2021-08-25 07:02:00.759071</td>\n      <td>2021-08-25</td>\n    </tr>\n    <tr>\n      <th>5</th>\n      <td>-5500.0</td>\n      <td>-5500.0</td>\n      <td>-5500.0</td>\n      <td>2018-01-01</td>\n      <td>2018-01-01</td>\n      <td>2018-01-01</td>\n      <td>2018-01-01</td>\n      <td>Customer Success</td>\n      <td>NaN</td>\n      <td>NaN</td>\n      <td>...</td>\n      <td>NaN</td>\n      <td>NaN</td>\n      <td>006w000000oEBjoAAG</td>\n      <td>8001r000006G4YF</td>\n      <td>2018-01-08</td>\n      <td>False</td>\n      <td>001w000001Pz3ej</td>\n      <td>01tw0000004CuUy</td>\n      <td>2021-08-25 07:02:00.759071</td>\n      <td>2021-08-25</td>\n    </tr>\n    <tr>\n      <th>6</th>\n      <td>-2950.0</td>\n      <td>-2950.0</td>\n      <td>-2950.0</td>\n      <td>2018-01-01</td>\n      <td>2018-01-01</td>\n      <td>2018-01-01</td>\n      <td>2018-01-01</td>\n      <td>Customer Success</td>\n      <td>EMEA</td>\n      <td>EMEA</td>\n      <td>...</td>\n      <td>NaN</td>\n      <td>NaN</td>\n      <td>006w000000okmxOAAQ</td>\n      <td>8001r000006Fwa8</td>\n      <td>2018-01-20</td>\n      <td>False</td>\n      <td>0012000000t89BU</td>\n      <td>01tw0000004CuUy</td>\n      <td>2021-08-25 07:02:00.759071</td>\n      <td>2021-08-25</td>\n    </tr>\n  </tbody>\n</table>\n<p>7 rows × 91 columns</p>\n</div>"
     },
     "execution_count": 6,
     "metadata": {},
     "output_type": "execute_result"
    }
   ],
   "source": [
    "df"
   ],
   "metadata": {
    "collapsed": false,
    "pycharm": {
     "name": "#%%\n"
    }
   }
  },
  {
   "cell_type": "code",
   "execution_count": null,
   "outputs": [],
   "source": [],
   "metadata": {
    "collapsed": false,
    "pycharm": {
     "name": "#%%\n"
    }
   }
  }
 ],
 "metadata": {
  "kernelspec": {
   "display_name": "Python 3",
   "language": "python",
   "name": "python3"
  },
  "language_info": {
   "codemirror_mode": {
    "name": "ipython",
    "version": 2
   },
   "file_extension": ".py",
   "mimetype": "text/x-python",
   "name": "python",
   "nbconvert_exporter": "python",
   "pygments_lexer": "ipython2",
   "version": "2.7.6"
  }
 },
 "nbformat": 4,
 "nbformat_minor": 0
}