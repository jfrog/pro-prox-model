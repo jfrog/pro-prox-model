{
 "cells": [
  {
   "cell_type": "code",
   "execution_count": 32,
   "metadata": {
    "pycharm": {
     "name": "#%%\n"
    }
   },
   "outputs": [],
   "source": [
    "import pandas as pd\n",
    "from catboost import CatBoostClassifier\n",
    "import numpy as np\n",
    "from lightgbm import LGBMClassifier\n",
    "from scipy.spatial.distance import cityblock\n",
    "from sklearn.ensemble import StackingClassifier, HistGradientBoostingClassifier\n",
    "from sklearn.linear_model import LogisticRegression\n",
    "from sklearn.model_selection import train_test_split\n",
    "from sklearn.preprocessing import StandardScaler\n",
    "\n",
    "from utils.general_utils import load_data_old, get_cat_feature_names\n",
    "from utils.model_extensions_utils import FocalLossObjective\n",
    "from utils.plot_utils import Evaluation\n",
    "# from utils.fe_utils import get_growth_features\n",
    "from explainerdashboard import ClassifierExplainer, ExplainerDashboard, InlineExplainer\n",
    "import matplotlib.pyplot as plt\n",
    "import shap\n",
    "from utils.fe_utils import get_growth_features\n"
   ]
  },
  {
   "cell_type": "code",
   "execution_count": 33,
   "metadata": {
    "pycharm": {
     "name": "#%%\n"
    }
   },
   "outputs": [],
   "source": [
    "def process_df(X_temp):\n",
    "    # - remove zero variance features\n",
    "    # cols_to_drop = [col for col in X_temp.select_dtypes(include=np.number).columns if np.std(X_temp[col]) == 0]\n",
    "    # X_temp = X_temp.drop(cols_to_drop, axis=1)\n",
    "    tech_cols = ['maven', 'generic', 'docker', 'npm', 'pypi', 'gradle', 'nuget']\n",
    "    usage_cols = tech_cols + ['artifacts_count', 'artifacts_size', 'binaries_count', 'binaries_size', 'items_count',\n",
    "                              'number_of_permissions', 'internal_groups', 'number_of_users', 'n_env', 'n_tech',\n",
    "                              'n_repos']\n",
    "    X_temp['n_tech'] = (X_temp[tech_cols] != 0).astype(int).sum(axis=1)\n",
    "    X_temp['n_tech.1'] = (X_temp[[col + '.1' for col in tech_cols]] != 0).astype(int).sum(axis=1)\n",
    "    X_temp['n_tech.2'] = (X_temp[[col + '.2' for col in tech_cols]] != 0).astype(int).sum(axis=1)\n",
    "    X_temp['n_tech.3'] = (X_temp[[col + '.3' for col in tech_cols]] != 0).astype(int).sum(axis=1)\n",
    "    X_temp['n_tech.4'] = (X_temp[[col + '.4' for col in tech_cols]] != 0).astype(int).sum(axis=1)\n",
    "    X_temp['n_repos'] = (X_temp[tech_cols]).sum(axis=1)\n",
    "    X_temp['n_repos.1'] = (X_temp[[col + '.1' for col in tech_cols]]).sum(axis=1)\n",
    "    X_temp['n_repos.2'] = (X_temp[[col + '.2' for col in tech_cols]]).sum(axis=1)\n",
    "    X_temp['n_repos.3'] = (X_temp[[col + '.3' for col in tech_cols]]).sum(axis=1)\n",
    "    X_temp['n_repos.4'] = (X_temp[[col + '.4' for col in tech_cols]]).sum(axis=1)\n",
    "    # X_temp['leading_tech'] = list(X_temp[tech_cols].idxmax(axis=1))\n",
    "    # X_temp.loc[X_temp['leading_tech'].isin(['npm', 'gradle', 'pypi']), 'leading_tech'] = 'else'\n",
    "\n",
    "    # - get trends features\n",
    "    for col in usage_cols:\n",
    "        growth_feature_monthly, growth_feature_quarter, df_fg = get_growth_features(col, X_temp.copy())\n",
    "        X_temp[col + '_monthly_growth'] = growth_feature_monthly\n",
    "        X_temp[col + '_quarter_growth'] = growth_feature_quarter\n",
    "\n",
    "    # - transform to category\n",
    "    cat_features = get_cat_feature_names(X_temp)\n",
    "    for col in cat_features:\n",
    "        X_temp[col] = X_temp[col].astype('category')\n",
    "\n",
    "    # - drop usage features from the periods before the relevant-date\n",
    "    cols_to_drop = [col for col in X_temp.columns if '.1' in col or '.2' in col or '.3' in col or '.4' in col]\n",
    "    X_temp = X_temp.drop(cols_to_drop, axis=1)\n",
    "    X_temp['artifacts/binaries_size'] = np.where(X_temp['binaries_size'] == 0, 0,\n",
    "                                                 X_temp['artifacts_size'] / X_temp['binaries_size'])\n",
    "    X_temp['artifacts/binaries_count'] = np.where(X_temp['binaries_count'] == 0, 0,\n",
    "                                                  X_temp['artifacts_count'] / X_temp['binaries_count'])\n",
    "    # X_temp = X_temp.drop(['total_employees_with_details', 'days_from_contact_added', 'territory', 'industry_group',\n",
    "    #                       'total_employees_range'], axis=1)\n",
    "    return X_temp"
   ]
  },
  {
   "cell_type": "code",
   "execution_count": 34,
   "metadata": {
    "pycharm": {
     "name": "#%%"
    }
   },
   "outputs": [
    {
     "data": {
      "text/plain": "           account_id        relevant_date  class territory     account_id.1  \\\n0     0011r00001iACCU  2018-08-25 00:00:00      0      EMEA  0011r00001iACCU   \n1     0011r00001iACCU  2019-08-09 00:00:00      0      EMEA  0011r00001iACCU   \n2     0011r00001iACCU  2020-08-27 00:00:00      0      EMEA  0011r00001iACCU   \n3     0011r00001iACCU  2021-07-30 00:00:00      0      EMEA  0011r00001iACCU   \n4     0011r00001iACGM  2019-08-30 00:00:00      0      EMEA  0011r00001iACGM   \n...               ...                  ...    ...       ...              ...   \n5855  001w000001kgU5v  2018-08-30 00:00:00      0  Americas  001w000001kgU5v   \n5856  001w000001kgfaR  2018-10-16 00:00:00      0      EMEA  001w000001kgfaR   \n5857  001w000001kgfaR  2019-10-15 00:00:00      0      EMEA  001w000001kgfaR   \n5858  001w000001kgfaR  2020-09-19 00:00:00      0      EMEA  001w000001kgfaR   \n5859  001w000001kgxfH  2018-11-01 00:00:00      0  Americas  001w000001kgxfH   \n\n          relevant_date.1 period_range  artifacts_count  artifacts_size  \\\n0     2018-08-25 00:00:00     3 Months          1289272           14066   \n1     2019-08-09 00:00:00     3 Months          1844459           27343   \n2     2020-08-27 00:00:00     3 Months           515803           35022   \n3     2021-07-30 00:00:00     3 Months           642349           26485   \n4     2019-08-30 00:00:00     3 Months            56486             234   \n...                   ...          ...              ...             ...   \n5855  2018-08-30 00:00:00     3 Months              132               0   \n5856  2018-10-16 00:00:00     3 Months            24491             623   \n5857  2019-10-15 00:00:00     3 Months            36144             872   \n5858  2020-09-19 00:00:00     3 Months            61167            1073   \n5859  2018-11-01 00:00:00     3 Months            44145              56   \n\n      binaries_count  ...  n_ent_mentioned_sessions  \\\n0             638194  ...                         0   \n1             875317  ...                         0   \n2             397341  ...                         0   \n3             459664  ...                         0   \n4              48490  ...                         0   \n...              ...  ...                       ...   \n5855             128  ...                         0   \n5856           14349  ...                         0   \n5857           22216  ...                         0   \n5858           37468  ...                         0   \n5859           43104  ...                         0   \n\n      n_competitor_mentioned_sessions n_xray_mentioned_sessions n_replys  \\\n0                                   0                         0        0   \n1                                   0                         0        0   \n2                                   0                         1        1   \n3                                   0                         0        0   \n4                                   0                         0        0   \n...                               ...                       ...      ...   \n5855                                0                         0        0   \n5856                                0                         0        0   \n5857                                0                         0        0   \n5858                                0                         0        0   \n5859                                0                         0        0   \n\n     n_sent  n_calls  n_task_xray  replys_to_sent  days_since_reply  \\\n0         0        0            0       -1.000000              1000   \n1         1        0            0        0.000000               259   \n2         6        0            0        0.166667                 9   \n3         0        0            0       -1.000000               158   \n4         2        0            0        0.000000              1000   \n...     ...      ...          ...             ...               ...   \n5855      0        0            0       -1.000000              1000   \n5856      0        0            0       -1.000000              1000   \n5857      0        0            0       -1.000000              1000   \n5858      0        0            0       -1.000000              1000   \n5859      1        0            0        0.000000              1000   \n\n      days_since_sent  \n0                1000  \n1                  85  \n2                   9  \n3                 161  \n4                  57  \n...               ...  \n5855             1000  \n5856             1000  \n5857              152  \n5858              180  \n5859              106  \n\n[5860 rows x 188 columns]",
      "text/html": "<div>\n<style scoped>\n    .dataframe tbody tr th:only-of-type {\n        vertical-align: middle;\n    }\n\n    .dataframe tbody tr th {\n        vertical-align: top;\n    }\n\n    .dataframe thead th {\n        text-align: right;\n    }\n</style>\n<table border=\"1\" class=\"dataframe\">\n  <thead>\n    <tr style=\"text-align: right;\">\n      <th></th>\n      <th>account_id</th>\n      <th>relevant_date</th>\n      <th>class</th>\n      <th>territory</th>\n      <th>account_id.1</th>\n      <th>relevant_date.1</th>\n      <th>period_range</th>\n      <th>artifacts_count</th>\n      <th>artifacts_size</th>\n      <th>binaries_count</th>\n      <th>...</th>\n      <th>n_ent_mentioned_sessions</th>\n      <th>n_competitor_mentioned_sessions</th>\n      <th>n_xray_mentioned_sessions</th>\n      <th>n_replys</th>\n      <th>n_sent</th>\n      <th>n_calls</th>\n      <th>n_task_xray</th>\n      <th>replys_to_sent</th>\n      <th>days_since_reply</th>\n      <th>days_since_sent</th>\n    </tr>\n  </thead>\n  <tbody>\n    <tr>\n      <th>0</th>\n      <td>0011r00001iACCU</td>\n      <td>2018-08-25 00:00:00</td>\n      <td>0</td>\n      <td>EMEA</td>\n      <td>0011r00001iACCU</td>\n      <td>2018-08-25 00:00:00</td>\n      <td>3 Months</td>\n      <td>1289272</td>\n      <td>14066</td>\n      <td>638194</td>\n      <td>...</td>\n      <td>0</td>\n      <td>0</td>\n      <td>0</td>\n      <td>0</td>\n      <td>0</td>\n      <td>0</td>\n      <td>0</td>\n      <td>-1.000000</td>\n      <td>1000</td>\n      <td>1000</td>\n    </tr>\n    <tr>\n      <th>1</th>\n      <td>0011r00001iACCU</td>\n      <td>2019-08-09 00:00:00</td>\n      <td>0</td>\n      <td>EMEA</td>\n      <td>0011r00001iACCU</td>\n      <td>2019-08-09 00:00:00</td>\n      <td>3 Months</td>\n      <td>1844459</td>\n      <td>27343</td>\n      <td>875317</td>\n      <td>...</td>\n      <td>0</td>\n      <td>0</td>\n      <td>0</td>\n      <td>0</td>\n      <td>1</td>\n      <td>0</td>\n      <td>0</td>\n      <td>0.000000</td>\n      <td>259</td>\n      <td>85</td>\n    </tr>\n    <tr>\n      <th>2</th>\n      <td>0011r00001iACCU</td>\n      <td>2020-08-27 00:00:00</td>\n      <td>0</td>\n      <td>EMEA</td>\n      <td>0011r00001iACCU</td>\n      <td>2020-08-27 00:00:00</td>\n      <td>3 Months</td>\n      <td>515803</td>\n      <td>35022</td>\n      <td>397341</td>\n      <td>...</td>\n      <td>0</td>\n      <td>0</td>\n      <td>1</td>\n      <td>1</td>\n      <td>6</td>\n      <td>0</td>\n      <td>0</td>\n      <td>0.166667</td>\n      <td>9</td>\n      <td>9</td>\n    </tr>\n    <tr>\n      <th>3</th>\n      <td>0011r00001iACCU</td>\n      <td>2021-07-30 00:00:00</td>\n      <td>0</td>\n      <td>EMEA</td>\n      <td>0011r00001iACCU</td>\n      <td>2021-07-30 00:00:00</td>\n      <td>3 Months</td>\n      <td>642349</td>\n      <td>26485</td>\n      <td>459664</td>\n      <td>...</td>\n      <td>0</td>\n      <td>0</td>\n      <td>0</td>\n      <td>0</td>\n      <td>0</td>\n      <td>0</td>\n      <td>0</td>\n      <td>-1.000000</td>\n      <td>158</td>\n      <td>161</td>\n    </tr>\n    <tr>\n      <th>4</th>\n      <td>0011r00001iACGM</td>\n      <td>2019-08-30 00:00:00</td>\n      <td>0</td>\n      <td>EMEA</td>\n      <td>0011r00001iACGM</td>\n      <td>2019-08-30 00:00:00</td>\n      <td>3 Months</td>\n      <td>56486</td>\n      <td>234</td>\n      <td>48490</td>\n      <td>...</td>\n      <td>0</td>\n      <td>0</td>\n      <td>0</td>\n      <td>0</td>\n      <td>2</td>\n      <td>0</td>\n      <td>0</td>\n      <td>0.000000</td>\n      <td>1000</td>\n      <td>57</td>\n    </tr>\n    <tr>\n      <th>...</th>\n      <td>...</td>\n      <td>...</td>\n      <td>...</td>\n      <td>...</td>\n      <td>...</td>\n      <td>...</td>\n      <td>...</td>\n      <td>...</td>\n      <td>...</td>\n      <td>...</td>\n      <td>...</td>\n      <td>...</td>\n      <td>...</td>\n      <td>...</td>\n      <td>...</td>\n      <td>...</td>\n      <td>...</td>\n      <td>...</td>\n      <td>...</td>\n      <td>...</td>\n      <td>...</td>\n    </tr>\n    <tr>\n      <th>5855</th>\n      <td>001w000001kgU5v</td>\n      <td>2018-08-30 00:00:00</td>\n      <td>0</td>\n      <td>Americas</td>\n      <td>001w000001kgU5v</td>\n      <td>2018-08-30 00:00:00</td>\n      <td>3 Months</td>\n      <td>132</td>\n      <td>0</td>\n      <td>128</td>\n      <td>...</td>\n      <td>0</td>\n      <td>0</td>\n      <td>0</td>\n      <td>0</td>\n      <td>0</td>\n      <td>0</td>\n      <td>0</td>\n      <td>-1.000000</td>\n      <td>1000</td>\n      <td>1000</td>\n    </tr>\n    <tr>\n      <th>5856</th>\n      <td>001w000001kgfaR</td>\n      <td>2018-10-16 00:00:00</td>\n      <td>0</td>\n      <td>EMEA</td>\n      <td>001w000001kgfaR</td>\n      <td>2018-10-16 00:00:00</td>\n      <td>3 Months</td>\n      <td>24491</td>\n      <td>623</td>\n      <td>14349</td>\n      <td>...</td>\n      <td>0</td>\n      <td>0</td>\n      <td>0</td>\n      <td>0</td>\n      <td>0</td>\n      <td>0</td>\n      <td>0</td>\n      <td>-1.000000</td>\n      <td>1000</td>\n      <td>1000</td>\n    </tr>\n    <tr>\n      <th>5857</th>\n      <td>001w000001kgfaR</td>\n      <td>2019-10-15 00:00:00</td>\n      <td>0</td>\n      <td>EMEA</td>\n      <td>001w000001kgfaR</td>\n      <td>2019-10-15 00:00:00</td>\n      <td>3 Months</td>\n      <td>36144</td>\n      <td>872</td>\n      <td>22216</td>\n      <td>...</td>\n      <td>0</td>\n      <td>0</td>\n      <td>0</td>\n      <td>0</td>\n      <td>0</td>\n      <td>0</td>\n      <td>0</td>\n      <td>-1.000000</td>\n      <td>1000</td>\n      <td>152</td>\n    </tr>\n    <tr>\n      <th>5858</th>\n      <td>001w000001kgfaR</td>\n      <td>2020-09-19 00:00:00</td>\n      <td>0</td>\n      <td>EMEA</td>\n      <td>001w000001kgfaR</td>\n      <td>2020-09-19 00:00:00</td>\n      <td>3 Months</td>\n      <td>61167</td>\n      <td>1073</td>\n      <td>37468</td>\n      <td>...</td>\n      <td>0</td>\n      <td>0</td>\n      <td>0</td>\n      <td>0</td>\n      <td>0</td>\n      <td>0</td>\n      <td>0</td>\n      <td>-1.000000</td>\n      <td>1000</td>\n      <td>180</td>\n    </tr>\n    <tr>\n      <th>5859</th>\n      <td>001w000001kgxfH</td>\n      <td>2018-11-01 00:00:00</td>\n      <td>0</td>\n      <td>Americas</td>\n      <td>001w000001kgxfH</td>\n      <td>2018-11-01 00:00:00</td>\n      <td>3 Months</td>\n      <td>44145</td>\n      <td>56</td>\n      <td>43104</td>\n      <td>...</td>\n      <td>0</td>\n      <td>0</td>\n      <td>0</td>\n      <td>0</td>\n      <td>1</td>\n      <td>0</td>\n      <td>0</td>\n      <td>0.000000</td>\n      <td>1000</td>\n      <td>106</td>\n    </tr>\n  </tbody>\n</table>\n<p>5860 rows × 188 columns</p>\n</div>"
     },
     "execution_count": 34,
     "metadata": {},
     "output_type": "execute_result"
    }
   ],
   "source": [
    "df = load_data_old('fit.sql')\n",
    "df"
   ]
  },
  {
   "cell_type": "code",
   "execution_count": 35,
   "metadata": {
    "pycharm": {
     "name": "#%%\n"
    }
   },
   "outputs": [],
   "source": [
    "has_won = df.groupby('account_id', as_index=False).sum('class').loc[:, ['account_id', 'class']]\n",
    "has_won['has_won'] = has_won['class'].apply(lambda x: True if x > 0 else False)\n",
    "has_won.drop('class', axis=1, inplace=True)\n",
    "new_df = df.merge(has_won, on='account_id')\n",
    "df_did_win, df_did_not_win = new_df[new_df['has_won']], new_df[~new_df['has_won']]\n",
    "df_did_win = df_did_win[df_did_win['class'] == 1].groupby('account_id', as_index=False).min('relevant_date')\n",
    "df_did_not_win = df_did_not_win.groupby('account_id').sample(n=1, random_state=2)\n",
    "df = pd.concat([df_did_win, df_did_not_win])\n",
    "df = df.sample(frac=1, random_state=2).reset_index(drop=True)"
   ]
  },
  {
   "cell_type": "code",
   "execution_count": 36,
   "metadata": {
    "pycharm": {
     "name": "#%%\n"
    }
   },
   "outputs": [],
   "source": [
    "cols_to_drop = [col for col in df.columns if 'period_range' in col or 'relevant_date' in col or 'account_id' in col\n",
    "                or 'class' in col or 'has_won' in col]\n",
    "X, y = df.drop(cols_to_drop, axis=1).fillna(-1), df['class']\n",
    "X = process_df(X)"
   ]
  },
  {
   "cell_type": "code",
   "execution_count": 37,
   "outputs": [
    {
     "data": {
      "text/plain": "['territory', 'industry_group', 'total_employees_range']"
     },
     "execution_count": 37,
     "metadata": {},
     "output_type": "execute_result"
    }
   ],
   "source": [
    "get_cat_feature_names(X)"
   ],
   "metadata": {
    "collapsed": false,
    "pycharm": {
     "name": "#%%\n"
    }
   }
  },
  {
   "cell_type": "code",
   "execution_count": 38,
   "metadata": {
    "pycharm": {
     "name": "#%%\n"
    }
   },
   "outputs": [],
   "source": [
    "cbc = CatBoostClassifier(cat_features=get_cat_feature_names(X), auto_class_weights='Balanced', verbose=0,\n",
    "                         random_state=5, loss_function=FocalLossObjective(), eval_metric=\"Logloss\",\n",
    "                         bootstrap_type='Bayesian')"
   ]
  },
  {
   "cell_type": "code",
   "execution_count": 39,
   "outputs": [],
   "source": [
    "X = X.reindex(sorted(X.columns), axis=1)"
   ],
   "metadata": {
    "collapsed": false,
    "pycharm": {
     "name": "#%%\n"
    }
   }
  },
  {
   "cell_type": "code",
   "execution_count": 40,
   "metadata": {
    "pycharm": {
     "name": "#%%\n"
    }
   },
   "outputs": [
    {
     "data": {
      "text/plain": "<catboost.core.CatBoostClassifier at 0x148ef0ac0>"
     },
     "execution_count": 40,
     "metadata": {},
     "output_type": "execute_result"
    }
   ],
   "source": [
    "cbc.fit(X, y)"
   ]
  },
  {
   "cell_type": "code",
   "execution_count": 41,
   "outputs": [],
   "source": [
    "df_for_predict = load_data_old('predict.sql')\n",
    "cols_to_drop = [col for col in df_for_predict.columns if\n",
    "                'period_range' in col or 'relevant_date' in col or 'account_id' in col\n",
    "                or 'class' in col or 'has_won' in col]\n",
    "df_for_predict_clean = df_for_predict.drop(cols_to_drop, axis=1)\n",
    "df_for_predict_clean = process_df(df_for_predict_clean)"
   ],
   "metadata": {
    "collapsed": false,
    "pycharm": {
     "name": "#%%\n"
    }
   }
  },
  {
   "cell_type": "code",
   "execution_count": 42,
   "outputs": [
    {
     "data": {
      "text/plain": "      artifactory_views  artifacts/binaries_count  artifacts/binaries_size  \\\n0                    -1                  1.301997                 1.014674   \n1                    -1                  1.225902                 1.472669   \n2                    -1                  1.600799                 1.038462   \n3                    -1                  0.948401                 1.187500   \n4                    -1                  1.854750                 2.403682   \n...                 ...                       ...                      ...   \n2049                 -1                  1.046034                 1.021797   \n2050                 -1                  1.002824                 1.000000   \n2051                  2                  1.462223                 1.840855   \n2052                 -1                  1.041752                 1.025000   \n2053                 -1                  1.664016                 5.019685   \n\n      artifacts_count  artifacts_count_monthly_growth  \\\n0              580153                       -0.020795   \n1              181474                        0.056865   \n2               97716                        0.011116   \n3               11065                        0.016107   \n4             1417617                       -0.003362   \n...               ...                             ...   \n2049           376613                        0.025522   \n2050            11008                        0.003378   \n2051           109734                        0.053731   \n2052            79917                        0.014928   \n2053            85369                        0.048378   \n\n      artifacts_count_quarter_growth  artifacts_size  \\\n0                          -0.127819           28766   \n1                           0.216213             916   \n2                           0.020427              81   \n3                           0.071429              19   \n4                           0.050197           20501   \n...                              ...             ...   \n2049                        0.081320            1547   \n2050                        0.026594               3   \n2051                        0.131497             775   \n2052                        0.042398              82   \n2053                        0.100324            1275   \n\n      artifacts_size_monthly_growth  artifacts_size_quarter_growth  \\\n0                          0.001388                       0.069750   \n1                          0.063421                       0.189886   \n2                          0.012658                      -0.016484   \n3                          0.000000                       0.027778   \n4                         -0.007622                       0.045593   \n...                             ...                            ...   \n2049                       0.043820                       0.096888   \n2050                       0.000000                       0.000000   \n2051                       0.100434                       0.361883   \n2052                       0.006173                       0.025641   \n2053                       0.026085                       0.054794   \n\n      avg_resolution_days  ...  pypi_monthly_growth  pypi_quarter_growth  \\\n0                      -1  ...                 0.00                -0.25   \n1                      -1  ...                 0.00                 0.00   \n2                      -1  ...                 0.00                 0.00   \n3                      -1  ...                 0.00                 0.00   \n4                      17  ...                 0.00                 0.00   \n...                   ...  ...                  ...                  ...   \n2049                   -1  ...                 0.25                 0.25   \n2050                   -1  ...                 0.00                 0.00   \n2051                   -1  ...                 0.00                 0.00   \n2052                   -1  ...                 0.00                 0.50   \n2053                   -1  ...                 0.00                 0.00   \n\n      qoe_score  replys_to_sent  support_views_views  territory  \\\n0          -1.0        0.333333                   -1       EMEA   \n1          -1.0        0.000000                   -1       EMEA   \n2          -1.0        0.500000                   -1       EMEA   \n3          -1.0        0.000000                   -1   Americas   \n4          -1.0        0.500000                   -1       EMEA   \n...         ...             ...                  ...        ...   \n2049       -1.0        0.250000                   -1       EMEA   \n2050       -1.0        0.500000                   -1       EMEA   \n2051       -1.0        0.000000                    0       EMEA   \n2052       -1.0        0.333333                   -1       EMEA   \n2053       -1.0        0.000000                   -1       EMEA   \n\n      total_employees_range  total_employees_with_details  \\\n0                    251-1K                          11.0   \n1                     11-50                           4.0   \n2                    51-250                           3.0   \n3                    51-250                           8.0   \n4                    51-250                          25.0   \n...                     ...                           ...   \n2049                 51-250                           6.0   \n2050                 251-1K                           8.0   \n2051                10K-50K                           6.0   \n2052                  1K-5K                           4.0   \n2053                   1-10                           7.0   \n\n      unresolved_jira_cases  xray_views  \n0                         0          -1  \n1                         0          -1  \n2                         0          -1  \n3                         0          -1  \n4                         0          -1  \n...                     ...         ...  \n2049                      0          -1  \n2050                      0          -1  \n2051                      0           0  \n2052                      0          -1  \n2053                      0          -1  \n\n[2054 rows x 108 columns]",
      "text/html": "<div>\n<style scoped>\n    .dataframe tbody tr th:only-of-type {\n        vertical-align: middle;\n    }\n\n    .dataframe tbody tr th {\n        vertical-align: top;\n    }\n\n    .dataframe thead th {\n        text-align: right;\n    }\n</style>\n<table border=\"1\" class=\"dataframe\">\n  <thead>\n    <tr style=\"text-align: right;\">\n      <th></th>\n      <th>artifactory_views</th>\n      <th>artifacts/binaries_count</th>\n      <th>artifacts/binaries_size</th>\n      <th>artifacts_count</th>\n      <th>artifacts_count_monthly_growth</th>\n      <th>artifacts_count_quarter_growth</th>\n      <th>artifacts_size</th>\n      <th>artifacts_size_monthly_growth</th>\n      <th>artifacts_size_quarter_growth</th>\n      <th>avg_resolution_days</th>\n      <th>...</th>\n      <th>pypi_monthly_growth</th>\n      <th>pypi_quarter_growth</th>\n      <th>qoe_score</th>\n      <th>replys_to_sent</th>\n      <th>support_views_views</th>\n      <th>territory</th>\n      <th>total_employees_range</th>\n      <th>total_employees_with_details</th>\n      <th>unresolved_jira_cases</th>\n      <th>xray_views</th>\n    </tr>\n  </thead>\n  <tbody>\n    <tr>\n      <th>0</th>\n      <td>-1</td>\n      <td>1.301997</td>\n      <td>1.014674</td>\n      <td>580153</td>\n      <td>-0.020795</td>\n      <td>-0.127819</td>\n      <td>28766</td>\n      <td>0.001388</td>\n      <td>0.069750</td>\n      <td>-1</td>\n      <td>...</td>\n      <td>0.00</td>\n      <td>-0.25</td>\n      <td>-1.0</td>\n      <td>0.333333</td>\n      <td>-1</td>\n      <td>EMEA</td>\n      <td>251-1K</td>\n      <td>11.0</td>\n      <td>0</td>\n      <td>-1</td>\n    </tr>\n    <tr>\n      <th>1</th>\n      <td>-1</td>\n      <td>1.225902</td>\n      <td>1.472669</td>\n      <td>181474</td>\n      <td>0.056865</td>\n      <td>0.216213</td>\n      <td>916</td>\n      <td>0.063421</td>\n      <td>0.189886</td>\n      <td>-1</td>\n      <td>...</td>\n      <td>0.00</td>\n      <td>0.00</td>\n      <td>-1.0</td>\n      <td>0.000000</td>\n      <td>-1</td>\n      <td>EMEA</td>\n      <td>11-50</td>\n      <td>4.0</td>\n      <td>0</td>\n      <td>-1</td>\n    </tr>\n    <tr>\n      <th>2</th>\n      <td>-1</td>\n      <td>1.600799</td>\n      <td>1.038462</td>\n      <td>97716</td>\n      <td>0.011116</td>\n      <td>0.020427</td>\n      <td>81</td>\n      <td>0.012658</td>\n      <td>-0.016484</td>\n      <td>-1</td>\n      <td>...</td>\n      <td>0.00</td>\n      <td>0.00</td>\n      <td>-1.0</td>\n      <td>0.500000</td>\n      <td>-1</td>\n      <td>EMEA</td>\n      <td>51-250</td>\n      <td>3.0</td>\n      <td>0</td>\n      <td>-1</td>\n    </tr>\n    <tr>\n      <th>3</th>\n      <td>-1</td>\n      <td>0.948401</td>\n      <td>1.187500</td>\n      <td>11065</td>\n      <td>0.016107</td>\n      <td>0.071429</td>\n      <td>19</td>\n      <td>0.000000</td>\n      <td>0.027778</td>\n      <td>-1</td>\n      <td>...</td>\n      <td>0.00</td>\n      <td>0.00</td>\n      <td>-1.0</td>\n      <td>0.000000</td>\n      <td>-1</td>\n      <td>Americas</td>\n      <td>51-250</td>\n      <td>8.0</td>\n      <td>0</td>\n      <td>-1</td>\n    </tr>\n    <tr>\n      <th>4</th>\n      <td>-1</td>\n      <td>1.854750</td>\n      <td>2.403682</td>\n      <td>1417617</td>\n      <td>-0.003362</td>\n      <td>0.050197</td>\n      <td>20501</td>\n      <td>-0.007622</td>\n      <td>0.045593</td>\n      <td>17</td>\n      <td>...</td>\n      <td>0.00</td>\n      <td>0.00</td>\n      <td>-1.0</td>\n      <td>0.500000</td>\n      <td>-1</td>\n      <td>EMEA</td>\n      <td>51-250</td>\n      <td>25.0</td>\n      <td>0</td>\n      <td>-1</td>\n    </tr>\n    <tr>\n      <th>...</th>\n      <td>...</td>\n      <td>...</td>\n      <td>...</td>\n      <td>...</td>\n      <td>...</td>\n      <td>...</td>\n      <td>...</td>\n      <td>...</td>\n      <td>...</td>\n      <td>...</td>\n      <td>...</td>\n      <td>...</td>\n      <td>...</td>\n      <td>...</td>\n      <td>...</td>\n      <td>...</td>\n      <td>...</td>\n      <td>...</td>\n      <td>...</td>\n      <td>...</td>\n      <td>...</td>\n    </tr>\n    <tr>\n      <th>2049</th>\n      <td>-1</td>\n      <td>1.046034</td>\n      <td>1.021797</td>\n      <td>376613</td>\n      <td>0.025522</td>\n      <td>0.081320</td>\n      <td>1547</td>\n      <td>0.043820</td>\n      <td>0.096888</td>\n      <td>-1</td>\n      <td>...</td>\n      <td>0.25</td>\n      <td>0.25</td>\n      <td>-1.0</td>\n      <td>0.250000</td>\n      <td>-1</td>\n      <td>EMEA</td>\n      <td>51-250</td>\n      <td>6.0</td>\n      <td>0</td>\n      <td>-1</td>\n    </tr>\n    <tr>\n      <th>2050</th>\n      <td>-1</td>\n      <td>1.002824</td>\n      <td>1.000000</td>\n      <td>11008</td>\n      <td>0.003378</td>\n      <td>0.026594</td>\n      <td>3</td>\n      <td>0.000000</td>\n      <td>0.000000</td>\n      <td>-1</td>\n      <td>...</td>\n      <td>0.00</td>\n      <td>0.00</td>\n      <td>-1.0</td>\n      <td>0.500000</td>\n      <td>-1</td>\n      <td>EMEA</td>\n      <td>251-1K</td>\n      <td>8.0</td>\n      <td>0</td>\n      <td>-1</td>\n    </tr>\n    <tr>\n      <th>2051</th>\n      <td>2</td>\n      <td>1.462223</td>\n      <td>1.840855</td>\n      <td>109734</td>\n      <td>0.053731</td>\n      <td>0.131497</td>\n      <td>775</td>\n      <td>0.100434</td>\n      <td>0.361883</td>\n      <td>-1</td>\n      <td>...</td>\n      <td>0.00</td>\n      <td>0.00</td>\n      <td>-1.0</td>\n      <td>0.000000</td>\n      <td>0</td>\n      <td>EMEA</td>\n      <td>10K-50K</td>\n      <td>6.0</td>\n      <td>0</td>\n      <td>0</td>\n    </tr>\n    <tr>\n      <th>2052</th>\n      <td>-1</td>\n      <td>1.041752</td>\n      <td>1.025000</td>\n      <td>79917</td>\n      <td>0.014928</td>\n      <td>0.042398</td>\n      <td>82</td>\n      <td>0.006173</td>\n      <td>0.025641</td>\n      <td>-1</td>\n      <td>...</td>\n      <td>0.00</td>\n      <td>0.50</td>\n      <td>-1.0</td>\n      <td>0.333333</td>\n      <td>-1</td>\n      <td>EMEA</td>\n      <td>1K-5K</td>\n      <td>4.0</td>\n      <td>0</td>\n      <td>-1</td>\n    </tr>\n    <tr>\n      <th>2053</th>\n      <td>-1</td>\n      <td>1.664016</td>\n      <td>5.019685</td>\n      <td>85369</td>\n      <td>0.048378</td>\n      <td>0.100324</td>\n      <td>1275</td>\n      <td>0.026085</td>\n      <td>0.054794</td>\n      <td>-1</td>\n      <td>...</td>\n      <td>0.00</td>\n      <td>0.00</td>\n      <td>-1.0</td>\n      <td>0.000000</td>\n      <td>-1</td>\n      <td>EMEA</td>\n      <td>1-10</td>\n      <td>7.0</td>\n      <td>0</td>\n      <td>-1</td>\n    </tr>\n  </tbody>\n</table>\n<p>2054 rows × 108 columns</p>\n</div>"
     },
     "execution_count": 42,
     "metadata": {},
     "output_type": "execute_result"
    }
   ],
   "source": [
    "df_for_predict_clean = df_for_predict_clean.reindex(sorted(df_for_predict_clean.columns), axis=1)\n",
    "df_for_predict_clean"
   ],
   "metadata": {
    "collapsed": false,
    "pycharm": {
     "name": "#%%\n"
    }
   }
  },
  {
   "cell_type": "code",
   "execution_count": 43,
   "outputs": [
    {
     "data": {
      "text/plain": "      artifactory_views  artifacts/binaries_count  artifacts/binaries_size  \\\n0                     2                  2.875758                 2.085175   \n1                    -1                  0.999901                 1.023256   \n2                    -1                  1.042621                 1.210843   \n3                    -1                  1.020976                 1.071429   \n4                    -1                  2.455746                 2.124444   \n...                 ...                       ...                      ...   \n2648                 -1                  1.744133                 1.170863   \n2649                 -1                  1.533460                 1.238035   \n2650                 -1                  1.110468                 1.257426   \n2651                 -1                  1.030727                 1.006472   \n2652                 -1                  0.354839                 0.000000   \n\n      artifacts_count  artifacts_count_monthly_growth  \\\n0             1776094                       -0.029869   \n1               30151                        0.013675   \n2               40559                       -0.138315   \n3               41129                        0.019082   \n4               28273                        0.546472   \n...               ...                             ...   \n2648           805793                        0.007835   \n2649           288315                        0.120742   \n2650           445994                        0.044666   \n2651             8185                        0.179138   \n2652               11                        0.000000   \n\n      artifacts_count_quarter_growth  artifacts_size  \\\n0                           0.126686            7736   \n1                           0.082525              44   \n2                           2.592367             201   \n3                           0.121332              15   \n4                           2.911952             478   \n...                              ...             ...   \n2648                        0.040676            1953   \n2649                        0.548818             983   \n2650                       -0.018604            1778   \n2651                        2.938783             933   \n2652                        0.000000               0   \n\n      artifacts_size_monthly_growth  artifacts_size_quarter_growth  \\\n0                         -0.032646                       0.112310   \n1                          0.078947                       0.010766   \n2                         -0.153844                       3.980336   \n3                          0.035714                       0.410714   \n4                          0.214738                       0.888758   \n...                             ...                            ...   \n2648                      -0.030829                       0.129886   \n2649                       0.266244                       0.446162   \n2650                       0.043788                       0.015621   \n2651                       0.010141                       0.935121   \n2652                       0.000000                       0.000000   \n\n      avg_resolution_days  ...  pypi_monthly_growth  pypi_quarter_growth  \\\n0                      -1  ...                  0.0                  0.0   \n1                      -1  ...                  0.0                  0.0   \n2                      12  ...                  0.0                  0.0   \n3                      -1  ...                  0.0                  0.0   \n4                      -1  ...                  0.0                  0.0   \n...                   ...  ...                  ...                  ...   \n2648                   -1  ...                  0.0                  0.0   \n2649                   -1  ...                  0.0                  0.0   \n2650                   18  ...                  0.5                  0.0   \n2651                   -1  ...                  0.0                  0.5   \n2652                   -1  ...                  0.0                  0.0   \n\n      qoe_score  replys_to_sent  support_views_views  territory  \\\n0          -1.0             0.0                    0   Americas   \n1          -1.0             0.0                   -1   Americas   \n2          -1.0             0.0                   -1       APAC   \n3          -1.0             0.0                   -1   Americas   \n4          -1.0             0.5                   -1       EMEA   \n...         ...             ...                  ...        ...   \n2648       -1.0             0.5                   -1       EMEA   \n2649       -1.0            -1.0                   -1       APAC   \n2650       -1.0             0.0                   -1       EMEA   \n2651       -1.0             0.0                   -1       EMEA   \n2652       -1.0             0.0                   -1   Americas   \n\n      total_employees_range  total_employees_with_details  \\\n0                     11-50                           5.0   \n1                    51-250                           2.0   \n2                    5K-10K                           6.0   \n3                    251-1K                           3.0   \n4                     11-50                          13.0   \n...                     ...                           ...   \n2648               50K-100K                           7.0   \n2649                  1K-5K                           3.0   \n2650                  1K-5K                           9.0   \n2651                  100K+                           6.0   \n2652                 51-250                           3.0   \n\n      unresolved_jira_cases  xray_views  \n0                         0           0  \n1                         0          -1  \n2                         0          -1  \n3                         0          -1  \n4                         0          -1  \n...                     ...         ...  \n2648                      0          -1  \n2649                      0          -1  \n2650                      4          -1  \n2651                      0          -1  \n2652                      0          -1  \n\n[2653 rows x 108 columns]",
      "text/html": "<div>\n<style scoped>\n    .dataframe tbody tr th:only-of-type {\n        vertical-align: middle;\n    }\n\n    .dataframe tbody tr th {\n        vertical-align: top;\n    }\n\n    .dataframe thead th {\n        text-align: right;\n    }\n</style>\n<table border=\"1\" class=\"dataframe\">\n  <thead>\n    <tr style=\"text-align: right;\">\n      <th></th>\n      <th>artifactory_views</th>\n      <th>artifacts/binaries_count</th>\n      <th>artifacts/binaries_size</th>\n      <th>artifacts_count</th>\n      <th>artifacts_count_monthly_growth</th>\n      <th>artifacts_count_quarter_growth</th>\n      <th>artifacts_size</th>\n      <th>artifacts_size_monthly_growth</th>\n      <th>artifacts_size_quarter_growth</th>\n      <th>avg_resolution_days</th>\n      <th>...</th>\n      <th>pypi_monthly_growth</th>\n      <th>pypi_quarter_growth</th>\n      <th>qoe_score</th>\n      <th>replys_to_sent</th>\n      <th>support_views_views</th>\n      <th>territory</th>\n      <th>total_employees_range</th>\n      <th>total_employees_with_details</th>\n      <th>unresolved_jira_cases</th>\n      <th>xray_views</th>\n    </tr>\n  </thead>\n  <tbody>\n    <tr>\n      <th>0</th>\n      <td>2</td>\n      <td>2.875758</td>\n      <td>2.085175</td>\n      <td>1776094</td>\n      <td>-0.029869</td>\n      <td>0.126686</td>\n      <td>7736</td>\n      <td>-0.032646</td>\n      <td>0.112310</td>\n      <td>-1</td>\n      <td>...</td>\n      <td>0.0</td>\n      <td>0.0</td>\n      <td>-1.0</td>\n      <td>0.0</td>\n      <td>0</td>\n      <td>Americas</td>\n      <td>11-50</td>\n      <td>5.0</td>\n      <td>0</td>\n      <td>0</td>\n    </tr>\n    <tr>\n      <th>1</th>\n      <td>-1</td>\n      <td>0.999901</td>\n      <td>1.023256</td>\n      <td>30151</td>\n      <td>0.013675</td>\n      <td>0.082525</td>\n      <td>44</td>\n      <td>0.078947</td>\n      <td>0.010766</td>\n      <td>-1</td>\n      <td>...</td>\n      <td>0.0</td>\n      <td>0.0</td>\n      <td>-1.0</td>\n      <td>0.0</td>\n      <td>-1</td>\n      <td>Americas</td>\n      <td>51-250</td>\n      <td>2.0</td>\n      <td>0</td>\n      <td>-1</td>\n    </tr>\n    <tr>\n      <th>2</th>\n      <td>-1</td>\n      <td>1.042621</td>\n      <td>1.210843</td>\n      <td>40559</td>\n      <td>-0.138315</td>\n      <td>2.592367</td>\n      <td>201</td>\n      <td>-0.153844</td>\n      <td>3.980336</td>\n      <td>12</td>\n      <td>...</td>\n      <td>0.0</td>\n      <td>0.0</td>\n      <td>-1.0</td>\n      <td>0.0</td>\n      <td>-1</td>\n      <td>APAC</td>\n      <td>5K-10K</td>\n      <td>6.0</td>\n      <td>0</td>\n      <td>-1</td>\n    </tr>\n    <tr>\n      <th>3</th>\n      <td>-1</td>\n      <td>1.020976</td>\n      <td>1.071429</td>\n      <td>41129</td>\n      <td>0.019082</td>\n      <td>0.121332</td>\n      <td>15</td>\n      <td>0.035714</td>\n      <td>0.410714</td>\n      <td>-1</td>\n      <td>...</td>\n      <td>0.0</td>\n      <td>0.0</td>\n      <td>-1.0</td>\n      <td>0.0</td>\n      <td>-1</td>\n      <td>Americas</td>\n      <td>251-1K</td>\n      <td>3.0</td>\n      <td>0</td>\n      <td>-1</td>\n    </tr>\n    <tr>\n      <th>4</th>\n      <td>-1</td>\n      <td>2.455746</td>\n      <td>2.124444</td>\n      <td>28273</td>\n      <td>0.546472</td>\n      <td>2.911952</td>\n      <td>478</td>\n      <td>0.214738</td>\n      <td>0.888758</td>\n      <td>-1</td>\n      <td>...</td>\n      <td>0.0</td>\n      <td>0.0</td>\n      <td>-1.0</td>\n      <td>0.5</td>\n      <td>-1</td>\n      <td>EMEA</td>\n      <td>11-50</td>\n      <td>13.0</td>\n      <td>0</td>\n      <td>-1</td>\n    </tr>\n    <tr>\n      <th>...</th>\n      <td>...</td>\n      <td>...</td>\n      <td>...</td>\n      <td>...</td>\n      <td>...</td>\n      <td>...</td>\n      <td>...</td>\n      <td>...</td>\n      <td>...</td>\n      <td>...</td>\n      <td>...</td>\n      <td>...</td>\n      <td>...</td>\n      <td>...</td>\n      <td>...</td>\n      <td>...</td>\n      <td>...</td>\n      <td>...</td>\n      <td>...</td>\n      <td>...</td>\n      <td>...</td>\n    </tr>\n    <tr>\n      <th>2648</th>\n      <td>-1</td>\n      <td>1.744133</td>\n      <td>1.170863</td>\n      <td>805793</td>\n      <td>0.007835</td>\n      <td>0.040676</td>\n      <td>1953</td>\n      <td>-0.030829</td>\n      <td>0.129886</td>\n      <td>-1</td>\n      <td>...</td>\n      <td>0.0</td>\n      <td>0.0</td>\n      <td>-1.0</td>\n      <td>0.5</td>\n      <td>-1</td>\n      <td>EMEA</td>\n      <td>50K-100K</td>\n      <td>7.0</td>\n      <td>0</td>\n      <td>-1</td>\n    </tr>\n    <tr>\n      <th>2649</th>\n      <td>-1</td>\n      <td>1.533460</td>\n      <td>1.238035</td>\n      <td>288315</td>\n      <td>0.120742</td>\n      <td>0.548818</td>\n      <td>983</td>\n      <td>0.266244</td>\n      <td>0.446162</td>\n      <td>-1</td>\n      <td>...</td>\n      <td>0.0</td>\n      <td>0.0</td>\n      <td>-1.0</td>\n      <td>-1.0</td>\n      <td>-1</td>\n      <td>APAC</td>\n      <td>1K-5K</td>\n      <td>3.0</td>\n      <td>0</td>\n      <td>-1</td>\n    </tr>\n    <tr>\n      <th>2650</th>\n      <td>-1</td>\n      <td>1.110468</td>\n      <td>1.257426</td>\n      <td>445994</td>\n      <td>0.044666</td>\n      <td>-0.018604</td>\n      <td>1778</td>\n      <td>0.043788</td>\n      <td>0.015621</td>\n      <td>18</td>\n      <td>...</td>\n      <td>0.5</td>\n      <td>0.0</td>\n      <td>-1.0</td>\n      <td>0.0</td>\n      <td>-1</td>\n      <td>EMEA</td>\n      <td>1K-5K</td>\n      <td>9.0</td>\n      <td>4</td>\n      <td>-1</td>\n    </tr>\n    <tr>\n      <th>2651</th>\n      <td>-1</td>\n      <td>1.030727</td>\n      <td>1.006472</td>\n      <td>8185</td>\n      <td>0.179138</td>\n      <td>2.938783</td>\n      <td>933</td>\n      <td>0.010141</td>\n      <td>0.935121</td>\n      <td>-1</td>\n      <td>...</td>\n      <td>0.0</td>\n      <td>0.5</td>\n      <td>-1.0</td>\n      <td>0.0</td>\n      <td>-1</td>\n      <td>EMEA</td>\n      <td>100K+</td>\n      <td>6.0</td>\n      <td>0</td>\n      <td>-1</td>\n    </tr>\n    <tr>\n      <th>2652</th>\n      <td>-1</td>\n      <td>0.354839</td>\n      <td>0.000000</td>\n      <td>11</td>\n      <td>0.000000</td>\n      <td>0.000000</td>\n      <td>0</td>\n      <td>0.000000</td>\n      <td>0.000000</td>\n      <td>-1</td>\n      <td>...</td>\n      <td>0.0</td>\n      <td>0.0</td>\n      <td>-1.0</td>\n      <td>0.0</td>\n      <td>-1</td>\n      <td>Americas</td>\n      <td>51-250</td>\n      <td>3.0</td>\n      <td>0</td>\n      <td>-1</td>\n    </tr>\n  </tbody>\n</table>\n<p>2653 rows × 108 columns</p>\n</div>"
     },
     "execution_count": 43,
     "metadata": {},
     "output_type": "execute_result"
    }
   ],
   "source": [
    "X"
   ],
   "metadata": {
    "collapsed": false,
    "pycharm": {
     "name": "#%%\n"
    }
   }
  },
  {
   "cell_type": "code",
   "execution_count": 44,
   "outputs": [],
   "source": [
    "df_for_predict_clean['class_pred_proba'] = cbc.predict_proba(df_for_predict_clean)[:, 1]"
   ],
   "metadata": {
    "collapsed": false,
    "pycharm": {
     "name": "#%%\n"
    }
   }
  },
  {
   "cell_type": "code",
   "execution_count": 45,
   "outputs": [
    {
     "data": {
      "text/plain": "      artifactory_views  artifacts/binaries_count  artifacts/binaries_size  \\\n0                    -1                  1.301997                 1.014674   \n1                    -1                  1.225902                 1.472669   \n2                    -1                  1.600799                 1.038462   \n3                    -1                  0.948401                 1.187500   \n4                    -1                  1.854750                 2.403682   \n...                 ...                       ...                      ...   \n2049                 -1                  1.046034                 1.021797   \n2050                 -1                  1.002824                 1.000000   \n2051                  2                  1.462223                 1.840855   \n2052                 -1                  1.041752                 1.025000   \n2053                 -1                  1.664016                 5.019685   \n\n      artifacts_count  artifacts_count_monthly_growth  \\\n0              580153                       -0.020795   \n1              181474                        0.056865   \n2               97716                        0.011116   \n3               11065                        0.016107   \n4             1417617                       -0.003362   \n...               ...                             ...   \n2049           376613                        0.025522   \n2050            11008                        0.003378   \n2051           109734                        0.053731   \n2052            79917                        0.014928   \n2053            85369                        0.048378   \n\n      artifacts_count_quarter_growth  artifacts_size  \\\n0                          -0.127819           28766   \n1                           0.216213             916   \n2                           0.020427              81   \n3                           0.071429              19   \n4                           0.050197           20501   \n...                              ...             ...   \n2049                        0.081320            1547   \n2050                        0.026594               3   \n2051                        0.131497             775   \n2052                        0.042398              82   \n2053                        0.100324            1275   \n\n      artifacts_size_monthly_growth  artifacts_size_quarter_growth  \\\n0                          0.001388                       0.069750   \n1                          0.063421                       0.189886   \n2                          0.012658                      -0.016484   \n3                          0.000000                       0.027778   \n4                         -0.007622                       0.045593   \n...                             ...                            ...   \n2049                       0.043820                       0.096888   \n2050                       0.000000                       0.000000   \n2051                       0.100434                       0.361883   \n2052                       0.006173                       0.025641   \n2053                       0.026085                       0.054794   \n\n      avg_resolution_days  ...  pypi_quarter_growth  qoe_score  \\\n0                      -1  ...                -0.25       -1.0   \n1                      -1  ...                 0.00       -1.0   \n2                      -1  ...                 0.00       -1.0   \n3                      -1  ...                 0.00       -1.0   \n4                      17  ...                 0.00       -1.0   \n...                   ...  ...                  ...        ...   \n2049                   -1  ...                 0.25       -1.0   \n2050                   -1  ...                 0.00       -1.0   \n2051                   -1  ...                 0.00       -1.0   \n2052                   -1  ...                 0.50       -1.0   \n2053                   -1  ...                 0.00       -1.0   \n\n      replys_to_sent  support_views_views  territory  total_employees_range  \\\n0           0.333333                   -1       EMEA                 251-1K   \n1           0.000000                   -1       EMEA                  11-50   \n2           0.500000                   -1       EMEA                 51-250   \n3           0.000000                   -1   Americas                 51-250   \n4           0.500000                   -1       EMEA                 51-250   \n...              ...                  ...        ...                    ...   \n2049        0.250000                   -1       EMEA                 51-250   \n2050        0.500000                   -1       EMEA                 251-1K   \n2051        0.000000                    0       EMEA                10K-50K   \n2052        0.333333                   -1       EMEA                  1K-5K   \n2053        0.000000                   -1       EMEA                   1-10   \n\n      total_employees_with_details  unresolved_jira_cases  xray_views  \\\n0                             11.0                      0          -1   \n1                              4.0                      0          -1   \n2                              3.0                      0          -1   \n3                              8.0                      0          -1   \n4                             25.0                      0          -1   \n...                            ...                    ...         ...   \n2049                           6.0                      0          -1   \n2050                           8.0                      0          -1   \n2051                           6.0                      0           0   \n2052                           4.0                      0          -1   \n2053                           7.0                      0          -1   \n\n      class_pred_proba  \n0             0.066314  \n1             0.065718  \n2             0.066057  \n3             0.065935  \n4             0.071332  \n...                ...  \n2049          0.066556  \n2050          0.067442  \n2051          0.067547  \n2052          0.066001  \n2053          0.065752  \n\n[2054 rows x 109 columns]",
      "text/html": "<div>\n<style scoped>\n    .dataframe tbody tr th:only-of-type {\n        vertical-align: middle;\n    }\n\n    .dataframe tbody tr th {\n        vertical-align: top;\n    }\n\n    .dataframe thead th {\n        text-align: right;\n    }\n</style>\n<table border=\"1\" class=\"dataframe\">\n  <thead>\n    <tr style=\"text-align: right;\">\n      <th></th>\n      <th>artifactory_views</th>\n      <th>artifacts/binaries_count</th>\n      <th>artifacts/binaries_size</th>\n      <th>artifacts_count</th>\n      <th>artifacts_count_monthly_growth</th>\n      <th>artifacts_count_quarter_growth</th>\n      <th>artifacts_size</th>\n      <th>artifacts_size_monthly_growth</th>\n      <th>artifacts_size_quarter_growth</th>\n      <th>avg_resolution_days</th>\n      <th>...</th>\n      <th>pypi_quarter_growth</th>\n      <th>qoe_score</th>\n      <th>replys_to_sent</th>\n      <th>support_views_views</th>\n      <th>territory</th>\n      <th>total_employees_range</th>\n      <th>total_employees_with_details</th>\n      <th>unresolved_jira_cases</th>\n      <th>xray_views</th>\n      <th>class_pred_proba</th>\n    </tr>\n  </thead>\n  <tbody>\n    <tr>\n      <th>0</th>\n      <td>-1</td>\n      <td>1.301997</td>\n      <td>1.014674</td>\n      <td>580153</td>\n      <td>-0.020795</td>\n      <td>-0.127819</td>\n      <td>28766</td>\n      <td>0.001388</td>\n      <td>0.069750</td>\n      <td>-1</td>\n      <td>...</td>\n      <td>-0.25</td>\n      <td>-1.0</td>\n      <td>0.333333</td>\n      <td>-1</td>\n      <td>EMEA</td>\n      <td>251-1K</td>\n      <td>11.0</td>\n      <td>0</td>\n      <td>-1</td>\n      <td>0.066314</td>\n    </tr>\n    <tr>\n      <th>1</th>\n      <td>-1</td>\n      <td>1.225902</td>\n      <td>1.472669</td>\n      <td>181474</td>\n      <td>0.056865</td>\n      <td>0.216213</td>\n      <td>916</td>\n      <td>0.063421</td>\n      <td>0.189886</td>\n      <td>-1</td>\n      <td>...</td>\n      <td>0.00</td>\n      <td>-1.0</td>\n      <td>0.000000</td>\n      <td>-1</td>\n      <td>EMEA</td>\n      <td>11-50</td>\n      <td>4.0</td>\n      <td>0</td>\n      <td>-1</td>\n      <td>0.065718</td>\n    </tr>\n    <tr>\n      <th>2</th>\n      <td>-1</td>\n      <td>1.600799</td>\n      <td>1.038462</td>\n      <td>97716</td>\n      <td>0.011116</td>\n      <td>0.020427</td>\n      <td>81</td>\n      <td>0.012658</td>\n      <td>-0.016484</td>\n      <td>-1</td>\n      <td>...</td>\n      <td>0.00</td>\n      <td>-1.0</td>\n      <td>0.500000</td>\n      <td>-1</td>\n      <td>EMEA</td>\n      <td>51-250</td>\n      <td>3.0</td>\n      <td>0</td>\n      <td>-1</td>\n      <td>0.066057</td>\n    </tr>\n    <tr>\n      <th>3</th>\n      <td>-1</td>\n      <td>0.948401</td>\n      <td>1.187500</td>\n      <td>11065</td>\n      <td>0.016107</td>\n      <td>0.071429</td>\n      <td>19</td>\n      <td>0.000000</td>\n      <td>0.027778</td>\n      <td>-1</td>\n      <td>...</td>\n      <td>0.00</td>\n      <td>-1.0</td>\n      <td>0.000000</td>\n      <td>-1</td>\n      <td>Americas</td>\n      <td>51-250</td>\n      <td>8.0</td>\n      <td>0</td>\n      <td>-1</td>\n      <td>0.065935</td>\n    </tr>\n    <tr>\n      <th>4</th>\n      <td>-1</td>\n      <td>1.854750</td>\n      <td>2.403682</td>\n      <td>1417617</td>\n      <td>-0.003362</td>\n      <td>0.050197</td>\n      <td>20501</td>\n      <td>-0.007622</td>\n      <td>0.045593</td>\n      <td>17</td>\n      <td>...</td>\n      <td>0.00</td>\n      <td>-1.0</td>\n      <td>0.500000</td>\n      <td>-1</td>\n      <td>EMEA</td>\n      <td>51-250</td>\n      <td>25.0</td>\n      <td>0</td>\n      <td>-1</td>\n      <td>0.071332</td>\n    </tr>\n    <tr>\n      <th>...</th>\n      <td>...</td>\n      <td>...</td>\n      <td>...</td>\n      <td>...</td>\n      <td>...</td>\n      <td>...</td>\n      <td>...</td>\n      <td>...</td>\n      <td>...</td>\n      <td>...</td>\n      <td>...</td>\n      <td>...</td>\n      <td>...</td>\n      <td>...</td>\n      <td>...</td>\n      <td>...</td>\n      <td>...</td>\n      <td>...</td>\n      <td>...</td>\n      <td>...</td>\n      <td>...</td>\n    </tr>\n    <tr>\n      <th>2049</th>\n      <td>-1</td>\n      <td>1.046034</td>\n      <td>1.021797</td>\n      <td>376613</td>\n      <td>0.025522</td>\n      <td>0.081320</td>\n      <td>1547</td>\n      <td>0.043820</td>\n      <td>0.096888</td>\n      <td>-1</td>\n      <td>...</td>\n      <td>0.25</td>\n      <td>-1.0</td>\n      <td>0.250000</td>\n      <td>-1</td>\n      <td>EMEA</td>\n      <td>51-250</td>\n      <td>6.0</td>\n      <td>0</td>\n      <td>-1</td>\n      <td>0.066556</td>\n    </tr>\n    <tr>\n      <th>2050</th>\n      <td>-1</td>\n      <td>1.002824</td>\n      <td>1.000000</td>\n      <td>11008</td>\n      <td>0.003378</td>\n      <td>0.026594</td>\n      <td>3</td>\n      <td>0.000000</td>\n      <td>0.000000</td>\n      <td>-1</td>\n      <td>...</td>\n      <td>0.00</td>\n      <td>-1.0</td>\n      <td>0.500000</td>\n      <td>-1</td>\n      <td>EMEA</td>\n      <td>251-1K</td>\n      <td>8.0</td>\n      <td>0</td>\n      <td>-1</td>\n      <td>0.067442</td>\n    </tr>\n    <tr>\n      <th>2051</th>\n      <td>2</td>\n      <td>1.462223</td>\n      <td>1.840855</td>\n      <td>109734</td>\n      <td>0.053731</td>\n      <td>0.131497</td>\n      <td>775</td>\n      <td>0.100434</td>\n      <td>0.361883</td>\n      <td>-1</td>\n      <td>...</td>\n      <td>0.00</td>\n      <td>-1.0</td>\n      <td>0.000000</td>\n      <td>0</td>\n      <td>EMEA</td>\n      <td>10K-50K</td>\n      <td>6.0</td>\n      <td>0</td>\n      <td>0</td>\n      <td>0.067547</td>\n    </tr>\n    <tr>\n      <th>2052</th>\n      <td>-1</td>\n      <td>1.041752</td>\n      <td>1.025000</td>\n      <td>79917</td>\n      <td>0.014928</td>\n      <td>0.042398</td>\n      <td>82</td>\n      <td>0.006173</td>\n      <td>0.025641</td>\n      <td>-1</td>\n      <td>...</td>\n      <td>0.50</td>\n      <td>-1.0</td>\n      <td>0.333333</td>\n      <td>-1</td>\n      <td>EMEA</td>\n      <td>1K-5K</td>\n      <td>4.0</td>\n      <td>0</td>\n      <td>-1</td>\n      <td>0.066001</td>\n    </tr>\n    <tr>\n      <th>2053</th>\n      <td>-1</td>\n      <td>1.664016</td>\n      <td>5.019685</td>\n      <td>85369</td>\n      <td>0.048378</td>\n      <td>0.100324</td>\n      <td>1275</td>\n      <td>0.026085</td>\n      <td>0.054794</td>\n      <td>-1</td>\n      <td>...</td>\n      <td>0.00</td>\n      <td>-1.0</td>\n      <td>0.000000</td>\n      <td>-1</td>\n      <td>EMEA</td>\n      <td>1-10</td>\n      <td>7.0</td>\n      <td>0</td>\n      <td>-1</td>\n      <td>0.065752</td>\n    </tr>\n  </tbody>\n</table>\n<p>2054 rows × 109 columns</p>\n</div>"
     },
     "execution_count": 45,
     "metadata": {},
     "output_type": "execute_result"
    }
   ],
   "source": [
    "df_for_predict_clean"
   ],
   "metadata": {
    "collapsed": false,
    "pycharm": {
     "name": "#%%\n"
    }
   }
  },
  {
   "cell_type": "code",
   "execution_count": 46,
   "outputs": [],
   "source": [
    "####################\n",
    "# WHAT IF ANALYSIS #\n",
    "####################\n",
    "\n",
    "processed_df_for_fit = X\n",
    "processed_df_for_fit['class'] = y\n",
    "processed_df_for_fit['class_pred_proba'] = cbc.predict_proba(X)[:, 1]"
   ],
   "metadata": {
    "collapsed": false,
    "pycharm": {
     "name": "#%%\n"
    }
   }
  },
  {
   "cell_type": "code",
   "execution_count": 47,
   "outputs": [],
   "source": [
    "high_bar_for_proba = processed_df_for_fit['class_pred_proba'].quantile(.85)\n",
    "low_bar_for_proba = processed_df_for_fit['class_pred_proba'].quantile(.7)\n",
    "processed_df_for_fit['class_pred'] = processed_df_for_fit['class_pred_proba'].apply(\n",
    "    lambda x: 'High' if x >= high_bar_for_proba else 'Medium' if x >= low_bar_for_proba else 'Low')"
   ],
   "metadata": {
    "collapsed": false,
    "pycharm": {
     "name": "#%%\n"
    }
   }
  },
  {
   "cell_type": "code",
   "execution_count": 48,
   "outputs": [],
   "source": [
    "high_bar_for_proba = df_for_predict_clean['class_pred_proba'].quantile(.85)\n",
    "low_bar_for_proba = df_for_predict_clean['class_pred_proba'].quantile(.7)\n",
    "df_for_predict_clean['class_pred'] = df_for_predict_clean['class_pred_proba'].apply(\n",
    "    lambda x: 'High' if x >= high_bar_for_proba else 'Medium' if x >= low_bar_for_proba else 'Low')"
   ],
   "metadata": {
    "collapsed": false,
    "pycharm": {
     "name": "#%%\n"
    }
   }
  },
  {
   "cell_type": "code",
   "execution_count": 49,
   "outputs": [
    {
     "data": {
      "text/plain": "      artifactory_views  artifacts/binaries_count  artifacts/binaries_size  \\\n0                     2                  2.875758                 2.085175   \n1                    -1                  0.999901                 1.023256   \n2                    -1                  1.042621                 1.210843   \n3                    -1                  1.020976                 1.071429   \n4                    -1                  2.455746                 2.124444   \n...                 ...                       ...                      ...   \n2648                 -1                  1.744133                 1.170863   \n2649                 -1                  1.533460                 1.238035   \n2650                 -1                  1.110468                 1.257426   \n2651                 -1                  1.030727                 1.006472   \n2652                 -1                  0.354839                 0.000000   \n\n      artifacts_count  artifacts_count_monthly_growth  \\\n0             1776094                       -0.029869   \n1               30151                        0.013675   \n2               40559                       -0.138315   \n3               41129                        0.019082   \n4               28273                        0.546472   \n...               ...                             ...   \n2648           805793                        0.007835   \n2649           288315                        0.120742   \n2650           445994                        0.044666   \n2651             8185                        0.179138   \n2652               11                        0.000000   \n\n      artifacts_count_quarter_growth  artifacts_size  \\\n0                           0.126686            7736   \n1                           0.082525              44   \n2                           2.592367             201   \n3                           0.121332              15   \n4                           2.911952             478   \n...                              ...             ...   \n2648                        0.040676            1953   \n2649                        0.548818             983   \n2650                       -0.018604            1778   \n2651                        2.938783             933   \n2652                        0.000000               0   \n\n      artifacts_size_monthly_growth  artifacts_size_quarter_growth  \\\n0                         -0.032646                       0.112310   \n1                          0.078947                       0.010766   \n2                         -0.153844                       3.980336   \n3                          0.035714                       0.410714   \n4                          0.214738                       0.888758   \n...                             ...                            ...   \n2648                      -0.030829                       0.129886   \n2649                       0.266244                       0.446162   \n2650                       0.043788                       0.015621   \n2651                       0.010141                       0.935121   \n2652                       0.000000                       0.000000   \n\n      avg_resolution_days  ...  replys_to_sent  support_views_views  \\\n0                      -1  ...             0.0                    0   \n1                      -1  ...             0.0                   -1   \n2                      12  ...             0.0                   -1   \n3                      -1  ...             0.0                   -1   \n4                      -1  ...             0.5                   -1   \n...                   ...  ...             ...                  ...   \n2648                   -1  ...             0.5                   -1   \n2649                   -1  ...            -1.0                   -1   \n2650                   18  ...             0.0                   -1   \n2651                   -1  ...             0.0                   -1   \n2652                   -1  ...             0.0                   -1   \n\n      territory  total_employees_range  total_employees_with_details  \\\n0      Americas                  11-50                           5.0   \n1      Americas                 51-250                           2.0   \n2          APAC                 5K-10K                           6.0   \n3      Americas                 251-1K                           3.0   \n4          EMEA                  11-50                          13.0   \n...         ...                    ...                           ...   \n2648       EMEA               50K-100K                           7.0   \n2649       APAC                  1K-5K                           3.0   \n2650       EMEA                  1K-5K                           9.0   \n2651       EMEA                  100K+                           6.0   \n2652   Americas                 51-250                           3.0   \n\n      unresolved_jira_cases  xray_views  class  class_pred_proba  class_pred  \n0                         0           0      0          0.066705         Low  \n1                         0          -1      0          0.065808         Low  \n2                         0          -1      0          0.067767      Medium  \n3                         0          -1      0          0.066022         Low  \n4                         0          -1      0          0.066101         Low  \n...                     ...         ...    ...               ...         ...  \n2648                      0          -1      0          0.066008         Low  \n2649                      0          -1      0          0.067337      Medium  \n2650                      4          -1      0          0.069183      Medium  \n2651                      0          -1      0          0.066073         Low  \n2652                      0          -1      0          0.066148         Low  \n\n[2653 rows x 111 columns]",
      "text/html": "<div>\n<style scoped>\n    .dataframe tbody tr th:only-of-type {\n        vertical-align: middle;\n    }\n\n    .dataframe tbody tr th {\n        vertical-align: top;\n    }\n\n    .dataframe thead th {\n        text-align: right;\n    }\n</style>\n<table border=\"1\" class=\"dataframe\">\n  <thead>\n    <tr style=\"text-align: right;\">\n      <th></th>\n      <th>artifactory_views</th>\n      <th>artifacts/binaries_count</th>\n      <th>artifacts/binaries_size</th>\n      <th>artifacts_count</th>\n      <th>artifacts_count_monthly_growth</th>\n      <th>artifacts_count_quarter_growth</th>\n      <th>artifacts_size</th>\n      <th>artifacts_size_monthly_growth</th>\n      <th>artifacts_size_quarter_growth</th>\n      <th>avg_resolution_days</th>\n      <th>...</th>\n      <th>replys_to_sent</th>\n      <th>support_views_views</th>\n      <th>territory</th>\n      <th>total_employees_range</th>\n      <th>total_employees_with_details</th>\n      <th>unresolved_jira_cases</th>\n      <th>xray_views</th>\n      <th>class</th>\n      <th>class_pred_proba</th>\n      <th>class_pred</th>\n    </tr>\n  </thead>\n  <tbody>\n    <tr>\n      <th>0</th>\n      <td>2</td>\n      <td>2.875758</td>\n      <td>2.085175</td>\n      <td>1776094</td>\n      <td>-0.029869</td>\n      <td>0.126686</td>\n      <td>7736</td>\n      <td>-0.032646</td>\n      <td>0.112310</td>\n      <td>-1</td>\n      <td>...</td>\n      <td>0.0</td>\n      <td>0</td>\n      <td>Americas</td>\n      <td>11-50</td>\n      <td>5.0</td>\n      <td>0</td>\n      <td>0</td>\n      <td>0</td>\n      <td>0.066705</td>\n      <td>Low</td>\n    </tr>\n    <tr>\n      <th>1</th>\n      <td>-1</td>\n      <td>0.999901</td>\n      <td>1.023256</td>\n      <td>30151</td>\n      <td>0.013675</td>\n      <td>0.082525</td>\n      <td>44</td>\n      <td>0.078947</td>\n      <td>0.010766</td>\n      <td>-1</td>\n      <td>...</td>\n      <td>0.0</td>\n      <td>-1</td>\n      <td>Americas</td>\n      <td>51-250</td>\n      <td>2.0</td>\n      <td>0</td>\n      <td>-1</td>\n      <td>0</td>\n      <td>0.065808</td>\n      <td>Low</td>\n    </tr>\n    <tr>\n      <th>2</th>\n      <td>-1</td>\n      <td>1.042621</td>\n      <td>1.210843</td>\n      <td>40559</td>\n      <td>-0.138315</td>\n      <td>2.592367</td>\n      <td>201</td>\n      <td>-0.153844</td>\n      <td>3.980336</td>\n      <td>12</td>\n      <td>...</td>\n      <td>0.0</td>\n      <td>-1</td>\n      <td>APAC</td>\n      <td>5K-10K</td>\n      <td>6.0</td>\n      <td>0</td>\n      <td>-1</td>\n      <td>0</td>\n      <td>0.067767</td>\n      <td>Medium</td>\n    </tr>\n    <tr>\n      <th>3</th>\n      <td>-1</td>\n      <td>1.020976</td>\n      <td>1.071429</td>\n      <td>41129</td>\n      <td>0.019082</td>\n      <td>0.121332</td>\n      <td>15</td>\n      <td>0.035714</td>\n      <td>0.410714</td>\n      <td>-1</td>\n      <td>...</td>\n      <td>0.0</td>\n      <td>-1</td>\n      <td>Americas</td>\n      <td>251-1K</td>\n      <td>3.0</td>\n      <td>0</td>\n      <td>-1</td>\n      <td>0</td>\n      <td>0.066022</td>\n      <td>Low</td>\n    </tr>\n    <tr>\n      <th>4</th>\n      <td>-1</td>\n      <td>2.455746</td>\n      <td>2.124444</td>\n      <td>28273</td>\n      <td>0.546472</td>\n      <td>2.911952</td>\n      <td>478</td>\n      <td>0.214738</td>\n      <td>0.888758</td>\n      <td>-1</td>\n      <td>...</td>\n      <td>0.5</td>\n      <td>-1</td>\n      <td>EMEA</td>\n      <td>11-50</td>\n      <td>13.0</td>\n      <td>0</td>\n      <td>-1</td>\n      <td>0</td>\n      <td>0.066101</td>\n      <td>Low</td>\n    </tr>\n    <tr>\n      <th>...</th>\n      <td>...</td>\n      <td>...</td>\n      <td>...</td>\n      <td>...</td>\n      <td>...</td>\n      <td>...</td>\n      <td>...</td>\n      <td>...</td>\n      <td>...</td>\n      <td>...</td>\n      <td>...</td>\n      <td>...</td>\n      <td>...</td>\n      <td>...</td>\n      <td>...</td>\n      <td>...</td>\n      <td>...</td>\n      <td>...</td>\n      <td>...</td>\n      <td>...</td>\n      <td>...</td>\n    </tr>\n    <tr>\n      <th>2648</th>\n      <td>-1</td>\n      <td>1.744133</td>\n      <td>1.170863</td>\n      <td>805793</td>\n      <td>0.007835</td>\n      <td>0.040676</td>\n      <td>1953</td>\n      <td>-0.030829</td>\n      <td>0.129886</td>\n      <td>-1</td>\n      <td>...</td>\n      <td>0.5</td>\n      <td>-1</td>\n      <td>EMEA</td>\n      <td>50K-100K</td>\n      <td>7.0</td>\n      <td>0</td>\n      <td>-1</td>\n      <td>0</td>\n      <td>0.066008</td>\n      <td>Low</td>\n    </tr>\n    <tr>\n      <th>2649</th>\n      <td>-1</td>\n      <td>1.533460</td>\n      <td>1.238035</td>\n      <td>288315</td>\n      <td>0.120742</td>\n      <td>0.548818</td>\n      <td>983</td>\n      <td>0.266244</td>\n      <td>0.446162</td>\n      <td>-1</td>\n      <td>...</td>\n      <td>-1.0</td>\n      <td>-1</td>\n      <td>APAC</td>\n      <td>1K-5K</td>\n      <td>3.0</td>\n      <td>0</td>\n      <td>-1</td>\n      <td>0</td>\n      <td>0.067337</td>\n      <td>Medium</td>\n    </tr>\n    <tr>\n      <th>2650</th>\n      <td>-1</td>\n      <td>1.110468</td>\n      <td>1.257426</td>\n      <td>445994</td>\n      <td>0.044666</td>\n      <td>-0.018604</td>\n      <td>1778</td>\n      <td>0.043788</td>\n      <td>0.015621</td>\n      <td>18</td>\n      <td>...</td>\n      <td>0.0</td>\n      <td>-1</td>\n      <td>EMEA</td>\n      <td>1K-5K</td>\n      <td>9.0</td>\n      <td>4</td>\n      <td>-1</td>\n      <td>0</td>\n      <td>0.069183</td>\n      <td>Medium</td>\n    </tr>\n    <tr>\n      <th>2651</th>\n      <td>-1</td>\n      <td>1.030727</td>\n      <td>1.006472</td>\n      <td>8185</td>\n      <td>0.179138</td>\n      <td>2.938783</td>\n      <td>933</td>\n      <td>0.010141</td>\n      <td>0.935121</td>\n      <td>-1</td>\n      <td>...</td>\n      <td>0.0</td>\n      <td>-1</td>\n      <td>EMEA</td>\n      <td>100K+</td>\n      <td>6.0</td>\n      <td>0</td>\n      <td>-1</td>\n      <td>0</td>\n      <td>0.066073</td>\n      <td>Low</td>\n    </tr>\n    <tr>\n      <th>2652</th>\n      <td>-1</td>\n      <td>0.354839</td>\n      <td>0.000000</td>\n      <td>11</td>\n      <td>0.000000</td>\n      <td>0.000000</td>\n      <td>0</td>\n      <td>0.000000</td>\n      <td>0.000000</td>\n      <td>-1</td>\n      <td>...</td>\n      <td>0.0</td>\n      <td>-1</td>\n      <td>Americas</td>\n      <td>51-250</td>\n      <td>3.0</td>\n      <td>0</td>\n      <td>-1</td>\n      <td>0</td>\n      <td>0.066148</td>\n      <td>Low</td>\n    </tr>\n  </tbody>\n</table>\n<p>2653 rows × 111 columns</p>\n</div>"
     },
     "execution_count": 49,
     "metadata": {},
     "output_type": "execute_result"
    }
   ],
   "source": [
    "processed_df_for_fit"
   ],
   "metadata": {
    "collapsed": false,
    "pycharm": {
     "name": "#%%\n"
    }
   }
  },
  {
   "cell_type": "code",
   "execution_count": 50,
   "outputs": [
    {
     "data": {
      "text/plain": "      artifactory_views  artifacts/binaries_count  artifacts/binaries_size  \\\n0                    -1                  1.301997                 1.014674   \n1                    -1                  1.225902                 1.472669   \n2                    -1                  1.600799                 1.038462   \n3                    -1                  0.948401                 1.187500   \n4                    -1                  1.854750                 2.403682   \n...                 ...                       ...                      ...   \n2049                 -1                  1.046034                 1.021797   \n2050                 -1                  1.002824                 1.000000   \n2051                  2                  1.462223                 1.840855   \n2052                 -1                  1.041752                 1.025000   \n2053                 -1                  1.664016                 5.019685   \n\n      artifacts_count  artifacts_count_monthly_growth  \\\n0              580153                       -0.020795   \n1              181474                        0.056865   \n2               97716                        0.011116   \n3               11065                        0.016107   \n4             1417617                       -0.003362   \n...               ...                             ...   \n2049           376613                        0.025522   \n2050            11008                        0.003378   \n2051           109734                        0.053731   \n2052            79917                        0.014928   \n2053            85369                        0.048378   \n\n      artifacts_count_quarter_growth  artifacts_size  \\\n0                          -0.127819           28766   \n1                           0.216213             916   \n2                           0.020427              81   \n3                           0.071429              19   \n4                           0.050197           20501   \n...                              ...             ...   \n2049                        0.081320            1547   \n2050                        0.026594               3   \n2051                        0.131497             775   \n2052                        0.042398              82   \n2053                        0.100324            1275   \n\n      artifacts_size_monthly_growth  artifacts_size_quarter_growth  \\\n0                          0.001388                       0.069750   \n1                          0.063421                       0.189886   \n2                          0.012658                      -0.016484   \n3                          0.000000                       0.027778   \n4                         -0.007622                       0.045593   \n...                             ...                            ...   \n2049                       0.043820                       0.096888   \n2050                       0.000000                       0.000000   \n2051                       0.100434                       0.361883   \n2052                       0.006173                       0.025641   \n2053                       0.026085                       0.054794   \n\n      avg_resolution_days  ...  qoe_score  replys_to_sent  \\\n0                      -1  ...       -1.0        0.333333   \n1                      -1  ...       -1.0        0.000000   \n2                      -1  ...       -1.0        0.500000   \n3                      -1  ...       -1.0        0.000000   \n4                      17  ...       -1.0        0.500000   \n...                   ...  ...        ...             ...   \n2049                   -1  ...       -1.0        0.250000   \n2050                   -1  ...       -1.0        0.500000   \n2051                   -1  ...       -1.0        0.000000   \n2052                   -1  ...       -1.0        0.333333   \n2053                   -1  ...       -1.0        0.000000   \n\n      support_views_views  territory  total_employees_range  \\\n0                      -1       EMEA                 251-1K   \n1                      -1       EMEA                  11-50   \n2                      -1       EMEA                 51-250   \n3                      -1   Americas                 51-250   \n4                      -1       EMEA                 51-250   \n...                   ...        ...                    ...   \n2049                   -1       EMEA                 51-250   \n2050                   -1       EMEA                 251-1K   \n2051                    0       EMEA                10K-50K   \n2052                   -1       EMEA                  1K-5K   \n2053                   -1       EMEA                   1-10   \n\n      total_employees_with_details  unresolved_jira_cases  xray_views  \\\n0                             11.0                      0          -1   \n1                              4.0                      0          -1   \n2                              3.0                      0          -1   \n3                              8.0                      0          -1   \n4                             25.0                      0          -1   \n...                            ...                    ...         ...   \n2049                           6.0                      0          -1   \n2050                           8.0                      0          -1   \n2051                           6.0                      0           0   \n2052                           4.0                      0          -1   \n2053                           7.0                      0          -1   \n\n      class_pred_proba  class_pred  \n0             0.066314         Low  \n1             0.065718         Low  \n2             0.066057         Low  \n3             0.065935         Low  \n4             0.071332        High  \n...                ...         ...  \n2049          0.066556         Low  \n2050          0.067442      Medium  \n2051          0.067547      Medium  \n2052          0.066001         Low  \n2053          0.065752         Low  \n\n[2054 rows x 110 columns]",
      "text/html": "<div>\n<style scoped>\n    .dataframe tbody tr th:only-of-type {\n        vertical-align: middle;\n    }\n\n    .dataframe tbody tr th {\n        vertical-align: top;\n    }\n\n    .dataframe thead th {\n        text-align: right;\n    }\n</style>\n<table border=\"1\" class=\"dataframe\">\n  <thead>\n    <tr style=\"text-align: right;\">\n      <th></th>\n      <th>artifactory_views</th>\n      <th>artifacts/binaries_count</th>\n      <th>artifacts/binaries_size</th>\n      <th>artifacts_count</th>\n      <th>artifacts_count_monthly_growth</th>\n      <th>artifacts_count_quarter_growth</th>\n      <th>artifacts_size</th>\n      <th>artifacts_size_monthly_growth</th>\n      <th>artifacts_size_quarter_growth</th>\n      <th>avg_resolution_days</th>\n      <th>...</th>\n      <th>qoe_score</th>\n      <th>replys_to_sent</th>\n      <th>support_views_views</th>\n      <th>territory</th>\n      <th>total_employees_range</th>\n      <th>total_employees_with_details</th>\n      <th>unresolved_jira_cases</th>\n      <th>xray_views</th>\n      <th>class_pred_proba</th>\n      <th>class_pred</th>\n    </tr>\n  </thead>\n  <tbody>\n    <tr>\n      <th>0</th>\n      <td>-1</td>\n      <td>1.301997</td>\n      <td>1.014674</td>\n      <td>580153</td>\n      <td>-0.020795</td>\n      <td>-0.127819</td>\n      <td>28766</td>\n      <td>0.001388</td>\n      <td>0.069750</td>\n      <td>-1</td>\n      <td>...</td>\n      <td>-1.0</td>\n      <td>0.333333</td>\n      <td>-1</td>\n      <td>EMEA</td>\n      <td>251-1K</td>\n      <td>11.0</td>\n      <td>0</td>\n      <td>-1</td>\n      <td>0.066314</td>\n      <td>Low</td>\n    </tr>\n    <tr>\n      <th>1</th>\n      <td>-1</td>\n      <td>1.225902</td>\n      <td>1.472669</td>\n      <td>181474</td>\n      <td>0.056865</td>\n      <td>0.216213</td>\n      <td>916</td>\n      <td>0.063421</td>\n      <td>0.189886</td>\n      <td>-1</td>\n      <td>...</td>\n      <td>-1.0</td>\n      <td>0.000000</td>\n      <td>-1</td>\n      <td>EMEA</td>\n      <td>11-50</td>\n      <td>4.0</td>\n      <td>0</td>\n      <td>-1</td>\n      <td>0.065718</td>\n      <td>Low</td>\n    </tr>\n    <tr>\n      <th>2</th>\n      <td>-1</td>\n      <td>1.600799</td>\n      <td>1.038462</td>\n      <td>97716</td>\n      <td>0.011116</td>\n      <td>0.020427</td>\n      <td>81</td>\n      <td>0.012658</td>\n      <td>-0.016484</td>\n      <td>-1</td>\n      <td>...</td>\n      <td>-1.0</td>\n      <td>0.500000</td>\n      <td>-1</td>\n      <td>EMEA</td>\n      <td>51-250</td>\n      <td>3.0</td>\n      <td>0</td>\n      <td>-1</td>\n      <td>0.066057</td>\n      <td>Low</td>\n    </tr>\n    <tr>\n      <th>3</th>\n      <td>-1</td>\n      <td>0.948401</td>\n      <td>1.187500</td>\n      <td>11065</td>\n      <td>0.016107</td>\n      <td>0.071429</td>\n      <td>19</td>\n      <td>0.000000</td>\n      <td>0.027778</td>\n      <td>-1</td>\n      <td>...</td>\n      <td>-1.0</td>\n      <td>0.000000</td>\n      <td>-1</td>\n      <td>Americas</td>\n      <td>51-250</td>\n      <td>8.0</td>\n      <td>0</td>\n      <td>-1</td>\n      <td>0.065935</td>\n      <td>Low</td>\n    </tr>\n    <tr>\n      <th>4</th>\n      <td>-1</td>\n      <td>1.854750</td>\n      <td>2.403682</td>\n      <td>1417617</td>\n      <td>-0.003362</td>\n      <td>0.050197</td>\n      <td>20501</td>\n      <td>-0.007622</td>\n      <td>0.045593</td>\n      <td>17</td>\n      <td>...</td>\n      <td>-1.0</td>\n      <td>0.500000</td>\n      <td>-1</td>\n      <td>EMEA</td>\n      <td>51-250</td>\n      <td>25.0</td>\n      <td>0</td>\n      <td>-1</td>\n      <td>0.071332</td>\n      <td>High</td>\n    </tr>\n    <tr>\n      <th>...</th>\n      <td>...</td>\n      <td>...</td>\n      <td>...</td>\n      <td>...</td>\n      <td>...</td>\n      <td>...</td>\n      <td>...</td>\n      <td>...</td>\n      <td>...</td>\n      <td>...</td>\n      <td>...</td>\n      <td>...</td>\n      <td>...</td>\n      <td>...</td>\n      <td>...</td>\n      <td>...</td>\n      <td>...</td>\n      <td>...</td>\n      <td>...</td>\n      <td>...</td>\n      <td>...</td>\n    </tr>\n    <tr>\n      <th>2049</th>\n      <td>-1</td>\n      <td>1.046034</td>\n      <td>1.021797</td>\n      <td>376613</td>\n      <td>0.025522</td>\n      <td>0.081320</td>\n      <td>1547</td>\n      <td>0.043820</td>\n      <td>0.096888</td>\n      <td>-1</td>\n      <td>...</td>\n      <td>-1.0</td>\n      <td>0.250000</td>\n      <td>-1</td>\n      <td>EMEA</td>\n      <td>51-250</td>\n      <td>6.0</td>\n      <td>0</td>\n      <td>-1</td>\n      <td>0.066556</td>\n      <td>Low</td>\n    </tr>\n    <tr>\n      <th>2050</th>\n      <td>-1</td>\n      <td>1.002824</td>\n      <td>1.000000</td>\n      <td>11008</td>\n      <td>0.003378</td>\n      <td>0.026594</td>\n      <td>3</td>\n      <td>0.000000</td>\n      <td>0.000000</td>\n      <td>-1</td>\n      <td>...</td>\n      <td>-1.0</td>\n      <td>0.500000</td>\n      <td>-1</td>\n      <td>EMEA</td>\n      <td>251-1K</td>\n      <td>8.0</td>\n      <td>0</td>\n      <td>-1</td>\n      <td>0.067442</td>\n      <td>Medium</td>\n    </tr>\n    <tr>\n      <th>2051</th>\n      <td>2</td>\n      <td>1.462223</td>\n      <td>1.840855</td>\n      <td>109734</td>\n      <td>0.053731</td>\n      <td>0.131497</td>\n      <td>775</td>\n      <td>0.100434</td>\n      <td>0.361883</td>\n      <td>-1</td>\n      <td>...</td>\n      <td>-1.0</td>\n      <td>0.000000</td>\n      <td>0</td>\n      <td>EMEA</td>\n      <td>10K-50K</td>\n      <td>6.0</td>\n      <td>0</td>\n      <td>0</td>\n      <td>0.067547</td>\n      <td>Medium</td>\n    </tr>\n    <tr>\n      <th>2052</th>\n      <td>-1</td>\n      <td>1.041752</td>\n      <td>1.025000</td>\n      <td>79917</td>\n      <td>0.014928</td>\n      <td>0.042398</td>\n      <td>82</td>\n      <td>0.006173</td>\n      <td>0.025641</td>\n      <td>-1</td>\n      <td>...</td>\n      <td>-1.0</td>\n      <td>0.333333</td>\n      <td>-1</td>\n      <td>EMEA</td>\n      <td>1K-5K</td>\n      <td>4.0</td>\n      <td>0</td>\n      <td>-1</td>\n      <td>0.066001</td>\n      <td>Low</td>\n    </tr>\n    <tr>\n      <th>2053</th>\n      <td>-1</td>\n      <td>1.664016</td>\n      <td>5.019685</td>\n      <td>85369</td>\n      <td>0.048378</td>\n      <td>0.100324</td>\n      <td>1275</td>\n      <td>0.026085</td>\n      <td>0.054794</td>\n      <td>-1</td>\n      <td>...</td>\n      <td>-1.0</td>\n      <td>0.000000</td>\n      <td>-1</td>\n      <td>EMEA</td>\n      <td>1-10</td>\n      <td>7.0</td>\n      <td>0</td>\n      <td>-1</td>\n      <td>0.065752</td>\n      <td>Low</td>\n    </tr>\n  </tbody>\n</table>\n<p>2054 rows × 110 columns</p>\n</div>"
     },
     "execution_count": 50,
     "metadata": {},
     "output_type": "execute_result"
    }
   ],
   "source": [
    "df_for_predict_clean"
   ],
   "metadata": {
    "collapsed": false,
    "pycharm": {
     "name": "#%%\n"
    }
   }
  },
  {
   "cell_type": "code",
   "execution_count": 51,
   "outputs": [],
   "source": [
    "top_model = cbc"
   ],
   "metadata": {
    "collapsed": false,
    "pycharm": {
     "name": "#%%\n"
    }
   }
  },
  {
   "cell_type": "code",
   "execution_count": 52,
   "outputs": [],
   "source": [
    "scaler = StandardScaler()\n",
    "bad_accounts = df_for_predict_clean[df_for_predict_clean['class_pred'] != 'High']"
   ],
   "metadata": {
    "collapsed": false,
    "pycharm": {
     "name": "#%%\n"
    }
   }
  },
  {
   "cell_type": "code",
   "execution_count": 53,
   "outputs": [
    {
     "name": "stdout",
     "output_type": "stream",
     "text": [
      "diff in classes:\n",
      "0\n",
      "out of\n",
      "2653\n"
     ]
    },
    {
     "name": "stderr",
     "output_type": "stream",
     "text": [
      "\n",
      "A value is trying to be set on a copy of a slice from a DataFrame.\n",
      "Try using .loc[row_indexer,col_indexer] = value instead\n",
      "\n",
      "See the caveats in the documentation: https://pandas.pydata.org/pandas-docs/stable/user_guide/indexing.html#returning-a-view-versus-a-copy\n"
     ]
    }
   ],
   "source": [
    "processed_df_for_fit['class_diff'] = processed_df_for_fit.apply(lambda row: 1 if\n",
    "((row['class'] == 1) & (row['class_pred_proba'] < 0.5))\n",
    "or ((row['class'] == 0) & (row['class_pred_proba'] >= 0.5))\n",
    "else 0, axis=1)\n",
    "print('diff in classes:')\n",
    "print(np.sum(processed_df_for_fit['class_diff']))\n",
    "print('out of')\n",
    "print(processed_df_for_fit.shape[0])\n",
    "train_data_for_whatif = processed_df_for_fit.loc[processed_df_for_fit['class_pred'] == 'High', :].drop(\n",
    "    ['class_diff', 'class_pred_proba', 'class', 'class_pred'], axis=1)\n",
    "cat_cols = get_cat_feature_names(train_data_for_whatif)\n",
    "train_data_for_whatif['cat_val'] = train_data_for_whatif[cat_cols].apply(\n",
    "    lambda row: '_'.join(row.values.astype(str)), axis=1)\n",
    "\n",
    "bad_accounts['cat_val'] = bad_accounts[cat_cols].apply(lambda row: '_'.join(row.values.astype(str)), axis=1)\n",
    "bad_accounts = bad_accounts.drop(['class_pred'], axis=1)\n",
    "bad_accounts = bad_accounts.drop(cat_cols, axis=1)\n",
    "train_data_for_whatif = train_data_for_whatif.drop(cat_cols, axis=1)"
   ],
   "metadata": {
    "collapsed": false,
    "pycharm": {
     "name": "#%%\n"
    }
   }
  },
  {
   "cell_type": "code",
   "execution_count": 54,
   "outputs": [],
   "source": [
    "exclude_for_analysis = []"
   ],
   "metadata": {
    "collapsed": false,
    "pycharm": {
     "name": "#%%\n"
    }
   }
  },
  {
   "cell_type": "code",
   "execution_count": 62,
   "outputs": [
    {
     "name": "stdout",
     "output_type": "stream",
     "text": [
      "Software & Services_EMEA_251-1K\n",
      "385\n"
     ]
    },
    {
     "ename": "CatBoostError",
     "evalue": "Invalid type for cat_feature[non-default value idx=0,feature_idx=43]=6.0 : cat_features must be integer or string, real number values and NaN values should be converted to string.",
     "output_type": "error",
     "traceback": [
      "\u001B[0;31m---------------------------------------------------------------------------\u001B[0m",
      "\u001B[0;31mCatBoostError\u001B[0m                             Traceback (most recent call last)",
      "\u001B[0;32m_catboost.pyx\u001B[0m in \u001B[0;36m_catboost.get_cat_factor_bytes_representation\u001B[0;34m()\u001B[0m\n",
      "\u001B[0;32m_catboost.pyx\u001B[0m in \u001B[0;36m_catboost.get_id_object_bytes_string_representation\u001B[0;34m()\u001B[0m\n",
      "\u001B[0;31mCatBoostError\u001B[0m: bad object for id: 6.0",
      "\nDuring handling of the above exception, another exception occurred:\n",
      "\u001B[0;31mCatBoostError\u001B[0m                             Traceback (most recent call last)",
      "\u001B[0;32m/var/folders/s5/9r9mymyn5h55qk_7wj6vtj580000gn/T/ipykernel_7925/3196956550.py\u001B[0m in \u001B[0;36m<module>\u001B[0;34m\u001B[0m\n\u001B[1;32m     18\u001B[0m     \u001B[0mclosest_obs\u001B[0m \u001B[0;34m=\u001B[0m \u001B[0mtrain_data_subset\u001B[0m\u001B[0;34m.\u001B[0m\u001B[0miloc\u001B[0m\u001B[0;34m[\u001B[0m\u001B[0;34m[\u001B[0m\u001B[0mnp\u001B[0m\u001B[0;34m.\u001B[0m\u001B[0margmin\u001B[0m\u001B[0;34m(\u001B[0m\u001B[0mdists\u001B[0m\u001B[0;34m)\u001B[0m\u001B[0;34m]\u001B[0m\u001B[0;34m,\u001B[0m \u001B[0mrange\u001B[0m\u001B[0;34m(\u001B[0m\u001B[0mtrain_data_subset\u001B[0m\u001B[0;34m.\u001B[0m\u001B[0mshape\u001B[0m\u001B[0;34m[\u001B[0m\u001B[0;36m1\u001B[0m\u001B[0;34m]\u001B[0m\u001B[0;34m)\u001B[0m\u001B[0;34m]\u001B[0m\u001B[0;34m.\u001B[0m\u001B[0mdrop\u001B[0m\u001B[0;34m(\u001B[0m\u001B[0;34m'cat_val'\u001B[0m\u001B[0;34m,\u001B[0m \u001B[0maxis\u001B[0m\u001B[0;34m=\u001B[0m\u001B[0;36m1\u001B[0m\u001B[0;34m)\u001B[0m\u001B[0;34m\u001B[0m\u001B[0;34m\u001B[0m\u001B[0m\n\u001B[1;32m     19\u001B[0m     \u001B[0mdf_concat_for_shap\u001B[0m \u001B[0;34m=\u001B[0m \u001B[0mpd\u001B[0m\u001B[0;34m.\u001B[0m\u001B[0mconcat\u001B[0m\u001B[0;34m(\u001B[0m\u001B[0;34m[\u001B[0m\u001B[0mclosest_obs\u001B[0m\u001B[0;34m,\u001B[0m \u001B[0mrow_trans\u001B[0m\u001B[0;34m.\u001B[0m\u001B[0mtranspose\u001B[0m\u001B[0;34m(\u001B[0m\u001B[0;34m)\u001B[0m\u001B[0;34m]\u001B[0m\u001B[0;34m,\u001B[0m \u001B[0maxis\u001B[0m\u001B[0;34m=\u001B[0m\u001B[0;36m0\u001B[0m\u001B[0;34m)\u001B[0m\u001B[0;34m\u001B[0m\u001B[0;34m\u001B[0m\u001B[0m\n\u001B[0;32m---> 20\u001B[0;31m     \u001B[0mshap_values_total\u001B[0m \u001B[0;34m=\u001B[0m \u001B[0mshap\u001B[0m\u001B[0;34m.\u001B[0m\u001B[0mTreeExplainer\u001B[0m\u001B[0;34m(\u001B[0m\u001B[0mtop_model\u001B[0m\u001B[0;34m)\u001B[0m\u001B[0;34m.\u001B[0m\u001B[0mshap_values\u001B[0m\u001B[0;34m(\u001B[0m\u001B[0mdf_concat_for_shap\u001B[0m\u001B[0;34m)\u001B[0m\u001B[0;34m\u001B[0m\u001B[0;34m\u001B[0m\u001B[0m\n\u001B[0m\u001B[1;32m     21\u001B[0m     \u001B[0mshap_diff\u001B[0m \u001B[0;34m=\u001B[0m \u001B[0mnp\u001B[0m\u001B[0;34m.\u001B[0m\u001B[0msubtract\u001B[0m\u001B[0;34m(\u001B[0m\u001B[0mshap_values_total\u001B[0m\u001B[0;34m[\u001B[0m\u001B[0;36m0\u001B[0m\u001B[0;34m]\u001B[0m\u001B[0;34m,\u001B[0m \u001B[0mshap_values_total\u001B[0m\u001B[0;34m[\u001B[0m\u001B[0;36m1\u001B[0m\u001B[0;34m]\u001B[0m\u001B[0;34m)\u001B[0m\u001B[0;34m\u001B[0m\u001B[0;34m\u001B[0m\u001B[0m\n\u001B[1;32m     22\u001B[0m     \u001B[0mmax_diff_loc\u001B[0m \u001B[0;34m=\u001B[0m \u001B[0mnp\u001B[0m\u001B[0;34m.\u001B[0m\u001B[0margmax\u001B[0m\u001B[0;34m(\u001B[0m\u001B[0mshap_diff\u001B[0m\u001B[0;34m)\u001B[0m\u001B[0;34m\u001B[0m\u001B[0;34m\u001B[0m\u001B[0m\n",
      "\u001B[0;32m~/Desktop/Projects/pro-prox-model/venv/lib/python3.8/site-packages/shap/explainers/_tree.py\u001B[0m in \u001B[0;36mshap_values\u001B[0;34m(self, X, y, tree_limit, approximate, check_additivity, from_call)\u001B[0m\n\u001B[1;32m    361\u001B[0m                 \u001B[0;32mimport\u001B[0m \u001B[0mcatboost\u001B[0m\u001B[0;34m\u001B[0m\u001B[0;34m\u001B[0m\u001B[0m\n\u001B[1;32m    362\u001B[0m                 \u001B[0;32mif\u001B[0m \u001B[0mtype\u001B[0m\u001B[0;34m(\u001B[0m\u001B[0mX\u001B[0m\u001B[0;34m)\u001B[0m \u001B[0;34m!=\u001B[0m \u001B[0mcatboost\u001B[0m\u001B[0;34m.\u001B[0m\u001B[0mPool\u001B[0m\u001B[0;34m:\u001B[0m\u001B[0;34m\u001B[0m\u001B[0;34m\u001B[0m\u001B[0m\n\u001B[0;32m--> 363\u001B[0;31m                     \u001B[0mX\u001B[0m \u001B[0;34m=\u001B[0m \u001B[0mcatboost\u001B[0m\u001B[0;34m.\u001B[0m\u001B[0mPool\u001B[0m\u001B[0;34m(\u001B[0m\u001B[0mX\u001B[0m\u001B[0;34m,\u001B[0m \u001B[0mcat_features\u001B[0m\u001B[0;34m=\u001B[0m\u001B[0mself\u001B[0m\u001B[0;34m.\u001B[0m\u001B[0mmodel\u001B[0m\u001B[0;34m.\u001B[0m\u001B[0mcat_feature_indices\u001B[0m\u001B[0;34m)\u001B[0m\u001B[0;34m\u001B[0m\u001B[0;34m\u001B[0m\u001B[0m\n\u001B[0m\u001B[1;32m    364\u001B[0m                 \u001B[0mphi\u001B[0m \u001B[0;34m=\u001B[0m \u001B[0mself\u001B[0m\u001B[0;34m.\u001B[0m\u001B[0mmodel\u001B[0m\u001B[0;34m.\u001B[0m\u001B[0moriginal_model\u001B[0m\u001B[0;34m.\u001B[0m\u001B[0mget_feature_importance\u001B[0m\u001B[0;34m(\u001B[0m\u001B[0mdata\u001B[0m\u001B[0;34m=\u001B[0m\u001B[0mX\u001B[0m\u001B[0;34m,\u001B[0m \u001B[0mfstr_type\u001B[0m\u001B[0;34m=\u001B[0m\u001B[0;34m'ShapValues'\u001B[0m\u001B[0;34m)\u001B[0m\u001B[0;34m\u001B[0m\u001B[0;34m\u001B[0m\u001B[0m\n\u001B[1;32m    365\u001B[0m \u001B[0;34m\u001B[0m\u001B[0m\n",
      "\u001B[0;32m~/Desktop/Projects/pro-prox-model/venv/lib/python3.8/site-packages/catboost/core.py\u001B[0m in \u001B[0;36m__init__\u001B[0;34m(self, data, label, cat_features, text_features, embedding_features, column_description, pairs, delimiter, has_header, ignore_csv_quoting, weight, group_id, group_weight, subgroup_id, pairs_weight, baseline, feature_names, thread_count, log_cout, log_cerr)\u001B[0m\n\u001B[1;32m    615\u001B[0m                     )\n\u001B[1;32m    616\u001B[0m \u001B[0;34m\u001B[0m\u001B[0m\n\u001B[0;32m--> 617\u001B[0;31m                 \u001B[0mself\u001B[0m\u001B[0;34m.\u001B[0m\u001B[0m_init\u001B[0m\u001B[0;34m(\u001B[0m\u001B[0mdata\u001B[0m\u001B[0;34m,\u001B[0m \u001B[0mlabel\u001B[0m\u001B[0;34m,\u001B[0m \u001B[0mcat_features\u001B[0m\u001B[0;34m,\u001B[0m \u001B[0mtext_features\u001B[0m\u001B[0;34m,\u001B[0m \u001B[0membedding_features\u001B[0m\u001B[0;34m,\u001B[0m \u001B[0mpairs\u001B[0m\u001B[0;34m,\u001B[0m \u001B[0mweight\u001B[0m\u001B[0;34m,\u001B[0m \u001B[0mgroup_id\u001B[0m\u001B[0;34m,\u001B[0m \u001B[0mgroup_weight\u001B[0m\u001B[0;34m,\u001B[0m \u001B[0msubgroup_id\u001B[0m\u001B[0;34m,\u001B[0m \u001B[0mpairs_weight\u001B[0m\u001B[0;34m,\u001B[0m \u001B[0mbaseline\u001B[0m\u001B[0;34m,\u001B[0m \u001B[0mfeature_names\u001B[0m\u001B[0;34m,\u001B[0m \u001B[0mthread_count\u001B[0m\u001B[0;34m)\u001B[0m\u001B[0;34m\u001B[0m\u001B[0;34m\u001B[0m\u001B[0m\n\u001B[0m\u001B[1;32m    618\u001B[0m         \u001B[0msuper\u001B[0m\u001B[0;34m(\u001B[0m\u001B[0mPool\u001B[0m\u001B[0;34m,\u001B[0m \u001B[0mself\u001B[0m\u001B[0;34m)\u001B[0m\u001B[0;34m.\u001B[0m\u001B[0m__init__\u001B[0m\u001B[0;34m(\u001B[0m\u001B[0;34m)\u001B[0m\u001B[0;34m\u001B[0m\u001B[0;34m\u001B[0m\u001B[0m\n\u001B[1;32m    619\u001B[0m \u001B[0;34m\u001B[0m\u001B[0m\n",
      "\u001B[0;32m~/Desktop/Projects/pro-prox-model/venv/lib/python3.8/site-packages/catboost/core.py\u001B[0m in \u001B[0;36m_init\u001B[0;34m(self, data, label, cat_features, text_features, embedding_features, pairs, weight, group_id, group_weight, subgroup_id, pairs_weight, baseline, feature_names, thread_count)\u001B[0m\n\u001B[1;32m   1131\u001B[0m             \u001B[0mbaseline\u001B[0m \u001B[0;34m=\u001B[0m \u001B[0mnp\u001B[0m\u001B[0;34m.\u001B[0m\u001B[0mreshape\u001B[0m\u001B[0;34m(\u001B[0m\u001B[0mbaseline\u001B[0m\u001B[0;34m,\u001B[0m \u001B[0;34m(\u001B[0m\u001B[0msamples_count\u001B[0m\u001B[0;34m,\u001B[0m \u001B[0;34m-\u001B[0m\u001B[0;36m1\u001B[0m\u001B[0;34m)\u001B[0m\u001B[0;34m)\u001B[0m\u001B[0;34m\u001B[0m\u001B[0;34m\u001B[0m\u001B[0m\n\u001B[1;32m   1132\u001B[0m             \u001B[0mself\u001B[0m\u001B[0;34m.\u001B[0m\u001B[0m_check_baseline_shape\u001B[0m\u001B[0;34m(\u001B[0m\u001B[0mbaseline\u001B[0m\u001B[0;34m,\u001B[0m \u001B[0msamples_count\u001B[0m\u001B[0;34m)\u001B[0m\u001B[0;34m\u001B[0m\u001B[0;34m\u001B[0m\u001B[0m\n\u001B[0;32m-> 1133\u001B[0;31m         \u001B[0mself\u001B[0m\u001B[0;34m.\u001B[0m\u001B[0m_init_pool\u001B[0m\u001B[0;34m(\u001B[0m\u001B[0mdata\u001B[0m\u001B[0;34m,\u001B[0m \u001B[0mlabel\u001B[0m\u001B[0;34m,\u001B[0m \u001B[0mcat_features\u001B[0m\u001B[0;34m,\u001B[0m \u001B[0mtext_features\u001B[0m\u001B[0;34m,\u001B[0m \u001B[0membedding_features\u001B[0m\u001B[0;34m,\u001B[0m \u001B[0mpairs\u001B[0m\u001B[0;34m,\u001B[0m \u001B[0mweight\u001B[0m\u001B[0;34m,\u001B[0m \u001B[0mgroup_id\u001B[0m\u001B[0;34m,\u001B[0m \u001B[0mgroup_weight\u001B[0m\u001B[0;34m,\u001B[0m \u001B[0msubgroup_id\u001B[0m\u001B[0;34m,\u001B[0m \u001B[0mpairs_weight\u001B[0m\u001B[0;34m,\u001B[0m \u001B[0mbaseline\u001B[0m\u001B[0;34m,\u001B[0m \u001B[0mfeature_names\u001B[0m\u001B[0;34m,\u001B[0m \u001B[0mthread_count\u001B[0m\u001B[0;34m)\u001B[0m\u001B[0;34m\u001B[0m\u001B[0;34m\u001B[0m\u001B[0m\n\u001B[0m\u001B[1;32m   1134\u001B[0m \u001B[0;34m\u001B[0m\u001B[0m\n\u001B[1;32m   1135\u001B[0m \u001B[0;34m\u001B[0m\u001B[0m\n",
      "\u001B[0;32m_catboost.pyx\u001B[0m in \u001B[0;36m_catboost._PoolBase._init_pool\u001B[0;34m()\u001B[0m\n",
      "\u001B[0;32m_catboost.pyx\u001B[0m in \u001B[0;36m_catboost._PoolBase._init_pool\u001B[0;34m()\u001B[0m\n",
      "\u001B[0;32m_catboost.pyx\u001B[0m in \u001B[0;36m_catboost._PoolBase._init_features_order_layout_pool\u001B[0;34m()\u001B[0m\n",
      "\u001B[0;32m_catboost.pyx\u001B[0m in \u001B[0;36m_catboost._set_features_order_data_pd_data_frame\u001B[0;34m()\u001B[0m\n",
      "\u001B[0;32m_catboost.pyx\u001B[0m in \u001B[0;36m_catboost.get_cat_factor_bytes_representation\u001B[0;34m()\u001B[0m\n",
      "\u001B[0;31mCatBoostError\u001B[0m: Invalid type for cat_feature[non-default value idx=0,feature_idx=43]=6.0 : cat_features must be integer or string, real number values and NaN values should be converted to string."
     ]
    }
   ],
   "source": [
    "for index, row in bad_accounts.iterrows():\n",
    "    row_trans = pd.DataFrame(row)\n",
    "    print(row['cat_val'])\n",
    "    train_data_subset = train_data_for_whatif.loc[train_data_for_whatif['cat_val'] == row['cat_val'], :]\n",
    "    if train_data_subset.shape[0] == 0:\n",
    "        train_data_subset = train_data_for_whatif.loc[train_data_for_whatif['cat_val'] == '-1_-1_-1', :]\n",
    "\n",
    "    print(train_data_subset.shape[0])\n",
    "    train_data_subset_w_instance = pd.concat([train_data_subset, row_trans.transpose()])\n",
    "    train_data_subset_w_instance = train_data_subset_w_instance.drop(['cat_val'], axis=1)\n",
    "    df_whatif_scaled = pd.DataFrame(scaler.fit_transform(train_data_subset_w_instance),\n",
    "                                    columns=train_data_subset_w_instance.columns)\n",
    "    df_whatif_scaled = df_whatif_scaled.fillna(0)\n",
    "    sample = df_whatif_scaled.iloc[-1]\n",
    "    df_whatif_scaled_wo_sample = df_whatif_scaled.iloc[:-1, :]\n",
    "    dists = [cityblock(sample, df_whatif_scaled_wo_sample.iloc[i]) for i in\n",
    "             (range(df_whatif_scaled_wo_sample.shape[0]))]\n",
    "    closest_obs = train_data_subset.iloc[[np.argmin(dists)], range(train_data_subset.shape[1])].drop('cat_val', axis=1)\n",
    "    df_concat_for_shap = pd.concat([closest_obs, row_trans.transpose()], axis=0)\n",
    "    shap_values_total = shap.TreeExplainer(top_model).shap_values(df_concat_for_shap)\n",
    "    shap_diff = np.subtract(shap_values_total[0], shap_values_total[1])\n",
    "    max_diff_loc = np.argmax(shap_diff)\n",
    "    found_feature = False\n",
    "    while not found_feature:\n",
    "        feature_name = list(train_data_subset.columns)[max_diff_loc]\n",
    "        nb_val_bigger = int(row.iloc[max_diff_loc]) > int(closest_obs.iloc[0, max_diff_loc])\n",
    "        nb_val_equal = int(row.iloc[max_diff_loc]) == int(closest_obs.iloc[0, max_diff_loc])\n",
    "        str_for_parse = \" to be bigger\" if nb_val_bigger else \" to be smaller\"\n",
    "        if not nb_val_equal and feature_name not in exclude_for_analysis:\n",
    "            print(\"You should change the feature \" + feature_name + str_for_parse)\n",
    "            found_feature = True\n",
    "        else:\n",
    "            shap_diff[np.argmax(shap_diff)] = -100000000000\n",
    "            max_diff_loc = np.argmax(shap_diff)\n",
    "\n"
   ],
   "metadata": {
    "collapsed": false,
    "pycharm": {
     "name": "#%%\n"
    }
   }
  },
  {
   "cell_type": "code",
   "execution_count": null,
   "outputs": [],
   "source": [],
   "metadata": {
    "collapsed": false,
    "pycharm": {
     "name": "#%%\n"
    }
   }
  }
 ],
 "metadata": {
  "kernelspec": {
   "display_name": "Python 3 (ipykernel)",
   "language": "python",
   "name": "python3"
  },
  "language_info": {
   "codemirror_mode": {
    "name": "ipython",
    "version": 3
   },
   "file_extension": ".py",
   "mimetype": "text/x-python",
   "name": "python",
   "nbconvert_exporter": "python",
   "pygments_lexer": "ipython3",
   "version": "3.8.2"
  },
  "varInspector": {
   "cols": {
    "lenName": 16,
    "lenType": 16,
    "lenVar": 40
   },
   "kernels_config": {
    "python": {
     "delete_cmd_postfix": "",
     "delete_cmd_prefix": "del ",
     "library": "var_list.py",
     "varRefreshCmd": "print(var_dic_list())"
    },
    "r": {
     "delete_cmd_postfix": ") ",
     "delete_cmd_prefix": "rm(",
     "library": "var_list.r",
     "varRefreshCmd": "cat(var_dic_list()) "
    }
   },
   "types_to_exclude": [
    "module",
    "function",
    "builtin_function_or_method",
    "instance",
    "_Feature"
   ],
   "window_display": false
  }
 },
 "nbformat": 4,
 "nbformat_minor": 1
}