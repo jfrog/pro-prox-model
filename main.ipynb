{
 "cells": [
  {
   "cell_type": "code",
   "execution_count": 99,
   "metadata": {
    "pycharm": {
     "name": "#%%\n"
    }
   },
   "outputs": [],
   "source": [
    "import pandas as pd\n",
    "from catboost import CatBoostClassifier\n",
    "import numpy as np\n",
    "from scipy.spatial.distance import cityblock\n",
    "from sklearn.preprocessing import StandardScaler\n",
    "from utils.general_utils import load_data_old, get_cat_feature_names\n",
    "from utils.model_extensions_utils import FocalLossObjective\n",
    "import shap\n",
    "from utils.fe_utils import get_growth_features\n",
    "from kmodes.kmodes import KModes\n",
    "from tqdm import tqdm\n",
    "import json"
   ]
  },
  {
   "cell_type": "code",
   "execution_count": 100,
   "metadata": {
    "pycharm": {
     "name": "#%%\n"
    }
   },
   "outputs": [],
   "source": [
    "def process_df(X_temp):\n",
    "    tech_cols = ['maven', 'generic', 'docker', 'npm', 'pypi', 'gradle', 'nuget']\n",
    "    usage_cols = tech_cols + ['artifacts_count', 'artifacts_size', 'binaries_count', 'binaries_size', 'items_count',\n",
    "                              'number_of_permissions', 'internal_groups', 'number_of_users', 'n_env', 'n_tech',\n",
    "                              'n_repos']\n",
    "\n",
    "    X_temp['n_tech'] = (X_temp[tech_cols] != 0).astype(int).sum(axis=1)\n",
    "    X_temp['n_tech.1'] = (X_temp[[col + '.1' for col in tech_cols]] != 0).astype(int).sum(axis=1)\n",
    "    X_temp['n_tech.2'] = (X_temp[[col + '.2' for col in tech_cols]] != 0).astype(int).sum(axis=1)\n",
    "    X_temp['n_tech.3'] = (X_temp[[col + '.3' for col in tech_cols]] != 0).astype(int).sum(axis=1)\n",
    "    X_temp['n_tech.4'] = (X_temp[[col + '.4' for col in tech_cols]] != 0).astype(int).sum(axis=1)\n",
    "    X_temp['n_repos'] = (X_temp[tech_cols]).sum(axis=1)\n",
    "    X_temp['n_repos.1'] = (X_temp[[col + '.1' for col in tech_cols]]).sum(axis=1)\n",
    "    X_temp['n_repos.2'] = (X_temp[[col + '.2' for col in tech_cols]]).sum(axis=1)\n",
    "    X_temp['n_repos.3'] = (X_temp[[col + '.3' for col in tech_cols]]).sum(axis=1)\n",
    "    X_temp['n_repos.4'] = (X_temp[[col + '.4' for col in tech_cols]]).sum(axis=1)\n",
    "    for col in usage_cols:\n",
    "        growth_feature_monthly, growth_feature_quarter, df_fg = get_growth_features(col, X_temp.copy())\n",
    "        X_temp[col + '_monthly_growth'] = growth_feature_monthly\n",
    "        X_temp[col + '_quarter_growth'] = growth_feature_quarter\n",
    "\n",
    "    # - transform to category\n",
    "    cat_features = get_cat_feature_names(X_temp)\n",
    "    for col in cat_features:\n",
    "        X_temp[col] = X_temp[col].astype('category')\n",
    "\n",
    "    # - drop usage features from the periods before the relevant-date\n",
    "    cols_to_drop = [col for col in X_temp.columns if '.1' in col or '.2' in col or '.3' in col or '.4' in col]\n",
    "    X_temp = X_temp.drop(cols_to_drop, axis=1)\n",
    "    X_temp['artifacts/binaries_size'] = np.where(X_temp['binaries_size'] == 0, 0,\n",
    "                                                 X_temp['artifacts_size'] / X_temp['binaries_size'])\n",
    "    X_temp['artifacts/binaries_count'] = np.where(X_temp['binaries_count'] == 0, 0,\n",
    "                                                  X_temp['artifacts_count'] / X_temp['binaries_count'])\n",
    "    # cat_features.remove('territory')\n",
    "    # cat_features.remove('industry_group')\n",
    "    # X_temp = X_temp.drop(cat_features, axis=1)\n",
    "    # X_temp = X_temp.drop(['total_employees_with_details', 'days_from_contact_added', 'territory', 'industry_group',\n",
    "    #                       'total_employees_range'], axis=1)\n",
    "    return X_temp"
   ]
  },
  {
   "cell_type": "code",
   "execution_count": 101,
   "metadata": {
    "pycharm": {
     "name": "#%%"
    }
   },
   "outputs": [],
   "source": [
    "df = load_data_old('fit.sql')\n",
    "# df = pd.read_csv('data/fit.csv', delimiter=';')"
   ]
  },
  {
   "cell_type": "code",
   "execution_count": 102,
   "outputs": [
    {
     "data": {
      "text/plain": "Index(['account_id', 'relevant_date', 'class', 'territory', 'account_id.1',\n       'relevant_date.1', 'period_range', 'artifacts_count', 'artifacts_size',\n       'binaries_count',\n       ...\n       'n_ent_mentioned_sessions', 'n_competitor_mentioned_sessions',\n       'n_xray_mentioned_sessions', 'n_replys', 'n_sent', 'n_calls',\n       'n_task_xray', 'replys_to_sent', 'days_since_reply', 'days_since_sent'],\n      dtype='object', length=188)"
     },
     "execution_count": 102,
     "metadata": {},
     "output_type": "execute_result"
    }
   ],
   "source": [
    "df.columns"
   ],
   "metadata": {
    "collapsed": false,
    "pycharm": {
     "name": "#%%\n"
    }
   }
  },
  {
   "cell_type": "code",
   "execution_count": 103,
   "metadata": {
    "pycharm": {
     "name": "#%%\n"
    }
   },
   "outputs": [],
   "source": [
    "has_won = df.groupby('account_id', as_index=False).sum('class').loc[:, ['account_id', 'class']]\n",
    "has_won['has_won'] = has_won['class'].apply(lambda x: True if x > 0 else False)\n",
    "has_won.drop('class', axis=1, inplace=True)\n",
    "new_df = df.merge(has_won[['account_id', 'has_won']], on='account_id')\n",
    "df_did_win, df_did_not_win = new_df[new_df['has_won']], new_df[~new_df['has_won']]\n",
    "df_did_win = df_did_win.merge(df_did_win.groupby('account_id', as_index=False).agg({'relevant_date': 'min'}),\n",
    "                              on=['account_id', 'relevant_date'])\n",
    "df_did_not_win = df_did_not_win.groupby('account_id', as_index=False).sample(n=1, random_state=2)\n",
    "df = pd.concat([df_did_win, df_did_not_win])\n",
    "df = df.sample(frac=1, random_state=2).reset_index(drop=True)"
   ]
  },
  {
   "cell_type": "code",
   "execution_count": 104,
   "metadata": {
    "pycharm": {
     "name": "#%%\n"
    }
   },
   "outputs": [],
   "source": [
    "cols_to_drop = [col for col in df.columns if 'period_range' in col or 'relevant_date' in col or 'account_id' in col\n",
    "                or 'class' in col or 'has_won' in col or 'class_pred_proba' in col or 'class_pred' in col or 'class_diff' in col]\n",
    "X, y = df.drop(cols_to_drop, axis=1), df['class']"
   ]
  },
  {
   "cell_type": "code",
   "execution_count": 105,
   "outputs": [],
   "source": [
    "X = process_df(X)"
   ],
   "metadata": {
    "collapsed": false,
    "pycharm": {
     "name": "#%%\n"
    }
   }
  },
  {
   "cell_type": "code",
   "execution_count": 106,
   "outputs": [],
   "source": [
    "cbc = CatBoostClassifier(cat_features=get_cat_feature_names(X), auto_class_weights='Balanced', verbose=0,\n",
    "                         random_state=5, loss_function=FocalLossObjective(), eval_metric=\"Logloss\",\n",
    "                         bootstrap_type='Bayesian')\n",
    "cbc_no_cats = CatBoostClassifier(cat_features=[], auto_class_weights='Balanced', verbose=0,\n",
    "                                 random_state=5, loss_function=FocalLossObjective(), eval_metric=\"Logloss\",\n",
    "                                 bootstrap_type='Bayesian')"
   ],
   "metadata": {
    "collapsed": false,
    "pycharm": {
     "name": "#%%\n"
    }
   }
  },
  {
   "cell_type": "code",
   "execution_count": 107,
   "outputs": [],
   "source": [
    "X = X.reindex(sorted(X.columns), axis=1)"
   ],
   "metadata": {
    "collapsed": false,
    "pycharm": {
     "name": "#%%\n"
    }
   }
  },
  {
   "cell_type": "code",
   "execution_count": 108,
   "outputs": [
    {
     "data": {
      "text/plain": "   artifactory_views  artifacts/binaries_count  artifacts/binaries_size  \\\n0                 -1                  1.062204                 1.002037   \n1                 -1                  5.831260                 2.887931   \n2                 -1                  1.021197                 0.000000   \n3                  0                  1.366859                 2.322176   \n4                 -1                  1.259227                 1.269625   \n\n   artifacts_count  artifacts_count_monthly_growth  \\\n0           483819                        0.062013   \n1            49694                        0.172579   \n2             2457                        0.418271   \n3           132491                        0.022089   \n4            14398                        0.438131   \n\n   artifacts_count_quarter_growth  artifacts_size  \\\n0                        0.142322            4919   \n1                        0.359019             335   \n2                        4.335647               0   \n3                        0.059766             555   \n4                        3.735021             372   \n\n   artifacts_size_monthly_growth  artifacts_size_quarter_growth  \\\n0                       0.055707                       0.140696   \n1                       0.122308                       0.193611   \n2                       0.000000                       0.000000   \n3                       0.017667                       0.093904   \n4                       0.425771                       2.967368   \n\n   avg_resolution_days  ...  pypi_monthly_growth  pypi_quarter_growth  \\\n0                   18  ...                  0.0                  0.0   \n1                   -1  ...                  0.0                  0.0   \n2                   -1  ...                  0.0                  0.0   \n3                   -1  ...                  0.0                  0.0   \n4                   -1  ...                  0.0                  0.0   \n\n   qoe_score  replys_to_sent  support_views_views  territory  \\\n0       -1.0             0.0                   -1       EMEA   \n1       -1.0             0.5                   -1   Americas   \n2       -1.0             0.0                   -1   Americas   \n3       -1.0             0.0                    0   Americas   \n4       -1.0             0.4                   -1   Americas   \n\n   total_employees_range  total_employees_with_details  unresolved_jira_cases  \\\n0                 5K-10K                           8.0                      0   \n1                 51-250                           3.0                      0   \n2                 5K-10K                          17.0                      0   \n3                 251-1K                          14.0                      0   \n4                  11-50                           2.0                      0   \n\n   xray_views  \n0          -1  \n1          -1  \n2          -1  \n3           0  \n4          -1  \n\n[5 rows x 108 columns]",
      "text/html": "<div>\n<style scoped>\n    .dataframe tbody tr th:only-of-type {\n        vertical-align: middle;\n    }\n\n    .dataframe tbody tr th {\n        vertical-align: top;\n    }\n\n    .dataframe thead th {\n        text-align: right;\n    }\n</style>\n<table border=\"1\" class=\"dataframe\">\n  <thead>\n    <tr style=\"text-align: right;\">\n      <th></th>\n      <th>artifactory_views</th>\n      <th>artifacts/binaries_count</th>\n      <th>artifacts/binaries_size</th>\n      <th>artifacts_count</th>\n      <th>artifacts_count_monthly_growth</th>\n      <th>artifacts_count_quarter_growth</th>\n      <th>artifacts_size</th>\n      <th>artifacts_size_monthly_growth</th>\n      <th>artifacts_size_quarter_growth</th>\n      <th>avg_resolution_days</th>\n      <th>...</th>\n      <th>pypi_monthly_growth</th>\n      <th>pypi_quarter_growth</th>\n      <th>qoe_score</th>\n      <th>replys_to_sent</th>\n      <th>support_views_views</th>\n      <th>territory</th>\n      <th>total_employees_range</th>\n      <th>total_employees_with_details</th>\n      <th>unresolved_jira_cases</th>\n      <th>xray_views</th>\n    </tr>\n  </thead>\n  <tbody>\n    <tr>\n      <th>0</th>\n      <td>-1</td>\n      <td>1.062204</td>\n      <td>1.002037</td>\n      <td>483819</td>\n      <td>0.062013</td>\n      <td>0.142322</td>\n      <td>4919</td>\n      <td>0.055707</td>\n      <td>0.140696</td>\n      <td>18</td>\n      <td>...</td>\n      <td>0.0</td>\n      <td>0.0</td>\n      <td>-1.0</td>\n      <td>0.0</td>\n      <td>-1</td>\n      <td>EMEA</td>\n      <td>5K-10K</td>\n      <td>8.0</td>\n      <td>0</td>\n      <td>-1</td>\n    </tr>\n    <tr>\n      <th>1</th>\n      <td>-1</td>\n      <td>5.831260</td>\n      <td>2.887931</td>\n      <td>49694</td>\n      <td>0.172579</td>\n      <td>0.359019</td>\n      <td>335</td>\n      <td>0.122308</td>\n      <td>0.193611</td>\n      <td>-1</td>\n      <td>...</td>\n      <td>0.0</td>\n      <td>0.0</td>\n      <td>-1.0</td>\n      <td>0.5</td>\n      <td>-1</td>\n      <td>Americas</td>\n      <td>51-250</td>\n      <td>3.0</td>\n      <td>0</td>\n      <td>-1</td>\n    </tr>\n    <tr>\n      <th>2</th>\n      <td>-1</td>\n      <td>1.021197</td>\n      <td>0.000000</td>\n      <td>2457</td>\n      <td>0.418271</td>\n      <td>4.335647</td>\n      <td>0</td>\n      <td>0.000000</td>\n      <td>0.000000</td>\n      <td>-1</td>\n      <td>...</td>\n      <td>0.0</td>\n      <td>0.0</td>\n      <td>-1.0</td>\n      <td>0.0</td>\n      <td>-1</td>\n      <td>Americas</td>\n      <td>5K-10K</td>\n      <td>17.0</td>\n      <td>0</td>\n      <td>-1</td>\n    </tr>\n    <tr>\n      <th>3</th>\n      <td>0</td>\n      <td>1.366859</td>\n      <td>2.322176</td>\n      <td>132491</td>\n      <td>0.022089</td>\n      <td>0.059766</td>\n      <td>555</td>\n      <td>0.017667</td>\n      <td>0.093904</td>\n      <td>-1</td>\n      <td>...</td>\n      <td>0.0</td>\n      <td>0.0</td>\n      <td>-1.0</td>\n      <td>0.0</td>\n      <td>0</td>\n      <td>Americas</td>\n      <td>251-1K</td>\n      <td>14.0</td>\n      <td>0</td>\n      <td>0</td>\n    </tr>\n    <tr>\n      <th>4</th>\n      <td>-1</td>\n      <td>1.259227</td>\n      <td>1.269625</td>\n      <td>14398</td>\n      <td>0.438131</td>\n      <td>3.735021</td>\n      <td>372</td>\n      <td>0.425771</td>\n      <td>2.967368</td>\n      <td>-1</td>\n      <td>...</td>\n      <td>0.0</td>\n      <td>0.0</td>\n      <td>-1.0</td>\n      <td>0.4</td>\n      <td>-1</td>\n      <td>Americas</td>\n      <td>11-50</td>\n      <td>2.0</td>\n      <td>0</td>\n      <td>-1</td>\n    </tr>\n  </tbody>\n</table>\n<p>5 rows × 108 columns</p>\n</div>"
     },
     "execution_count": 108,
     "metadata": {},
     "output_type": "execute_result"
    }
   ],
   "source": [
    "X.head()"
   ],
   "metadata": {
    "collapsed": false,
    "pycharm": {
     "name": "#%%\n"
    }
   }
  },
  {
   "cell_type": "code",
   "execution_count": 109,
   "metadata": {
    "pycharm": {
     "name": "#%%\n"
    }
   },
   "outputs": [
    {
     "data": {
      "text/plain": "<catboost.core.CatBoostClassifier at 0x7fe93357a130>"
     },
     "execution_count": 109,
     "metadata": {},
     "output_type": "execute_result"
    }
   ],
   "source": [
    "cbc.fit(X, y)\n",
    "cbc_no_cats.fit(X.drop(get_cat_feature_names(X), axis=1), y)"
   ]
  },
  {
   "cell_type": "code",
   "execution_count": 110,
   "outputs": [],
   "source": [
    "df_for_predict = load_data_old('predict.sql')\n",
    "# df_for_predict = pd.read_csv('data/predict.csv', delimiter=';')\n",
    "cols_to_drop = [col for col in df_for_predict.columns if\n",
    "                'period_range' in col or 'relevant_date' in col or 'account_id' in col\n",
    "                or 'class' in col or 'has_won' in col]\n",
    "df_for_predict_clean = df_for_predict.drop(cols_to_drop, axis=1)\n",
    "df_for_predict_clean = process_df(df_for_predict_clean)"
   ],
   "metadata": {
    "collapsed": false,
    "pycharm": {
     "name": "#%%\n"
    }
   }
  },
  {
   "cell_type": "code",
   "execution_count": 111,
   "outputs": [
    {
     "data": {
      "text/plain": "      artifactory_views  artifacts/binaries_count  artifacts/binaries_size  \\\n0                    -1                  1.299624                 1.015124   \n1                    -1                  1.227835                 1.480831   \n2                    -1                  1.584233                 1.051282   \n3                    -1                  0.946677                 1.117647   \n4                    -1                  1.852663                 2.398301   \n...                 ...                       ...                      ...   \n2042                 -1                  1.045206                 1.021753   \n2043                 -1                  1.002913                 1.000000   \n2044                  1                  1.463433                 1.843318   \n2045                 -1                  1.043248                 1.012346   \n2046                 -1                  1.671975                 5.035294   \n\n      artifacts_count  artifacts_count_monthly_growth  \\\n0              581040                       -0.001590   \n1              184357                        0.055054   \n2               99531                        0.019620   \n3               11167                        0.017653   \n4             1427608                        0.005369   \n...               ...                             ...   \n2042           379278                        0.023281   \n2043            11019                        0.003421   \n2044           112178                        0.054128   \n2045            80737                        0.021620   \n2046            85774                        0.046204   \n\n      artifacts_count_quarter_growth  artifacts_size  \\\n0                          -0.129872           28391   \n1                           0.213569             927   \n2                           0.028304              82   \n3                           0.066509              19   \n4                           0.044077           20611   \n...                              ...             ...   \n2042                        0.078413            1550   \n2043                        0.025776               3   \n2044                        0.130921             800   \n2045                        0.042968              82   \n2046                        0.095059            1284   \n\n      artifacts_size_monthly_growth  artifacts_size_quarter_growth  \\\n0                         -0.012926                       0.049607   \n1                          0.058176                       0.187031   \n2                          0.012423                      -0.010073   \n3                          0.000000                       0.027778   \n4                          0.001652                       0.038832   \n...                             ...                            ...   \n2042                       0.032952                       0.091284   \n2043                       0.000000                       0.000000   \n2044                       0.095192                       0.361026   \n2045                       0.006173                       0.025404   \n2046                       0.025912                       0.054869   \n\n      avg_resolution_days  ...  pypi_monthly_growth  pypi_quarter_growth  \\\n0                      -1  ...                 0.00                 0.00   \n1                      -1  ...                 0.00                 0.00   \n2                      -1  ...                 0.00                 0.00   \n3                      -1  ...                 0.00                 0.00   \n4                      17  ...                 0.00                 0.00   \n...                   ...  ...                  ...                  ...   \n2042                   -1  ...                -0.25                 0.25   \n2043                   -1  ...                 0.00                 0.00   \n2044                   -1  ...                 0.00                 0.00   \n2045                   -1  ...                 0.00                 0.50   \n2046                   -1  ...                 0.00                 0.00   \n\n      qoe_score  replys_to_sent  support_views_views  territory  \\\n0          -1.0        0.333333                   -1       EMEA   \n1          -1.0        0.250000                   -1       EMEA   \n2          -1.0        0.500000                   -1       EMEA   \n3          -1.0        0.000000                   -1   Americas   \n4          -1.0        0.333333                   -1       EMEA   \n...         ...             ...                  ...        ...   \n2042       -1.0        0.200000                   -1       EMEA   \n2043       -1.0        0.555556                   -1       EMEA   \n2044       -1.0        0.000000                    0       EMEA   \n2045       -1.0        0.333333                   -1       EMEA   \n2046       -1.0        0.000000                   -1       EMEA   \n\n      total_employees_range  total_employees_with_details  \\\n0                    251-1K                          11.0   \n1                     11-50                           4.0   \n2                    51-250                           3.0   \n3                    51-250                           8.0   \n4                    51-250                          25.0   \n...                     ...                           ...   \n2042                 51-250                           6.0   \n2043                 251-1K                           8.0   \n2044                10K-50K                           6.0   \n2045                  1K-5K                           4.0   \n2046                   1-10                           7.0   \n\n      unresolved_jira_cases  xray_views  \n0                         0          -1  \n1                         0          -1  \n2                         0          -1  \n3                         0          -1  \n4                         0          -1  \n...                     ...         ...  \n2042                      0          -1  \n2043                      0          -1  \n2044                      0           0  \n2045                      0          -1  \n2046                      0          -1  \n\n[2047 rows x 108 columns]",
      "text/html": "<div>\n<style scoped>\n    .dataframe tbody tr th:only-of-type {\n        vertical-align: middle;\n    }\n\n    .dataframe tbody tr th {\n        vertical-align: top;\n    }\n\n    .dataframe thead th {\n        text-align: right;\n    }\n</style>\n<table border=\"1\" class=\"dataframe\">\n  <thead>\n    <tr style=\"text-align: right;\">\n      <th></th>\n      <th>artifactory_views</th>\n      <th>artifacts/binaries_count</th>\n      <th>artifacts/binaries_size</th>\n      <th>artifacts_count</th>\n      <th>artifacts_count_monthly_growth</th>\n      <th>artifacts_count_quarter_growth</th>\n      <th>artifacts_size</th>\n      <th>artifacts_size_monthly_growth</th>\n      <th>artifacts_size_quarter_growth</th>\n      <th>avg_resolution_days</th>\n      <th>...</th>\n      <th>pypi_monthly_growth</th>\n      <th>pypi_quarter_growth</th>\n      <th>qoe_score</th>\n      <th>replys_to_sent</th>\n      <th>support_views_views</th>\n      <th>territory</th>\n      <th>total_employees_range</th>\n      <th>total_employees_with_details</th>\n      <th>unresolved_jira_cases</th>\n      <th>xray_views</th>\n    </tr>\n  </thead>\n  <tbody>\n    <tr>\n      <th>0</th>\n      <td>-1</td>\n      <td>1.299624</td>\n      <td>1.015124</td>\n      <td>581040</td>\n      <td>-0.001590</td>\n      <td>-0.129872</td>\n      <td>28391</td>\n      <td>-0.012926</td>\n      <td>0.049607</td>\n      <td>-1</td>\n      <td>...</td>\n      <td>0.00</td>\n      <td>0.00</td>\n      <td>-1.0</td>\n      <td>0.333333</td>\n      <td>-1</td>\n      <td>EMEA</td>\n      <td>251-1K</td>\n      <td>11.0</td>\n      <td>0</td>\n      <td>-1</td>\n    </tr>\n    <tr>\n      <th>1</th>\n      <td>-1</td>\n      <td>1.227835</td>\n      <td>1.480831</td>\n      <td>184357</td>\n      <td>0.055054</td>\n      <td>0.213569</td>\n      <td>927</td>\n      <td>0.058176</td>\n      <td>0.187031</td>\n      <td>-1</td>\n      <td>...</td>\n      <td>0.00</td>\n      <td>0.00</td>\n      <td>-1.0</td>\n      <td>0.250000</td>\n      <td>-1</td>\n      <td>EMEA</td>\n      <td>11-50</td>\n      <td>4.0</td>\n      <td>0</td>\n      <td>-1</td>\n    </tr>\n    <tr>\n      <th>2</th>\n      <td>-1</td>\n      <td>1.584233</td>\n      <td>1.051282</td>\n      <td>99531</td>\n      <td>0.019620</td>\n      <td>0.028304</td>\n      <td>82</td>\n      <td>0.012423</td>\n      <td>-0.010073</td>\n      <td>-1</td>\n      <td>...</td>\n      <td>0.00</td>\n      <td>0.00</td>\n      <td>-1.0</td>\n      <td>0.500000</td>\n      <td>-1</td>\n      <td>EMEA</td>\n      <td>51-250</td>\n      <td>3.0</td>\n      <td>0</td>\n      <td>-1</td>\n    </tr>\n    <tr>\n      <th>3</th>\n      <td>-1</td>\n      <td>0.946677</td>\n      <td>1.117647</td>\n      <td>11167</td>\n      <td>0.017653</td>\n      <td>0.066509</td>\n      <td>19</td>\n      <td>0.000000</td>\n      <td>0.027778</td>\n      <td>-1</td>\n      <td>...</td>\n      <td>0.00</td>\n      <td>0.00</td>\n      <td>-1.0</td>\n      <td>0.000000</td>\n      <td>-1</td>\n      <td>Americas</td>\n      <td>51-250</td>\n      <td>8.0</td>\n      <td>0</td>\n      <td>-1</td>\n    </tr>\n    <tr>\n      <th>4</th>\n      <td>-1</td>\n      <td>1.852663</td>\n      <td>2.398301</td>\n      <td>1427608</td>\n      <td>0.005369</td>\n      <td>0.044077</td>\n      <td>20611</td>\n      <td>0.001652</td>\n      <td>0.038832</td>\n      <td>17</td>\n      <td>...</td>\n      <td>0.00</td>\n      <td>0.00</td>\n      <td>-1.0</td>\n      <td>0.333333</td>\n      <td>-1</td>\n      <td>EMEA</td>\n      <td>51-250</td>\n      <td>25.0</td>\n      <td>0</td>\n      <td>-1</td>\n    </tr>\n    <tr>\n      <th>...</th>\n      <td>...</td>\n      <td>...</td>\n      <td>...</td>\n      <td>...</td>\n      <td>...</td>\n      <td>...</td>\n      <td>...</td>\n      <td>...</td>\n      <td>...</td>\n      <td>...</td>\n      <td>...</td>\n      <td>...</td>\n      <td>...</td>\n      <td>...</td>\n      <td>...</td>\n      <td>...</td>\n      <td>...</td>\n      <td>...</td>\n      <td>...</td>\n      <td>...</td>\n      <td>...</td>\n    </tr>\n    <tr>\n      <th>2042</th>\n      <td>-1</td>\n      <td>1.045206</td>\n      <td>1.021753</td>\n      <td>379278</td>\n      <td>0.023281</td>\n      <td>0.078413</td>\n      <td>1550</td>\n      <td>0.032952</td>\n      <td>0.091284</td>\n      <td>-1</td>\n      <td>...</td>\n      <td>-0.25</td>\n      <td>0.25</td>\n      <td>-1.0</td>\n      <td>0.200000</td>\n      <td>-1</td>\n      <td>EMEA</td>\n      <td>51-250</td>\n      <td>6.0</td>\n      <td>0</td>\n      <td>-1</td>\n    </tr>\n    <tr>\n      <th>2043</th>\n      <td>-1</td>\n      <td>1.002913</td>\n      <td>1.000000</td>\n      <td>11019</td>\n      <td>0.003421</td>\n      <td>0.025776</td>\n      <td>3</td>\n      <td>0.000000</td>\n      <td>0.000000</td>\n      <td>-1</td>\n      <td>...</td>\n      <td>0.00</td>\n      <td>0.00</td>\n      <td>-1.0</td>\n      <td>0.555556</td>\n      <td>-1</td>\n      <td>EMEA</td>\n      <td>251-1K</td>\n      <td>8.0</td>\n      <td>0</td>\n      <td>-1</td>\n    </tr>\n    <tr>\n      <th>2044</th>\n      <td>1</td>\n      <td>1.463433</td>\n      <td>1.843318</td>\n      <td>112178</td>\n      <td>0.054128</td>\n      <td>0.130921</td>\n      <td>800</td>\n      <td>0.095192</td>\n      <td>0.361026</td>\n      <td>-1</td>\n      <td>...</td>\n      <td>0.00</td>\n      <td>0.00</td>\n      <td>-1.0</td>\n      <td>0.000000</td>\n      <td>0</td>\n      <td>EMEA</td>\n      <td>10K-50K</td>\n      <td>6.0</td>\n      <td>0</td>\n      <td>0</td>\n    </tr>\n    <tr>\n      <th>2045</th>\n      <td>-1</td>\n      <td>1.043248</td>\n      <td>1.012346</td>\n      <td>80737</td>\n      <td>0.021620</td>\n      <td>0.042968</td>\n      <td>82</td>\n      <td>0.006173</td>\n      <td>0.025404</td>\n      <td>-1</td>\n      <td>...</td>\n      <td>0.00</td>\n      <td>0.50</td>\n      <td>-1.0</td>\n      <td>0.333333</td>\n      <td>-1</td>\n      <td>EMEA</td>\n      <td>1K-5K</td>\n      <td>4.0</td>\n      <td>0</td>\n      <td>-1</td>\n    </tr>\n    <tr>\n      <th>2046</th>\n      <td>-1</td>\n      <td>1.671975</td>\n      <td>5.035294</td>\n      <td>85774</td>\n      <td>0.046204</td>\n      <td>0.095059</td>\n      <td>1284</td>\n      <td>0.025912</td>\n      <td>0.054869</td>\n      <td>-1</td>\n      <td>...</td>\n      <td>0.00</td>\n      <td>0.00</td>\n      <td>-1.0</td>\n      <td>0.000000</td>\n      <td>-1</td>\n      <td>EMEA</td>\n      <td>1-10</td>\n      <td>7.0</td>\n      <td>0</td>\n      <td>-1</td>\n    </tr>\n  </tbody>\n</table>\n<p>2047 rows × 108 columns</p>\n</div>"
     },
     "execution_count": 111,
     "metadata": {},
     "output_type": "execute_result"
    }
   ],
   "source": [
    "df_for_predict_clean = df_for_predict_clean.reindex(sorted(df_for_predict_clean.columns), axis=1)\n",
    "df_for_predict_clean"
   ],
   "metadata": {
    "collapsed": false,
    "pycharm": {
     "name": "#%%\n"
    }
   }
  },
  {
   "cell_type": "code",
   "execution_count": 112,
   "outputs": [
    {
     "data": {
      "text/plain": "[43, 103, 104]"
     },
     "execution_count": 112,
     "metadata": {},
     "output_type": "execute_result"
    }
   ],
   "source": [
    "cbc.get_cat_feature_indices()"
   ],
   "metadata": {
    "collapsed": false,
    "pycharm": {
     "name": "#%%\n"
    }
   }
  },
  {
   "cell_type": "code",
   "execution_count": 113,
   "outputs": [],
   "source": [
    "df_for_predict_clean['class_pred_proba'] = cbc.predict_proba(df_for_predict_clean)[:, 1]"
   ],
   "metadata": {
    "collapsed": false,
    "pycharm": {
     "name": "#%%\n"
    }
   }
  },
  {
   "cell_type": "code",
   "execution_count": 114,
   "outputs": [
    {
     "data": {
      "text/plain": "      artifactory_views  artifacts/binaries_count  artifacts/binaries_size  \\\n0                    -1                  1.299624                 1.015124   \n1                    -1                  1.227835                 1.480831   \n2                    -1                  1.584233                 1.051282   \n3                    -1                  0.946677                 1.117647   \n4                    -1                  1.852663                 2.398301   \n...                 ...                       ...                      ...   \n2042                 -1                  1.045206                 1.021753   \n2043                 -1                  1.002913                 1.000000   \n2044                  1                  1.463433                 1.843318   \n2045                 -1                  1.043248                 1.012346   \n2046                 -1                  1.671975                 5.035294   \n\n      artifacts_count  artifacts_count_monthly_growth  \\\n0              581040                       -0.001590   \n1              184357                        0.055054   \n2               99531                        0.019620   \n3               11167                        0.017653   \n4             1427608                        0.005369   \n...               ...                             ...   \n2042           379278                        0.023281   \n2043            11019                        0.003421   \n2044           112178                        0.054128   \n2045            80737                        0.021620   \n2046            85774                        0.046204   \n\n      artifacts_count_quarter_growth  artifacts_size  \\\n0                          -0.129872           28391   \n1                           0.213569             927   \n2                           0.028304              82   \n3                           0.066509              19   \n4                           0.044077           20611   \n...                              ...             ...   \n2042                        0.078413            1550   \n2043                        0.025776               3   \n2044                        0.130921             800   \n2045                        0.042968              82   \n2046                        0.095059            1284   \n\n      artifacts_size_monthly_growth  artifacts_size_quarter_growth  \\\n0                         -0.012926                       0.049607   \n1                          0.058176                       0.187031   \n2                          0.012423                      -0.010073   \n3                          0.000000                       0.027778   \n4                          0.001652                       0.038832   \n...                             ...                            ...   \n2042                       0.032952                       0.091284   \n2043                       0.000000                       0.000000   \n2044                       0.095192                       0.361026   \n2045                       0.006173                       0.025404   \n2046                       0.025912                       0.054869   \n\n      avg_resolution_days  ...  pypi_quarter_growth  qoe_score  \\\n0                      -1  ...                 0.00       -1.0   \n1                      -1  ...                 0.00       -1.0   \n2                      -1  ...                 0.00       -1.0   \n3                      -1  ...                 0.00       -1.0   \n4                      17  ...                 0.00       -1.0   \n...                   ...  ...                  ...        ...   \n2042                   -1  ...                 0.25       -1.0   \n2043                   -1  ...                 0.00       -1.0   \n2044                   -1  ...                 0.00       -1.0   \n2045                   -1  ...                 0.50       -1.0   \n2046                   -1  ...                 0.00       -1.0   \n\n      replys_to_sent  support_views_views  territory  total_employees_range  \\\n0           0.333333                   -1       EMEA                 251-1K   \n1           0.250000                   -1       EMEA                  11-50   \n2           0.500000                   -1       EMEA                 51-250   \n3           0.000000                   -1   Americas                 51-250   \n4           0.333333                   -1       EMEA                 51-250   \n...              ...                  ...        ...                    ...   \n2042        0.200000                   -1       EMEA                 51-250   \n2043        0.555556                   -1       EMEA                 251-1K   \n2044        0.000000                    0       EMEA                10K-50K   \n2045        0.333333                   -1       EMEA                  1K-5K   \n2046        0.000000                   -1       EMEA                   1-10   \n\n      total_employees_with_details  unresolved_jira_cases  xray_views  \\\n0                             11.0                      0          -1   \n1                              4.0                      0          -1   \n2                              3.0                      0          -1   \n3                              8.0                      0          -1   \n4                             25.0                      0          -1   \n...                            ...                    ...         ...   \n2042                           6.0                      0          -1   \n2043                           8.0                      0          -1   \n2044                           6.0                      0           0   \n2045                           4.0                      0          -1   \n2046                           7.0                      0          -1   \n\n      class_pred_proba  \n0             0.185556  \n1             0.207364  \n2             0.156874  \n3             0.184829  \n4             0.358735  \n...                ...  \n2042          0.210583  \n2043          0.156572  \n2044          0.294523  \n2045          0.165239  \n2046          0.134114  \n\n[2047 rows x 109 columns]",
      "text/html": "<div>\n<style scoped>\n    .dataframe tbody tr th:only-of-type {\n        vertical-align: middle;\n    }\n\n    .dataframe tbody tr th {\n        vertical-align: top;\n    }\n\n    .dataframe thead th {\n        text-align: right;\n    }\n</style>\n<table border=\"1\" class=\"dataframe\">\n  <thead>\n    <tr style=\"text-align: right;\">\n      <th></th>\n      <th>artifactory_views</th>\n      <th>artifacts/binaries_count</th>\n      <th>artifacts/binaries_size</th>\n      <th>artifacts_count</th>\n      <th>artifacts_count_monthly_growth</th>\n      <th>artifacts_count_quarter_growth</th>\n      <th>artifacts_size</th>\n      <th>artifacts_size_monthly_growth</th>\n      <th>artifacts_size_quarter_growth</th>\n      <th>avg_resolution_days</th>\n      <th>...</th>\n      <th>pypi_quarter_growth</th>\n      <th>qoe_score</th>\n      <th>replys_to_sent</th>\n      <th>support_views_views</th>\n      <th>territory</th>\n      <th>total_employees_range</th>\n      <th>total_employees_with_details</th>\n      <th>unresolved_jira_cases</th>\n      <th>xray_views</th>\n      <th>class_pred_proba</th>\n    </tr>\n  </thead>\n  <tbody>\n    <tr>\n      <th>0</th>\n      <td>-1</td>\n      <td>1.299624</td>\n      <td>1.015124</td>\n      <td>581040</td>\n      <td>-0.001590</td>\n      <td>-0.129872</td>\n      <td>28391</td>\n      <td>-0.012926</td>\n      <td>0.049607</td>\n      <td>-1</td>\n      <td>...</td>\n      <td>0.00</td>\n      <td>-1.0</td>\n      <td>0.333333</td>\n      <td>-1</td>\n      <td>EMEA</td>\n      <td>251-1K</td>\n      <td>11.0</td>\n      <td>0</td>\n      <td>-1</td>\n      <td>0.185556</td>\n    </tr>\n    <tr>\n      <th>1</th>\n      <td>-1</td>\n      <td>1.227835</td>\n      <td>1.480831</td>\n      <td>184357</td>\n      <td>0.055054</td>\n      <td>0.213569</td>\n      <td>927</td>\n      <td>0.058176</td>\n      <td>0.187031</td>\n      <td>-1</td>\n      <td>...</td>\n      <td>0.00</td>\n      <td>-1.0</td>\n      <td>0.250000</td>\n      <td>-1</td>\n      <td>EMEA</td>\n      <td>11-50</td>\n      <td>4.0</td>\n      <td>0</td>\n      <td>-1</td>\n      <td>0.207364</td>\n    </tr>\n    <tr>\n      <th>2</th>\n      <td>-1</td>\n      <td>1.584233</td>\n      <td>1.051282</td>\n      <td>99531</td>\n      <td>0.019620</td>\n      <td>0.028304</td>\n      <td>82</td>\n      <td>0.012423</td>\n      <td>-0.010073</td>\n      <td>-1</td>\n      <td>...</td>\n      <td>0.00</td>\n      <td>-1.0</td>\n      <td>0.500000</td>\n      <td>-1</td>\n      <td>EMEA</td>\n      <td>51-250</td>\n      <td>3.0</td>\n      <td>0</td>\n      <td>-1</td>\n      <td>0.156874</td>\n    </tr>\n    <tr>\n      <th>3</th>\n      <td>-1</td>\n      <td>0.946677</td>\n      <td>1.117647</td>\n      <td>11167</td>\n      <td>0.017653</td>\n      <td>0.066509</td>\n      <td>19</td>\n      <td>0.000000</td>\n      <td>0.027778</td>\n      <td>-1</td>\n      <td>...</td>\n      <td>0.00</td>\n      <td>-1.0</td>\n      <td>0.000000</td>\n      <td>-1</td>\n      <td>Americas</td>\n      <td>51-250</td>\n      <td>8.0</td>\n      <td>0</td>\n      <td>-1</td>\n      <td>0.184829</td>\n    </tr>\n    <tr>\n      <th>4</th>\n      <td>-1</td>\n      <td>1.852663</td>\n      <td>2.398301</td>\n      <td>1427608</td>\n      <td>0.005369</td>\n      <td>0.044077</td>\n      <td>20611</td>\n      <td>0.001652</td>\n      <td>0.038832</td>\n      <td>17</td>\n      <td>...</td>\n      <td>0.00</td>\n      <td>-1.0</td>\n      <td>0.333333</td>\n      <td>-1</td>\n      <td>EMEA</td>\n      <td>51-250</td>\n      <td>25.0</td>\n      <td>0</td>\n      <td>-1</td>\n      <td>0.358735</td>\n    </tr>\n    <tr>\n      <th>...</th>\n      <td>...</td>\n      <td>...</td>\n      <td>...</td>\n      <td>...</td>\n      <td>...</td>\n      <td>...</td>\n      <td>...</td>\n      <td>...</td>\n      <td>...</td>\n      <td>...</td>\n      <td>...</td>\n      <td>...</td>\n      <td>...</td>\n      <td>...</td>\n      <td>...</td>\n      <td>...</td>\n      <td>...</td>\n      <td>...</td>\n      <td>...</td>\n      <td>...</td>\n      <td>...</td>\n    </tr>\n    <tr>\n      <th>2042</th>\n      <td>-1</td>\n      <td>1.045206</td>\n      <td>1.021753</td>\n      <td>379278</td>\n      <td>0.023281</td>\n      <td>0.078413</td>\n      <td>1550</td>\n      <td>0.032952</td>\n      <td>0.091284</td>\n      <td>-1</td>\n      <td>...</td>\n      <td>0.25</td>\n      <td>-1.0</td>\n      <td>0.200000</td>\n      <td>-1</td>\n      <td>EMEA</td>\n      <td>51-250</td>\n      <td>6.0</td>\n      <td>0</td>\n      <td>-1</td>\n      <td>0.210583</td>\n    </tr>\n    <tr>\n      <th>2043</th>\n      <td>-1</td>\n      <td>1.002913</td>\n      <td>1.000000</td>\n      <td>11019</td>\n      <td>0.003421</td>\n      <td>0.025776</td>\n      <td>3</td>\n      <td>0.000000</td>\n      <td>0.000000</td>\n      <td>-1</td>\n      <td>...</td>\n      <td>0.00</td>\n      <td>-1.0</td>\n      <td>0.555556</td>\n      <td>-1</td>\n      <td>EMEA</td>\n      <td>251-1K</td>\n      <td>8.0</td>\n      <td>0</td>\n      <td>-1</td>\n      <td>0.156572</td>\n    </tr>\n    <tr>\n      <th>2044</th>\n      <td>1</td>\n      <td>1.463433</td>\n      <td>1.843318</td>\n      <td>112178</td>\n      <td>0.054128</td>\n      <td>0.130921</td>\n      <td>800</td>\n      <td>0.095192</td>\n      <td>0.361026</td>\n      <td>-1</td>\n      <td>...</td>\n      <td>0.00</td>\n      <td>-1.0</td>\n      <td>0.000000</td>\n      <td>0</td>\n      <td>EMEA</td>\n      <td>10K-50K</td>\n      <td>6.0</td>\n      <td>0</td>\n      <td>0</td>\n      <td>0.294523</td>\n    </tr>\n    <tr>\n      <th>2045</th>\n      <td>-1</td>\n      <td>1.043248</td>\n      <td>1.012346</td>\n      <td>80737</td>\n      <td>0.021620</td>\n      <td>0.042968</td>\n      <td>82</td>\n      <td>0.006173</td>\n      <td>0.025404</td>\n      <td>-1</td>\n      <td>...</td>\n      <td>0.50</td>\n      <td>-1.0</td>\n      <td>0.333333</td>\n      <td>-1</td>\n      <td>EMEA</td>\n      <td>1K-5K</td>\n      <td>4.0</td>\n      <td>0</td>\n      <td>-1</td>\n      <td>0.165239</td>\n    </tr>\n    <tr>\n      <th>2046</th>\n      <td>-1</td>\n      <td>1.671975</td>\n      <td>5.035294</td>\n      <td>85774</td>\n      <td>0.046204</td>\n      <td>0.095059</td>\n      <td>1284</td>\n      <td>0.025912</td>\n      <td>0.054869</td>\n      <td>-1</td>\n      <td>...</td>\n      <td>0.00</td>\n      <td>-1.0</td>\n      <td>0.000000</td>\n      <td>-1</td>\n      <td>EMEA</td>\n      <td>1-10</td>\n      <td>7.0</td>\n      <td>0</td>\n      <td>-1</td>\n      <td>0.134114</td>\n    </tr>\n  </tbody>\n</table>\n<p>2047 rows × 109 columns</p>\n</div>"
     },
     "execution_count": 114,
     "metadata": {},
     "output_type": "execute_result"
    }
   ],
   "source": [
    "df_for_predict_clean"
   ],
   "metadata": {
    "collapsed": false,
    "pycharm": {
     "name": "#%%\n"
    }
   }
  },
  {
   "cell_type": "code",
   "execution_count": 115,
   "outputs": [],
   "source": [
    "####################\n",
    "# WHAT IF ANALYSIS #\n",
    "####################\n",
    "\n",
    "processed_df_for_fit = X\n",
    "processed_df_for_fit['class'] = y\n",
    "processed_df_for_fit['class_pred_proba'] = cbc.predict_proba(X)[:, 1]"
   ],
   "metadata": {
    "collapsed": false,
    "pycharm": {
     "name": "#%%\n"
    }
   }
  },
  {
   "cell_type": "code",
   "execution_count": 116,
   "outputs": [],
   "source": [
    "high_bar_for_proba = processed_df_for_fit['class_pred_proba'].quantile(.85)\n",
    "low_bar_for_proba = processed_df_for_fit['class_pred_proba'].quantile(.7)\n",
    "processed_df_for_fit['class_pred'] = processed_df_for_fit['class_pred_proba'].apply(\n",
    "    lambda x: 'High' if x >= high_bar_for_proba else 'Medium' if x >= low_bar_for_proba else 'Low')"
   ],
   "metadata": {
    "collapsed": false,
    "pycharm": {
     "name": "#%%\n"
    }
   }
  },
  {
   "cell_type": "code",
   "execution_count": 117,
   "outputs": [],
   "source": [
    "high_bar_for_proba = df_for_predict_clean['class_pred_proba'].quantile(.85)\n",
    "low_bar_for_proba = df_for_predict_clean['class_pred_proba'].quantile(.7)\n",
    "df_for_predict_clean['class_pred'] = df_for_predict_clean['class_pred_proba'].apply(\n",
    "    lambda x: 'High' if x >= high_bar_for_proba else 'Medium' if x >= low_bar_for_proba else 'Low')"
   ],
   "metadata": {
    "collapsed": false,
    "pycharm": {
     "name": "#%%\n"
    }
   }
  },
  {
   "cell_type": "code",
   "execution_count": 118,
   "outputs": [
    {
     "data": {
      "text/plain": "      artifactory_views  artifacts/binaries_count  artifacts/binaries_size  \\\n0                    -1                  1.062204                 1.002037   \n1                    -1                  5.831260                 2.887931   \n2                    -1                  1.021197                 0.000000   \n3                     0                  1.366859                 2.322176   \n4                    -1                  1.259227                 1.269625   \n...                 ...                       ...                      ...   \n2790                 -1                  4.398353                 1.047945   \n2791                 -1                  1.413096                 2.887574   \n2792                 -1                  1.281619                 1.554261   \n2793                 -1                  1.078910                 1.282596   \n2794                  0                  3.523232                 2.678571   \n\n      artifacts_count  artifacts_count_monthly_growth  \\\n0              483819                        0.062013   \n1               49694                        0.172579   \n2                2457                        0.418271   \n3              132491                        0.022089   \n4               14398                        0.438131   \n...               ...                             ...   \n2790            77996                        0.031556   \n2791            59993                       -0.005199   \n2792          3423187                        0.076761   \n2793           202861                        0.024082   \n2794           130497                        0.029473   \n\n      artifacts_count_quarter_growth  artifacts_size  \\\n0                           0.142322            4919   \n1                           0.359019             335   \n2                           4.335647               0   \n3                           0.059766             555   \n4                           3.735021             372   \n...                              ...             ...   \n2790                        0.124813             153   \n2791                        0.012895             488   \n2792                        0.235121           10140   \n2793                        0.082488            2174   \n2794                        0.135009             450   \n\n      artifacts_size_monthly_growth  artifacts_size_quarter_growth  \\\n0                          0.055707                       0.140696   \n1                          0.122308                       0.193611   \n2                          0.000000                       0.000000   \n3                          0.017667                       0.093904   \n4                          0.425771                       2.967368   \n...                             ...                            ...   \n2790                       0.038071                       0.085117   \n2791                       0.000002                      -0.013055   \n2792                       0.098865                       0.297066   \n2793                       0.061149                       0.209359   \n2794                       0.064758                       0.101715   \n\n      avg_resolution_days  ...  replys_to_sent  support_views_views  \\\n0                      18  ...        0.000000                   -1   \n1                      -1  ...        0.500000                   -1   \n2                      -1  ...        0.000000                   -1   \n3                      -1  ...        0.000000                    0   \n4                      -1  ...        0.400000                   -1   \n...                   ...  ...             ...                  ...   \n2790                   -1  ...       -1.000000                   -1   \n2791                   -1  ...        0.375000                   -1   \n2792                   -1  ...       -1.000000                   -1   \n2793                   -1  ...        0.333333                   -1   \n2794                   -1  ...        1.000000                    0   \n\n      territory  total_employees_range  total_employees_with_details  \\\n0          EMEA                 5K-10K                           8.0   \n1      Americas                 51-250                           3.0   \n2      Americas                 5K-10K                          17.0   \n3      Americas                 251-1K                          14.0   \n4      Americas                  11-50                           2.0   \n...         ...                    ...                           ...   \n2790       EMEA                10K-50K                          10.0   \n2791   Americas                 251-1K                          15.0   \n2792       EMEA                 51-250                           9.0   \n2793       EMEA                  1K-5K                          16.0   \n2794       EMEA                 251-1K                          10.0   \n\n      unresolved_jira_cases  xray_views  class  class_pred_proba  class_pred  \n0                         0          -1      0          0.356963        High  \n1                         0          -1      0          0.153785         Low  \n2                         0          -1      0          0.255831         Low  \n3                         0           0      0          0.256460         Low  \n4                         0          -1      0          0.177179         Low  \n...                     ...         ...    ...               ...         ...  \n2790                      0          -1      0          0.230537         Low  \n2791                      0          -1      0          0.268804         Low  \n2792                      0          -1      0          0.275068      Medium  \n2793                      0          -1      0          0.207447         Low  \n2794                      0           0      0          0.331826      Medium  \n\n[2795 rows x 111 columns]",
      "text/html": "<div>\n<style scoped>\n    .dataframe tbody tr th:only-of-type {\n        vertical-align: middle;\n    }\n\n    .dataframe tbody tr th {\n        vertical-align: top;\n    }\n\n    .dataframe thead th {\n        text-align: right;\n    }\n</style>\n<table border=\"1\" class=\"dataframe\">\n  <thead>\n    <tr style=\"text-align: right;\">\n      <th></th>\n      <th>artifactory_views</th>\n      <th>artifacts/binaries_count</th>\n      <th>artifacts/binaries_size</th>\n      <th>artifacts_count</th>\n      <th>artifacts_count_monthly_growth</th>\n      <th>artifacts_count_quarter_growth</th>\n      <th>artifacts_size</th>\n      <th>artifacts_size_monthly_growth</th>\n      <th>artifacts_size_quarter_growth</th>\n      <th>avg_resolution_days</th>\n      <th>...</th>\n      <th>replys_to_sent</th>\n      <th>support_views_views</th>\n      <th>territory</th>\n      <th>total_employees_range</th>\n      <th>total_employees_with_details</th>\n      <th>unresolved_jira_cases</th>\n      <th>xray_views</th>\n      <th>class</th>\n      <th>class_pred_proba</th>\n      <th>class_pred</th>\n    </tr>\n  </thead>\n  <tbody>\n    <tr>\n      <th>0</th>\n      <td>-1</td>\n      <td>1.062204</td>\n      <td>1.002037</td>\n      <td>483819</td>\n      <td>0.062013</td>\n      <td>0.142322</td>\n      <td>4919</td>\n      <td>0.055707</td>\n      <td>0.140696</td>\n      <td>18</td>\n      <td>...</td>\n      <td>0.000000</td>\n      <td>-1</td>\n      <td>EMEA</td>\n      <td>5K-10K</td>\n      <td>8.0</td>\n      <td>0</td>\n      <td>-1</td>\n      <td>0</td>\n      <td>0.356963</td>\n      <td>High</td>\n    </tr>\n    <tr>\n      <th>1</th>\n      <td>-1</td>\n      <td>5.831260</td>\n      <td>2.887931</td>\n      <td>49694</td>\n      <td>0.172579</td>\n      <td>0.359019</td>\n      <td>335</td>\n      <td>0.122308</td>\n      <td>0.193611</td>\n      <td>-1</td>\n      <td>...</td>\n      <td>0.500000</td>\n      <td>-1</td>\n      <td>Americas</td>\n      <td>51-250</td>\n      <td>3.0</td>\n      <td>0</td>\n      <td>-1</td>\n      <td>0</td>\n      <td>0.153785</td>\n      <td>Low</td>\n    </tr>\n    <tr>\n      <th>2</th>\n      <td>-1</td>\n      <td>1.021197</td>\n      <td>0.000000</td>\n      <td>2457</td>\n      <td>0.418271</td>\n      <td>4.335647</td>\n      <td>0</td>\n      <td>0.000000</td>\n      <td>0.000000</td>\n      <td>-1</td>\n      <td>...</td>\n      <td>0.000000</td>\n      <td>-1</td>\n      <td>Americas</td>\n      <td>5K-10K</td>\n      <td>17.0</td>\n      <td>0</td>\n      <td>-1</td>\n      <td>0</td>\n      <td>0.255831</td>\n      <td>Low</td>\n    </tr>\n    <tr>\n      <th>3</th>\n      <td>0</td>\n      <td>1.366859</td>\n      <td>2.322176</td>\n      <td>132491</td>\n      <td>0.022089</td>\n      <td>0.059766</td>\n      <td>555</td>\n      <td>0.017667</td>\n      <td>0.093904</td>\n      <td>-1</td>\n      <td>...</td>\n      <td>0.000000</td>\n      <td>0</td>\n      <td>Americas</td>\n      <td>251-1K</td>\n      <td>14.0</td>\n      <td>0</td>\n      <td>0</td>\n      <td>0</td>\n      <td>0.256460</td>\n      <td>Low</td>\n    </tr>\n    <tr>\n      <th>4</th>\n      <td>-1</td>\n      <td>1.259227</td>\n      <td>1.269625</td>\n      <td>14398</td>\n      <td>0.438131</td>\n      <td>3.735021</td>\n      <td>372</td>\n      <td>0.425771</td>\n      <td>2.967368</td>\n      <td>-1</td>\n      <td>...</td>\n      <td>0.400000</td>\n      <td>-1</td>\n      <td>Americas</td>\n      <td>11-50</td>\n      <td>2.0</td>\n      <td>0</td>\n      <td>-1</td>\n      <td>0</td>\n      <td>0.177179</td>\n      <td>Low</td>\n    </tr>\n    <tr>\n      <th>...</th>\n      <td>...</td>\n      <td>...</td>\n      <td>...</td>\n      <td>...</td>\n      <td>...</td>\n      <td>...</td>\n      <td>...</td>\n      <td>...</td>\n      <td>...</td>\n      <td>...</td>\n      <td>...</td>\n      <td>...</td>\n      <td>...</td>\n      <td>...</td>\n      <td>...</td>\n      <td>...</td>\n      <td>...</td>\n      <td>...</td>\n      <td>...</td>\n      <td>...</td>\n      <td>...</td>\n    </tr>\n    <tr>\n      <th>2790</th>\n      <td>-1</td>\n      <td>4.398353</td>\n      <td>1.047945</td>\n      <td>77996</td>\n      <td>0.031556</td>\n      <td>0.124813</td>\n      <td>153</td>\n      <td>0.038071</td>\n      <td>0.085117</td>\n      <td>-1</td>\n      <td>...</td>\n      <td>-1.000000</td>\n      <td>-1</td>\n      <td>EMEA</td>\n      <td>10K-50K</td>\n      <td>10.0</td>\n      <td>0</td>\n      <td>-1</td>\n      <td>0</td>\n      <td>0.230537</td>\n      <td>Low</td>\n    </tr>\n    <tr>\n      <th>2791</th>\n      <td>-1</td>\n      <td>1.413096</td>\n      <td>2.887574</td>\n      <td>59993</td>\n      <td>-0.005199</td>\n      <td>0.012895</td>\n      <td>488</td>\n      <td>0.000002</td>\n      <td>-0.013055</td>\n      <td>-1</td>\n      <td>...</td>\n      <td>0.375000</td>\n      <td>-1</td>\n      <td>Americas</td>\n      <td>251-1K</td>\n      <td>15.0</td>\n      <td>0</td>\n      <td>-1</td>\n      <td>0</td>\n      <td>0.268804</td>\n      <td>Low</td>\n    </tr>\n    <tr>\n      <th>2792</th>\n      <td>-1</td>\n      <td>1.281619</td>\n      <td>1.554261</td>\n      <td>3423187</td>\n      <td>0.076761</td>\n      <td>0.235121</td>\n      <td>10140</td>\n      <td>0.098865</td>\n      <td>0.297066</td>\n      <td>-1</td>\n      <td>...</td>\n      <td>-1.000000</td>\n      <td>-1</td>\n      <td>EMEA</td>\n      <td>51-250</td>\n      <td>9.0</td>\n      <td>0</td>\n      <td>-1</td>\n      <td>0</td>\n      <td>0.275068</td>\n      <td>Medium</td>\n    </tr>\n    <tr>\n      <th>2793</th>\n      <td>-1</td>\n      <td>1.078910</td>\n      <td>1.282596</td>\n      <td>202861</td>\n      <td>0.024082</td>\n      <td>0.082488</td>\n      <td>2174</td>\n      <td>0.061149</td>\n      <td>0.209359</td>\n      <td>-1</td>\n      <td>...</td>\n      <td>0.333333</td>\n      <td>-1</td>\n      <td>EMEA</td>\n      <td>1K-5K</td>\n      <td>16.0</td>\n      <td>0</td>\n      <td>-1</td>\n      <td>0</td>\n      <td>0.207447</td>\n      <td>Low</td>\n    </tr>\n    <tr>\n      <th>2794</th>\n      <td>0</td>\n      <td>3.523232</td>\n      <td>2.678571</td>\n      <td>130497</td>\n      <td>0.029473</td>\n      <td>0.135009</td>\n      <td>450</td>\n      <td>0.064758</td>\n      <td>0.101715</td>\n      <td>-1</td>\n      <td>...</td>\n      <td>1.000000</td>\n      <td>0</td>\n      <td>EMEA</td>\n      <td>251-1K</td>\n      <td>10.0</td>\n      <td>0</td>\n      <td>0</td>\n      <td>0</td>\n      <td>0.331826</td>\n      <td>Medium</td>\n    </tr>\n  </tbody>\n</table>\n<p>2795 rows × 111 columns</p>\n</div>"
     },
     "execution_count": 118,
     "metadata": {},
     "output_type": "execute_result"
    }
   ],
   "source": [
    "processed_df_for_fit"
   ],
   "metadata": {
    "collapsed": false,
    "pycharm": {
     "name": "#%%\n"
    }
   }
  },
  {
   "cell_type": "code",
   "execution_count": 119,
   "outputs": [
    {
     "data": {
      "text/plain": "      artifactory_views  artifacts/binaries_count  artifacts/binaries_size  \\\n0                    -1                  1.299624                 1.015124   \n1                    -1                  1.227835                 1.480831   \n2                    -1                  1.584233                 1.051282   \n3                    -1                  0.946677                 1.117647   \n4                    -1                  1.852663                 2.398301   \n...                 ...                       ...                      ...   \n2042                 -1                  1.045206                 1.021753   \n2043                 -1                  1.002913                 1.000000   \n2044                  1                  1.463433                 1.843318   \n2045                 -1                  1.043248                 1.012346   \n2046                 -1                  1.671975                 5.035294   \n\n      artifacts_count  artifacts_count_monthly_growth  \\\n0              581040                       -0.001590   \n1              184357                        0.055054   \n2               99531                        0.019620   \n3               11167                        0.017653   \n4             1427608                        0.005369   \n...               ...                             ...   \n2042           379278                        0.023281   \n2043            11019                        0.003421   \n2044           112178                        0.054128   \n2045            80737                        0.021620   \n2046            85774                        0.046204   \n\n      artifacts_count_quarter_growth  artifacts_size  \\\n0                          -0.129872           28391   \n1                           0.213569             927   \n2                           0.028304              82   \n3                           0.066509              19   \n4                           0.044077           20611   \n...                              ...             ...   \n2042                        0.078413            1550   \n2043                        0.025776               3   \n2044                        0.130921             800   \n2045                        0.042968              82   \n2046                        0.095059            1284   \n\n      artifacts_size_monthly_growth  artifacts_size_quarter_growth  \\\n0                         -0.012926                       0.049607   \n1                          0.058176                       0.187031   \n2                          0.012423                      -0.010073   \n3                          0.000000                       0.027778   \n4                          0.001652                       0.038832   \n...                             ...                            ...   \n2042                       0.032952                       0.091284   \n2043                       0.000000                       0.000000   \n2044                       0.095192                       0.361026   \n2045                       0.006173                       0.025404   \n2046                       0.025912                       0.054869   \n\n      avg_resolution_days  ...  qoe_score  replys_to_sent  \\\n0                      -1  ...       -1.0        0.333333   \n1                      -1  ...       -1.0        0.250000   \n2                      -1  ...       -1.0        0.500000   \n3                      -1  ...       -1.0        0.000000   \n4                      17  ...       -1.0        0.333333   \n...                   ...  ...        ...             ...   \n2042                   -1  ...       -1.0        0.200000   \n2043                   -1  ...       -1.0        0.555556   \n2044                   -1  ...       -1.0        0.000000   \n2045                   -1  ...       -1.0        0.333333   \n2046                   -1  ...       -1.0        0.000000   \n\n      support_views_views  territory  total_employees_range  \\\n0                      -1       EMEA                 251-1K   \n1                      -1       EMEA                  11-50   \n2                      -1       EMEA                 51-250   \n3                      -1   Americas                 51-250   \n4                      -1       EMEA                 51-250   \n...                   ...        ...                    ...   \n2042                   -1       EMEA                 51-250   \n2043                   -1       EMEA                 251-1K   \n2044                    0       EMEA                10K-50K   \n2045                   -1       EMEA                  1K-5K   \n2046                   -1       EMEA                   1-10   \n\n      total_employees_with_details  unresolved_jira_cases  xray_views  \\\n0                             11.0                      0          -1   \n1                              4.0                      0          -1   \n2                              3.0                      0          -1   \n3                              8.0                      0          -1   \n4                             25.0                      0          -1   \n...                            ...                    ...         ...   \n2042                           6.0                      0          -1   \n2043                           8.0                      0          -1   \n2044                           6.0                      0           0   \n2045                           4.0                      0          -1   \n2046                           7.0                      0          -1   \n\n      class_pred_proba  class_pred  \n0             0.185556         Low  \n1             0.207364         Low  \n2             0.156874         Low  \n3             0.184829         Low  \n4             0.358735        High  \n...                ...         ...  \n2042          0.210583         Low  \n2043          0.156572         Low  \n2044          0.294523        High  \n2045          0.165239         Low  \n2046          0.134114         Low  \n\n[2047 rows x 110 columns]",
      "text/html": "<div>\n<style scoped>\n    .dataframe tbody tr th:only-of-type {\n        vertical-align: middle;\n    }\n\n    .dataframe tbody tr th {\n        vertical-align: top;\n    }\n\n    .dataframe thead th {\n        text-align: right;\n    }\n</style>\n<table border=\"1\" class=\"dataframe\">\n  <thead>\n    <tr style=\"text-align: right;\">\n      <th></th>\n      <th>artifactory_views</th>\n      <th>artifacts/binaries_count</th>\n      <th>artifacts/binaries_size</th>\n      <th>artifacts_count</th>\n      <th>artifacts_count_monthly_growth</th>\n      <th>artifacts_count_quarter_growth</th>\n      <th>artifacts_size</th>\n      <th>artifacts_size_monthly_growth</th>\n      <th>artifacts_size_quarter_growth</th>\n      <th>avg_resolution_days</th>\n      <th>...</th>\n      <th>qoe_score</th>\n      <th>replys_to_sent</th>\n      <th>support_views_views</th>\n      <th>territory</th>\n      <th>total_employees_range</th>\n      <th>total_employees_with_details</th>\n      <th>unresolved_jira_cases</th>\n      <th>xray_views</th>\n      <th>class_pred_proba</th>\n      <th>class_pred</th>\n    </tr>\n  </thead>\n  <tbody>\n    <tr>\n      <th>0</th>\n      <td>-1</td>\n      <td>1.299624</td>\n      <td>1.015124</td>\n      <td>581040</td>\n      <td>-0.001590</td>\n      <td>-0.129872</td>\n      <td>28391</td>\n      <td>-0.012926</td>\n      <td>0.049607</td>\n      <td>-1</td>\n      <td>...</td>\n      <td>-1.0</td>\n      <td>0.333333</td>\n      <td>-1</td>\n      <td>EMEA</td>\n      <td>251-1K</td>\n      <td>11.0</td>\n      <td>0</td>\n      <td>-1</td>\n      <td>0.185556</td>\n      <td>Low</td>\n    </tr>\n    <tr>\n      <th>1</th>\n      <td>-1</td>\n      <td>1.227835</td>\n      <td>1.480831</td>\n      <td>184357</td>\n      <td>0.055054</td>\n      <td>0.213569</td>\n      <td>927</td>\n      <td>0.058176</td>\n      <td>0.187031</td>\n      <td>-1</td>\n      <td>...</td>\n      <td>-1.0</td>\n      <td>0.250000</td>\n      <td>-1</td>\n      <td>EMEA</td>\n      <td>11-50</td>\n      <td>4.0</td>\n      <td>0</td>\n      <td>-1</td>\n      <td>0.207364</td>\n      <td>Low</td>\n    </tr>\n    <tr>\n      <th>2</th>\n      <td>-1</td>\n      <td>1.584233</td>\n      <td>1.051282</td>\n      <td>99531</td>\n      <td>0.019620</td>\n      <td>0.028304</td>\n      <td>82</td>\n      <td>0.012423</td>\n      <td>-0.010073</td>\n      <td>-1</td>\n      <td>...</td>\n      <td>-1.0</td>\n      <td>0.500000</td>\n      <td>-1</td>\n      <td>EMEA</td>\n      <td>51-250</td>\n      <td>3.0</td>\n      <td>0</td>\n      <td>-1</td>\n      <td>0.156874</td>\n      <td>Low</td>\n    </tr>\n    <tr>\n      <th>3</th>\n      <td>-1</td>\n      <td>0.946677</td>\n      <td>1.117647</td>\n      <td>11167</td>\n      <td>0.017653</td>\n      <td>0.066509</td>\n      <td>19</td>\n      <td>0.000000</td>\n      <td>0.027778</td>\n      <td>-1</td>\n      <td>...</td>\n      <td>-1.0</td>\n      <td>0.000000</td>\n      <td>-1</td>\n      <td>Americas</td>\n      <td>51-250</td>\n      <td>8.0</td>\n      <td>0</td>\n      <td>-1</td>\n      <td>0.184829</td>\n      <td>Low</td>\n    </tr>\n    <tr>\n      <th>4</th>\n      <td>-1</td>\n      <td>1.852663</td>\n      <td>2.398301</td>\n      <td>1427608</td>\n      <td>0.005369</td>\n      <td>0.044077</td>\n      <td>20611</td>\n      <td>0.001652</td>\n      <td>0.038832</td>\n      <td>17</td>\n      <td>...</td>\n      <td>-1.0</td>\n      <td>0.333333</td>\n      <td>-1</td>\n      <td>EMEA</td>\n      <td>51-250</td>\n      <td>25.0</td>\n      <td>0</td>\n      <td>-1</td>\n      <td>0.358735</td>\n      <td>High</td>\n    </tr>\n    <tr>\n      <th>...</th>\n      <td>...</td>\n      <td>...</td>\n      <td>...</td>\n      <td>...</td>\n      <td>...</td>\n      <td>...</td>\n      <td>...</td>\n      <td>...</td>\n      <td>...</td>\n      <td>...</td>\n      <td>...</td>\n      <td>...</td>\n      <td>...</td>\n      <td>...</td>\n      <td>...</td>\n      <td>...</td>\n      <td>...</td>\n      <td>...</td>\n      <td>...</td>\n      <td>...</td>\n      <td>...</td>\n    </tr>\n    <tr>\n      <th>2042</th>\n      <td>-1</td>\n      <td>1.045206</td>\n      <td>1.021753</td>\n      <td>379278</td>\n      <td>0.023281</td>\n      <td>0.078413</td>\n      <td>1550</td>\n      <td>0.032952</td>\n      <td>0.091284</td>\n      <td>-1</td>\n      <td>...</td>\n      <td>-1.0</td>\n      <td>0.200000</td>\n      <td>-1</td>\n      <td>EMEA</td>\n      <td>51-250</td>\n      <td>6.0</td>\n      <td>0</td>\n      <td>-1</td>\n      <td>0.210583</td>\n      <td>Low</td>\n    </tr>\n    <tr>\n      <th>2043</th>\n      <td>-1</td>\n      <td>1.002913</td>\n      <td>1.000000</td>\n      <td>11019</td>\n      <td>0.003421</td>\n      <td>0.025776</td>\n      <td>3</td>\n      <td>0.000000</td>\n      <td>0.000000</td>\n      <td>-1</td>\n      <td>...</td>\n      <td>-1.0</td>\n      <td>0.555556</td>\n      <td>-1</td>\n      <td>EMEA</td>\n      <td>251-1K</td>\n      <td>8.0</td>\n      <td>0</td>\n      <td>-1</td>\n      <td>0.156572</td>\n      <td>Low</td>\n    </tr>\n    <tr>\n      <th>2044</th>\n      <td>1</td>\n      <td>1.463433</td>\n      <td>1.843318</td>\n      <td>112178</td>\n      <td>0.054128</td>\n      <td>0.130921</td>\n      <td>800</td>\n      <td>0.095192</td>\n      <td>0.361026</td>\n      <td>-1</td>\n      <td>...</td>\n      <td>-1.0</td>\n      <td>0.000000</td>\n      <td>0</td>\n      <td>EMEA</td>\n      <td>10K-50K</td>\n      <td>6.0</td>\n      <td>0</td>\n      <td>0</td>\n      <td>0.294523</td>\n      <td>High</td>\n    </tr>\n    <tr>\n      <th>2045</th>\n      <td>-1</td>\n      <td>1.043248</td>\n      <td>1.012346</td>\n      <td>80737</td>\n      <td>0.021620</td>\n      <td>0.042968</td>\n      <td>82</td>\n      <td>0.006173</td>\n      <td>0.025404</td>\n      <td>-1</td>\n      <td>...</td>\n      <td>-1.0</td>\n      <td>0.333333</td>\n      <td>-1</td>\n      <td>EMEA</td>\n      <td>1K-5K</td>\n      <td>4.0</td>\n      <td>0</td>\n      <td>-1</td>\n      <td>0.165239</td>\n      <td>Low</td>\n    </tr>\n    <tr>\n      <th>2046</th>\n      <td>-1</td>\n      <td>1.671975</td>\n      <td>5.035294</td>\n      <td>85774</td>\n      <td>0.046204</td>\n      <td>0.095059</td>\n      <td>1284</td>\n      <td>0.025912</td>\n      <td>0.054869</td>\n      <td>-1</td>\n      <td>...</td>\n      <td>-1.0</td>\n      <td>0.000000</td>\n      <td>-1</td>\n      <td>EMEA</td>\n      <td>1-10</td>\n      <td>7.0</td>\n      <td>0</td>\n      <td>-1</td>\n      <td>0.134114</td>\n      <td>Low</td>\n    </tr>\n  </tbody>\n</table>\n<p>2047 rows × 110 columns</p>\n</div>"
     },
     "execution_count": 119,
     "metadata": {},
     "output_type": "execute_result"
    }
   ],
   "source": [
    "df_for_predict_clean"
   ],
   "metadata": {
    "collapsed": false,
    "pycharm": {
     "name": "#%%\n"
    }
   }
  },
  {
   "cell_type": "code",
   "execution_count": 120,
   "outputs": [],
   "source": [
    "top_model = cbc"
   ],
   "metadata": {
    "collapsed": false,
    "pycharm": {
     "name": "#%%\n"
    }
   }
  },
  {
   "cell_type": "code",
   "execution_count": 121,
   "outputs": [],
   "source": [
    "scaler = StandardScaler()\n",
    "bad_accounts = df_for_predict_clean[df_for_predict_clean['class_pred'] != 'High']\n",
    "bad_accounts_og_df = df_for_predict[df_for_predict_clean['class_pred'] != 'High']"
   ],
   "metadata": {
    "collapsed": false,
    "pycharm": {
     "name": "#%%\n"
    }
   }
  },
  {
   "cell_type": "code",
   "execution_count": 122,
   "outputs": [
    {
     "name": "stdout",
     "output_type": "stream",
     "text": [
      "diff in classes:\n",
      "64\n",
      "out of\n",
      "2795\n"
     ]
    }
   ],
   "source": [
    "processed_df_for_fit['class_diff'] = processed_df_for_fit.apply(lambda row: 1 if\n",
    "((row['class'] == 1) & (row['class_pred_proba'] < 0.5))\n",
    "or ((row['class'] == 0) & (row['class_pred_proba'] >= 0.5))\n",
    "else 0, axis=1)\n",
    "\n",
    "# Predict class for train data (Test: how many are in different class from og label to predicted?)\n",
    "print('diff in classes:')\n",
    "print(np.sum(processed_df_for_fit['class_diff']))\n",
    "print('out of')\n",
    "print(processed_df_for_fit.shape[0])"
   ],
   "metadata": {
    "collapsed": false,
    "pycharm": {
     "name": "#%%\n"
    }
   }
  },
  {
   "cell_type": "code",
   "execution_count": 123,
   "outputs": [
    {
     "name": "stdout",
     "output_type": "stream",
     "text": [
      "The value counts of the predicted rating for the data of the train\n",
      "Low       1956\n",
      "High       420\n",
      "Medium     419\n",
      "Name: class_pred, dtype: int64\n",
      "Best run was number 3\n"
     ]
    }
   ],
   "source": [
    "# Filter only high class (Test: how many are high class and how many are the rest?)\n",
    "print(\"The value counts of the predicted rating for the data of the train\")\n",
    "print(processed_df_for_fit['class_pred'].value_counts(dropna=False))\n",
    "\n",
    "train_data_for_whatif = processed_df_for_fit.loc[processed_df_for_fit['class_pred'] == 'High', :].drop(\n",
    "    ['class_diff', 'class_pred_proba', 'class', 'class_pred'], axis=1)\n",
    "\n",
    "# For both train data and new data, use K-Modes to create a cluster column (only for cat features)\n",
    "cat_cols = get_cat_feature_names(train_data_for_whatif)\n",
    "bad_accounts = bad_accounts.drop(['class_pred', 'class_pred_proba'], axis=1)\n",
    "km = KModes(n_clusters=5, init='Huang', n_init=5, verbose=2, n_jobs=-1, max_iter=5000, random_state=2)\n",
    "df_for_kmodes = pd.concat([train_data_for_whatif[cat_cols], bad_accounts[cat_cols]])\n",
    "km.fit(df_for_kmodes)\n",
    "bad_accounts['cluster'] = km.predict(bad_accounts[cat_cols])\n",
    "train_data_for_whatif['cluster'] = km.predict(train_data_for_whatif[cat_cols])\n",
    "\n",
    "bad_accounts = bad_accounts.drop(cat_cols, axis=1)\n",
    "train_data_for_whatif = train_data_for_whatif.drop(cat_cols, axis=1)"
   ],
   "metadata": {
    "collapsed": false,
    "pycharm": {
     "name": "#%%\n"
    }
   }
  },
  {
   "cell_type": "code",
   "execution_count": 124,
   "outputs": [
    {
     "data": {
      "text/plain": "      artifactory_views  artifacts/binaries_count  artifacts/binaries_size  \\\n0                    -1                  1.299624                 1.015124   \n1                    -1                  1.227835                 1.480831   \n2                    -1                  1.584233                 1.051282   \n3                    -1                  0.946677                 1.117647   \n5                    -1                  1.737976                 4.618598   \n...                 ...                       ...                      ...   \n2041                 -1                  2.133634                 1.325243   \n2042                 -1                  1.045206                 1.021753   \n2043                 -1                  1.002913                 1.000000   \n2045                 -1                  1.043248                 1.012346   \n2046                 -1                  1.671975                 5.035294   \n\n      artifacts_count  artifacts_count_monthly_growth  \\\n0              581040                       -0.001590   \n1              184357                        0.055054   \n2               99531                        0.019620   \n3               11167                        0.017653   \n5               93119                        0.000968   \n...               ...                             ...   \n2041           438146                       -0.060622   \n2042           379278                        0.023281   \n2043            11019                        0.003421   \n2045            80737                        0.021620   \n2046            85774                        0.046204   \n\n      artifacts_count_quarter_growth  artifacts_size  \\\n0                          -0.129872           28391   \n1                           0.213569             927   \n2                           0.028304              82   \n3                           0.066509              19   \n5                           0.036109            3427   \n...                              ...             ...   \n2041                       -0.282971             819   \n2042                        0.078413            1550   \n2043                        0.025776               3   \n2045                        0.042968              82   \n2046                        0.095059            1284   \n\n      artifacts_size_monthly_growth  artifacts_size_quarter_growth  \\\n0                         -0.012926                       0.049607   \n1                          0.058176                       0.187031   \n2                          0.012423                      -0.010073   \n3                          0.000000                       0.027778   \n5                          0.000438                       0.006644   \n...                             ...                            ...   \n2041                       0.015334                       0.103240   \n2042                       0.032952                       0.091284   \n2043                       0.000000                       0.000000   \n2045                       0.006173                       0.025404   \n2046                       0.025912                       0.054869   \n\n      avg_resolution_days  ...  pypi  pypi_monthly_growth  \\\n0                      -1  ...     1                 0.00   \n1                      -1  ...     1                 0.00   \n2                      -1  ...     0                 0.00   \n3                      -1  ...     1                 0.00   \n5                      -1  ...     6                 0.50   \n...                   ...  ...   ...                  ...   \n2041                   -1  ...     2                 0.50   \n2042                   -1  ...     1                -0.25   \n2043                   -1  ...     0                 0.00   \n2045                   -1  ...     2                 0.00   \n2046                   -1  ...     0                 0.00   \n\n      pypi_quarter_growth  qoe_score  replys_to_sent  support_views_views  \\\n0                    0.00       -1.0        0.333333                   -1   \n1                    0.00       -1.0        0.250000                   -1   \n2                    0.00       -1.0        0.500000                   -1   \n3                    0.00       -1.0        0.000000                   -1   \n5                    0.50       -1.0        0.250000                   -1   \n...                   ...        ...             ...                  ...   \n2041                 0.50       -1.0        0.000000                   -1   \n2042                 0.25       -1.0        0.200000                   -1   \n2043                 0.00       -1.0        0.555556                   -1   \n2045                 0.50       -1.0        0.333333                   -1   \n2046                 0.00       -1.0        0.000000                   -1   \n\n      total_employees_with_details  unresolved_jira_cases  xray_views  cluster  \n0                             11.0                      0          -1        0  \n1                              4.0                      0          -1        0  \n2                              3.0                      0          -1        3  \n3                              8.0                      0          -1        2  \n5                              3.0                      0          -1        0  \n...                            ...                    ...         ...      ...  \n2041                           3.0                      0          -1        3  \n2042                           6.0                      0          -1        3  \n2043                           8.0                      0          -1        0  \n2045                           4.0                      0          -1        0  \n2046                           7.0                      0          -1        0  \n\n[1740 rows x 106 columns]",
      "text/html": "<div>\n<style scoped>\n    .dataframe tbody tr th:only-of-type {\n        vertical-align: middle;\n    }\n\n    .dataframe tbody tr th {\n        vertical-align: top;\n    }\n\n    .dataframe thead th {\n        text-align: right;\n    }\n</style>\n<table border=\"1\" class=\"dataframe\">\n  <thead>\n    <tr style=\"text-align: right;\">\n      <th></th>\n      <th>artifactory_views</th>\n      <th>artifacts/binaries_count</th>\n      <th>artifacts/binaries_size</th>\n      <th>artifacts_count</th>\n      <th>artifacts_count_monthly_growth</th>\n      <th>artifacts_count_quarter_growth</th>\n      <th>artifacts_size</th>\n      <th>artifacts_size_monthly_growth</th>\n      <th>artifacts_size_quarter_growth</th>\n      <th>avg_resolution_days</th>\n      <th>...</th>\n      <th>pypi</th>\n      <th>pypi_monthly_growth</th>\n      <th>pypi_quarter_growth</th>\n      <th>qoe_score</th>\n      <th>replys_to_sent</th>\n      <th>support_views_views</th>\n      <th>total_employees_with_details</th>\n      <th>unresolved_jira_cases</th>\n      <th>xray_views</th>\n      <th>cluster</th>\n    </tr>\n  </thead>\n  <tbody>\n    <tr>\n      <th>0</th>\n      <td>-1</td>\n      <td>1.299624</td>\n      <td>1.015124</td>\n      <td>581040</td>\n      <td>-0.001590</td>\n      <td>-0.129872</td>\n      <td>28391</td>\n      <td>-0.012926</td>\n      <td>0.049607</td>\n      <td>-1</td>\n      <td>...</td>\n      <td>1</td>\n      <td>0.00</td>\n      <td>0.00</td>\n      <td>-1.0</td>\n      <td>0.333333</td>\n      <td>-1</td>\n      <td>11.0</td>\n      <td>0</td>\n      <td>-1</td>\n      <td>0</td>\n    </tr>\n    <tr>\n      <th>1</th>\n      <td>-1</td>\n      <td>1.227835</td>\n      <td>1.480831</td>\n      <td>184357</td>\n      <td>0.055054</td>\n      <td>0.213569</td>\n      <td>927</td>\n      <td>0.058176</td>\n      <td>0.187031</td>\n      <td>-1</td>\n      <td>...</td>\n      <td>1</td>\n      <td>0.00</td>\n      <td>0.00</td>\n      <td>-1.0</td>\n      <td>0.250000</td>\n      <td>-1</td>\n      <td>4.0</td>\n      <td>0</td>\n      <td>-1</td>\n      <td>0</td>\n    </tr>\n    <tr>\n      <th>2</th>\n      <td>-1</td>\n      <td>1.584233</td>\n      <td>1.051282</td>\n      <td>99531</td>\n      <td>0.019620</td>\n      <td>0.028304</td>\n      <td>82</td>\n      <td>0.012423</td>\n      <td>-0.010073</td>\n      <td>-1</td>\n      <td>...</td>\n      <td>0</td>\n      <td>0.00</td>\n      <td>0.00</td>\n      <td>-1.0</td>\n      <td>0.500000</td>\n      <td>-1</td>\n      <td>3.0</td>\n      <td>0</td>\n      <td>-1</td>\n      <td>3</td>\n    </tr>\n    <tr>\n      <th>3</th>\n      <td>-1</td>\n      <td>0.946677</td>\n      <td>1.117647</td>\n      <td>11167</td>\n      <td>0.017653</td>\n      <td>0.066509</td>\n      <td>19</td>\n      <td>0.000000</td>\n      <td>0.027778</td>\n      <td>-1</td>\n      <td>...</td>\n      <td>1</td>\n      <td>0.00</td>\n      <td>0.00</td>\n      <td>-1.0</td>\n      <td>0.000000</td>\n      <td>-1</td>\n      <td>8.0</td>\n      <td>0</td>\n      <td>-1</td>\n      <td>2</td>\n    </tr>\n    <tr>\n      <th>5</th>\n      <td>-1</td>\n      <td>1.737976</td>\n      <td>4.618598</td>\n      <td>93119</td>\n      <td>0.000968</td>\n      <td>0.036109</td>\n      <td>3427</td>\n      <td>0.000438</td>\n      <td>0.006644</td>\n      <td>-1</td>\n      <td>...</td>\n      <td>6</td>\n      <td>0.50</td>\n      <td>0.50</td>\n      <td>-1.0</td>\n      <td>0.250000</td>\n      <td>-1</td>\n      <td>3.0</td>\n      <td>0</td>\n      <td>-1</td>\n      <td>0</td>\n    </tr>\n    <tr>\n      <th>...</th>\n      <td>...</td>\n      <td>...</td>\n      <td>...</td>\n      <td>...</td>\n      <td>...</td>\n      <td>...</td>\n      <td>...</td>\n      <td>...</td>\n      <td>...</td>\n      <td>...</td>\n      <td>...</td>\n      <td>...</td>\n      <td>...</td>\n      <td>...</td>\n      <td>...</td>\n      <td>...</td>\n      <td>...</td>\n      <td>...</td>\n      <td>...</td>\n      <td>...</td>\n      <td>...</td>\n    </tr>\n    <tr>\n      <th>2041</th>\n      <td>-1</td>\n      <td>2.133634</td>\n      <td>1.325243</td>\n      <td>438146</td>\n      <td>-0.060622</td>\n      <td>-0.282971</td>\n      <td>819</td>\n      <td>0.015334</td>\n      <td>0.103240</td>\n      <td>-1</td>\n      <td>...</td>\n      <td>2</td>\n      <td>0.50</td>\n      <td>0.50</td>\n      <td>-1.0</td>\n      <td>0.000000</td>\n      <td>-1</td>\n      <td>3.0</td>\n      <td>0</td>\n      <td>-1</td>\n      <td>3</td>\n    </tr>\n    <tr>\n      <th>2042</th>\n      <td>-1</td>\n      <td>1.045206</td>\n      <td>1.021753</td>\n      <td>379278</td>\n      <td>0.023281</td>\n      <td>0.078413</td>\n      <td>1550</td>\n      <td>0.032952</td>\n      <td>0.091284</td>\n      <td>-1</td>\n      <td>...</td>\n      <td>1</td>\n      <td>-0.25</td>\n      <td>0.25</td>\n      <td>-1.0</td>\n      <td>0.200000</td>\n      <td>-1</td>\n      <td>6.0</td>\n      <td>0</td>\n      <td>-1</td>\n      <td>3</td>\n    </tr>\n    <tr>\n      <th>2043</th>\n      <td>-1</td>\n      <td>1.002913</td>\n      <td>1.000000</td>\n      <td>11019</td>\n      <td>0.003421</td>\n      <td>0.025776</td>\n      <td>3</td>\n      <td>0.000000</td>\n      <td>0.000000</td>\n      <td>-1</td>\n      <td>...</td>\n      <td>0</td>\n      <td>0.00</td>\n      <td>0.00</td>\n      <td>-1.0</td>\n      <td>0.555556</td>\n      <td>-1</td>\n      <td>8.0</td>\n      <td>0</td>\n      <td>-1</td>\n      <td>0</td>\n    </tr>\n    <tr>\n      <th>2045</th>\n      <td>-1</td>\n      <td>1.043248</td>\n      <td>1.012346</td>\n      <td>80737</td>\n      <td>0.021620</td>\n      <td>0.042968</td>\n      <td>82</td>\n      <td>0.006173</td>\n      <td>0.025404</td>\n      <td>-1</td>\n      <td>...</td>\n      <td>2</td>\n      <td>0.00</td>\n      <td>0.50</td>\n      <td>-1.0</td>\n      <td>0.333333</td>\n      <td>-1</td>\n      <td>4.0</td>\n      <td>0</td>\n      <td>-1</td>\n      <td>0</td>\n    </tr>\n    <tr>\n      <th>2046</th>\n      <td>-1</td>\n      <td>1.671975</td>\n      <td>5.035294</td>\n      <td>85774</td>\n      <td>0.046204</td>\n      <td>0.095059</td>\n      <td>1284</td>\n      <td>0.025912</td>\n      <td>0.054869</td>\n      <td>-1</td>\n      <td>...</td>\n      <td>0</td>\n      <td>0.00</td>\n      <td>0.00</td>\n      <td>-1.0</td>\n      <td>0.000000</td>\n      <td>-1</td>\n      <td>7.0</td>\n      <td>0</td>\n      <td>-1</td>\n      <td>0</td>\n    </tr>\n  </tbody>\n</table>\n<p>1740 rows × 106 columns</p>\n</div>"
     },
     "execution_count": 124,
     "metadata": {},
     "output_type": "execute_result"
    }
   ],
   "source": [
    "bad_accounts"
   ],
   "metadata": {
    "collapsed": false,
    "pycharm": {
     "name": "#%%\n"
    }
   }
  },
  {
   "cell_type": "code",
   "execution_count": 125,
   "outputs": [
    {
     "data": {
      "text/plain": "      artifactory_views  artifacts/binaries_count  artifacts/binaries_size  \\\n0                    -1                  1.062204                 1.002037   \n14                   -1                  1.225715                 1.826087   \n26                    0                  1.158051                 1.503546   \n31                    0                  1.055284                 1.083333   \n38                    2                  1.413304                 2.300330   \n...                 ...                       ...                      ...   \n2756                 -1                  1.161397                 1.000000   \n2764                 -1                  3.761033                10.876923   \n2785                  0                  1.006095                 1.294118   \n2786                 -1                  1.161397                 1.000000   \n2788                 -1                  1.107134                 1.048193   \n\n      artifacts_count  artifacts_count_monthly_growth  \\\n0              483819                        0.062013   \n14              24681                        0.318772   \n26             166808                        0.035976   \n31               9506                        0.098664   \n38              91681                       14.447174   \n...               ...                             ...   \n2756            10506                        0.897664   \n2764           885603                        0.035376   \n2785           157814                        0.017031   \n2786            10506                        0.897664   \n2788           129559                        0.045045   \n\n      artifacts_count_quarter_growth  artifacts_size  \\\n0                           0.142322            4919   \n14                          6.534135              84   \n26                          0.081427             848   \n31                          0.248446              13   \n38                         22.978342             697   \n...                              ...             ...   \n2756                        0.910573               4   \n2764                        0.087365            4242   \n2785                        0.125071              88   \n2786                        0.910573               4   \n2788                        0.197364              87   \n\n      artifacts_size_monthly_growth  artifacts_size_quarter_growth  \\\n0                          0.055707                       0.140696   \n14                         0.138578                       2.513636   \n26                         0.080182                       0.127626   \n31                         0.683333                       1.291667   \n38                        13.717908                      14.502500   \n...                             ...                            ...   \n2756                       0.500000                       1.500000   \n2764                       0.038719                       0.067310   \n2785                       0.005747                       0.063439   \n2786                       0.500000                       1.500000   \n2788                       0.062955                       0.364477   \n\n      avg_resolution_days  ...  pypi  pypi_monthly_growth  \\\n0                      18  ...   0.0                0.000   \n14                     18  ...   1.0                0.000   \n26                     -1  ...   3.0                0.000   \n31                     28  ...   1.0                0.000   \n38                     -1  ...   0.0                0.000   \n...                   ...  ...   ...                  ...   \n2756                    5  ...   0.0                0.000   \n2764                   -1  ...   3.0                0.000   \n2785                   -1  ...   3.0                0.250   \n2786                    5  ...   0.0                0.000   \n2788                   12  ...   6.0               -0.125   \n\n      pypi_quarter_growth  qoe_score  replys_to_sent  support_views_views  \\\n0                   0.000       -1.0        0.000000                   -1   \n14                  0.000       -1.0        0.666667                   -1   \n26                 -0.250       -1.0        0.250000                    0   \n31                  0.000       -1.0        0.000000                    0   \n38                  0.000       -1.0        0.200000                    0   \n...                   ...        ...             ...                  ...   \n2756                0.000       -1.0        0.484848                   -1   \n2764                0.000       -1.0       -1.000000                   -1   \n2785                1.000       -1.0        0.333333                    0   \n2786                0.000       -1.0        0.484848                   -1   \n2788               -0.125       -1.0        0.181818                   -1   \n\n      total_employees_with_details  unresolved_jira_cases  xray_views  cluster  \n0                              8.0                      0          -1        0  \n14                            28.0                      0          -1        2  \n26                            11.0                      0           5        0  \n31                            12.0                      0           2        0  \n38                             9.0                      0           1        0  \n...                            ...                    ...         ...      ...  \n2756                          14.0                      0          -1        1  \n2764                           4.0                      0          -1        1  \n2785                          26.0                      0           0        0  \n2786                          14.0                      0          -1        1  \n2788                          31.0                      1          -1        2  \n\n[420 rows x 106 columns]",
      "text/html": "<div>\n<style scoped>\n    .dataframe tbody tr th:only-of-type {\n        vertical-align: middle;\n    }\n\n    .dataframe tbody tr th {\n        vertical-align: top;\n    }\n\n    .dataframe thead th {\n        text-align: right;\n    }\n</style>\n<table border=\"1\" class=\"dataframe\">\n  <thead>\n    <tr style=\"text-align: right;\">\n      <th></th>\n      <th>artifactory_views</th>\n      <th>artifacts/binaries_count</th>\n      <th>artifacts/binaries_size</th>\n      <th>artifacts_count</th>\n      <th>artifacts_count_monthly_growth</th>\n      <th>artifacts_count_quarter_growth</th>\n      <th>artifacts_size</th>\n      <th>artifacts_size_monthly_growth</th>\n      <th>artifacts_size_quarter_growth</th>\n      <th>avg_resolution_days</th>\n      <th>...</th>\n      <th>pypi</th>\n      <th>pypi_monthly_growth</th>\n      <th>pypi_quarter_growth</th>\n      <th>qoe_score</th>\n      <th>replys_to_sent</th>\n      <th>support_views_views</th>\n      <th>total_employees_with_details</th>\n      <th>unresolved_jira_cases</th>\n      <th>xray_views</th>\n      <th>cluster</th>\n    </tr>\n  </thead>\n  <tbody>\n    <tr>\n      <th>0</th>\n      <td>-1</td>\n      <td>1.062204</td>\n      <td>1.002037</td>\n      <td>483819</td>\n      <td>0.062013</td>\n      <td>0.142322</td>\n      <td>4919</td>\n      <td>0.055707</td>\n      <td>0.140696</td>\n      <td>18</td>\n      <td>...</td>\n      <td>0.0</td>\n      <td>0.000</td>\n      <td>0.000</td>\n      <td>-1.0</td>\n      <td>0.000000</td>\n      <td>-1</td>\n      <td>8.0</td>\n      <td>0</td>\n      <td>-1</td>\n      <td>0</td>\n    </tr>\n    <tr>\n      <th>14</th>\n      <td>-1</td>\n      <td>1.225715</td>\n      <td>1.826087</td>\n      <td>24681</td>\n      <td>0.318772</td>\n      <td>6.534135</td>\n      <td>84</td>\n      <td>0.138578</td>\n      <td>2.513636</td>\n      <td>18</td>\n      <td>...</td>\n      <td>1.0</td>\n      <td>0.000</td>\n      <td>0.000</td>\n      <td>-1.0</td>\n      <td>0.666667</td>\n      <td>-1</td>\n      <td>28.0</td>\n      <td>0</td>\n      <td>-1</td>\n      <td>2</td>\n    </tr>\n    <tr>\n      <th>26</th>\n      <td>0</td>\n      <td>1.158051</td>\n      <td>1.503546</td>\n      <td>166808</td>\n      <td>0.035976</td>\n      <td>0.081427</td>\n      <td>848</td>\n      <td>0.080182</td>\n      <td>0.127626</td>\n      <td>-1</td>\n      <td>...</td>\n      <td>3.0</td>\n      <td>0.000</td>\n      <td>-0.250</td>\n      <td>-1.0</td>\n      <td>0.250000</td>\n      <td>0</td>\n      <td>11.0</td>\n      <td>0</td>\n      <td>5</td>\n      <td>0</td>\n    </tr>\n    <tr>\n      <th>31</th>\n      <td>0</td>\n      <td>1.055284</td>\n      <td>1.083333</td>\n      <td>9506</td>\n      <td>0.098664</td>\n      <td>0.248446</td>\n      <td>13</td>\n      <td>0.683333</td>\n      <td>1.291667</td>\n      <td>28</td>\n      <td>...</td>\n      <td>1.0</td>\n      <td>0.000</td>\n      <td>0.000</td>\n      <td>-1.0</td>\n      <td>0.000000</td>\n      <td>0</td>\n      <td>12.0</td>\n      <td>0</td>\n      <td>2</td>\n      <td>0</td>\n    </tr>\n    <tr>\n      <th>38</th>\n      <td>2</td>\n      <td>1.413304</td>\n      <td>2.300330</td>\n      <td>91681</td>\n      <td>14.447174</td>\n      <td>22.978342</td>\n      <td>697</td>\n      <td>13.717908</td>\n      <td>14.502500</td>\n      <td>-1</td>\n      <td>...</td>\n      <td>0.0</td>\n      <td>0.000</td>\n      <td>0.000</td>\n      <td>-1.0</td>\n      <td>0.200000</td>\n      <td>0</td>\n      <td>9.0</td>\n      <td>0</td>\n      <td>1</td>\n      <td>0</td>\n    </tr>\n    <tr>\n      <th>...</th>\n      <td>...</td>\n      <td>...</td>\n      <td>...</td>\n      <td>...</td>\n      <td>...</td>\n      <td>...</td>\n      <td>...</td>\n      <td>...</td>\n      <td>...</td>\n      <td>...</td>\n      <td>...</td>\n      <td>...</td>\n      <td>...</td>\n      <td>...</td>\n      <td>...</td>\n      <td>...</td>\n      <td>...</td>\n      <td>...</td>\n      <td>...</td>\n      <td>...</td>\n      <td>...</td>\n    </tr>\n    <tr>\n      <th>2756</th>\n      <td>-1</td>\n      <td>1.161397</td>\n      <td>1.000000</td>\n      <td>10506</td>\n      <td>0.897664</td>\n      <td>0.910573</td>\n      <td>4</td>\n      <td>0.500000</td>\n      <td>1.500000</td>\n      <td>5</td>\n      <td>...</td>\n      <td>0.0</td>\n      <td>0.000</td>\n      <td>0.000</td>\n      <td>-1.0</td>\n      <td>0.484848</td>\n      <td>-1</td>\n      <td>14.0</td>\n      <td>0</td>\n      <td>-1</td>\n      <td>1</td>\n    </tr>\n    <tr>\n      <th>2764</th>\n      <td>-1</td>\n      <td>3.761033</td>\n      <td>10.876923</td>\n      <td>885603</td>\n      <td>0.035376</td>\n      <td>0.087365</td>\n      <td>4242</td>\n      <td>0.038719</td>\n      <td>0.067310</td>\n      <td>-1</td>\n      <td>...</td>\n      <td>3.0</td>\n      <td>0.000</td>\n      <td>0.000</td>\n      <td>-1.0</td>\n      <td>-1.000000</td>\n      <td>-1</td>\n      <td>4.0</td>\n      <td>0</td>\n      <td>-1</td>\n      <td>1</td>\n    </tr>\n    <tr>\n      <th>2785</th>\n      <td>0</td>\n      <td>1.006095</td>\n      <td>1.294118</td>\n      <td>157814</td>\n      <td>0.017031</td>\n      <td>0.125071</td>\n      <td>88</td>\n      <td>0.005747</td>\n      <td>0.063439</td>\n      <td>-1</td>\n      <td>...</td>\n      <td>3.0</td>\n      <td>0.250</td>\n      <td>1.000</td>\n      <td>-1.0</td>\n      <td>0.333333</td>\n      <td>0</td>\n      <td>26.0</td>\n      <td>0</td>\n      <td>0</td>\n      <td>0</td>\n    </tr>\n    <tr>\n      <th>2786</th>\n      <td>-1</td>\n      <td>1.161397</td>\n      <td>1.000000</td>\n      <td>10506</td>\n      <td>0.897664</td>\n      <td>0.910573</td>\n      <td>4</td>\n      <td>0.500000</td>\n      <td>1.500000</td>\n      <td>5</td>\n      <td>...</td>\n      <td>0.0</td>\n      <td>0.000</td>\n      <td>0.000</td>\n      <td>-1.0</td>\n      <td>0.484848</td>\n      <td>-1</td>\n      <td>14.0</td>\n      <td>0</td>\n      <td>-1</td>\n      <td>1</td>\n    </tr>\n    <tr>\n      <th>2788</th>\n      <td>-1</td>\n      <td>1.107134</td>\n      <td>1.048193</td>\n      <td>129559</td>\n      <td>0.045045</td>\n      <td>0.197364</td>\n      <td>87</td>\n      <td>0.062955</td>\n      <td>0.364477</td>\n      <td>12</td>\n      <td>...</td>\n      <td>6.0</td>\n      <td>-0.125</td>\n      <td>-0.125</td>\n      <td>-1.0</td>\n      <td>0.181818</td>\n      <td>-1</td>\n      <td>31.0</td>\n      <td>1</td>\n      <td>-1</td>\n      <td>2</td>\n    </tr>\n  </tbody>\n</table>\n<p>420 rows × 106 columns</p>\n</div>"
     },
     "execution_count": 125,
     "metadata": {},
     "output_type": "execute_result"
    }
   ],
   "source": [
    "train_data_for_whatif"
   ],
   "metadata": {
    "collapsed": false,
    "pycharm": {
     "name": "#%%\n"
    }
   }
  },
  {
   "cell_type": "code",
   "execution_count": 126,
   "outputs": [],
   "source": [
    "what_if_features = ['days_since_reply', 'n_sent', 'n_calls',\n",
    "                    'n_task_xray', 'n_replys', 'n_trials', 'n_ent_trials',\n",
    "                    'unresolved_jira_cases', 'n_training', 'n_poor_cases',\n",
    "                    'number_of_permissions', 'binaries_count', 'artifacts_count',\n",
    "                    'binaries_size', 'artifacts_size', 'n_tech']"
   ],
   "metadata": {
    "collapsed": false,
    "pycharm": {
     "name": "#%%\n"
    }
   }
  },
  {
   "cell_type": "code",
   "execution_count": null,
   "outputs": [
    {
     "name": "stderr",
     "output_type": "stream",
     "text": [
      " 54%|█████▍    | 939/1740 [04:59<04:27,  2.99it/s]"
     ]
    },
    {
     "name": "stdout",
     "output_type": "stream",
     "text": [
      "Init: initializing centroids\n",
      "Init: initializing clusters\n",
      "Starting iterations...\n",
      "Run 2, iteration: 1/5000, moves: 0, cost: 2516.0\n",
      "Init: initializing centroids\n",
      "Init: initializing clusters\n",
      "Starting iterations...\n",
      "Run 1, iteration: 1/5000, moves: 0, cost: 2429.0\n",
      "Init: initializing centroids\n",
      "Init: initializing clusters\n",
      "Starting iterations...\n",
      "Run 4, iteration: 1/5000, moves: 623, cost: 2336.0\n",
      "Run 4, iteration: 2/5000, moves: 48, cost: 2336.0\n",
      "Init: initializing centroids\n",
      "Init: initializing clusters\n",
      "Starting iterations...\n",
      "Run 3, iteration: 1/5000, moves: 817, cost: 2113.0\n",
      "Run 3, iteration: 2/5000, moves: 133, cost: 2113.0\n",
      "Init: initializing centroids\n",
      "Init: initializing clusters\n",
      "Starting iterations...\n",
      "Run 5, iteration: 1/5000, moves: 911, cost: 2390.0\n",
      "Run 5, iteration: 2/5000, moves: 87, cost: 2390.0\n"
     ]
    },
    {
     "name": "stderr",
     "output_type": "stream",
     "text": [
      " 85%|████████▌ | 1481/1740 [10:17<04:26,  1.03s/it]  "
     ]
    }
   ],
   "source": [
    "final_payload = []\n",
    "i = 0\n",
    "for index, row in tqdm(bad_accounts.iterrows(), total=(bad_accounts.shape[0])):\n",
    "    # if i > 100:\n",
    "    #     break\n",
    "\n",
    "    row = row.reindex(sorted(row.index), axis=1)\n",
    "    row_trans = pd.DataFrame(row)\n",
    "    # For each instance of new data in iteration, bring train data of same categorical values\n",
    "    train_data_subset = train_data_for_whatif.loc[train_data_for_whatif['cluster'] == row['cluster'], :]\n",
    "    train_data_subset_account_ids = df.loc[processed_df_for_fit['class_pred'] == 'High', :]\n",
    "    train_data_subset_account_ids = train_data_subset_account_ids.loc[\n",
    "        train_data_for_whatif['cluster'] == row['cluster'], 'account_id']\n",
    "    if train_data_subset.shape[0] == 0:\n",
    "        train_data_subset = train_data_for_whatif\n",
    "\n",
    "    # Attach the subset of train data with the current instance (Test: whats the shape before and after attach)\n",
    "    train_data_subset_w_instance = pd.concat([train_data_subset, row_trans.transpose()])\n",
    "\n",
    "    # Remove the newly added categorical column\n",
    "    train_data_subset_w_instance = train_data_subset_w_instance.drop(['cluster'], axis=1)\n",
    "\n",
    "    # Scale the concated df\n",
    "    df_whatif_scaled = pd.DataFrame(scaler.fit_transform(train_data_subset_w_instance),\n",
    "                                    columns=train_data_subset_w_instance.columns)\n",
    "    df_whatif_scaled = df_whatif_scaled.fillna(0)\n",
    "\n",
    "    # Find nearest neighbour for the instance we care for from the other data set\n",
    "    sample = df_whatif_scaled.iloc[-1]\n",
    "    df_whatif_scaled_wo_sample = df_whatif_scaled.iloc[:-1, :]\n",
    "    dists = [cityblock(sample, df_whatif_scaled_wo_sample.iloc[i]) for i in\n",
    "             (range(df_whatif_scaled_wo_sample.shape[0]))]\n",
    "    closest_obs = train_data_subset.iloc[[np.argmin(dists)], range(train_data_subset.shape[1])].drop('cluster', axis=1)\n",
    "    closest_obs_account_id = train_data_subset_account_ids.iloc[[np.argmin(dists)]]\n",
    "\n",
    "    # Calculate shap values for the neighbor's features and the current instance's features, calculate diffs\n",
    "    df_concat_for_shap = pd.concat([closest_obs, row_trans.transpose()], axis=0).drop('cluster', axis=1)\n",
    "    shap_values_total = shap.TreeExplainer(cbc_no_cats).shap_values(df_concat_for_shap)\n",
    "\n",
    "    # Create recommendations based on the top diff feature\n",
    "    shap_diff = np.subtract(shap_values_total[0], shap_values_total[1])\n",
    "    max_diff_loc = np.argmax(shap_diff)\n",
    "    found_feature = False\n",
    "    while not found_feature:\n",
    "        feature_name = list(train_data_subset.columns)[max_diff_loc]\n",
    "        curr_val = row.iloc[max_diff_loc]\n",
    "        nb_val = closest_obs.iloc[0, max_diff_loc]\n",
    "        if np.isnan(curr_val):\n",
    "            curr_val = 0\n",
    "        if np.isnan(nb_val):\n",
    "            nb_val = 0\n",
    "        val_diff = nb_val - curr_val\n",
    "        if val_diff != 0 and feature_name in what_if_features:\n",
    "            final_payload.append({'what_if': {'account_id': bad_accounts_og_df.loc[index, 'account_id'],\n",
    "                                              'feature_name': feature_name,\n",
    "                                              'change_val': val_diff,\n",
    "                                              'neighbor_id': closest_obs_account_id.iloc[0]}})\n",
    "            found_feature = True\n",
    "        else:\n",
    "            shap_diff[np.argmax(shap_diff)] = np.NINF\n",
    "            max_diff_loc = np.argmax(shap_diff)\n",
    "\n",
    "    i += 1"
   ],
   "metadata": {
    "collapsed": false,
    "pycharm": {
     "name": "#%%\n",
     "is_executing": true
    }
   }
  },
  {
   "cell_type": "code",
   "execution_count": null,
   "outputs": [],
   "source": [
    "print(len(final_payload))"
   ],
   "metadata": {
    "collapsed": false,
    "pycharm": {
     "name": "#%%\n",
     "is_executing": true
    }
   }
  },
  {
   "cell_type": "code",
   "execution_count": null,
   "outputs": [],
   "source": [
    "feature_dict = {}\n",
    "for dict in final_payload:\n",
    "    feature_name = dict['what_if']['feature_name']\n",
    "    change_val = dict['what_if']['change_val']\n",
    "    if feature_name in feature_dict:\n",
    "        feature_dict[feature_name] = (feature_dict[feature_name][0] + 1, feature_dict[feature_name][1] + change_val)\n",
    "    else:\n",
    "        feature_dict[feature_name] = (1, change_val)\n",
    "    print(json.dumps(dict, indent=4))"
   ],
   "metadata": {
    "collapsed": false,
    "pycharm": {
     "name": "#%%\n",
     "is_executing": true
    }
   }
  },
  {
   "cell_type": "code",
   "execution_count": 131,
   "outputs": [
    {
     "data": {
      "text/plain": "[('days_since_reply', (817, 648978.0)),\n ('unresolved_jira_cases', (411, -2154.0)),\n ('binaries_size', (352, -631929.0)),\n ('number_of_permissions', (64, 535.721274509804)),\n ('artifacts_count', (31, 8512405.0)),\n ('binaries_count', (24, 82899.0)),\n ('artifacts_size', (16, 1691.0)),\n ('n_tech', (9, 44.0)),\n ('n_task_xray', (8, 166.0)),\n ('n_sent', (5, 26.0)),\n ('n_replys', (3, 33.0))]"
     },
     "execution_count": 131,
     "metadata": {},
     "output_type": "execute_result"
    }
   ],
   "source": [
    "sorted(feature_dict.items(), key=lambda x: x[1][0], reverse=True)"
   ],
   "metadata": {
    "collapsed": false,
    "pycharm": {
     "name": "#%%\n"
    }
   }
  }
 ],
 "metadata": {
  "kernelspec": {
   "display_name": "Python 3 (ipykernel)",
   "language": "python",
   "name": "python3"
  },
  "language_info": {
   "codemirror_mode": {
    "name": "ipython",
    "version": 3
   },
   "file_extension": ".py",
   "mimetype": "text/x-python",
   "name": "python",
   "nbconvert_exporter": "python",
   "pygments_lexer": "ipython3",
   "version": "3.8.2"
  },
  "varInspector": {
   "cols": {
    "lenName": 16,
    "lenType": 16,
    "lenVar": 40
   },
   "kernels_config": {
    "python": {
     "delete_cmd_postfix": "",
     "delete_cmd_prefix": "del ",
     "library": "var_list.py",
     "varRefreshCmd": "print(var_dic_list())"
    },
    "r": {
     "delete_cmd_postfix": ") ",
     "delete_cmd_prefix": "rm(",
     "library": "var_list.r",
     "varRefreshCmd": "cat(var_dic_list()) "
    }
   },
   "types_to_exclude": [
    "module",
    "function",
    "builtin_function_or_method",
    "instance",
    "_Feature"
   ],
   "window_display": false
  }
 },
 "nbformat": 4,
 "nbformat_minor": 1
}