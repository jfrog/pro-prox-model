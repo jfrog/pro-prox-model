{
 "cells": [
  {
   "cell_type": "code",
   "execution_count": 477,
   "metadata": {
    "pycharm": {
     "name": "#%%\n"
    }
   },
   "outputs": [],
   "source": [
    "import pandas as pd\n",
    "from catboost import CatBoostClassifier\n",
    "import numpy as np\n",
    "from scipy.spatial.distance import cityblock\n",
    "from sklearn.preprocessing import StandardScaler\n",
    "from utils.general_utils import load_data_old, get_cat_feature_names\n",
    "from utils.model_extensions_utils import FocalLossObjective\n",
    "import shap\n",
    "from utils.fe_utils import get_growth_features"
   ]
  },
  {
   "cell_type": "code",
   "execution_count": 478,
   "metadata": {
    "pycharm": {
     "name": "#%%\n"
    }
   },
   "outputs": [],
   "source": [
    "def process_df(X_temp):\n",
    "    tech_cols = ['maven', 'generic', 'docker', 'npm', 'pypi', 'gradle', 'nuget']\n",
    "    usage_cols = tech_cols + ['artifacts_count', 'artifacts_size', 'binaries_count', 'binaries_size', 'items_count',\n",
    "                              'number_of_permissions', 'internal_groups', 'number_of_users', 'n_env', 'n_tech',\n",
    "                              'n_repos']\n",
    "\n",
    "    X_temp['n_tech'] = (X_temp[tech_cols] != 0).astype(int).sum(axis=1)\n",
    "    X_temp['n_tech.1'] = (X_temp[[col + '.1' for col in tech_cols]] != 0).astype(int).sum(axis=1)\n",
    "    X_temp['n_tech.2'] = (X_temp[[col + '.2' for col in tech_cols]] != 0).astype(int).sum(axis=1)\n",
    "    X_temp['n_tech.3'] = (X_temp[[col + '.3' for col in tech_cols]] != 0).astype(int).sum(axis=1)\n",
    "    X_temp['n_tech.4'] = (X_temp[[col + '.4' for col in tech_cols]] != 0).astype(int).sum(axis=1)\n",
    "    X_temp['n_repos'] = (X_temp[tech_cols]).sum(axis=1)\n",
    "    X_temp['n_repos.1'] = (X_temp[[col + '.1' for col in tech_cols]]).sum(axis=1)\n",
    "    X_temp['n_repos.2'] = (X_temp[[col + '.2' for col in tech_cols]]).sum(axis=1)\n",
    "    X_temp['n_repos.3'] = (X_temp[[col + '.3' for col in tech_cols]]).sum(axis=1)\n",
    "    X_temp['n_repos.4'] = (X_temp[[col + '.4' for col in tech_cols]]).sum(axis=1)\n",
    "    for col in usage_cols:\n",
    "        growth_feature_monthly, growth_feature_quarter, df_fg = get_growth_features(col, X_temp.copy())\n",
    "        X_temp[col + '_monthly_growth'] = growth_feature_monthly\n",
    "        X_temp[col + '_quarter_growth'] = growth_feature_quarter\n",
    "\n",
    "    # - transform to category\n",
    "    cat_features = get_cat_feature_names(X_temp)\n",
    "    for col in cat_features:\n",
    "        X_temp[col] = X_temp[col].astype('category')\n",
    "\n",
    "    # - drop usage features from the periods before the relevant-date\n",
    "    cols_to_drop = [col for col in X_temp.columns if '.1' in col or '.2' in col or '.3' in col or '.4' in col]\n",
    "    X_temp = X_temp.drop(cols_to_drop, axis=1)\n",
    "    X_temp['artifacts/binaries_size'] = np.where(X_temp['binaries_size'] == 0, 0,\n",
    "                                                 X_temp['artifacts_size'] / X_temp['binaries_size'])\n",
    "    X_temp['artifacts/binaries_count'] = np.where(X_temp['binaries_count'] == 0, 0,\n",
    "                                                  X_temp['artifacts_count'] / X_temp['binaries_count'])\n",
    "    # cat_features.remove('territory')\n",
    "    # cat_features.remove('industry_group')\n",
    "    # X_temp = X_temp.drop(cat_features, axis=1)\n",
    "    # X_temp = X_temp.drop(['total_employees_with_details', 'days_from_contact_added', 'territory', 'industry_group',\n",
    "    #                       'total_employees_range'], axis=1)\n",
    "    return X_temp"
   ]
  },
  {
   "cell_type": "code",
   "execution_count": 479,
   "metadata": {
    "pycharm": {
     "name": "#%%"
    }
   },
   "outputs": [],
   "source": [
    "# df = load_data_old('fit.sql')\n",
    "df = pd.read_csv('data/fit.csv', delimiter=';')"
   ]
  },
  {
   "cell_type": "code",
   "execution_count": 480,
   "metadata": {
    "pycharm": {
     "name": "#%%\n"
    }
   },
   "outputs": [],
   "source": [
    "has_won = df.groupby('account_id', as_index=False).sum('class').loc[:, ['account_id', 'class']]\n",
    "has_won['has_won'] = has_won['class'].apply(lambda x: True if x > 0 else False)\n",
    "has_won.drop('class', axis=1, inplace=True)\n",
    "new_df = df.merge(has_won[['account_id', 'has_won']], on='account_id')\n",
    "df_did_win, df_did_not_win = new_df[new_df['has_won']], new_df[~new_df['has_won']]\n",
    "df_did_win = df_did_win.merge(df_did_win.groupby('account_id', as_index=False).agg({'relevant_date': 'min'}),  on=['account_id', 'relevant_date'])\n",
    "df_did_not_win = df_did_not_win.groupby('account_id', as_index=False).sample(n=1, random_state=2)\n",
    "df = pd.concat([df_did_win, df_did_not_win])\n",
    "df = df.sample(frac=1, random_state=2).reset_index(drop=True)"
   ]
  },
  {
   "cell_type": "code",
   "execution_count": 481,
   "metadata": {
    "pycharm": {
     "name": "#%%\n"
    }
   },
   "outputs": [],
   "source": [
    "cols_to_drop = [col for col in df.columns if 'period_range' in col or 'relevant_date' in col or 'account_id' in col\n",
    "                or 'class' in col or 'has_won' in col or 'class_pred_proba' in col or 'class_pred' in col or 'class_diff' in col]\n",
    "X, y = df.drop(cols_to_drop, axis=1), df['class']"
   ]
  },
  {
   "cell_type": "code",
   "execution_count": 482,
   "outputs": [],
   "source": [
    "X = process_df(X)"
   ],
   "metadata": {
    "collapsed": false,
    "pycharm": {
     "name": "#%%\n"
    }
   }
  },
  {
   "cell_type": "code",
   "execution_count": 483,
   "outputs": [],
   "source": [
    "cbc = CatBoostClassifier(cat_features=get_cat_feature_names(X), auto_class_weights='Balanced', verbose=0,\n",
    "                         random_state=5, loss_function=FocalLossObjective(), eval_metric=\"Logloss\",\n",
    "                         bootstrap_type='Bayesian')\n",
    "cbc_no_cats = CatBoostClassifier(cat_features=[], auto_class_weights='Balanced', verbose=0,\n",
    "                         random_state=5, loss_function=FocalLossObjective(), eval_metric=\"Logloss\",\n",
    "                         bootstrap_type='Bayesian')"
   ],
   "metadata": {
    "collapsed": false,
    "pycharm": {
     "name": "#%%\n"
    }
   }
  },
  {
   "cell_type": "code",
   "execution_count": 484,
   "outputs": [],
   "source": [
    "X = X.reindex(sorted(X.columns), axis=1)"
   ],
   "metadata": {
    "collapsed": false,
    "pycharm": {
     "name": "#%%\n"
    }
   }
  },
  {
   "cell_type": "code",
   "execution_count": 485,
   "outputs": [
    {
     "data": {
      "text/plain": "   artifactory_views  artifacts/binaries_count  artifacts/binaries_size  \\\n0                 -1                  0.354839                 0.000000   \n1                 -1                  0.999321                 1.000000   \n2                 -1                  4.392331                 9.666667   \n3                 -1                  1.225715                 1.826087   \n4                 -1                  1.020973                 0.933333   \n\n   artifacts_count  artifacts_count_monthly_growth  \\\n0               11                        0.000000   \n1            35321                        0.064754   \n2            27149                        0.543505   \n3            24681                        0.318772   \n4            12073                        0.036175   \n\n   artifacts_count_quarter_growth  artifacts_size  \\\n0                        0.000000               0   \n1                        0.038032              10   \n2                        4.498503             116   \n3                        6.534135              84   \n4                        0.340701              14   \n\n   artifacts_size_monthly_growth  artifacts_size_quarter_growth  \\\n0                       0.000000                       0.000000   \n1                       0.055556                      -0.322823   \n2                       0.740681                       2.290043   \n3                       0.138578                       2.513636   \n4                       0.038462                       0.094697   \n\n   avg_resolution_days  ...  pypi_monthly_growth  pypi_quarter_growth  \\\n0                   -1  ...                  0.0                  0.0   \n1                   41  ...                  0.0                  0.0   \n2                   -1  ...                  0.0                  0.0   \n3                   18  ...                  0.0                  0.0   \n4                   -1  ...                  0.0                  0.0   \n\n   qoe_score  replys_to_sent  support_views_views  territory  \\\n0       -1.0        0.000000                   -1   Americas   \n1       -1.0        0.000000                   -1   Americas   \n2       -1.0        0.000000                   -1       EMEA   \n3       -1.0        0.666667                   -1   Americas   \n4       -1.0        0.250000                   -1       EMEA   \n\n   total_employees_range  total_employees_with_details  unresolved_jira_cases  \\\n0                 51-250                           3.0                      0   \n1                 251-1K                          17.0                      0   \n2                 251-1K                           7.0                      0   \n3                  1K-5K                          28.0                      0   \n4                   1-10                           2.0                      0   \n\n   xray_views  \n0          -1  \n1          -1  \n2          -1  \n3          -1  \n4          -1  \n\n[5 rows x 108 columns]",
      "text/html": "<div>\n<style scoped>\n    .dataframe tbody tr th:only-of-type {\n        vertical-align: middle;\n    }\n\n    .dataframe tbody tr th {\n        vertical-align: top;\n    }\n\n    .dataframe thead th {\n        text-align: right;\n    }\n</style>\n<table border=\"1\" class=\"dataframe\">\n  <thead>\n    <tr style=\"text-align: right;\">\n      <th></th>\n      <th>artifactory_views</th>\n      <th>artifacts/binaries_count</th>\n      <th>artifacts/binaries_size</th>\n      <th>artifacts_count</th>\n      <th>artifacts_count_monthly_growth</th>\n      <th>artifacts_count_quarter_growth</th>\n      <th>artifacts_size</th>\n      <th>artifacts_size_monthly_growth</th>\n      <th>artifacts_size_quarter_growth</th>\n      <th>avg_resolution_days</th>\n      <th>...</th>\n      <th>pypi_monthly_growth</th>\n      <th>pypi_quarter_growth</th>\n      <th>qoe_score</th>\n      <th>replys_to_sent</th>\n      <th>support_views_views</th>\n      <th>territory</th>\n      <th>total_employees_range</th>\n      <th>total_employees_with_details</th>\n      <th>unresolved_jira_cases</th>\n      <th>xray_views</th>\n    </tr>\n  </thead>\n  <tbody>\n    <tr>\n      <th>0</th>\n      <td>-1</td>\n      <td>0.354839</td>\n      <td>0.000000</td>\n      <td>11</td>\n      <td>0.000000</td>\n      <td>0.000000</td>\n      <td>0</td>\n      <td>0.000000</td>\n      <td>0.000000</td>\n      <td>-1</td>\n      <td>...</td>\n      <td>0.0</td>\n      <td>0.0</td>\n      <td>-1.0</td>\n      <td>0.000000</td>\n      <td>-1</td>\n      <td>Americas</td>\n      <td>51-250</td>\n      <td>3.0</td>\n      <td>0</td>\n      <td>-1</td>\n    </tr>\n    <tr>\n      <th>1</th>\n      <td>-1</td>\n      <td>0.999321</td>\n      <td>1.000000</td>\n      <td>35321</td>\n      <td>0.064754</td>\n      <td>0.038032</td>\n      <td>10</td>\n      <td>0.055556</td>\n      <td>-0.322823</td>\n      <td>41</td>\n      <td>...</td>\n      <td>0.0</td>\n      <td>0.0</td>\n      <td>-1.0</td>\n      <td>0.000000</td>\n      <td>-1</td>\n      <td>Americas</td>\n      <td>251-1K</td>\n      <td>17.0</td>\n      <td>0</td>\n      <td>-1</td>\n    </tr>\n    <tr>\n      <th>2</th>\n      <td>-1</td>\n      <td>4.392331</td>\n      <td>9.666667</td>\n      <td>27149</td>\n      <td>0.543505</td>\n      <td>4.498503</td>\n      <td>116</td>\n      <td>0.740681</td>\n      <td>2.290043</td>\n      <td>-1</td>\n      <td>...</td>\n      <td>0.0</td>\n      <td>0.0</td>\n      <td>-1.0</td>\n      <td>0.000000</td>\n      <td>-1</td>\n      <td>EMEA</td>\n      <td>251-1K</td>\n      <td>7.0</td>\n      <td>0</td>\n      <td>-1</td>\n    </tr>\n    <tr>\n      <th>3</th>\n      <td>-1</td>\n      <td>1.225715</td>\n      <td>1.826087</td>\n      <td>24681</td>\n      <td>0.318772</td>\n      <td>6.534135</td>\n      <td>84</td>\n      <td>0.138578</td>\n      <td>2.513636</td>\n      <td>18</td>\n      <td>...</td>\n      <td>0.0</td>\n      <td>0.0</td>\n      <td>-1.0</td>\n      <td>0.666667</td>\n      <td>-1</td>\n      <td>Americas</td>\n      <td>1K-5K</td>\n      <td>28.0</td>\n      <td>0</td>\n      <td>-1</td>\n    </tr>\n    <tr>\n      <th>4</th>\n      <td>-1</td>\n      <td>1.020973</td>\n      <td>0.933333</td>\n      <td>12073</td>\n      <td>0.036175</td>\n      <td>0.340701</td>\n      <td>14</td>\n      <td>0.038462</td>\n      <td>0.094697</td>\n      <td>-1</td>\n      <td>...</td>\n      <td>0.0</td>\n      <td>0.0</td>\n      <td>-1.0</td>\n      <td>0.250000</td>\n      <td>-1</td>\n      <td>EMEA</td>\n      <td>1-10</td>\n      <td>2.0</td>\n      <td>0</td>\n      <td>-1</td>\n    </tr>\n  </tbody>\n</table>\n<p>5 rows × 108 columns</p>\n</div>"
     },
     "execution_count": 485,
     "metadata": {},
     "output_type": "execute_result"
    }
   ],
   "source": [
    "X.head()"
   ],
   "metadata": {
    "collapsed": false,
    "pycharm": {
     "name": "#%%\n"
    }
   }
  },
  {
   "cell_type": "code",
   "execution_count": 486,
   "metadata": {
    "pycharm": {
     "name": "#%%\n"
    }
   },
   "outputs": [
    {
     "data": {
      "text/plain": "<catboost.core.CatBoostClassifier at 0x7f953386b6d0>"
     },
     "execution_count": 486,
     "metadata": {},
     "output_type": "execute_result"
    }
   ],
   "source": [
    "cbc.fit(X, y)\n",
    "cbc_no_cats.fit(X.drop(get_cat_feature_names(X), axis=1), y)"
   ]
  },
  {
   "cell_type": "code",
   "execution_count": 487,
   "outputs": [],
   "source": [
    "# df_for_predict = load_data_old('predict.sql')\n",
    "df_for_predict = pd.read_csv('data/predict.csv', delimiter=';')\n",
    "cols_to_drop = [col for col in df_for_predict.columns if\n",
    "                'period_range' in col or 'relevant_date' in col or 'account_id' in col\n",
    "                or 'class' in col or 'has_won' in col]\n",
    "df_for_predict_clean = df_for_predict.drop(cols_to_drop, axis=1)\n",
    "df_for_predict_clean = process_df(df_for_predict_clean)"
   ],
   "metadata": {
    "collapsed": false,
    "pycharm": {
     "name": "#%%\n"
    }
   }
  },
  {
   "cell_type": "code",
   "execution_count": 488,
   "outputs": [
    {
     "data": {
      "text/plain": "      artifactory_views  artifacts/binaries_count  artifacts/binaries_size  \\\n0                    -1                  1.300404                 1.014774   \n1                    -1                  1.226489                 1.475962   \n2                    -1                  1.593653                 1.051282   \n3                    -1                  0.947454                 1.117647   \n4                    -1                  1.853653                 2.400888   \n...                 ...                       ...                      ...   \n2049                 -1                  1.045952                 1.021768   \n2050                 -1                  1.002824                 1.000000   \n2051                  2                  1.463218                 1.843091   \n2052                 -1                  1.042327                 1.012346   \n2053                 -1                  1.669032                 5.031496   \n\n      artifacts_count  artifacts_count_monthly_growth  \\\n0              580352                       -0.010603   \n1              182585                        0.056289   \n2               98475                        0.014636   \n3               11107                        0.016707   \n4             1422037                        0.000362   \n...               ...                             ...   \n2049           377916                        0.024678   \n2050            11009                        0.003240   \n2051           110849                        0.054692   \n2052            80304                        0.017158   \n2053            85633                        0.048081   \n\n      artifacts_count_quarter_growth  artifacts_size  \\\n0                          -0.131726           28710   \n1                           0.214977             921   \n2                           0.023652              82   \n3                           0.069873              19   \n4                           0.047562           20554   \n...                              ...             ...   \n2049                        0.080504            1549   \n2050                        0.026102               3   \n2051                        0.131860             787   \n2052                        0.040923              82   \n2053                        0.096489            1278   \n\n      artifacts_size_monthly_growth  artifacts_size_quarter_growth  \\\n0                         -0.003963                       0.063740   \n1                          0.061756                       0.189489   \n2                          0.012423                      -0.010073   \n3                          0.000000                       0.057190   \n4                         -0.003600                       0.042657   \n...                             ...                            ...   \n2049                       0.039030                       0.094248   \n2050                       0.000000                       0.000000   \n2051                       0.099509                       0.364253   \n2052                       0.006173                       0.025404   \n2053                       0.025601                       0.054665   \n\n      avg_resolution_days  ...  pypi_monthly_growth  pypi_quarter_growth  \\\n0                      -1  ...                 0.00                -0.25   \n1                      -1  ...                 0.00                 0.00   \n2                      -1  ...                 0.00                 0.00   \n3                      -1  ...                 0.00                 0.00   \n4                      17  ...                 0.00                 0.00   \n...                   ...  ...                  ...                  ...   \n2049                   -1  ...                -0.25                 0.25   \n2050                   -1  ...                 0.00                 0.00   \n2051                   -1  ...                 0.00                 0.00   \n2052                   -1  ...                 0.00                 0.50   \n2053                   -1  ...                 0.00                 0.00   \n\n      qoe_score  replys_to_sent  support_views_views  territory  \\\n0          -1.0        0.333333                   -1       EMEA   \n1          -1.0        0.000000                   -1       EMEA   \n2          -1.0        0.500000                   -1       EMEA   \n3          -1.0        0.000000                   -1   Americas   \n4          -1.0        0.500000                   -1       EMEA   \n...         ...             ...                  ...        ...   \n2049       -1.0        0.250000                   -1       EMEA   \n2050       -1.0        0.625000                   -1       EMEA   \n2051       -1.0        0.000000                    0       EMEA   \n2052       -1.0        0.333333                   -1       EMEA   \n2053       -1.0        0.000000                   -1       EMEA   \n\n      total_employees_range  total_employees_with_details  \\\n0                    251-1K                          11.0   \n1                     11-50                           4.0   \n2                    51-250                           3.0   \n3                    51-250                           8.0   \n4                    51-250                          25.0   \n...                     ...                           ...   \n2049                 51-250                           6.0   \n2050                 251-1K                           8.0   \n2051                10K-50K                           6.0   \n2052                  1K-5K                           4.0   \n2053                   1-10                           7.0   \n\n      unresolved_jira_cases  xray_views  \n0                         0          -1  \n1                         0          -1  \n2                         0          -1  \n3                         0          -1  \n4                         0          -1  \n...                     ...         ...  \n2049                      0          -1  \n2050                      0          -1  \n2051                      0           0  \n2052                      0          -1  \n2053                      0          -1  \n\n[2054 rows x 108 columns]",
      "text/html": "<div>\n<style scoped>\n    .dataframe tbody tr th:only-of-type {\n        vertical-align: middle;\n    }\n\n    .dataframe tbody tr th {\n        vertical-align: top;\n    }\n\n    .dataframe thead th {\n        text-align: right;\n    }\n</style>\n<table border=\"1\" class=\"dataframe\">\n  <thead>\n    <tr style=\"text-align: right;\">\n      <th></th>\n      <th>artifactory_views</th>\n      <th>artifacts/binaries_count</th>\n      <th>artifacts/binaries_size</th>\n      <th>artifacts_count</th>\n      <th>artifacts_count_monthly_growth</th>\n      <th>artifacts_count_quarter_growth</th>\n      <th>artifacts_size</th>\n      <th>artifacts_size_monthly_growth</th>\n      <th>artifacts_size_quarter_growth</th>\n      <th>avg_resolution_days</th>\n      <th>...</th>\n      <th>pypi_monthly_growth</th>\n      <th>pypi_quarter_growth</th>\n      <th>qoe_score</th>\n      <th>replys_to_sent</th>\n      <th>support_views_views</th>\n      <th>territory</th>\n      <th>total_employees_range</th>\n      <th>total_employees_with_details</th>\n      <th>unresolved_jira_cases</th>\n      <th>xray_views</th>\n    </tr>\n  </thead>\n  <tbody>\n    <tr>\n      <th>0</th>\n      <td>-1</td>\n      <td>1.300404</td>\n      <td>1.014774</td>\n      <td>580352</td>\n      <td>-0.010603</td>\n      <td>-0.131726</td>\n      <td>28710</td>\n      <td>-0.003963</td>\n      <td>0.063740</td>\n      <td>-1</td>\n      <td>...</td>\n      <td>0.00</td>\n      <td>-0.25</td>\n      <td>-1.0</td>\n      <td>0.333333</td>\n      <td>-1</td>\n      <td>EMEA</td>\n      <td>251-1K</td>\n      <td>11.0</td>\n      <td>0</td>\n      <td>-1</td>\n    </tr>\n    <tr>\n      <th>1</th>\n      <td>-1</td>\n      <td>1.226489</td>\n      <td>1.475962</td>\n      <td>182585</td>\n      <td>0.056289</td>\n      <td>0.214977</td>\n      <td>921</td>\n      <td>0.061756</td>\n      <td>0.189489</td>\n      <td>-1</td>\n      <td>...</td>\n      <td>0.00</td>\n      <td>0.00</td>\n      <td>-1.0</td>\n      <td>0.000000</td>\n      <td>-1</td>\n      <td>EMEA</td>\n      <td>11-50</td>\n      <td>4.0</td>\n      <td>0</td>\n      <td>-1</td>\n    </tr>\n    <tr>\n      <th>2</th>\n      <td>-1</td>\n      <td>1.593653</td>\n      <td>1.051282</td>\n      <td>98475</td>\n      <td>0.014636</td>\n      <td>0.023652</td>\n      <td>82</td>\n      <td>0.012423</td>\n      <td>-0.010073</td>\n      <td>-1</td>\n      <td>...</td>\n      <td>0.00</td>\n      <td>0.00</td>\n      <td>-1.0</td>\n      <td>0.500000</td>\n      <td>-1</td>\n      <td>EMEA</td>\n      <td>51-250</td>\n      <td>3.0</td>\n      <td>0</td>\n      <td>-1</td>\n    </tr>\n    <tr>\n      <th>3</th>\n      <td>-1</td>\n      <td>0.947454</td>\n      <td>1.117647</td>\n      <td>11107</td>\n      <td>0.016707</td>\n      <td>0.069873</td>\n      <td>19</td>\n      <td>0.000000</td>\n      <td>0.057190</td>\n      <td>-1</td>\n      <td>...</td>\n      <td>0.00</td>\n      <td>0.00</td>\n      <td>-1.0</td>\n      <td>0.000000</td>\n      <td>-1</td>\n      <td>Americas</td>\n      <td>51-250</td>\n      <td>8.0</td>\n      <td>0</td>\n      <td>-1</td>\n    </tr>\n    <tr>\n      <th>4</th>\n      <td>-1</td>\n      <td>1.853653</td>\n      <td>2.400888</td>\n      <td>1422037</td>\n      <td>0.000362</td>\n      <td>0.047562</td>\n      <td>20554</td>\n      <td>-0.003600</td>\n      <td>0.042657</td>\n      <td>17</td>\n      <td>...</td>\n      <td>0.00</td>\n      <td>0.00</td>\n      <td>-1.0</td>\n      <td>0.500000</td>\n      <td>-1</td>\n      <td>EMEA</td>\n      <td>51-250</td>\n      <td>25.0</td>\n      <td>0</td>\n      <td>-1</td>\n    </tr>\n    <tr>\n      <th>...</th>\n      <td>...</td>\n      <td>...</td>\n      <td>...</td>\n      <td>...</td>\n      <td>...</td>\n      <td>...</td>\n      <td>...</td>\n      <td>...</td>\n      <td>...</td>\n      <td>...</td>\n      <td>...</td>\n      <td>...</td>\n      <td>...</td>\n      <td>...</td>\n      <td>...</td>\n      <td>...</td>\n      <td>...</td>\n      <td>...</td>\n      <td>...</td>\n      <td>...</td>\n      <td>...</td>\n    </tr>\n    <tr>\n      <th>2049</th>\n      <td>-1</td>\n      <td>1.045952</td>\n      <td>1.021768</td>\n      <td>377916</td>\n      <td>0.024678</td>\n      <td>0.080504</td>\n      <td>1549</td>\n      <td>0.039030</td>\n      <td>0.094248</td>\n      <td>-1</td>\n      <td>...</td>\n      <td>-0.25</td>\n      <td>0.25</td>\n      <td>-1.0</td>\n      <td>0.250000</td>\n      <td>-1</td>\n      <td>EMEA</td>\n      <td>51-250</td>\n      <td>6.0</td>\n      <td>0</td>\n      <td>-1</td>\n    </tr>\n    <tr>\n      <th>2050</th>\n      <td>-1</td>\n      <td>1.002824</td>\n      <td>1.000000</td>\n      <td>11009</td>\n      <td>0.003240</td>\n      <td>0.026102</td>\n      <td>3</td>\n      <td>0.000000</td>\n      <td>0.000000</td>\n      <td>-1</td>\n      <td>...</td>\n      <td>0.00</td>\n      <td>0.00</td>\n      <td>-1.0</td>\n      <td>0.625000</td>\n      <td>-1</td>\n      <td>EMEA</td>\n      <td>251-1K</td>\n      <td>8.0</td>\n      <td>0</td>\n      <td>-1</td>\n    </tr>\n    <tr>\n      <th>2051</th>\n      <td>2</td>\n      <td>1.463218</td>\n      <td>1.843091</td>\n      <td>110849</td>\n      <td>0.054692</td>\n      <td>0.131860</td>\n      <td>787</td>\n      <td>0.099509</td>\n      <td>0.364253</td>\n      <td>-1</td>\n      <td>...</td>\n      <td>0.00</td>\n      <td>0.00</td>\n      <td>-1.0</td>\n      <td>0.000000</td>\n      <td>0</td>\n      <td>EMEA</td>\n      <td>10K-50K</td>\n      <td>6.0</td>\n      <td>0</td>\n      <td>0</td>\n    </tr>\n    <tr>\n      <th>2052</th>\n      <td>-1</td>\n      <td>1.042327</td>\n      <td>1.012346</td>\n      <td>80304</td>\n      <td>0.017158</td>\n      <td>0.040923</td>\n      <td>82</td>\n      <td>0.006173</td>\n      <td>0.025404</td>\n      <td>-1</td>\n      <td>...</td>\n      <td>0.00</td>\n      <td>0.50</td>\n      <td>-1.0</td>\n      <td>0.333333</td>\n      <td>-1</td>\n      <td>EMEA</td>\n      <td>1K-5K</td>\n      <td>4.0</td>\n      <td>0</td>\n      <td>-1</td>\n    </tr>\n    <tr>\n      <th>2053</th>\n      <td>-1</td>\n      <td>1.669032</td>\n      <td>5.031496</td>\n      <td>85633</td>\n      <td>0.048081</td>\n      <td>0.096489</td>\n      <td>1278</td>\n      <td>0.025601</td>\n      <td>0.054665</td>\n      <td>-1</td>\n      <td>...</td>\n      <td>0.00</td>\n      <td>0.00</td>\n      <td>-1.0</td>\n      <td>0.000000</td>\n      <td>-1</td>\n      <td>EMEA</td>\n      <td>1-10</td>\n      <td>7.0</td>\n      <td>0</td>\n      <td>-1</td>\n    </tr>\n  </tbody>\n</table>\n<p>2054 rows × 108 columns</p>\n</div>"
     },
     "execution_count": 488,
     "metadata": {},
     "output_type": "execute_result"
    }
   ],
   "source": [
    "df_for_predict_clean = df_for_predict_clean.reindex(sorted(df_for_predict_clean.columns), axis=1)\n",
    "df_for_predict_clean"
   ],
   "metadata": {
    "collapsed": false,
    "pycharm": {
     "name": "#%%\n"
    }
   }
  },
  {
   "cell_type": "code",
   "execution_count": 489,
   "outputs": [
    {
     "data": {
      "text/plain": "[43, 103, 104]"
     },
     "execution_count": 489,
     "metadata": {},
     "output_type": "execute_result"
    }
   ],
   "source": [
    "cbc.get_cat_feature_indices()"
   ],
   "metadata": {
    "collapsed": false,
    "pycharm": {
     "name": "#%%\n"
    }
   }
  },
  {
   "cell_type": "code",
   "execution_count": 489,
   "outputs": [],
   "source": [],
   "metadata": {
    "collapsed": false,
    "pycharm": {
     "name": "#%%\n"
    }
   }
  },
  {
   "cell_type": "code",
   "execution_count": 490,
   "outputs": [],
   "source": [
    "df_for_predict_clean['class_pred_proba'] = cbc.predict_proba(df_for_predict_clean)[:, 1]"
   ],
   "metadata": {
    "collapsed": false,
    "pycharm": {
     "name": "#%%\n"
    }
   }
  },
  {
   "cell_type": "code",
   "execution_count": 491,
   "outputs": [
    {
     "data": {
      "text/plain": "      artifactory_views  artifacts/binaries_count  artifacts/binaries_size  \\\n0                    -1                  1.300404                 1.014774   \n1                    -1                  1.226489                 1.475962   \n2                    -1                  1.593653                 1.051282   \n3                    -1                  0.947454                 1.117647   \n4                    -1                  1.853653                 2.400888   \n...                 ...                       ...                      ...   \n2049                 -1                  1.045952                 1.021768   \n2050                 -1                  1.002824                 1.000000   \n2051                  2                  1.463218                 1.843091   \n2052                 -1                  1.042327                 1.012346   \n2053                 -1                  1.669032                 5.031496   \n\n      artifacts_count  artifacts_count_monthly_growth  \\\n0              580352                       -0.010603   \n1              182585                        0.056289   \n2               98475                        0.014636   \n3               11107                        0.016707   \n4             1422037                        0.000362   \n...               ...                             ...   \n2049           377916                        0.024678   \n2050            11009                        0.003240   \n2051           110849                        0.054692   \n2052            80304                        0.017158   \n2053            85633                        0.048081   \n\n      artifacts_count_quarter_growth  artifacts_size  \\\n0                          -0.131726           28710   \n1                           0.214977             921   \n2                           0.023652              82   \n3                           0.069873              19   \n4                           0.047562           20554   \n...                              ...             ...   \n2049                        0.080504            1549   \n2050                        0.026102               3   \n2051                        0.131860             787   \n2052                        0.040923              82   \n2053                        0.096489            1278   \n\n      artifacts_size_monthly_growth  artifacts_size_quarter_growth  \\\n0                         -0.003963                       0.063740   \n1                          0.061756                       0.189489   \n2                          0.012423                      -0.010073   \n3                          0.000000                       0.057190   \n4                         -0.003600                       0.042657   \n...                             ...                            ...   \n2049                       0.039030                       0.094248   \n2050                       0.000000                       0.000000   \n2051                       0.099509                       0.364253   \n2052                       0.006173                       0.025404   \n2053                       0.025601                       0.054665   \n\n      avg_resolution_days  ...  pypi_quarter_growth  qoe_score  \\\n0                      -1  ...                -0.25       -1.0   \n1                      -1  ...                 0.00       -1.0   \n2                      -1  ...                 0.00       -1.0   \n3                      -1  ...                 0.00       -1.0   \n4                      17  ...                 0.00       -1.0   \n...                   ...  ...                  ...        ...   \n2049                   -1  ...                 0.25       -1.0   \n2050                   -1  ...                 0.00       -1.0   \n2051                   -1  ...                 0.00       -1.0   \n2052                   -1  ...                 0.50       -1.0   \n2053                   -1  ...                 0.00       -1.0   \n\n      replys_to_sent  support_views_views  territory  total_employees_range  \\\n0           0.333333                   -1       EMEA                 251-1K   \n1           0.000000                   -1       EMEA                  11-50   \n2           0.500000                   -1       EMEA                 51-250   \n3           0.000000                   -1   Americas                 51-250   \n4           0.500000                   -1       EMEA                 51-250   \n...              ...                  ...        ...                    ...   \n2049        0.250000                   -1       EMEA                 51-250   \n2050        0.625000                   -1       EMEA                 251-1K   \n2051        0.000000                    0       EMEA                10K-50K   \n2052        0.333333                   -1       EMEA                  1K-5K   \n2053        0.000000                   -1       EMEA                   1-10   \n\n      total_employees_with_details  unresolved_jira_cases  xray_views  \\\n0                             11.0                      0          -1   \n1                              4.0                      0          -1   \n2                              3.0                      0          -1   \n3                              8.0                      0          -1   \n4                             25.0                      0          -1   \n...                            ...                    ...         ...   \n2049                           6.0                      0          -1   \n2050                           8.0                      0          -1   \n2051                           6.0                      0           0   \n2052                           4.0                      0          -1   \n2053                           7.0                      0          -1   \n\n      class_pred_proba  \n0             0.167474  \n1             0.204060  \n2             0.166906  \n3             0.174760  \n4             0.308810  \n...                ...  \n2049          0.194128  \n2050          0.156841  \n2051          0.355329  \n2052          0.181356  \n2053          0.138411  \n\n[2054 rows x 109 columns]",
      "text/html": "<div>\n<style scoped>\n    .dataframe tbody tr th:only-of-type {\n        vertical-align: middle;\n    }\n\n    .dataframe tbody tr th {\n        vertical-align: top;\n    }\n\n    .dataframe thead th {\n        text-align: right;\n    }\n</style>\n<table border=\"1\" class=\"dataframe\">\n  <thead>\n    <tr style=\"text-align: right;\">\n      <th></th>\n      <th>artifactory_views</th>\n      <th>artifacts/binaries_count</th>\n      <th>artifacts/binaries_size</th>\n      <th>artifacts_count</th>\n      <th>artifacts_count_monthly_growth</th>\n      <th>artifacts_count_quarter_growth</th>\n      <th>artifacts_size</th>\n      <th>artifacts_size_monthly_growth</th>\n      <th>artifacts_size_quarter_growth</th>\n      <th>avg_resolution_days</th>\n      <th>...</th>\n      <th>pypi_quarter_growth</th>\n      <th>qoe_score</th>\n      <th>replys_to_sent</th>\n      <th>support_views_views</th>\n      <th>territory</th>\n      <th>total_employees_range</th>\n      <th>total_employees_with_details</th>\n      <th>unresolved_jira_cases</th>\n      <th>xray_views</th>\n      <th>class_pred_proba</th>\n    </tr>\n  </thead>\n  <tbody>\n    <tr>\n      <th>0</th>\n      <td>-1</td>\n      <td>1.300404</td>\n      <td>1.014774</td>\n      <td>580352</td>\n      <td>-0.010603</td>\n      <td>-0.131726</td>\n      <td>28710</td>\n      <td>-0.003963</td>\n      <td>0.063740</td>\n      <td>-1</td>\n      <td>...</td>\n      <td>-0.25</td>\n      <td>-1.0</td>\n      <td>0.333333</td>\n      <td>-1</td>\n      <td>EMEA</td>\n      <td>251-1K</td>\n      <td>11.0</td>\n      <td>0</td>\n      <td>-1</td>\n      <td>0.167474</td>\n    </tr>\n    <tr>\n      <th>1</th>\n      <td>-1</td>\n      <td>1.226489</td>\n      <td>1.475962</td>\n      <td>182585</td>\n      <td>0.056289</td>\n      <td>0.214977</td>\n      <td>921</td>\n      <td>0.061756</td>\n      <td>0.189489</td>\n      <td>-1</td>\n      <td>...</td>\n      <td>0.00</td>\n      <td>-1.0</td>\n      <td>0.000000</td>\n      <td>-1</td>\n      <td>EMEA</td>\n      <td>11-50</td>\n      <td>4.0</td>\n      <td>0</td>\n      <td>-1</td>\n      <td>0.204060</td>\n    </tr>\n    <tr>\n      <th>2</th>\n      <td>-1</td>\n      <td>1.593653</td>\n      <td>1.051282</td>\n      <td>98475</td>\n      <td>0.014636</td>\n      <td>0.023652</td>\n      <td>82</td>\n      <td>0.012423</td>\n      <td>-0.010073</td>\n      <td>-1</td>\n      <td>...</td>\n      <td>0.00</td>\n      <td>-1.0</td>\n      <td>0.500000</td>\n      <td>-1</td>\n      <td>EMEA</td>\n      <td>51-250</td>\n      <td>3.0</td>\n      <td>0</td>\n      <td>-1</td>\n      <td>0.166906</td>\n    </tr>\n    <tr>\n      <th>3</th>\n      <td>-1</td>\n      <td>0.947454</td>\n      <td>1.117647</td>\n      <td>11107</td>\n      <td>0.016707</td>\n      <td>0.069873</td>\n      <td>19</td>\n      <td>0.000000</td>\n      <td>0.057190</td>\n      <td>-1</td>\n      <td>...</td>\n      <td>0.00</td>\n      <td>-1.0</td>\n      <td>0.000000</td>\n      <td>-1</td>\n      <td>Americas</td>\n      <td>51-250</td>\n      <td>8.0</td>\n      <td>0</td>\n      <td>-1</td>\n      <td>0.174760</td>\n    </tr>\n    <tr>\n      <th>4</th>\n      <td>-1</td>\n      <td>1.853653</td>\n      <td>2.400888</td>\n      <td>1422037</td>\n      <td>0.000362</td>\n      <td>0.047562</td>\n      <td>20554</td>\n      <td>-0.003600</td>\n      <td>0.042657</td>\n      <td>17</td>\n      <td>...</td>\n      <td>0.00</td>\n      <td>-1.0</td>\n      <td>0.500000</td>\n      <td>-1</td>\n      <td>EMEA</td>\n      <td>51-250</td>\n      <td>25.0</td>\n      <td>0</td>\n      <td>-1</td>\n      <td>0.308810</td>\n    </tr>\n    <tr>\n      <th>...</th>\n      <td>...</td>\n      <td>...</td>\n      <td>...</td>\n      <td>...</td>\n      <td>...</td>\n      <td>...</td>\n      <td>...</td>\n      <td>...</td>\n      <td>...</td>\n      <td>...</td>\n      <td>...</td>\n      <td>...</td>\n      <td>...</td>\n      <td>...</td>\n      <td>...</td>\n      <td>...</td>\n      <td>...</td>\n      <td>...</td>\n      <td>...</td>\n      <td>...</td>\n      <td>...</td>\n    </tr>\n    <tr>\n      <th>2049</th>\n      <td>-1</td>\n      <td>1.045952</td>\n      <td>1.021768</td>\n      <td>377916</td>\n      <td>0.024678</td>\n      <td>0.080504</td>\n      <td>1549</td>\n      <td>0.039030</td>\n      <td>0.094248</td>\n      <td>-1</td>\n      <td>...</td>\n      <td>0.25</td>\n      <td>-1.0</td>\n      <td>0.250000</td>\n      <td>-1</td>\n      <td>EMEA</td>\n      <td>51-250</td>\n      <td>6.0</td>\n      <td>0</td>\n      <td>-1</td>\n      <td>0.194128</td>\n    </tr>\n    <tr>\n      <th>2050</th>\n      <td>-1</td>\n      <td>1.002824</td>\n      <td>1.000000</td>\n      <td>11009</td>\n      <td>0.003240</td>\n      <td>0.026102</td>\n      <td>3</td>\n      <td>0.000000</td>\n      <td>0.000000</td>\n      <td>-1</td>\n      <td>...</td>\n      <td>0.00</td>\n      <td>-1.0</td>\n      <td>0.625000</td>\n      <td>-1</td>\n      <td>EMEA</td>\n      <td>251-1K</td>\n      <td>8.0</td>\n      <td>0</td>\n      <td>-1</td>\n      <td>0.156841</td>\n    </tr>\n    <tr>\n      <th>2051</th>\n      <td>2</td>\n      <td>1.463218</td>\n      <td>1.843091</td>\n      <td>110849</td>\n      <td>0.054692</td>\n      <td>0.131860</td>\n      <td>787</td>\n      <td>0.099509</td>\n      <td>0.364253</td>\n      <td>-1</td>\n      <td>...</td>\n      <td>0.00</td>\n      <td>-1.0</td>\n      <td>0.000000</td>\n      <td>0</td>\n      <td>EMEA</td>\n      <td>10K-50K</td>\n      <td>6.0</td>\n      <td>0</td>\n      <td>0</td>\n      <td>0.355329</td>\n    </tr>\n    <tr>\n      <th>2052</th>\n      <td>-1</td>\n      <td>1.042327</td>\n      <td>1.012346</td>\n      <td>80304</td>\n      <td>0.017158</td>\n      <td>0.040923</td>\n      <td>82</td>\n      <td>0.006173</td>\n      <td>0.025404</td>\n      <td>-1</td>\n      <td>...</td>\n      <td>0.50</td>\n      <td>-1.0</td>\n      <td>0.333333</td>\n      <td>-1</td>\n      <td>EMEA</td>\n      <td>1K-5K</td>\n      <td>4.0</td>\n      <td>0</td>\n      <td>-1</td>\n      <td>0.181356</td>\n    </tr>\n    <tr>\n      <th>2053</th>\n      <td>-1</td>\n      <td>1.669032</td>\n      <td>5.031496</td>\n      <td>85633</td>\n      <td>0.048081</td>\n      <td>0.096489</td>\n      <td>1278</td>\n      <td>0.025601</td>\n      <td>0.054665</td>\n      <td>-1</td>\n      <td>...</td>\n      <td>0.00</td>\n      <td>-1.0</td>\n      <td>0.000000</td>\n      <td>-1</td>\n      <td>EMEA</td>\n      <td>1-10</td>\n      <td>7.0</td>\n      <td>0</td>\n      <td>-1</td>\n      <td>0.138411</td>\n    </tr>\n  </tbody>\n</table>\n<p>2054 rows × 109 columns</p>\n</div>"
     },
     "execution_count": 491,
     "metadata": {},
     "output_type": "execute_result"
    }
   ],
   "source": [
    "df_for_predict_clean"
   ],
   "metadata": {
    "collapsed": false,
    "pycharm": {
     "name": "#%%\n"
    }
   }
  },
  {
   "cell_type": "code",
   "execution_count": 492,
   "outputs": [],
   "source": [
    "####################\n",
    "# WHAT IF ANALYSIS #\n",
    "####################\n",
    "\n",
    "processed_df_for_fit = X\n",
    "processed_df_for_fit['class'] = y\n",
    "processed_df_for_fit['class_pred_proba'] = cbc.predict_proba(X)[:, 1]"
   ],
   "metadata": {
    "collapsed": false,
    "pycharm": {
     "name": "#%%\n"
    }
   }
  },
  {
   "cell_type": "code",
   "execution_count": 493,
   "outputs": [],
   "source": [
    "high_bar_for_proba = processed_df_for_fit['class_pred_proba'].quantile(.85)\n",
    "low_bar_for_proba = processed_df_for_fit['class_pred_proba'].quantile(.7)\n",
    "processed_df_for_fit['class_pred'] = processed_df_for_fit['class_pred_proba'].apply(\n",
    "    lambda x: 'High' if x >= high_bar_for_proba else 'Medium' if x >= low_bar_for_proba else 'Low')"
   ],
   "metadata": {
    "collapsed": false,
    "pycharm": {
     "name": "#%%\n"
    }
   }
  },
  {
   "cell_type": "code",
   "execution_count": 494,
   "outputs": [],
   "source": [
    "high_bar_for_proba = df_for_predict_clean['class_pred_proba'].quantile(.85)\n",
    "low_bar_for_proba = df_for_predict_clean['class_pred_proba'].quantile(.7)\n",
    "df_for_predict_clean['class_pred'] = df_for_predict_clean['class_pred_proba'].apply(\n",
    "    lambda x: 'High' if x >= high_bar_for_proba else 'Medium' if x >= low_bar_for_proba else 'Low')"
   ],
   "metadata": {
    "collapsed": false,
    "pycharm": {
     "name": "#%%\n"
    }
   }
  },
  {
   "cell_type": "code",
   "execution_count": 495,
   "outputs": [
    {
     "data": {
      "text/plain": "      artifactory_views  artifacts/binaries_count  artifacts/binaries_size  \\\n0                    -1                  0.354839                 0.000000   \n1                    -1                  0.999321                 1.000000   \n2                    -1                  4.392331                 9.666667   \n3                    -1                  1.225715                 1.826087   \n4                    -1                  1.020973                 0.933333   \n...                 ...                       ...                      ...   \n2779                 -1                  1.559849                 1.430380   \n2780                 -1                  2.071819                 4.472771   \n2781                 -1                  1.161719                 1.021583   \n2782                 -1                  1.008543                 1.182796   \n2783                  0                  0.909677                 0.900000   \n\n      artifacts_count  artifacts_count_monthly_growth  \\\n0                  11                        0.000000   \n1               35321                        0.064754   \n2               27149                        0.543505   \n3               24681                        0.318772   \n4               12073                        0.036175   \n...               ...                             ...   \n2779            10738                       -0.305527   \n2780           841695                        0.025767   \n2781           242604                        0.038393   \n2782            53476                        0.024462   \n2783              423                       -0.050300   \n\n      artifacts_count_quarter_growth  artifacts_size  \\\n0                           0.000000               0   \n1                           0.038032              10   \n2                           4.498503             116   \n3                           6.534135              84   \n4                           0.340701              14   \n...                              ...             ...   \n2779                       -0.503121             339   \n2780                        0.136682           16755   \n2781                        0.130800             568   \n2782                        0.129615             110   \n2783                       -0.032385              45   \n\n      artifacts_size_monthly_growth  artifacts_size_quarter_growth  \\\n0                          0.000000                       0.000000   \n1                          0.055556                      -0.322823   \n2                          0.740681                       2.290043   \n3                          0.138578                       2.513636   \n4                          0.038462                       0.094697   \n...                             ...                            ...   \n2779                      -0.281288                      -0.216247   \n2780                       0.069766                       0.182638   \n2781                       0.032378                       0.084456   \n2782                      -0.004505                      -0.008806   \n2783                      -0.060662                      -0.039796   \n\n      avg_resolution_days  ...  replys_to_sent  support_views_views  \\\n0                      -1  ...        0.000000                   -1   \n1                      41  ...        0.000000                   -1   \n2                      -1  ...        0.000000                   -1   \n3                      18  ...        0.666667                   -1   \n4                      -1  ...        0.250000                   -1   \n...                   ...  ...             ...                  ...   \n2779                   16  ...        0.000000                   -1   \n2780                   -1  ...        0.000000                   -1   \n2781                   -1  ...       -1.000000                   -1   \n2782                   -1  ...        0.200000                   -1   \n2783                   -1  ...        0.000000                    0   \n\n      territory  total_employees_range  total_employees_with_details  \\\n0      Americas                 51-250                           3.0   \n1      Americas                 251-1K                          17.0   \n2          EMEA                 251-1K                           7.0   \n3      Americas                  1K-5K                          28.0   \n4          EMEA                   1-10                           2.0   \n...         ...                    ...                           ...   \n2779       EMEA               50K-100K                           2.0   \n2780   Americas                 51-250                          18.0   \n2781       EMEA                 51-250                          11.0   \n2782       APAC                 5K-10K                           9.0   \n2783       APAC                10K-50K                          10.0   \n\n      unresolved_jira_cases  xray_views  class  class_pred_proba  class_pred  \n0                         0          -1      0          0.154141         Low  \n1                         0          -1      0          0.266735         Low  \n2                         0          -1      1          0.705475        High  \n3                         0          -1      0          0.374733        High  \n4                         0          -1      0          0.124967         Low  \n...                     ...         ...    ...               ...         ...  \n2779                      0          -1      0          0.267687         Low  \n2780                      0          -1      0          0.231598         Low  \n2781                      0          -1      0          0.195564         Low  \n2782                      0          -1      0          0.128133         Low  \n2783                      0           0      0          0.200672         Low  \n\n[2784 rows x 111 columns]",
      "text/html": "<div>\n<style scoped>\n    .dataframe tbody tr th:only-of-type {\n        vertical-align: middle;\n    }\n\n    .dataframe tbody tr th {\n        vertical-align: top;\n    }\n\n    .dataframe thead th {\n        text-align: right;\n    }\n</style>\n<table border=\"1\" class=\"dataframe\">\n  <thead>\n    <tr style=\"text-align: right;\">\n      <th></th>\n      <th>artifactory_views</th>\n      <th>artifacts/binaries_count</th>\n      <th>artifacts/binaries_size</th>\n      <th>artifacts_count</th>\n      <th>artifacts_count_monthly_growth</th>\n      <th>artifacts_count_quarter_growth</th>\n      <th>artifacts_size</th>\n      <th>artifacts_size_monthly_growth</th>\n      <th>artifacts_size_quarter_growth</th>\n      <th>avg_resolution_days</th>\n      <th>...</th>\n      <th>replys_to_sent</th>\n      <th>support_views_views</th>\n      <th>territory</th>\n      <th>total_employees_range</th>\n      <th>total_employees_with_details</th>\n      <th>unresolved_jira_cases</th>\n      <th>xray_views</th>\n      <th>class</th>\n      <th>class_pred_proba</th>\n      <th>class_pred</th>\n    </tr>\n  </thead>\n  <tbody>\n    <tr>\n      <th>0</th>\n      <td>-1</td>\n      <td>0.354839</td>\n      <td>0.000000</td>\n      <td>11</td>\n      <td>0.000000</td>\n      <td>0.000000</td>\n      <td>0</td>\n      <td>0.000000</td>\n      <td>0.000000</td>\n      <td>-1</td>\n      <td>...</td>\n      <td>0.000000</td>\n      <td>-1</td>\n      <td>Americas</td>\n      <td>51-250</td>\n      <td>3.0</td>\n      <td>0</td>\n      <td>-1</td>\n      <td>0</td>\n      <td>0.154141</td>\n      <td>Low</td>\n    </tr>\n    <tr>\n      <th>1</th>\n      <td>-1</td>\n      <td>0.999321</td>\n      <td>1.000000</td>\n      <td>35321</td>\n      <td>0.064754</td>\n      <td>0.038032</td>\n      <td>10</td>\n      <td>0.055556</td>\n      <td>-0.322823</td>\n      <td>41</td>\n      <td>...</td>\n      <td>0.000000</td>\n      <td>-1</td>\n      <td>Americas</td>\n      <td>251-1K</td>\n      <td>17.0</td>\n      <td>0</td>\n      <td>-1</td>\n      <td>0</td>\n      <td>0.266735</td>\n      <td>Low</td>\n    </tr>\n    <tr>\n      <th>2</th>\n      <td>-1</td>\n      <td>4.392331</td>\n      <td>9.666667</td>\n      <td>27149</td>\n      <td>0.543505</td>\n      <td>4.498503</td>\n      <td>116</td>\n      <td>0.740681</td>\n      <td>2.290043</td>\n      <td>-1</td>\n      <td>...</td>\n      <td>0.000000</td>\n      <td>-1</td>\n      <td>EMEA</td>\n      <td>251-1K</td>\n      <td>7.0</td>\n      <td>0</td>\n      <td>-1</td>\n      <td>1</td>\n      <td>0.705475</td>\n      <td>High</td>\n    </tr>\n    <tr>\n      <th>3</th>\n      <td>-1</td>\n      <td>1.225715</td>\n      <td>1.826087</td>\n      <td>24681</td>\n      <td>0.318772</td>\n      <td>6.534135</td>\n      <td>84</td>\n      <td>0.138578</td>\n      <td>2.513636</td>\n      <td>18</td>\n      <td>...</td>\n      <td>0.666667</td>\n      <td>-1</td>\n      <td>Americas</td>\n      <td>1K-5K</td>\n      <td>28.0</td>\n      <td>0</td>\n      <td>-1</td>\n      <td>0</td>\n      <td>0.374733</td>\n      <td>High</td>\n    </tr>\n    <tr>\n      <th>4</th>\n      <td>-1</td>\n      <td>1.020973</td>\n      <td>0.933333</td>\n      <td>12073</td>\n      <td>0.036175</td>\n      <td>0.340701</td>\n      <td>14</td>\n      <td>0.038462</td>\n      <td>0.094697</td>\n      <td>-1</td>\n      <td>...</td>\n      <td>0.250000</td>\n      <td>-1</td>\n      <td>EMEA</td>\n      <td>1-10</td>\n      <td>2.0</td>\n      <td>0</td>\n      <td>-1</td>\n      <td>0</td>\n      <td>0.124967</td>\n      <td>Low</td>\n    </tr>\n    <tr>\n      <th>...</th>\n      <td>...</td>\n      <td>...</td>\n      <td>...</td>\n      <td>...</td>\n      <td>...</td>\n      <td>...</td>\n      <td>...</td>\n      <td>...</td>\n      <td>...</td>\n      <td>...</td>\n      <td>...</td>\n      <td>...</td>\n      <td>...</td>\n      <td>...</td>\n      <td>...</td>\n      <td>...</td>\n      <td>...</td>\n      <td>...</td>\n      <td>...</td>\n      <td>...</td>\n      <td>...</td>\n    </tr>\n    <tr>\n      <th>2779</th>\n      <td>-1</td>\n      <td>1.559849</td>\n      <td>1.430380</td>\n      <td>10738</td>\n      <td>-0.305527</td>\n      <td>-0.503121</td>\n      <td>339</td>\n      <td>-0.281288</td>\n      <td>-0.216247</td>\n      <td>16</td>\n      <td>...</td>\n      <td>0.000000</td>\n      <td>-1</td>\n      <td>EMEA</td>\n      <td>50K-100K</td>\n      <td>2.0</td>\n      <td>0</td>\n      <td>-1</td>\n      <td>0</td>\n      <td>0.267687</td>\n      <td>Low</td>\n    </tr>\n    <tr>\n      <th>2780</th>\n      <td>-1</td>\n      <td>2.071819</td>\n      <td>4.472771</td>\n      <td>841695</td>\n      <td>0.025767</td>\n      <td>0.136682</td>\n      <td>16755</td>\n      <td>0.069766</td>\n      <td>0.182638</td>\n      <td>-1</td>\n      <td>...</td>\n      <td>0.000000</td>\n      <td>-1</td>\n      <td>Americas</td>\n      <td>51-250</td>\n      <td>18.0</td>\n      <td>0</td>\n      <td>-1</td>\n      <td>0</td>\n      <td>0.231598</td>\n      <td>Low</td>\n    </tr>\n    <tr>\n      <th>2781</th>\n      <td>-1</td>\n      <td>1.161719</td>\n      <td>1.021583</td>\n      <td>242604</td>\n      <td>0.038393</td>\n      <td>0.130800</td>\n      <td>568</td>\n      <td>0.032378</td>\n      <td>0.084456</td>\n      <td>-1</td>\n      <td>...</td>\n      <td>-1.000000</td>\n      <td>-1</td>\n      <td>EMEA</td>\n      <td>51-250</td>\n      <td>11.0</td>\n      <td>0</td>\n      <td>-1</td>\n      <td>0</td>\n      <td>0.195564</td>\n      <td>Low</td>\n    </tr>\n    <tr>\n      <th>2782</th>\n      <td>-1</td>\n      <td>1.008543</td>\n      <td>1.182796</td>\n      <td>53476</td>\n      <td>0.024462</td>\n      <td>0.129615</td>\n      <td>110</td>\n      <td>-0.004505</td>\n      <td>-0.008806</td>\n      <td>-1</td>\n      <td>...</td>\n      <td>0.200000</td>\n      <td>-1</td>\n      <td>APAC</td>\n      <td>5K-10K</td>\n      <td>9.0</td>\n      <td>0</td>\n      <td>-1</td>\n      <td>0</td>\n      <td>0.128133</td>\n      <td>Low</td>\n    </tr>\n    <tr>\n      <th>2783</th>\n      <td>0</td>\n      <td>0.909677</td>\n      <td>0.900000</td>\n      <td>423</td>\n      <td>-0.050300</td>\n      <td>-0.032385</td>\n      <td>45</td>\n      <td>-0.060662</td>\n      <td>-0.039796</td>\n      <td>-1</td>\n      <td>...</td>\n      <td>0.000000</td>\n      <td>0</td>\n      <td>APAC</td>\n      <td>10K-50K</td>\n      <td>10.0</td>\n      <td>0</td>\n      <td>0</td>\n      <td>0</td>\n      <td>0.200672</td>\n      <td>Low</td>\n    </tr>\n  </tbody>\n</table>\n<p>2784 rows × 111 columns</p>\n</div>"
     },
     "execution_count": 495,
     "metadata": {},
     "output_type": "execute_result"
    }
   ],
   "source": [
    "processed_df_for_fit"
   ],
   "metadata": {
    "collapsed": false,
    "pycharm": {
     "name": "#%%\n"
    }
   }
  },
  {
   "cell_type": "code",
   "execution_count": 496,
   "outputs": [
    {
     "data": {
      "text/plain": "      artifactory_views  artifacts/binaries_count  artifacts/binaries_size  \\\n0                    -1                  1.300404                 1.014774   \n1                    -1                  1.226489                 1.475962   \n2                    -1                  1.593653                 1.051282   \n3                    -1                  0.947454                 1.117647   \n4                    -1                  1.853653                 2.400888   \n...                 ...                       ...                      ...   \n2049                 -1                  1.045952                 1.021768   \n2050                 -1                  1.002824                 1.000000   \n2051                  2                  1.463218                 1.843091   \n2052                 -1                  1.042327                 1.012346   \n2053                 -1                  1.669032                 5.031496   \n\n      artifacts_count  artifacts_count_monthly_growth  \\\n0              580352                       -0.010603   \n1              182585                        0.056289   \n2               98475                        0.014636   \n3               11107                        0.016707   \n4             1422037                        0.000362   \n...               ...                             ...   \n2049           377916                        0.024678   \n2050            11009                        0.003240   \n2051           110849                        0.054692   \n2052            80304                        0.017158   \n2053            85633                        0.048081   \n\n      artifacts_count_quarter_growth  artifacts_size  \\\n0                          -0.131726           28710   \n1                           0.214977             921   \n2                           0.023652              82   \n3                           0.069873              19   \n4                           0.047562           20554   \n...                              ...             ...   \n2049                        0.080504            1549   \n2050                        0.026102               3   \n2051                        0.131860             787   \n2052                        0.040923              82   \n2053                        0.096489            1278   \n\n      artifacts_size_monthly_growth  artifacts_size_quarter_growth  \\\n0                         -0.003963                       0.063740   \n1                          0.061756                       0.189489   \n2                          0.012423                      -0.010073   \n3                          0.000000                       0.057190   \n4                         -0.003600                       0.042657   \n...                             ...                            ...   \n2049                       0.039030                       0.094248   \n2050                       0.000000                       0.000000   \n2051                       0.099509                       0.364253   \n2052                       0.006173                       0.025404   \n2053                       0.025601                       0.054665   \n\n      avg_resolution_days  ...  qoe_score  replys_to_sent  \\\n0                      -1  ...       -1.0        0.333333   \n1                      -1  ...       -1.0        0.000000   \n2                      -1  ...       -1.0        0.500000   \n3                      -1  ...       -1.0        0.000000   \n4                      17  ...       -1.0        0.500000   \n...                   ...  ...        ...             ...   \n2049                   -1  ...       -1.0        0.250000   \n2050                   -1  ...       -1.0        0.625000   \n2051                   -1  ...       -1.0        0.000000   \n2052                   -1  ...       -1.0        0.333333   \n2053                   -1  ...       -1.0        0.000000   \n\n      support_views_views  territory  total_employees_range  \\\n0                      -1       EMEA                 251-1K   \n1                      -1       EMEA                  11-50   \n2                      -1       EMEA                 51-250   \n3                      -1   Americas                 51-250   \n4                      -1       EMEA                 51-250   \n...                   ...        ...                    ...   \n2049                   -1       EMEA                 51-250   \n2050                   -1       EMEA                 251-1K   \n2051                    0       EMEA                10K-50K   \n2052                   -1       EMEA                  1K-5K   \n2053                   -1       EMEA                   1-10   \n\n      total_employees_with_details  unresolved_jira_cases  xray_views  \\\n0                             11.0                      0          -1   \n1                              4.0                      0          -1   \n2                              3.0                      0          -1   \n3                              8.0                      0          -1   \n4                             25.0                      0          -1   \n...                            ...                    ...         ...   \n2049                           6.0                      0          -1   \n2050                           8.0                      0          -1   \n2051                           6.0                      0           0   \n2052                           4.0                      0          -1   \n2053                           7.0                      0          -1   \n\n      class_pred_proba  class_pred  \n0             0.167474         Low  \n1             0.204060         Low  \n2             0.166906         Low  \n3             0.174760         Low  \n4             0.308810        High  \n...                ...         ...  \n2049          0.194128         Low  \n2050          0.156841         Low  \n2051          0.355329        High  \n2052          0.181356         Low  \n2053          0.138411         Low  \n\n[2054 rows x 110 columns]",
      "text/html": "<div>\n<style scoped>\n    .dataframe tbody tr th:only-of-type {\n        vertical-align: middle;\n    }\n\n    .dataframe tbody tr th {\n        vertical-align: top;\n    }\n\n    .dataframe thead th {\n        text-align: right;\n    }\n</style>\n<table border=\"1\" class=\"dataframe\">\n  <thead>\n    <tr style=\"text-align: right;\">\n      <th></th>\n      <th>artifactory_views</th>\n      <th>artifacts/binaries_count</th>\n      <th>artifacts/binaries_size</th>\n      <th>artifacts_count</th>\n      <th>artifacts_count_monthly_growth</th>\n      <th>artifacts_count_quarter_growth</th>\n      <th>artifacts_size</th>\n      <th>artifacts_size_monthly_growth</th>\n      <th>artifacts_size_quarter_growth</th>\n      <th>avg_resolution_days</th>\n      <th>...</th>\n      <th>qoe_score</th>\n      <th>replys_to_sent</th>\n      <th>support_views_views</th>\n      <th>territory</th>\n      <th>total_employees_range</th>\n      <th>total_employees_with_details</th>\n      <th>unresolved_jira_cases</th>\n      <th>xray_views</th>\n      <th>class_pred_proba</th>\n      <th>class_pred</th>\n    </tr>\n  </thead>\n  <tbody>\n    <tr>\n      <th>0</th>\n      <td>-1</td>\n      <td>1.300404</td>\n      <td>1.014774</td>\n      <td>580352</td>\n      <td>-0.010603</td>\n      <td>-0.131726</td>\n      <td>28710</td>\n      <td>-0.003963</td>\n      <td>0.063740</td>\n      <td>-1</td>\n      <td>...</td>\n      <td>-1.0</td>\n      <td>0.333333</td>\n      <td>-1</td>\n      <td>EMEA</td>\n      <td>251-1K</td>\n      <td>11.0</td>\n      <td>0</td>\n      <td>-1</td>\n      <td>0.167474</td>\n      <td>Low</td>\n    </tr>\n    <tr>\n      <th>1</th>\n      <td>-1</td>\n      <td>1.226489</td>\n      <td>1.475962</td>\n      <td>182585</td>\n      <td>0.056289</td>\n      <td>0.214977</td>\n      <td>921</td>\n      <td>0.061756</td>\n      <td>0.189489</td>\n      <td>-1</td>\n      <td>...</td>\n      <td>-1.0</td>\n      <td>0.000000</td>\n      <td>-1</td>\n      <td>EMEA</td>\n      <td>11-50</td>\n      <td>4.0</td>\n      <td>0</td>\n      <td>-1</td>\n      <td>0.204060</td>\n      <td>Low</td>\n    </tr>\n    <tr>\n      <th>2</th>\n      <td>-1</td>\n      <td>1.593653</td>\n      <td>1.051282</td>\n      <td>98475</td>\n      <td>0.014636</td>\n      <td>0.023652</td>\n      <td>82</td>\n      <td>0.012423</td>\n      <td>-0.010073</td>\n      <td>-1</td>\n      <td>...</td>\n      <td>-1.0</td>\n      <td>0.500000</td>\n      <td>-1</td>\n      <td>EMEA</td>\n      <td>51-250</td>\n      <td>3.0</td>\n      <td>0</td>\n      <td>-1</td>\n      <td>0.166906</td>\n      <td>Low</td>\n    </tr>\n    <tr>\n      <th>3</th>\n      <td>-1</td>\n      <td>0.947454</td>\n      <td>1.117647</td>\n      <td>11107</td>\n      <td>0.016707</td>\n      <td>0.069873</td>\n      <td>19</td>\n      <td>0.000000</td>\n      <td>0.057190</td>\n      <td>-1</td>\n      <td>...</td>\n      <td>-1.0</td>\n      <td>0.000000</td>\n      <td>-1</td>\n      <td>Americas</td>\n      <td>51-250</td>\n      <td>8.0</td>\n      <td>0</td>\n      <td>-1</td>\n      <td>0.174760</td>\n      <td>Low</td>\n    </tr>\n    <tr>\n      <th>4</th>\n      <td>-1</td>\n      <td>1.853653</td>\n      <td>2.400888</td>\n      <td>1422037</td>\n      <td>0.000362</td>\n      <td>0.047562</td>\n      <td>20554</td>\n      <td>-0.003600</td>\n      <td>0.042657</td>\n      <td>17</td>\n      <td>...</td>\n      <td>-1.0</td>\n      <td>0.500000</td>\n      <td>-1</td>\n      <td>EMEA</td>\n      <td>51-250</td>\n      <td>25.0</td>\n      <td>0</td>\n      <td>-1</td>\n      <td>0.308810</td>\n      <td>High</td>\n    </tr>\n    <tr>\n      <th>...</th>\n      <td>...</td>\n      <td>...</td>\n      <td>...</td>\n      <td>...</td>\n      <td>...</td>\n      <td>...</td>\n      <td>...</td>\n      <td>...</td>\n      <td>...</td>\n      <td>...</td>\n      <td>...</td>\n      <td>...</td>\n      <td>...</td>\n      <td>...</td>\n      <td>...</td>\n      <td>...</td>\n      <td>...</td>\n      <td>...</td>\n      <td>...</td>\n      <td>...</td>\n      <td>...</td>\n    </tr>\n    <tr>\n      <th>2049</th>\n      <td>-1</td>\n      <td>1.045952</td>\n      <td>1.021768</td>\n      <td>377916</td>\n      <td>0.024678</td>\n      <td>0.080504</td>\n      <td>1549</td>\n      <td>0.039030</td>\n      <td>0.094248</td>\n      <td>-1</td>\n      <td>...</td>\n      <td>-1.0</td>\n      <td>0.250000</td>\n      <td>-1</td>\n      <td>EMEA</td>\n      <td>51-250</td>\n      <td>6.0</td>\n      <td>0</td>\n      <td>-1</td>\n      <td>0.194128</td>\n      <td>Low</td>\n    </tr>\n    <tr>\n      <th>2050</th>\n      <td>-1</td>\n      <td>1.002824</td>\n      <td>1.000000</td>\n      <td>11009</td>\n      <td>0.003240</td>\n      <td>0.026102</td>\n      <td>3</td>\n      <td>0.000000</td>\n      <td>0.000000</td>\n      <td>-1</td>\n      <td>...</td>\n      <td>-1.0</td>\n      <td>0.625000</td>\n      <td>-1</td>\n      <td>EMEA</td>\n      <td>251-1K</td>\n      <td>8.0</td>\n      <td>0</td>\n      <td>-1</td>\n      <td>0.156841</td>\n      <td>Low</td>\n    </tr>\n    <tr>\n      <th>2051</th>\n      <td>2</td>\n      <td>1.463218</td>\n      <td>1.843091</td>\n      <td>110849</td>\n      <td>0.054692</td>\n      <td>0.131860</td>\n      <td>787</td>\n      <td>0.099509</td>\n      <td>0.364253</td>\n      <td>-1</td>\n      <td>...</td>\n      <td>-1.0</td>\n      <td>0.000000</td>\n      <td>0</td>\n      <td>EMEA</td>\n      <td>10K-50K</td>\n      <td>6.0</td>\n      <td>0</td>\n      <td>0</td>\n      <td>0.355329</td>\n      <td>High</td>\n    </tr>\n    <tr>\n      <th>2052</th>\n      <td>-1</td>\n      <td>1.042327</td>\n      <td>1.012346</td>\n      <td>80304</td>\n      <td>0.017158</td>\n      <td>0.040923</td>\n      <td>82</td>\n      <td>0.006173</td>\n      <td>0.025404</td>\n      <td>-1</td>\n      <td>...</td>\n      <td>-1.0</td>\n      <td>0.333333</td>\n      <td>-1</td>\n      <td>EMEA</td>\n      <td>1K-5K</td>\n      <td>4.0</td>\n      <td>0</td>\n      <td>-1</td>\n      <td>0.181356</td>\n      <td>Low</td>\n    </tr>\n    <tr>\n      <th>2053</th>\n      <td>-1</td>\n      <td>1.669032</td>\n      <td>5.031496</td>\n      <td>85633</td>\n      <td>0.048081</td>\n      <td>0.096489</td>\n      <td>1278</td>\n      <td>0.025601</td>\n      <td>0.054665</td>\n      <td>-1</td>\n      <td>...</td>\n      <td>-1.0</td>\n      <td>0.000000</td>\n      <td>-1</td>\n      <td>EMEA</td>\n      <td>1-10</td>\n      <td>7.0</td>\n      <td>0</td>\n      <td>-1</td>\n      <td>0.138411</td>\n      <td>Low</td>\n    </tr>\n  </tbody>\n</table>\n<p>2054 rows × 110 columns</p>\n</div>"
     },
     "execution_count": 496,
     "metadata": {},
     "output_type": "execute_result"
    }
   ],
   "source": [
    "df_for_predict_clean"
   ],
   "metadata": {
    "collapsed": false,
    "pycharm": {
     "name": "#%%\n"
    }
   }
  },
  {
   "cell_type": "code",
   "execution_count": 497,
   "outputs": [],
   "source": [
    "top_model = cbc"
   ],
   "metadata": {
    "collapsed": false,
    "pycharm": {
     "name": "#%%\n"
    }
   }
  },
  {
   "cell_type": "code",
   "execution_count": 498,
   "outputs": [],
   "source": [
    "scaler = StandardScaler()\n",
    "bad_accounts = df_for_predict_clean[df_for_predict_clean['class_pred'] != 'High']"
   ],
   "metadata": {
    "collapsed": false,
    "pycharm": {
     "name": "#%%\n"
    }
   }
  },
  {
   "cell_type": "code",
   "execution_count": 499,
   "outputs": [
    {
     "name": "stdout",
     "output_type": "stream",
     "text": [
      "diff in classes:\n",
      "64\n",
      "out of\n",
      "2784\n"
     ]
    }
   ],
   "source": [
    "processed_df_for_fit['class_diff'] = processed_df_for_fit.apply(lambda row: 1 if\n",
    "                                    ((row['class'] == 1) & (row['class_pred_proba'] < 0.5))\n",
    "                                    or ((row['class'] == 0) & (row['class_pred_proba'] >= 0.5))\n",
    "                                    else 0, axis=1)\n",
    "# Predict class for train data (Test: how many are in different class from og label to predicted?)\n",
    "print('diff in classes:')\n",
    "print(np.sum(processed_df_for_fit['class_diff']))\n",
    "print('out of')\n",
    "print(processed_df_for_fit.shape[0])"
   ],
   "metadata": {
    "collapsed": false,
    "pycharm": {
     "name": "#%%\n"
    }
   }
  },
  {
   "cell_type": "code",
   "execution_count": 500,
   "outputs": [
    {
     "name": "stdout",
     "output_type": "stream",
     "text": [
      "The value counts of the predicted rating for the data of the train\n",
      "Low       1949\n",
      "High       418\n",
      "Medium     417\n",
      "Name: class_pred, dtype: int64\n",
      "cat val column of train data:\n",
      "Capital Goods_Americas_100K+                   128\n",
      "Software & Services_Americas_251-1K             31\n",
      "Software & Services_Americas_1K-5K              28\n",
      "Software & Services_Americas_51-250             27\n",
      "Software & Services_EMEA_251-1K                 18\n",
      "                                              ... \n",
      "unknown_EMEA_1K-5K                               1\n",
      "Banks_EMEA_1K-5K                                 1\n",
      "Insurance_Americas_251-1K                        1\n",
      "unknown_APAC_5K-10K                              1\n",
      "Consumer Durables & Apparel_Americas_5K-10K      1\n",
      "Name: cat_val, Length: 108, dtype: int64\n",
      "\n",
      "cat val column of real time data:\n",
      "Software & Services_EMEA_51-250                                    193\n",
      "Software & Services_Americas_51-250                                157\n",
      "Software & Services_EMEA_251-1K                                    111\n",
      "Software & Services_Americas_251-1K                                 97\n",
      "Software & Services_EMEA_1K-5K                                      46\n",
      "                                                                  ... \n",
      "Consumer Services_Americas_5K-10K                                    1\n",
      "Consumer Services_Americas_100K+                                     1\n",
      "Telecommunication Services_EMEA_100K+                                1\n",
      "Capital Goods_APAC_251-1K                                            1\n",
      "Independent Power and Renewable Electricity Producers_EMEA_1-10      1\n",
      "Name: cat_val, Length: 303, dtype: int64\n"
     ]
    },
    {
     "name": "stderr",
     "output_type": "stream",
     "text": [
      "\n",
      "A value is trying to be set on a copy of a slice from a DataFrame.\n",
      "Try using .loc[row_indexer,col_indexer] = value instead\n",
      "\n",
      "See the caveats in the documentation: https://pandas.pydata.org/pandas-docs/stable/user_guide/indexing.html#returning-a-view-versus-a-copy\n"
     ]
    }
   ],
   "source": [
    "# Filter only high class (Test: how many are high class and how many are the rest?)\n",
    "print(\"The value counts of the predicted rating for the data of the train\")\n",
    "print(processed_df_for_fit['class_pred'].value_counts(dropna=False))\n",
    "\n",
    "train_data_for_whatif = processed_df_for_fit.loc[processed_df_for_fit['class_pred'] == 'High', :].drop(\n",
    "    ['class_diff', 'class_pred_proba', 'class', 'class_pred'], axis=1)\n",
    "\n",
    "# For both train data and new data, add column for categorical features (Test: Value counts the cat val column, both for train and test)\n",
    "cat_cols = get_cat_feature_names(train_data_for_whatif)\n",
    "train_data_for_whatif['cat_val'] = train_data_for_whatif[cat_cols].apply(lambda row: '_'.join(row.values.astype(str)), axis=1)\n",
    "bad_accounts['cat_val'] = bad_accounts[cat_cols].apply(lambda row: '_'.join(row.values.astype(str)), axis=1)\n",
    "print(\"cat val column of train data:\")\n",
    "print(train_data_for_whatif['cat_val'].value_counts(dropna=False))\n",
    "print(\"\")\n",
    "print(\"cat val column of real time data:\")\n",
    "print(bad_accounts['cat_val'].value_counts(dropna=False))\n",
    "\n",
    "bad_accounts = bad_accounts.drop(['class_pred', 'class_pred_proba'], axis=1)\n",
    "bad_accounts = bad_accounts.drop(cat_cols, axis=1)\n",
    "train_data_for_whatif = train_data_for_whatif.drop(cat_cols, axis=1)"
   ],
   "metadata": {
    "collapsed": false,
    "pycharm": {
     "name": "#%%\n"
    }
   }
  },
  {
   "cell_type": "code",
   "execution_count": 501,
   "outputs": [
    {
     "data": {
      "text/plain": "      artifactory_views  artifacts/binaries_count  artifacts/binaries_size  \\\n2                    -1                  4.392331                 9.666667   \n3                    -1                  1.225715                 1.826087   \n23                   -1                  1.039786                 1.009375   \n25                   -1                  1.161397                 1.000000   \n33                   -1                  2.179312                 2.139556   \n...                 ...                       ...                      ...   \n2752                  0                  1.036412                 1.121569   \n2755                 -1                  3.761033                10.876923   \n2770                  0                  1.007743                 1.004785   \n2775                 -1                  1.161397                 1.000000   \n2778                  4                  0.986313                 1.555556   \n\n      artifacts_count  artifacts_count_monthly_growth  \\\n2               27149                        0.543505   \n3               24681                        0.318772   \n23               5828                        0.056772   \n25              10506                        0.897664   \n33             933053                        0.034048   \n...               ...                             ...   \n2752           116386                        0.076920   \n2755           885603                        0.035376   \n2770           157739                        0.377536   \n2775            10506                        0.897664   \n2778             9440                        0.395435   \n\n      artifacts_count_quarter_growth  artifacts_size  \\\n2                           4.498503             116   \n3                           6.534135              84   \n23                         -0.078578             323   \n25                          0.910573               4   \n33                          0.291701            4722   \n...                              ...             ...   \n2752                        0.173732             572   \n2755                        0.087365            4242   \n2770                        0.381820             420   \n2775                        0.910573               4   \n2778                        0.939426              42   \n\n      artifacts_size_monthly_growth  artifacts_size_quarter_growth  \\\n2                          0.740681                       2.290043   \n3                          0.138578                       2.513636   \n23                         0.158065                      -0.143521   \n25                         0.500000                       1.500000   \n33                         0.048379                       0.368138   \n...                             ...                            ...   \n2752                       0.034031                       0.129011   \n2755                       0.038719                       0.067310   \n2770                       0.238001                       0.264706   \n2775                       0.500000                       1.500000   \n2778                       0.097619                       0.151989   \n\n      avg_resolution_days  ...  pypi  pypi_monthly_growth  \\\n2                      -1  ...   0.0                  0.0   \n3                      18  ...   1.0                  0.0   \n23                     11  ...   0.0                  0.0   \n25                      5  ...   0.0                  0.0   \n33                     -1  ...   1.0                  0.0   \n...                   ...  ...   ...                  ...   \n2752                   16  ...   1.0                  0.0   \n2755                   -1  ...   3.0                  0.0   \n2770                   -1  ...   0.0                  0.0   \n2775                    5  ...   0.0                  0.0   \n2778                   24  ...   1.0                  0.0   \n\n      pypi_quarter_growth  qoe_score  replys_to_sent  support_views_views  \\\n2                    0.00       -1.0        0.000000                   -1   \n3                    0.00       -1.0        0.666667                   -1   \n23                   0.00       -1.0        0.250000                   -1   \n25                   0.00       -1.0        0.484848                   -1   \n33                   0.00       -1.0        1.000000                   -1   \n...                   ...        ...             ...                  ...   \n2752                -0.25       -1.0        0.500000                    2   \n2755                 0.00       -1.0       -1.000000                   -1   \n2770                 0.00       -1.0        0.000000                    0   \n2775                 0.00       -1.0        0.484848                   -1   \n2778                 0.00       -1.0        0.333333                    0   \n\n      total_employees_with_details  unresolved_jira_cases  xray_views  \\\n2                              7.0                      0          -1   \n3                             28.0                      0          -1   \n23                             6.0                      1          -1   \n25                            14.0                      0          -1   \n33                            15.0                      1          -1   \n...                            ...                    ...         ...   \n2752                          19.0                      0           0   \n2755                           4.0                      0          -1   \n2770                          23.0                      0           0   \n2775                          14.0                      0          -1   \n2778                          10.0                      2           0   \n\n                                            cat_val  \n2                   Software & Services_EMEA_251-1K  \n3                Software & Services_Americas_1K-5K  \n23                   Transportation_Americas_251-1K  \n25                     Capital Goods_Americas_100K+  \n33              Software & Services_Americas_251-1K  \n...                                             ...  \n2752             Software & Services_Americas_1K-5K  \n2755    Consumer Durables & Apparel_Americas_5K-10K  \n2770  Diversified Consumer Services_Americas_5K-10K  \n2775                   Capital Goods_Americas_100K+  \n2778    Technology Hardware & Equipment_EMEA_251-1K  \n\n[418 rows x 106 columns]",
      "text/html": "<div>\n<style scoped>\n    .dataframe tbody tr th:only-of-type {\n        vertical-align: middle;\n    }\n\n    .dataframe tbody tr th {\n        vertical-align: top;\n    }\n\n    .dataframe thead th {\n        text-align: right;\n    }\n</style>\n<table border=\"1\" class=\"dataframe\">\n  <thead>\n    <tr style=\"text-align: right;\">\n      <th></th>\n      <th>artifactory_views</th>\n      <th>artifacts/binaries_count</th>\n      <th>artifacts/binaries_size</th>\n      <th>artifacts_count</th>\n      <th>artifacts_count_monthly_growth</th>\n      <th>artifacts_count_quarter_growth</th>\n      <th>artifacts_size</th>\n      <th>artifacts_size_monthly_growth</th>\n      <th>artifacts_size_quarter_growth</th>\n      <th>avg_resolution_days</th>\n      <th>...</th>\n      <th>pypi</th>\n      <th>pypi_monthly_growth</th>\n      <th>pypi_quarter_growth</th>\n      <th>qoe_score</th>\n      <th>replys_to_sent</th>\n      <th>support_views_views</th>\n      <th>total_employees_with_details</th>\n      <th>unresolved_jira_cases</th>\n      <th>xray_views</th>\n      <th>cat_val</th>\n    </tr>\n  </thead>\n  <tbody>\n    <tr>\n      <th>2</th>\n      <td>-1</td>\n      <td>4.392331</td>\n      <td>9.666667</td>\n      <td>27149</td>\n      <td>0.543505</td>\n      <td>4.498503</td>\n      <td>116</td>\n      <td>0.740681</td>\n      <td>2.290043</td>\n      <td>-1</td>\n      <td>...</td>\n      <td>0.0</td>\n      <td>0.0</td>\n      <td>0.00</td>\n      <td>-1.0</td>\n      <td>0.000000</td>\n      <td>-1</td>\n      <td>7.0</td>\n      <td>0</td>\n      <td>-1</td>\n      <td>Software &amp; Services_EMEA_251-1K</td>\n    </tr>\n    <tr>\n      <th>3</th>\n      <td>-1</td>\n      <td>1.225715</td>\n      <td>1.826087</td>\n      <td>24681</td>\n      <td>0.318772</td>\n      <td>6.534135</td>\n      <td>84</td>\n      <td>0.138578</td>\n      <td>2.513636</td>\n      <td>18</td>\n      <td>...</td>\n      <td>1.0</td>\n      <td>0.0</td>\n      <td>0.00</td>\n      <td>-1.0</td>\n      <td>0.666667</td>\n      <td>-1</td>\n      <td>28.0</td>\n      <td>0</td>\n      <td>-1</td>\n      <td>Software &amp; Services_Americas_1K-5K</td>\n    </tr>\n    <tr>\n      <th>23</th>\n      <td>-1</td>\n      <td>1.039786</td>\n      <td>1.009375</td>\n      <td>5828</td>\n      <td>0.056772</td>\n      <td>-0.078578</td>\n      <td>323</td>\n      <td>0.158065</td>\n      <td>-0.143521</td>\n      <td>11</td>\n      <td>...</td>\n      <td>0.0</td>\n      <td>0.0</td>\n      <td>0.00</td>\n      <td>-1.0</td>\n      <td>0.250000</td>\n      <td>-1</td>\n      <td>6.0</td>\n      <td>1</td>\n      <td>-1</td>\n      <td>Transportation_Americas_251-1K</td>\n    </tr>\n    <tr>\n      <th>25</th>\n      <td>-1</td>\n      <td>1.161397</td>\n      <td>1.000000</td>\n      <td>10506</td>\n      <td>0.897664</td>\n      <td>0.910573</td>\n      <td>4</td>\n      <td>0.500000</td>\n      <td>1.500000</td>\n      <td>5</td>\n      <td>...</td>\n      <td>0.0</td>\n      <td>0.0</td>\n      <td>0.00</td>\n      <td>-1.0</td>\n      <td>0.484848</td>\n      <td>-1</td>\n      <td>14.0</td>\n      <td>0</td>\n      <td>-1</td>\n      <td>Capital Goods_Americas_100K+</td>\n    </tr>\n    <tr>\n      <th>33</th>\n      <td>-1</td>\n      <td>2.179312</td>\n      <td>2.139556</td>\n      <td>933053</td>\n      <td>0.034048</td>\n      <td>0.291701</td>\n      <td>4722</td>\n      <td>0.048379</td>\n      <td>0.368138</td>\n      <td>-1</td>\n      <td>...</td>\n      <td>1.0</td>\n      <td>0.0</td>\n      <td>0.00</td>\n      <td>-1.0</td>\n      <td>1.000000</td>\n      <td>-1</td>\n      <td>15.0</td>\n      <td>1</td>\n      <td>-1</td>\n      <td>Software &amp; Services_Americas_251-1K</td>\n    </tr>\n    <tr>\n      <th>...</th>\n      <td>...</td>\n      <td>...</td>\n      <td>...</td>\n      <td>...</td>\n      <td>...</td>\n      <td>...</td>\n      <td>...</td>\n      <td>...</td>\n      <td>...</td>\n      <td>...</td>\n      <td>...</td>\n      <td>...</td>\n      <td>...</td>\n      <td>...</td>\n      <td>...</td>\n      <td>...</td>\n      <td>...</td>\n      <td>...</td>\n      <td>...</td>\n      <td>...</td>\n      <td>...</td>\n    </tr>\n    <tr>\n      <th>2752</th>\n      <td>0</td>\n      <td>1.036412</td>\n      <td>1.121569</td>\n      <td>116386</td>\n      <td>0.076920</td>\n      <td>0.173732</td>\n      <td>572</td>\n      <td>0.034031</td>\n      <td>0.129011</td>\n      <td>16</td>\n      <td>...</td>\n      <td>1.0</td>\n      <td>0.0</td>\n      <td>-0.25</td>\n      <td>-1.0</td>\n      <td>0.500000</td>\n      <td>2</td>\n      <td>19.0</td>\n      <td>0</td>\n      <td>0</td>\n      <td>Software &amp; Services_Americas_1K-5K</td>\n    </tr>\n    <tr>\n      <th>2755</th>\n      <td>-1</td>\n      <td>3.761033</td>\n      <td>10.876923</td>\n      <td>885603</td>\n      <td>0.035376</td>\n      <td>0.087365</td>\n      <td>4242</td>\n      <td>0.038719</td>\n      <td>0.067310</td>\n      <td>-1</td>\n      <td>...</td>\n      <td>3.0</td>\n      <td>0.0</td>\n      <td>0.00</td>\n      <td>-1.0</td>\n      <td>-1.000000</td>\n      <td>-1</td>\n      <td>4.0</td>\n      <td>0</td>\n      <td>-1</td>\n      <td>Consumer Durables &amp; Apparel_Americas_5K-10K</td>\n    </tr>\n    <tr>\n      <th>2770</th>\n      <td>0</td>\n      <td>1.007743</td>\n      <td>1.004785</td>\n      <td>157739</td>\n      <td>0.377536</td>\n      <td>0.381820</td>\n      <td>420</td>\n      <td>0.238001</td>\n      <td>0.264706</td>\n      <td>-1</td>\n      <td>...</td>\n      <td>0.0</td>\n      <td>0.0</td>\n      <td>0.00</td>\n      <td>-1.0</td>\n      <td>0.000000</td>\n      <td>0</td>\n      <td>23.0</td>\n      <td>0</td>\n      <td>0</td>\n      <td>Diversified Consumer Services_Americas_5K-10K</td>\n    </tr>\n    <tr>\n      <th>2775</th>\n      <td>-1</td>\n      <td>1.161397</td>\n      <td>1.000000</td>\n      <td>10506</td>\n      <td>0.897664</td>\n      <td>0.910573</td>\n      <td>4</td>\n      <td>0.500000</td>\n      <td>1.500000</td>\n      <td>5</td>\n      <td>...</td>\n      <td>0.0</td>\n      <td>0.0</td>\n      <td>0.00</td>\n      <td>-1.0</td>\n      <td>0.484848</td>\n      <td>-1</td>\n      <td>14.0</td>\n      <td>0</td>\n      <td>-1</td>\n      <td>Capital Goods_Americas_100K+</td>\n    </tr>\n    <tr>\n      <th>2778</th>\n      <td>4</td>\n      <td>0.986313</td>\n      <td>1.555556</td>\n      <td>9440</td>\n      <td>0.395435</td>\n      <td>0.939426</td>\n      <td>42</td>\n      <td>0.097619</td>\n      <td>0.151989</td>\n      <td>24</td>\n      <td>...</td>\n      <td>1.0</td>\n      <td>0.0</td>\n      <td>0.00</td>\n      <td>-1.0</td>\n      <td>0.333333</td>\n      <td>0</td>\n      <td>10.0</td>\n      <td>2</td>\n      <td>0</td>\n      <td>Technology Hardware &amp; Equipment_EMEA_251-1K</td>\n    </tr>\n  </tbody>\n</table>\n<p>418 rows × 106 columns</p>\n</div>"
     },
     "execution_count": 501,
     "metadata": {},
     "output_type": "execute_result"
    }
   ],
   "source": [
    "train_data_for_whatif"
   ],
   "metadata": {
    "collapsed": false,
    "pycharm": {
     "name": "#%%\n"
    }
   }
  },
  {
   "cell_type": "code",
   "execution_count": 504,
   "outputs": [],
   "source": [
    "exclude_for_analysis = ['total_employees_with_details',\n",
    "                        'nuget',\n",
    "                        'n_jira_cases',\n",
    "                        'number_of_users_monthly_growth',\n",
    "                        'n_contacts',\n",
    "                        'days_from_users_change']"
   ],
   "metadata": {
    "collapsed": false,
    "pycharm": {
     "name": "#%%\n"
    }
   }
  },
  {
   "cell_type": "code",
   "execution_count": 505,
   "outputs": [
    {
     "name": "stdout",
     "output_type": "stream",
     "text": [
      "(18, 106)\n",
      "You should change the feature days_since_reply to be smaller\n",
      "(0, 106)\n",
      "You should change the feature days_since_reply to be smaller\n",
      "(1, 106)\n",
      "You should change the feature docker_quarter_growth to be smaller\n",
      "(27, 106)\n",
      "You should change the feature days_from_permissions_change to be smaller\n",
      "(18, 106)\n",
      "You should change the feature maven_monthly_growth to be bigger\n",
      "(4, 106)\n",
      "You should change the feature days_since_sent to be bigger\n",
      "(0, 106)\n",
      "You should change the feature days_since_sent to be smaller\n",
      "(27, 106)\n",
      "You should change the feature days_since_reply to be smaller\n",
      "(2, 106)\n",
      "You should change the feature days_since_sent to be smaller\n",
      "(18, 106)\n",
      "You should change the feature days_since_sent to be smaller\n",
      "(0, 106)\n",
      "You should change the feature maven_quarter_growth to be smaller\n",
      "(27, 106)\n",
      "You should change the feature days_from_permissions_change to be smaller\n",
      "(6, 106)\n",
      "You should change the feature maven_quarter_growth to be smaller\n",
      "(2, 106)\n"
     ]
    },
    {
     "name": "stderr",
     "output_type": "stream",
     "text": [
      "invalid value encountered in true_divide\n",
      "invalid value encountered in true_divide\n",
      "invalid value encountered in true_divide\n"
     ]
    },
    {
     "name": "stdout",
     "output_type": "stream",
     "text": [
      "You should change the feature n_xray_sessions_last_year to be smaller\n",
      "(18, 106)\n",
      "You should change the feature maven to be smaller\n",
      "(0, 106)\n",
      "You should change the feature days_since_sent to be smaller\n",
      "(2, 106)\n",
      "You should change the feature days_since_sent to be smaller\n",
      "(0, 106)\n",
      "You should change the feature days_from_permissions_change to be smaller\n",
      "(18, 106)\n",
      "You should change the feature number_of_users to be smaller\n",
      "(31, 106)\n",
      "You should change the feature days_since_sent to be bigger\n",
      "(3, 106)\n",
      "You should change the feature number_of_users to be smaller\n",
      "(2, 106)\n",
      "You should change the feature days_since_sent to be smaller\n",
      "(2, 106)\n",
      "You should change the feature unresolved_jira_cases to be bigger\n",
      "(0, 106)\n",
      "You should change the feature maven_quarter_growth to be smaller\n",
      "(2, 106)\n",
      "You should change the feature days_from_internal_groups_change to be smaller\n",
      "(6, 106)\n",
      "You should change the feature maven_quarter_growth to be smaller\n",
      "(1, 106)\n",
      "You should change the feature days_from_internal_groups_change to be bigger\n",
      "(18, 106)\n",
      "You should change the feature days_since_sent to be bigger\n",
      "(0, 106)\n",
      "You should change the feature n_tech_monthly_growth to be bigger\n",
      "(18, 106)\n",
      "You should change the feature days_from_contact_added to be smaller\n",
      "(0, 106)\n",
      "You should change the feature maven to be smaller\n",
      "(31, 106)\n",
      "You should change the feature maven to be smaller\n",
      "(0, 106)\n"
     ]
    },
    {
     "ename": "ValueError",
     "evalue": "invalid literal for int() with base 10: 'Food, Beverage & Tobacco_EMEA_50K-100K'",
     "output_type": "error",
     "traceback": [
      "\u001B[0;31m---------------------------------------------------------------------------\u001B[0m",
      "\u001B[0;31mValueError\u001B[0m                                Traceback (most recent call last)",
      "\u001B[0;32m/var/folders/3p/90mm5d1j34b1l2m7qvjjpb540000gn/T/ipykernel_17644/2219633035.py\u001B[0m in \u001B[0;36m<module>\u001B[0;34m\u001B[0m\n\u001B[1;32m     39\u001B[0m     \u001B[0;32mwhile\u001B[0m \u001B[0;32mnot\u001B[0m \u001B[0mfound_feature\u001B[0m\u001B[0;34m:\u001B[0m\u001B[0;34m\u001B[0m\u001B[0;34m\u001B[0m\u001B[0m\n\u001B[1;32m     40\u001B[0m         \u001B[0mfeature_name\u001B[0m \u001B[0;34m=\u001B[0m \u001B[0mlist\u001B[0m\u001B[0;34m(\u001B[0m\u001B[0mtrain_data_subset\u001B[0m\u001B[0;34m.\u001B[0m\u001B[0mcolumns\u001B[0m\u001B[0;34m)\u001B[0m\u001B[0;34m[\u001B[0m\u001B[0mmax_diff_loc\u001B[0m\u001B[0;34m]\u001B[0m\u001B[0;34m\u001B[0m\u001B[0;34m\u001B[0m\u001B[0m\n\u001B[0;32m---> 41\u001B[0;31m         \u001B[0mnb_val_bigger\u001B[0m \u001B[0;34m=\u001B[0m \u001B[0mint\u001B[0m\u001B[0;34m(\u001B[0m\u001B[0mrow\u001B[0m\u001B[0;34m.\u001B[0m\u001B[0miloc\u001B[0m\u001B[0;34m[\u001B[0m\u001B[0mmax_diff_loc\u001B[0m\u001B[0;34m]\u001B[0m\u001B[0;34m)\u001B[0m \u001B[0;34m>\u001B[0m \u001B[0mint\u001B[0m\u001B[0;34m(\u001B[0m\u001B[0mclosest_obs\u001B[0m\u001B[0;34m.\u001B[0m\u001B[0miloc\u001B[0m\u001B[0;34m[\u001B[0m\u001B[0;36m0\u001B[0m\u001B[0;34m,\u001B[0m \u001B[0mmax_diff_loc\u001B[0m\u001B[0;34m]\u001B[0m\u001B[0;34m)\u001B[0m\u001B[0;34m\u001B[0m\u001B[0;34m\u001B[0m\u001B[0m\n\u001B[0m\u001B[1;32m     42\u001B[0m         \u001B[0mnb_val_equal\u001B[0m \u001B[0;34m=\u001B[0m \u001B[0mint\u001B[0m\u001B[0;34m(\u001B[0m\u001B[0mrow\u001B[0m\u001B[0;34m.\u001B[0m\u001B[0miloc\u001B[0m\u001B[0;34m[\u001B[0m\u001B[0mmax_diff_loc\u001B[0m\u001B[0;34m]\u001B[0m\u001B[0;34m)\u001B[0m \u001B[0;34m==\u001B[0m \u001B[0mint\u001B[0m\u001B[0;34m(\u001B[0m\u001B[0mclosest_obs\u001B[0m\u001B[0;34m.\u001B[0m\u001B[0miloc\u001B[0m\u001B[0;34m[\u001B[0m\u001B[0;36m0\u001B[0m\u001B[0;34m,\u001B[0m \u001B[0mmax_diff_loc\u001B[0m\u001B[0;34m]\u001B[0m\u001B[0;34m)\u001B[0m\u001B[0;34m\u001B[0m\u001B[0;34m\u001B[0m\u001B[0m\n\u001B[1;32m     43\u001B[0m         \u001B[0mstr_for_parse\u001B[0m \u001B[0;34m=\u001B[0m \u001B[0;34m\" to be bigger\"\u001B[0m \u001B[0;32mif\u001B[0m \u001B[0mnb_val_bigger\u001B[0m \u001B[0;32melse\u001B[0m \u001B[0;34m\" to be smaller\"\u001B[0m\u001B[0;34m\u001B[0m\u001B[0;34m\u001B[0m\u001B[0m\n",
      "\u001B[0;31mValueError\u001B[0m: invalid literal for int() with base 10: 'Food, Beverage & Tobacco_EMEA_50K-100K'"
     ]
    }
   ],
   "source": [
    "for index, row in bad_accounts.iterrows():\n",
    "    row = row.reindex(sorted(row.index), axis=1)\n",
    "    row_trans = pd.DataFrame(row)\n",
    "    # For each instance of new data in iteration, bring train data of same categorical values\n",
    "    train_data_subset = train_data_for_whatif.loc[train_data_for_whatif['cat_val'] == row['cat_val'], :]\n",
    "    print(train_data_subset.shape)\n",
    "    if train_data_subset.shape[0] == 0:\n",
    "        train_data_subset = train_data_for_whatif\n",
    "\n",
    "    # Attach the subset of train data with the current instance (Test: whats the shape before and after attach)\n",
    "    train_data_subset_w_instance = pd.concat([train_data_subset, row_trans.transpose()])\n",
    "    # print(\"shape of train data:\")\n",
    "    # print(train_data_subset.shape)\n",
    "    # print(\"shape of data with the row:\")\n",
    "    # print(train_data_subset_w_instance.shape)\n",
    "    # Remove the newly added categorical column\n",
    "    train_data_subset_w_instance = train_data_subset_w_instance.drop(['cat_val'], axis=1)\n",
    "\n",
    "    # Scale the concated df\n",
    "    df_whatif_scaled = pd.DataFrame(scaler.fit_transform(train_data_subset_w_instance),\n",
    "                                    columns=train_data_subset_w_instance.columns)\n",
    "    df_whatif_scaled = df_whatif_scaled.fillna(0)\n",
    "\n",
    "    # Find nearest neighbour for the instance we care for from the other data set\n",
    "    sample = df_whatif_scaled.iloc[-1]\n",
    "    df_whatif_scaled_wo_sample = df_whatif_scaled.iloc[:-1, :]\n",
    "    dists = [cityblock(sample, df_whatif_scaled_wo_sample.iloc[i]) for i in\n",
    "             (range(df_whatif_scaled_wo_sample.shape[0]))]\n",
    "    closest_obs = train_data_subset.iloc[[np.argmin(dists)], range(train_data_subset.shape[1])].drop('cat_val', axis=1)\n",
    "\n",
    "    # Calculate shap values for the neighbor's features and the current instance's features, calculate diffs\n",
    "    df_concat_for_shap = pd.concat([closest_obs, row_trans.transpose()], axis=0).drop('cat_val', axis=1)\n",
    "    shap_values_total = shap.TreeExplainer(cbc_no_cats).shap_values(df_concat_for_shap)\n",
    "\n",
    "    # Create recommendations based on the top diff feature\n",
    "    shap_diff = np.subtract(shap_values_total[0], shap_values_total[1])\n",
    "    max_diff_loc = np.argmax(shap_diff)\n",
    "    found_feature = False\n",
    "    while not found_feature:\n",
    "        feature_name = list(train_data_subset.columns)[max_diff_loc]\n",
    "        nb_val_bigger = int(row.iloc[max_diff_loc]) > int(closest_obs.iloc[0, max_diff_loc])\n",
    "        nb_val_equal = int(row.iloc[max_diff_loc]) == int(closest_obs.iloc[0, max_diff_loc])\n",
    "        str_for_parse = \" to be bigger\" if nb_val_bigger else \" to be smaller\"\n",
    "        if not nb_val_equal and feature_name not in exclude_for_analysis:\n",
    "            found_feature = True\n",
    "            print(\"You should change the feature \" + feature_name + str_for_parse)\n",
    "        else:\n",
    "            shap_diff[np.argmax(shap_diff)] = -100000000000\n",
    "            max_diff_loc = np.argmax(shap_diff)\n",
    "\n"
   ],
   "metadata": {
    "collapsed": false,
    "pycharm": {
     "name": "#%%\n"
    }
   }
  },
  {
   "cell_type": "code",
   "execution_count": null,
   "outputs": [],
   "source": [],
   "metadata": {
    "collapsed": false,
    "pycharm": {
     "name": "#%%\n"
    }
   }
  }
 ],
 "metadata": {
  "kernelspec": {
   "display_name": "Python 3 (ipykernel)",
   "language": "python",
   "name": "python3"
  },
  "language_info": {
   "codemirror_mode": {
    "name": "ipython",
    "version": 3
   },
   "file_extension": ".py",
   "mimetype": "text/x-python",
   "name": "python",
   "nbconvert_exporter": "python",
   "pygments_lexer": "ipython3",
   "version": "3.8.2"
  },
  "varInspector": {
   "cols": {
    "lenName": 16,
    "lenType": 16,
    "lenVar": 40
   },
   "kernels_config": {
    "python": {
     "delete_cmd_postfix": "",
     "delete_cmd_prefix": "del ",
     "library": "var_list.py",
     "varRefreshCmd": "print(var_dic_list())"
    },
    "r": {
     "delete_cmd_postfix": ") ",
     "delete_cmd_prefix": "rm(",
     "library": "var_list.r",
     "varRefreshCmd": "cat(var_dic_list()) "
    }
   },
   "types_to_exclude": [
    "module",
    "function",
    "builtin_function_or_method",
    "instance",
    "_Feature"
   ],
   "window_display": false
  }
 },
 "nbformat": 4,
 "nbformat_minor": 1
}