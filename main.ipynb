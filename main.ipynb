{
 "cells": [
  {
   "cell_type": "code",
   "execution_count": 2,
   "metadata": {
    "pycharm": {
     "name": "#%%\n"
    }
   },
   "outputs": [],
   "source": [
    "import pandas as pd\n",
    "from catboost import CatBoostClassifier\n",
    "import numpy as np\n",
    "from scipy.spatial.distance import cityblock\n",
    "from sklearn.preprocessing import StandardScaler\n",
    "from utils.general_utils import load_data_old, get_cat_feature_names\n",
    "from utils.model_extensions_utils import FocalLossObjective\n",
    "import shap\n",
    "from utils.fe_utils import get_growth_features"
   ]
  },
  {
   "cell_type": "code",
   "execution_count": 3,
   "metadata": {
    "pycharm": {
     "name": "#%%\n"
    }
   },
   "outputs": [],
   "source": [
    "def process_df(X_temp):\n",
    "    tech_cols = ['maven', 'generic', 'docker', 'npm', 'pypi', 'gradle', 'nuget']\n",
    "    usage_cols = tech_cols + ['artifacts_count', 'artifacts_size', 'binaries_count', 'binaries_size', 'items_count',\n",
    "                              'number_of_permissions', 'internal_groups', 'number_of_users', 'n_env', 'n_tech',\n",
    "                              'n_repos']\n",
    "    X_temp['n_tech'] = (X_temp[tech_cols] != 0).astype(int).sum(axis=1)\n",
    "    X_temp['n_tech.1'] = (X_temp[[col + '.1' for col in tech_cols]] != 0).astype(int).sum(axis=1)\n",
    "    X_temp['n_tech.2'] = (X_temp[[col + '.2' for col in tech_cols]] != 0).astype(int).sum(axis=1)\n",
    "    X_temp['n_tech.3'] = (X_temp[[col + '.3' for col in tech_cols]] != 0).astype(int).sum(axis=1)\n",
    "    X_temp['n_tech.4'] = (X_temp[[col + '.4' for col in tech_cols]] != 0).astype(int).sum(axis=1)\n",
    "    X_temp['n_repos'] = (X_temp[tech_cols]).sum(axis=1)\n",
    "    X_temp['n_repos.1'] = (X_temp[[col + '.1' for col in tech_cols]]).sum(axis=1)\n",
    "    X_temp['n_repos.2'] = (X_temp[[col + '.2' for col in tech_cols]]).sum(axis=1)\n",
    "    X_temp['n_repos.3'] = (X_temp[[col + '.3' for col in tech_cols]]).sum(axis=1)\n",
    "    X_temp['n_repos.4'] = (X_temp[[col + '.4' for col in tech_cols]]).sum(axis=1)\n",
    "\n",
    "    for col in usage_cols:\n",
    "        growth_feature_monthly, growth_feature_quarter, df_fg = get_growth_features(col, X_temp.copy())\n",
    "        X_temp[col + '_monthly_growth'] = growth_feature_monthly\n",
    "        X_temp[col + '_quarter_growth'] = growth_feature_quarter\n",
    "\n",
    "    # - transform to category\n",
    "    cat_features = get_cat_feature_names(X_temp)\n",
    "    for col in cat_features:\n",
    "        X_temp[col] = X_temp[col].astype('category')\n",
    "\n",
    "    # - drop usage features from the periods before the relevant-date\n",
    "    cols_to_drop = [col for col in X_temp.columns if '.1' in col or '.2' in col or '.3' in col or '.4' in col]\n",
    "    X_temp = X_temp.drop(cols_to_drop, axis=1)\n",
    "    X_temp['artifacts/binaries_size'] = np.where(X_temp['binaries_size'] == 0, 0,\n",
    "                                                 X_temp['artifacts_size'] / X_temp['binaries_size'])\n",
    "    X_temp['artifacts/binaries_count'] = np.where(X_temp['binaries_count'] == 0, 0,\n",
    "                                                  X_temp['artifacts_count'] / X_temp['binaries_count'])\n",
    "    X_temp = X_temp.drop(['total_employees_with_details', 'days_from_contact_added', 'territory', 'industry_group',\n",
    "                          'total_employees_range'], axis=1)\n",
    "    return X_temp"
   ]
  },
  {
   "cell_type": "code",
   "execution_count": 4,
   "metadata": {
    "pycharm": {
     "name": "#%%"
    }
   },
   "outputs": [
    {
     "data": {
      "text/plain": "           account_id        relevant_date  class territory     account_id.1  \\\n0     0011r00001iACCU  2018-08-25 00:00:00      0      EMEA  0011r00001iACCU   \n1     0011r00001iACCU  2019-08-09 00:00:00      0      EMEA  0011r00001iACCU   \n2     0011r00001iACCU  2020-08-27 00:00:00      0      EMEA  0011r00001iACCU   \n3     0011r00001iACCU  2021-07-30 00:00:00      0      EMEA  0011r00001iACCU   \n4     0011r00001iACGM  2019-08-30 00:00:00      0      EMEA  0011r00001iACGM   \n...               ...                  ...    ...       ...              ...   \n5877  001w000001kgU5v  2018-08-30 00:00:00      0  Americas  001w000001kgU5v   \n5878  001w000001kgfaR  2018-10-16 00:00:00      0      EMEA  001w000001kgfaR   \n5879  001w000001kgfaR  2019-10-15 00:00:00      0      EMEA  001w000001kgfaR   \n5880  001w000001kgfaR  2020-09-19 00:00:00      0      EMEA  001w000001kgfaR   \n5881  001w000001kgxfH  2018-11-01 00:00:00      0  Americas  001w000001kgxfH   \n\n          relevant_date.1 period_range  artifacts_count  artifacts_size  \\\n0     2018-08-25 00:00:00     3 Months          1289272           14066   \n1     2019-08-09 00:00:00     3 Months          1844459           27343   \n2     2020-08-27 00:00:00     3 Months           515803           35022   \n3     2021-07-30 00:00:00     3 Months           642349           26485   \n4     2019-08-30 00:00:00     3 Months            56486             234   \n...                   ...          ...              ...             ...   \n5877  2018-08-30 00:00:00     3 Months              132               0   \n5878  2018-10-16 00:00:00     3 Months            24491             623   \n5879  2019-10-15 00:00:00     3 Months            36144             872   \n5880  2020-09-19 00:00:00     3 Months            61167            1073   \n5881  2018-11-01 00:00:00     3 Months            44145              56   \n\n      binaries_count  ...  n_ent_mentioned_sessions  \\\n0             638194  ...                         0   \n1             875317  ...                         0   \n2             397341  ...                         0   \n3             459664  ...                         0   \n4              48490  ...                         0   \n...              ...  ...                       ...   \n5877             128  ...                         0   \n5878           14349  ...                         0   \n5879           22216  ...                         0   \n5880           37468  ...                         0   \n5881           43104  ...                         0   \n\n      n_competitor_mentioned_sessions n_xray_mentioned_sessions n_replys  \\\n0                                   0                         0        0   \n1                                   0                         0        0   \n2                                   0                         1        1   \n3                                   0                         0        0   \n4                                   0                         0        0   \n...                               ...                       ...      ...   \n5877                                0                         0        0   \n5878                                0                         0        0   \n5879                                0                         0        0   \n5880                                0                         0        0   \n5881                                0                         0        0   \n\n     n_sent  n_calls  n_task_xray  replys_to_sent  days_since_reply  \\\n0         0        0            0       -1.000000              1000   \n1         1        0            0        0.000000               259   \n2         6        0            0        0.166667                 9   \n3         0        0            0       -1.000000               158   \n4         2        0            0        0.000000              1000   \n...     ...      ...          ...             ...               ...   \n5877      0        0            0       -1.000000              1000   \n5878      0        0            0       -1.000000              1000   \n5879      0        0            0       -1.000000              1000   \n5880      0        0            0       -1.000000              1000   \n5881      1        0            0        0.000000              1000   \n\n      days_since_sent  \n0                1000  \n1                  85  \n2                   9  \n3                 161  \n4                  57  \n...               ...  \n5877             1000  \n5878             1000  \n5879              152  \n5880              180  \n5881              106  \n\n[5882 rows x 188 columns]",
      "text/html": "<div>\n<style scoped>\n    .dataframe tbody tr th:only-of-type {\n        vertical-align: middle;\n    }\n\n    .dataframe tbody tr th {\n        vertical-align: top;\n    }\n\n    .dataframe thead th {\n        text-align: right;\n    }\n</style>\n<table border=\"1\" class=\"dataframe\">\n  <thead>\n    <tr style=\"text-align: right;\">\n      <th></th>\n      <th>account_id</th>\n      <th>relevant_date</th>\n      <th>class</th>\n      <th>territory</th>\n      <th>account_id.1</th>\n      <th>relevant_date.1</th>\n      <th>period_range</th>\n      <th>artifacts_count</th>\n      <th>artifacts_size</th>\n      <th>binaries_count</th>\n      <th>...</th>\n      <th>n_ent_mentioned_sessions</th>\n      <th>n_competitor_mentioned_sessions</th>\n      <th>n_xray_mentioned_sessions</th>\n      <th>n_replys</th>\n      <th>n_sent</th>\n      <th>n_calls</th>\n      <th>n_task_xray</th>\n      <th>replys_to_sent</th>\n      <th>days_since_reply</th>\n      <th>days_since_sent</th>\n    </tr>\n  </thead>\n  <tbody>\n    <tr>\n      <th>0</th>\n      <td>0011r00001iACCU</td>\n      <td>2018-08-25 00:00:00</td>\n      <td>0</td>\n      <td>EMEA</td>\n      <td>0011r00001iACCU</td>\n      <td>2018-08-25 00:00:00</td>\n      <td>3 Months</td>\n      <td>1289272</td>\n      <td>14066</td>\n      <td>638194</td>\n      <td>...</td>\n      <td>0</td>\n      <td>0</td>\n      <td>0</td>\n      <td>0</td>\n      <td>0</td>\n      <td>0</td>\n      <td>0</td>\n      <td>-1.000000</td>\n      <td>1000</td>\n      <td>1000</td>\n    </tr>\n    <tr>\n      <th>1</th>\n      <td>0011r00001iACCU</td>\n      <td>2019-08-09 00:00:00</td>\n      <td>0</td>\n      <td>EMEA</td>\n      <td>0011r00001iACCU</td>\n      <td>2019-08-09 00:00:00</td>\n      <td>3 Months</td>\n      <td>1844459</td>\n      <td>27343</td>\n      <td>875317</td>\n      <td>...</td>\n      <td>0</td>\n      <td>0</td>\n      <td>0</td>\n      <td>0</td>\n      <td>1</td>\n      <td>0</td>\n      <td>0</td>\n      <td>0.000000</td>\n      <td>259</td>\n      <td>85</td>\n    </tr>\n    <tr>\n      <th>2</th>\n      <td>0011r00001iACCU</td>\n      <td>2020-08-27 00:00:00</td>\n      <td>0</td>\n      <td>EMEA</td>\n      <td>0011r00001iACCU</td>\n      <td>2020-08-27 00:00:00</td>\n      <td>3 Months</td>\n      <td>515803</td>\n      <td>35022</td>\n      <td>397341</td>\n      <td>...</td>\n      <td>0</td>\n      <td>0</td>\n      <td>1</td>\n      <td>1</td>\n      <td>6</td>\n      <td>0</td>\n      <td>0</td>\n      <td>0.166667</td>\n      <td>9</td>\n      <td>9</td>\n    </tr>\n    <tr>\n      <th>3</th>\n      <td>0011r00001iACCU</td>\n      <td>2021-07-30 00:00:00</td>\n      <td>0</td>\n      <td>EMEA</td>\n      <td>0011r00001iACCU</td>\n      <td>2021-07-30 00:00:00</td>\n      <td>3 Months</td>\n      <td>642349</td>\n      <td>26485</td>\n      <td>459664</td>\n      <td>...</td>\n      <td>0</td>\n      <td>0</td>\n      <td>0</td>\n      <td>0</td>\n      <td>0</td>\n      <td>0</td>\n      <td>0</td>\n      <td>-1.000000</td>\n      <td>158</td>\n      <td>161</td>\n    </tr>\n    <tr>\n      <th>4</th>\n      <td>0011r00001iACGM</td>\n      <td>2019-08-30 00:00:00</td>\n      <td>0</td>\n      <td>EMEA</td>\n      <td>0011r00001iACGM</td>\n      <td>2019-08-30 00:00:00</td>\n      <td>3 Months</td>\n      <td>56486</td>\n      <td>234</td>\n      <td>48490</td>\n      <td>...</td>\n      <td>0</td>\n      <td>0</td>\n      <td>0</td>\n      <td>0</td>\n      <td>2</td>\n      <td>0</td>\n      <td>0</td>\n      <td>0.000000</td>\n      <td>1000</td>\n      <td>57</td>\n    </tr>\n    <tr>\n      <th>...</th>\n      <td>...</td>\n      <td>...</td>\n      <td>...</td>\n      <td>...</td>\n      <td>...</td>\n      <td>...</td>\n      <td>...</td>\n      <td>...</td>\n      <td>...</td>\n      <td>...</td>\n      <td>...</td>\n      <td>...</td>\n      <td>...</td>\n      <td>...</td>\n      <td>...</td>\n      <td>...</td>\n      <td>...</td>\n      <td>...</td>\n      <td>...</td>\n      <td>...</td>\n      <td>...</td>\n    </tr>\n    <tr>\n      <th>5877</th>\n      <td>001w000001kgU5v</td>\n      <td>2018-08-30 00:00:00</td>\n      <td>0</td>\n      <td>Americas</td>\n      <td>001w000001kgU5v</td>\n      <td>2018-08-30 00:00:00</td>\n      <td>3 Months</td>\n      <td>132</td>\n      <td>0</td>\n      <td>128</td>\n      <td>...</td>\n      <td>0</td>\n      <td>0</td>\n      <td>0</td>\n      <td>0</td>\n      <td>0</td>\n      <td>0</td>\n      <td>0</td>\n      <td>-1.000000</td>\n      <td>1000</td>\n      <td>1000</td>\n    </tr>\n    <tr>\n      <th>5878</th>\n      <td>001w000001kgfaR</td>\n      <td>2018-10-16 00:00:00</td>\n      <td>0</td>\n      <td>EMEA</td>\n      <td>001w000001kgfaR</td>\n      <td>2018-10-16 00:00:00</td>\n      <td>3 Months</td>\n      <td>24491</td>\n      <td>623</td>\n      <td>14349</td>\n      <td>...</td>\n      <td>0</td>\n      <td>0</td>\n      <td>0</td>\n      <td>0</td>\n      <td>0</td>\n      <td>0</td>\n      <td>0</td>\n      <td>-1.000000</td>\n      <td>1000</td>\n      <td>1000</td>\n    </tr>\n    <tr>\n      <th>5879</th>\n      <td>001w000001kgfaR</td>\n      <td>2019-10-15 00:00:00</td>\n      <td>0</td>\n      <td>EMEA</td>\n      <td>001w000001kgfaR</td>\n      <td>2019-10-15 00:00:00</td>\n      <td>3 Months</td>\n      <td>36144</td>\n      <td>872</td>\n      <td>22216</td>\n      <td>...</td>\n      <td>0</td>\n      <td>0</td>\n      <td>0</td>\n      <td>0</td>\n      <td>0</td>\n      <td>0</td>\n      <td>0</td>\n      <td>-1.000000</td>\n      <td>1000</td>\n      <td>152</td>\n    </tr>\n    <tr>\n      <th>5880</th>\n      <td>001w000001kgfaR</td>\n      <td>2020-09-19 00:00:00</td>\n      <td>0</td>\n      <td>EMEA</td>\n      <td>001w000001kgfaR</td>\n      <td>2020-09-19 00:00:00</td>\n      <td>3 Months</td>\n      <td>61167</td>\n      <td>1073</td>\n      <td>37468</td>\n      <td>...</td>\n      <td>0</td>\n      <td>0</td>\n      <td>0</td>\n      <td>0</td>\n      <td>0</td>\n      <td>0</td>\n      <td>0</td>\n      <td>-1.000000</td>\n      <td>1000</td>\n      <td>180</td>\n    </tr>\n    <tr>\n      <th>5881</th>\n      <td>001w000001kgxfH</td>\n      <td>2018-11-01 00:00:00</td>\n      <td>0</td>\n      <td>Americas</td>\n      <td>001w000001kgxfH</td>\n      <td>2018-11-01 00:00:00</td>\n      <td>3 Months</td>\n      <td>44145</td>\n      <td>56</td>\n      <td>43104</td>\n      <td>...</td>\n      <td>0</td>\n      <td>0</td>\n      <td>0</td>\n      <td>0</td>\n      <td>1</td>\n      <td>0</td>\n      <td>0</td>\n      <td>0.000000</td>\n      <td>1000</td>\n      <td>106</td>\n    </tr>\n  </tbody>\n</table>\n<p>5882 rows × 188 columns</p>\n</div>"
     },
     "execution_count": 4,
     "metadata": {},
     "output_type": "execute_result"
    }
   ],
   "source": [
    "df = load_data_old('fit.sql')\n",
    "df"
   ]
  },
  {
   "cell_type": "code",
   "execution_count": 5,
   "metadata": {
    "pycharm": {
     "name": "#%%\n"
    }
   },
   "outputs": [],
   "source": [
    "has_won = df.groupby('account_id', as_index=False).sum('class').loc[:, ['account_id', 'class']]\n",
    "has_won['has_won'] = has_won['class'].apply(lambda x: True if x > 0 else False)\n",
    "has_won.drop('class', axis=1, inplace=True)\n",
    "new_df = df.merge(has_won, on='account_id')\n",
    "df_did_win, df_did_not_win = new_df[new_df['has_won']], new_df[~new_df['has_won']]\n",
    "df_did_win = df_did_win[df_did_win['class'] == 1].groupby('account_id', as_index=False).min('relevant_date')\n",
    "df_did_not_win = df_did_not_win.groupby('account_id').sample(n=1, random_state=2)\n",
    "df = pd.concat([df_did_win, df_did_not_win])\n",
    "df = df.sample(frac=1, random_state=2).reset_index(drop=True)"
   ]
  },
  {
   "cell_type": "code",
   "execution_count": 6,
   "metadata": {
    "pycharm": {
     "name": "#%%\n"
    }
   },
   "outputs": [],
   "source": [
    "cols_to_drop = [col for col in df.columns if 'period_range' in col or 'relevant_date' in col or 'account_id' in col\n",
    "                or 'class' in col or 'has_won' in col]\n",
    "X, y = df.drop(cols_to_drop, axis=1).fillna(-1), df['class']\n",
    "X = process_df(X)"
   ]
  },
  {
   "cell_type": "code",
   "execution_count": 7,
   "outputs": [
    {
     "data": {
      "text/plain": "[]"
     },
     "execution_count": 7,
     "metadata": {},
     "output_type": "execute_result"
    }
   ],
   "source": [
    "get_cat_feature_names(X)"
   ],
   "metadata": {
    "collapsed": false,
    "pycharm": {
     "name": "#%%\n"
    }
   }
  },
  {
   "cell_type": "code",
   "execution_count": 8,
   "metadata": {
    "pycharm": {
     "name": "#%%\n"
    }
   },
   "outputs": [],
   "source": [
    "cbc = CatBoostClassifier(cat_features=get_cat_feature_names(X), auto_class_weights='Balanced', verbose=0,\n",
    "                         random_state=5, loss_function=FocalLossObjective(), eval_metric=\"Logloss\",\n",
    "                         bootstrap_type='Bayesian')"
   ]
  },
  {
   "cell_type": "code",
   "execution_count": 9,
   "outputs": [],
   "source": [
    "X = X.reindex(sorted(X.columns), axis=1)"
   ],
   "metadata": {
    "collapsed": false,
    "pycharm": {
     "name": "#%%\n"
    }
   }
  },
  {
   "cell_type": "code",
   "execution_count": 10,
   "metadata": {
    "pycharm": {
     "name": "#%%\n"
    }
   },
   "outputs": [
    {
     "data": {
      "text/plain": "<catboost.core.CatBoostClassifier at 0x7fa5c87579a0>"
     },
     "execution_count": 10,
     "metadata": {},
     "output_type": "execute_result"
    }
   ],
   "source": [
    "cbc.fit(X, y)"
   ]
  },
  {
   "cell_type": "code",
   "execution_count": 11,
   "outputs": [],
   "source": [
    "df_for_predict = load_data_old('predict.sql')\n",
    "cols_to_drop = [col for col in df_for_predict.columns if\n",
    "                'period_range' in col or 'relevant_date' in col or 'account_id' in col\n",
    "                or 'class' in col or 'has_won' in col]\n",
    "df_for_predict_clean = df_for_predict.drop(cols_to_drop, axis=1)\n",
    "df_for_predict_clean = process_df(df_for_predict_clean)"
   ],
   "metadata": {
    "collapsed": false,
    "pycharm": {
     "name": "#%%\n"
    }
   }
  },
  {
   "cell_type": "code",
   "execution_count": 12,
   "outputs": [
    {
     "data": {
      "text/plain": "      artifactory_views  artifacts/binaries_count  artifacts/binaries_size  \\\n0                    -1                  1.301014                 1.014757   \n1                    -1                  1.226310                 1.476726   \n2                    -1                  1.595081                 1.051282   \n3                    -1                  0.945803                 1.117647   \n4                    -1                  1.853821                 2.401145   \n...                 ...                       ...                      ...   \n2048                 -1                  1.045947                 1.021768   \n2049                 -1                  1.002824                 1.000000   \n2050                  2                  1.463059                 1.842723   \n2051                 -1                  1.042163                 1.012346   \n2052                 -1                  1.667965                 5.031496   \n\n      artifacts_count  artifacts_count_monthly_growth  \\\n0              580579                       -0.012625   \n1              182378                        0.056636   \n2               98324                        0.013922   \n3               11099                        0.016577   \n4             1421458                       -0.000187   \n...               ...                             ...   \n2048           377680                        0.024902   \n2049            11009                        0.003286   \n2050           110638                        0.054630   \n2051            80233                        0.016749   \n2052            85625                        0.048585   \n\n      artifacts_count_quarter_growth  artifacts_size  \\\n0                          -0.130641           28743   \n1                           0.215420             920   \n2                           0.022989              82   \n3                           0.070325              19   \n4                           0.048232           20549   \n...                              ...             ...   \n2048                        0.080763            1549   \n2049                        0.026199               3   \n2050                        0.131814             785   \n2051                        0.040836              82   \n2052                        0.097476            1278   \n\n      artifacts_size_monthly_growth  artifacts_size_quarter_growth  \\\n0                         -0.002787                       0.065690   \n1                          0.061820                       0.189758   \n2                          0.018831                      -0.010073   \n3                          0.000000                       0.057190   \n4                         -0.004205                       0.043428   \n...                             ...                            ...   \n2048                       0.040114                       0.095081   \n2049                       0.000000                       0.000000   \n2050                       0.099802                       0.364108   \n2051                       0.006173                       0.025404   \n2052                       0.026023                       0.054665   \n\n      avg_resolution_days  ...  number_of_users_quarter_growth  pricing_views  \\\n0                      -1  ...                        0.008696             -1   \n1                      -1  ...                        0.093567             -1   \n2                      -1  ...                        0.027655             -1   \n3                      -1  ...                        0.000000             -1   \n4                      17  ...                        0.053678             -1   \n...                   ...  ...                             ...            ...   \n2048                   -1  ...                        0.057487             -1   \n2049                   -1  ...                        0.000000             -1   \n2050                   -1  ...                        0.195603              3   \n2051                   -1  ...                        0.021535             -1   \n2052                   -1  ...                       -0.023810             -1   \n\n      pypi  pypi_monthly_growth  pypi_quarter_growth  qoe_score  \\\n0        1                 0.00                -0.25       -1.0   \n1        1                 0.00                 0.00       -1.0   \n2        0                 0.00                 0.00       -1.0   \n3        1                 0.00                 0.00       -1.0   \n4       12                 0.00                 0.00       -1.0   \n...    ...                  ...                  ...        ...   \n2048     1                -0.25                 0.25       -1.0   \n2049     0                 0.00                 0.00       -1.0   \n2050     0                 0.00                 0.00       -1.0   \n2051     2                 0.00                 0.50       -1.0   \n2052     0                 0.00                 0.00       -1.0   \n\n      replys_to_sent  support_views_views  unresolved_jira_cases  xray_views  \n0           0.333333                   -1                      0          -1  \n1           0.000000                   -1                      0          -1  \n2           0.500000                   -1                      0          -1  \n3           0.000000                   -1                      0          -1  \n4           0.500000                   -1                      0          -1  \n...              ...                  ...                    ...         ...  \n2048        0.250000                   -1                      0          -1  \n2049        0.625000                   -1                      0          -1  \n2050        0.000000                    0                      0           0  \n2051        0.333333                   -1                      0          -1  \n2052        0.000000                   -1                      0          -1  \n\n[2053 rows x 103 columns]",
      "text/html": "<div>\n<style scoped>\n    .dataframe tbody tr th:only-of-type {\n        vertical-align: middle;\n    }\n\n    .dataframe tbody tr th {\n        vertical-align: top;\n    }\n\n    .dataframe thead th {\n        text-align: right;\n    }\n</style>\n<table border=\"1\" class=\"dataframe\">\n  <thead>\n    <tr style=\"text-align: right;\">\n      <th></th>\n      <th>artifactory_views</th>\n      <th>artifacts/binaries_count</th>\n      <th>artifacts/binaries_size</th>\n      <th>artifacts_count</th>\n      <th>artifacts_count_monthly_growth</th>\n      <th>artifacts_count_quarter_growth</th>\n      <th>artifacts_size</th>\n      <th>artifacts_size_monthly_growth</th>\n      <th>artifacts_size_quarter_growth</th>\n      <th>avg_resolution_days</th>\n      <th>...</th>\n      <th>number_of_users_quarter_growth</th>\n      <th>pricing_views</th>\n      <th>pypi</th>\n      <th>pypi_monthly_growth</th>\n      <th>pypi_quarter_growth</th>\n      <th>qoe_score</th>\n      <th>replys_to_sent</th>\n      <th>support_views_views</th>\n      <th>unresolved_jira_cases</th>\n      <th>xray_views</th>\n    </tr>\n  </thead>\n  <tbody>\n    <tr>\n      <th>0</th>\n      <td>-1</td>\n      <td>1.301014</td>\n      <td>1.014757</td>\n      <td>580579</td>\n      <td>-0.012625</td>\n      <td>-0.130641</td>\n      <td>28743</td>\n      <td>-0.002787</td>\n      <td>0.065690</td>\n      <td>-1</td>\n      <td>...</td>\n      <td>0.008696</td>\n      <td>-1</td>\n      <td>1</td>\n      <td>0.00</td>\n      <td>-0.25</td>\n      <td>-1.0</td>\n      <td>0.333333</td>\n      <td>-1</td>\n      <td>0</td>\n      <td>-1</td>\n    </tr>\n    <tr>\n      <th>1</th>\n      <td>-1</td>\n      <td>1.226310</td>\n      <td>1.476726</td>\n      <td>182378</td>\n      <td>0.056636</td>\n      <td>0.215420</td>\n      <td>920</td>\n      <td>0.061820</td>\n      <td>0.189758</td>\n      <td>-1</td>\n      <td>...</td>\n      <td>0.093567</td>\n      <td>-1</td>\n      <td>1</td>\n      <td>0.00</td>\n      <td>0.00</td>\n      <td>-1.0</td>\n      <td>0.000000</td>\n      <td>-1</td>\n      <td>0</td>\n      <td>-1</td>\n    </tr>\n    <tr>\n      <th>2</th>\n      <td>-1</td>\n      <td>1.595081</td>\n      <td>1.051282</td>\n      <td>98324</td>\n      <td>0.013922</td>\n      <td>0.022989</td>\n      <td>82</td>\n      <td>0.018831</td>\n      <td>-0.010073</td>\n      <td>-1</td>\n      <td>...</td>\n      <td>0.027655</td>\n      <td>-1</td>\n      <td>0</td>\n      <td>0.00</td>\n      <td>0.00</td>\n      <td>-1.0</td>\n      <td>0.500000</td>\n      <td>-1</td>\n      <td>0</td>\n      <td>-1</td>\n    </tr>\n    <tr>\n      <th>3</th>\n      <td>-1</td>\n      <td>0.945803</td>\n      <td>1.117647</td>\n      <td>11099</td>\n      <td>0.016577</td>\n      <td>0.070325</td>\n      <td>19</td>\n      <td>0.000000</td>\n      <td>0.057190</td>\n      <td>-1</td>\n      <td>...</td>\n      <td>0.000000</td>\n      <td>-1</td>\n      <td>1</td>\n      <td>0.00</td>\n      <td>0.00</td>\n      <td>-1.0</td>\n      <td>0.000000</td>\n      <td>-1</td>\n      <td>0</td>\n      <td>-1</td>\n    </tr>\n    <tr>\n      <th>4</th>\n      <td>-1</td>\n      <td>1.853821</td>\n      <td>2.401145</td>\n      <td>1421458</td>\n      <td>-0.000187</td>\n      <td>0.048232</td>\n      <td>20549</td>\n      <td>-0.004205</td>\n      <td>0.043428</td>\n      <td>17</td>\n      <td>...</td>\n      <td>0.053678</td>\n      <td>-1</td>\n      <td>12</td>\n      <td>0.00</td>\n      <td>0.00</td>\n      <td>-1.0</td>\n      <td>0.500000</td>\n      <td>-1</td>\n      <td>0</td>\n      <td>-1</td>\n    </tr>\n    <tr>\n      <th>...</th>\n      <td>...</td>\n      <td>...</td>\n      <td>...</td>\n      <td>...</td>\n      <td>...</td>\n      <td>...</td>\n      <td>...</td>\n      <td>...</td>\n      <td>...</td>\n      <td>...</td>\n      <td>...</td>\n      <td>...</td>\n      <td>...</td>\n      <td>...</td>\n      <td>...</td>\n      <td>...</td>\n      <td>...</td>\n      <td>...</td>\n      <td>...</td>\n      <td>...</td>\n      <td>...</td>\n    </tr>\n    <tr>\n      <th>2048</th>\n      <td>-1</td>\n      <td>1.045947</td>\n      <td>1.021768</td>\n      <td>377680</td>\n      <td>0.024902</td>\n      <td>0.080763</td>\n      <td>1549</td>\n      <td>0.040114</td>\n      <td>0.095081</td>\n      <td>-1</td>\n      <td>...</td>\n      <td>0.057487</td>\n      <td>-1</td>\n      <td>1</td>\n      <td>-0.25</td>\n      <td>0.25</td>\n      <td>-1.0</td>\n      <td>0.250000</td>\n      <td>-1</td>\n      <td>0</td>\n      <td>-1</td>\n    </tr>\n    <tr>\n      <th>2049</th>\n      <td>-1</td>\n      <td>1.002824</td>\n      <td>1.000000</td>\n      <td>11009</td>\n      <td>0.003286</td>\n      <td>0.026199</td>\n      <td>3</td>\n      <td>0.000000</td>\n      <td>0.000000</td>\n      <td>-1</td>\n      <td>...</td>\n      <td>0.000000</td>\n      <td>-1</td>\n      <td>0</td>\n      <td>0.00</td>\n      <td>0.00</td>\n      <td>-1.0</td>\n      <td>0.625000</td>\n      <td>-1</td>\n      <td>0</td>\n      <td>-1</td>\n    </tr>\n    <tr>\n      <th>2050</th>\n      <td>2</td>\n      <td>1.463059</td>\n      <td>1.842723</td>\n      <td>110638</td>\n      <td>0.054630</td>\n      <td>0.131814</td>\n      <td>785</td>\n      <td>0.099802</td>\n      <td>0.364108</td>\n      <td>-1</td>\n      <td>...</td>\n      <td>0.195603</td>\n      <td>3</td>\n      <td>0</td>\n      <td>0.00</td>\n      <td>0.00</td>\n      <td>-1.0</td>\n      <td>0.000000</td>\n      <td>0</td>\n      <td>0</td>\n      <td>0</td>\n    </tr>\n    <tr>\n      <th>2051</th>\n      <td>-1</td>\n      <td>1.042163</td>\n      <td>1.012346</td>\n      <td>80233</td>\n      <td>0.016749</td>\n      <td>0.040836</td>\n      <td>82</td>\n      <td>0.006173</td>\n      <td>0.025404</td>\n      <td>-1</td>\n      <td>...</td>\n      <td>0.021535</td>\n      <td>-1</td>\n      <td>2</td>\n      <td>0.00</td>\n      <td>0.50</td>\n      <td>-1.0</td>\n      <td>0.333333</td>\n      <td>-1</td>\n      <td>0</td>\n      <td>-1</td>\n    </tr>\n    <tr>\n      <th>2052</th>\n      <td>-1</td>\n      <td>1.667965</td>\n      <td>5.031496</td>\n      <td>85625</td>\n      <td>0.048585</td>\n      <td>0.097476</td>\n      <td>1278</td>\n      <td>0.026023</td>\n      <td>0.054665</td>\n      <td>-1</td>\n      <td>...</td>\n      <td>-0.023810</td>\n      <td>-1</td>\n      <td>0</td>\n      <td>0.00</td>\n      <td>0.00</td>\n      <td>-1.0</td>\n      <td>0.000000</td>\n      <td>-1</td>\n      <td>0</td>\n      <td>-1</td>\n    </tr>\n  </tbody>\n</table>\n<p>2053 rows × 103 columns</p>\n</div>"
     },
     "execution_count": 12,
     "metadata": {},
     "output_type": "execute_result"
    }
   ],
   "source": [
    "df_for_predict_clean = df_for_predict_clean.reindex(sorted(df_for_predict_clean.columns), axis=1)\n",
    "df_for_predict_clean"
   ],
   "metadata": {
    "collapsed": false,
    "pycharm": {
     "name": "#%%\n"
    }
   }
  },
  {
   "cell_type": "code",
   "execution_count": 13,
   "outputs": [
    {
     "data": {
      "text/plain": "      artifactory_views  artifacts/binaries_count  artifacts/binaries_size  \\\n0                    -1                  1.010826                 1.005556   \n1                     0                  1.072605                 1.126799   \n2                    -1                  1.010057                 1.000000   \n3                    -1                  1.021839                 1.184615   \n4                    -1                  1.824033                 2.200704   \n...                 ...                       ...                      ...   \n2652                 -1                  1.028372                 1.000000   \n2653                 -1                  1.054695                 1.476603   \n2654                 -1                  1.018148                 1.007463   \n2655                 -1                  1.002872                 1.000000   \n2656                 -1                  1.030065                 1.002123   \n\n      artifacts_count  artifacts_count_monthly_growth  \\\n0               33612                        0.006322   \n1              133136                        0.110948   \n2              425446                       -0.192083   \n3               33923                        0.044085   \n4              151382                        0.040462   \n...               ...                             ...   \n2652            16238                        0.066810   \n2653           479153                        0.049289   \n2654            46508                       -0.033047   \n2655             3492                        0.000024   \n2656            13088                        0.289123   \n\n      artifacts_count_quarter_growth  artifacts_size  \\\n0                           0.022357             181   \n1                           0.108732            1253   \n2                          -0.015428             723   \n3                           0.130560              77   \n4                           0.305511            2500   \n...                              ...             ...   \n2652                        0.226497             146   \n2653                        0.311261            1704   \n2654                       -0.101608             135   \n2655                        0.070046               2   \n2656                        0.425191             472   \n\n      artifacts_size_monthly_growth  artifacts_size_quarter_growth  \\\n0                          0.028839                       0.102380   \n1                          0.061992                      -0.048989   \n2                         -0.156684                      -0.106017   \n3                          0.064162                       0.324329   \n4                          0.048097                       0.339663   \n...                             ...                            ...   \n2652                       0.094142                       0.552819   \n2653                       0.005481                       0.460036   \n2654                      -0.043601                      -0.142927   \n2655                       0.000000                       0.500000   \n2656                       5.692732                     118.000000   \n\n      avg_resolution_days  ...  number_of_users_quarter_growth  pricing_views  \\\n0                      -1  ...                        0.000000             -1   \n1                       7  ...                        0.072050              0   \n2                      -1  ...                       -0.070513             -1   \n3                      18  ...                        0.110256             -1   \n4                      -1  ...                        0.103726             -1   \n...                   ...  ...                             ...            ...   \n2652                   -1  ...                        0.031250             -1   \n2653                   -1  ...                        0.038496             -1   \n2654                    0  ...                        0.095604             -1   \n2655                   -1  ...                        0.000000             -1   \n2656                   28  ...                        0.214286             -1   \n\n      pypi  pypi_monthly_growth  pypi_quarter_growth  qoe_score  \\\n0      0.0                 0.00                 0.00       -1.0   \n1      1.0                -0.25                 0.00       -1.0   \n2      1.0                 0.00                 0.00       -1.0   \n3      1.0                 0.00                -0.25       -1.0   \n4      0.0                 0.00                 0.00       -1.0   \n...    ...                  ...                  ...        ...   \n2652   0.0                 0.00                 0.00       -1.0   \n2653   1.0                 0.00                 0.00       -1.0   \n2654   1.0                 0.25                 0.00       -1.0   \n2655   0.0                 0.00                 0.00       -1.0   \n2656   2.0                 0.00                 0.50       -1.0   \n\n      replys_to_sent  support_views_views  unresolved_jira_cases  xray_views  \n0          -1.000000                   -1                      0          -1  \n1           0.500000                    0                      1           0  \n2          -1.000000                   -1                      0          -1  \n3           0.444444                   -1                      0          -1  \n4           0.000000                   -1                      0          -1  \n...              ...                  ...                    ...         ...  \n2652        0.500000                   -1                      0          -1  \n2653        0.142857                   -1                      1          -1  \n2654       -1.000000                   -1                      0          -1  \n2655       -1.000000                   -1                      0          -1  \n2656       -1.000000                   -1                      0          -1  \n\n[2657 rows x 103 columns]",
      "text/html": "<div>\n<style scoped>\n    .dataframe tbody tr th:only-of-type {\n        vertical-align: middle;\n    }\n\n    .dataframe tbody tr th {\n        vertical-align: top;\n    }\n\n    .dataframe thead th {\n        text-align: right;\n    }\n</style>\n<table border=\"1\" class=\"dataframe\">\n  <thead>\n    <tr style=\"text-align: right;\">\n      <th></th>\n      <th>artifactory_views</th>\n      <th>artifacts/binaries_count</th>\n      <th>artifacts/binaries_size</th>\n      <th>artifacts_count</th>\n      <th>artifacts_count_monthly_growth</th>\n      <th>artifacts_count_quarter_growth</th>\n      <th>artifacts_size</th>\n      <th>artifacts_size_monthly_growth</th>\n      <th>artifacts_size_quarter_growth</th>\n      <th>avg_resolution_days</th>\n      <th>...</th>\n      <th>number_of_users_quarter_growth</th>\n      <th>pricing_views</th>\n      <th>pypi</th>\n      <th>pypi_monthly_growth</th>\n      <th>pypi_quarter_growth</th>\n      <th>qoe_score</th>\n      <th>replys_to_sent</th>\n      <th>support_views_views</th>\n      <th>unresolved_jira_cases</th>\n      <th>xray_views</th>\n    </tr>\n  </thead>\n  <tbody>\n    <tr>\n      <th>0</th>\n      <td>-1</td>\n      <td>1.010826</td>\n      <td>1.005556</td>\n      <td>33612</td>\n      <td>0.006322</td>\n      <td>0.022357</td>\n      <td>181</td>\n      <td>0.028839</td>\n      <td>0.102380</td>\n      <td>-1</td>\n      <td>...</td>\n      <td>0.000000</td>\n      <td>-1</td>\n      <td>0.0</td>\n      <td>0.00</td>\n      <td>0.00</td>\n      <td>-1.0</td>\n      <td>-1.000000</td>\n      <td>-1</td>\n      <td>0</td>\n      <td>-1</td>\n    </tr>\n    <tr>\n      <th>1</th>\n      <td>0</td>\n      <td>1.072605</td>\n      <td>1.126799</td>\n      <td>133136</td>\n      <td>0.110948</td>\n      <td>0.108732</td>\n      <td>1253</td>\n      <td>0.061992</td>\n      <td>-0.048989</td>\n      <td>7</td>\n      <td>...</td>\n      <td>0.072050</td>\n      <td>0</td>\n      <td>1.0</td>\n      <td>-0.25</td>\n      <td>0.00</td>\n      <td>-1.0</td>\n      <td>0.500000</td>\n      <td>0</td>\n      <td>1</td>\n      <td>0</td>\n    </tr>\n    <tr>\n      <th>2</th>\n      <td>-1</td>\n      <td>1.010057</td>\n      <td>1.000000</td>\n      <td>425446</td>\n      <td>-0.192083</td>\n      <td>-0.015428</td>\n      <td>723</td>\n      <td>-0.156684</td>\n      <td>-0.106017</td>\n      <td>-1</td>\n      <td>...</td>\n      <td>-0.070513</td>\n      <td>-1</td>\n      <td>1.0</td>\n      <td>0.00</td>\n      <td>0.00</td>\n      <td>-1.0</td>\n      <td>-1.000000</td>\n      <td>-1</td>\n      <td>0</td>\n      <td>-1</td>\n    </tr>\n    <tr>\n      <th>3</th>\n      <td>-1</td>\n      <td>1.021839</td>\n      <td>1.184615</td>\n      <td>33923</td>\n      <td>0.044085</td>\n      <td>0.130560</td>\n      <td>77</td>\n      <td>0.064162</td>\n      <td>0.324329</td>\n      <td>18</td>\n      <td>...</td>\n      <td>0.110256</td>\n      <td>-1</td>\n      <td>1.0</td>\n      <td>0.00</td>\n      <td>-0.25</td>\n      <td>-1.0</td>\n      <td>0.444444</td>\n      <td>-1</td>\n      <td>0</td>\n      <td>-1</td>\n    </tr>\n    <tr>\n      <th>4</th>\n      <td>-1</td>\n      <td>1.824033</td>\n      <td>2.200704</td>\n      <td>151382</td>\n      <td>0.040462</td>\n      <td>0.305511</td>\n      <td>2500</td>\n      <td>0.048097</td>\n      <td>0.339663</td>\n      <td>-1</td>\n      <td>...</td>\n      <td>0.103726</td>\n      <td>-1</td>\n      <td>0.0</td>\n      <td>0.00</td>\n      <td>0.00</td>\n      <td>-1.0</td>\n      <td>0.000000</td>\n      <td>-1</td>\n      <td>0</td>\n      <td>-1</td>\n    </tr>\n    <tr>\n      <th>...</th>\n      <td>...</td>\n      <td>...</td>\n      <td>...</td>\n      <td>...</td>\n      <td>...</td>\n      <td>...</td>\n      <td>...</td>\n      <td>...</td>\n      <td>...</td>\n      <td>...</td>\n      <td>...</td>\n      <td>...</td>\n      <td>...</td>\n      <td>...</td>\n      <td>...</td>\n      <td>...</td>\n      <td>...</td>\n      <td>...</td>\n      <td>...</td>\n      <td>...</td>\n      <td>...</td>\n    </tr>\n    <tr>\n      <th>2652</th>\n      <td>-1</td>\n      <td>1.028372</td>\n      <td>1.000000</td>\n      <td>16238</td>\n      <td>0.066810</td>\n      <td>0.226497</td>\n      <td>146</td>\n      <td>0.094142</td>\n      <td>0.552819</td>\n      <td>-1</td>\n      <td>...</td>\n      <td>0.031250</td>\n      <td>-1</td>\n      <td>0.0</td>\n      <td>0.00</td>\n      <td>0.00</td>\n      <td>-1.0</td>\n      <td>0.500000</td>\n      <td>-1</td>\n      <td>0</td>\n      <td>-1</td>\n    </tr>\n    <tr>\n      <th>2653</th>\n      <td>-1</td>\n      <td>1.054695</td>\n      <td>1.476603</td>\n      <td>479153</td>\n      <td>0.049289</td>\n      <td>0.311261</td>\n      <td>1704</td>\n      <td>0.005481</td>\n      <td>0.460036</td>\n      <td>-1</td>\n      <td>...</td>\n      <td>0.038496</td>\n      <td>-1</td>\n      <td>1.0</td>\n      <td>0.00</td>\n      <td>0.00</td>\n      <td>-1.0</td>\n      <td>0.142857</td>\n      <td>-1</td>\n      <td>1</td>\n      <td>-1</td>\n    </tr>\n    <tr>\n      <th>2654</th>\n      <td>-1</td>\n      <td>1.018148</td>\n      <td>1.007463</td>\n      <td>46508</td>\n      <td>-0.033047</td>\n      <td>-0.101608</td>\n      <td>135</td>\n      <td>-0.043601</td>\n      <td>-0.142927</td>\n      <td>0</td>\n      <td>...</td>\n      <td>0.095604</td>\n      <td>-1</td>\n      <td>1.0</td>\n      <td>0.25</td>\n      <td>0.00</td>\n      <td>-1.0</td>\n      <td>-1.000000</td>\n      <td>-1</td>\n      <td>0</td>\n      <td>-1</td>\n    </tr>\n    <tr>\n      <th>2655</th>\n      <td>-1</td>\n      <td>1.002872</td>\n      <td>1.000000</td>\n      <td>3492</td>\n      <td>0.000024</td>\n      <td>0.070046</td>\n      <td>2</td>\n      <td>0.000000</td>\n      <td>0.500000</td>\n      <td>-1</td>\n      <td>...</td>\n      <td>0.000000</td>\n      <td>-1</td>\n      <td>0.0</td>\n      <td>0.00</td>\n      <td>0.00</td>\n      <td>-1.0</td>\n      <td>-1.000000</td>\n      <td>-1</td>\n      <td>0</td>\n      <td>-1</td>\n    </tr>\n    <tr>\n      <th>2656</th>\n      <td>-1</td>\n      <td>1.030065</td>\n      <td>1.002123</td>\n      <td>13088</td>\n      <td>0.289123</td>\n      <td>0.425191</td>\n      <td>472</td>\n      <td>5.692732</td>\n      <td>118.000000</td>\n      <td>28</td>\n      <td>...</td>\n      <td>0.214286</td>\n      <td>-1</td>\n      <td>2.0</td>\n      <td>0.00</td>\n      <td>0.50</td>\n      <td>-1.0</td>\n      <td>-1.000000</td>\n      <td>-1</td>\n      <td>0</td>\n      <td>-1</td>\n    </tr>\n  </tbody>\n</table>\n<p>2657 rows × 103 columns</p>\n</div>"
     },
     "execution_count": 13,
     "metadata": {},
     "output_type": "execute_result"
    }
   ],
   "source": [
    "X"
   ],
   "metadata": {
    "collapsed": false,
    "pycharm": {
     "name": "#%%\n"
    }
   }
  },
  {
   "cell_type": "code",
   "execution_count": 14,
   "outputs": [],
   "source": [
    "df_for_predict_clean['class_pred_proba'] = cbc.predict_proba(df_for_predict_clean)[:, 1]"
   ],
   "metadata": {
    "collapsed": false,
    "pycharm": {
     "name": "#%%\n"
    }
   }
  },
  {
   "cell_type": "code",
   "execution_count": 15,
   "outputs": [
    {
     "data": {
      "text/plain": "      artifactory_views  artifacts/binaries_count  artifacts/binaries_size  \\\n0                    -1                  1.301014                 1.014757   \n1                    -1                  1.226310                 1.476726   \n2                    -1                  1.595081                 1.051282   \n3                    -1                  0.945803                 1.117647   \n4                    -1                  1.853821                 2.401145   \n...                 ...                       ...                      ...   \n2048                 -1                  1.045947                 1.021768   \n2049                 -1                  1.002824                 1.000000   \n2050                  2                  1.463059                 1.842723   \n2051                 -1                  1.042163                 1.012346   \n2052                 -1                  1.667965                 5.031496   \n\n      artifacts_count  artifacts_count_monthly_growth  \\\n0              580579                       -0.012625   \n1              182378                        0.056636   \n2               98324                        0.013922   \n3               11099                        0.016577   \n4             1421458                       -0.000187   \n...               ...                             ...   \n2048           377680                        0.024902   \n2049            11009                        0.003286   \n2050           110638                        0.054630   \n2051            80233                        0.016749   \n2052            85625                        0.048585   \n\n      artifacts_count_quarter_growth  artifacts_size  \\\n0                          -0.130641           28743   \n1                           0.215420             920   \n2                           0.022989              82   \n3                           0.070325              19   \n4                           0.048232           20549   \n...                              ...             ...   \n2048                        0.080763            1549   \n2049                        0.026199               3   \n2050                        0.131814             785   \n2051                        0.040836              82   \n2052                        0.097476            1278   \n\n      artifacts_size_monthly_growth  artifacts_size_quarter_growth  \\\n0                         -0.002787                       0.065690   \n1                          0.061820                       0.189758   \n2                          0.018831                      -0.010073   \n3                          0.000000                       0.057190   \n4                         -0.004205                       0.043428   \n...                             ...                            ...   \n2048                       0.040114                       0.095081   \n2049                       0.000000                       0.000000   \n2050                       0.099802                       0.364108   \n2051                       0.006173                       0.025404   \n2052                       0.026023                       0.054665   \n\n      avg_resolution_days  ...  pricing_views  pypi  pypi_monthly_growth  \\\n0                      -1  ...             -1     1                 0.00   \n1                      -1  ...             -1     1                 0.00   \n2                      -1  ...             -1     0                 0.00   \n3                      -1  ...             -1     1                 0.00   \n4                      17  ...             -1    12                 0.00   \n...                   ...  ...            ...   ...                  ...   \n2048                   -1  ...             -1     1                -0.25   \n2049                   -1  ...             -1     0                 0.00   \n2050                   -1  ...              3     0                 0.00   \n2051                   -1  ...             -1     2                 0.00   \n2052                   -1  ...             -1     0                 0.00   \n\n      pypi_quarter_growth  qoe_score  replys_to_sent  support_views_views  \\\n0                   -0.25       -1.0        0.333333                   -1   \n1                    0.00       -1.0        0.000000                   -1   \n2                    0.00       -1.0        0.500000                   -1   \n3                    0.00       -1.0        0.000000                   -1   \n4                    0.00       -1.0        0.500000                   -1   \n...                   ...        ...             ...                  ...   \n2048                 0.25       -1.0        0.250000                   -1   \n2049                 0.00       -1.0        0.625000                   -1   \n2050                 0.00       -1.0        0.000000                    0   \n2051                 0.50       -1.0        0.333333                   -1   \n2052                 0.00       -1.0        0.000000                   -1   \n\n      unresolved_jira_cases  xray_views  class_pred_proba  \n0                         0          -1          0.332641  \n1                         0          -1          0.279469  \n2                         0          -1          0.329004  \n3                         0          -1          0.178409  \n4                         0          -1          0.594196  \n...                     ...         ...               ...  \n2048                      0          -1          0.424374  \n2049                      0          -1          0.272718  \n2050                      0           0          0.307100  \n2051                      0          -1          0.357633  \n2052                      0          -1          0.221946  \n\n[2053 rows x 104 columns]",
      "text/html": "<div>\n<style scoped>\n    .dataframe tbody tr th:only-of-type {\n        vertical-align: middle;\n    }\n\n    .dataframe tbody tr th {\n        vertical-align: top;\n    }\n\n    .dataframe thead th {\n        text-align: right;\n    }\n</style>\n<table border=\"1\" class=\"dataframe\">\n  <thead>\n    <tr style=\"text-align: right;\">\n      <th></th>\n      <th>artifactory_views</th>\n      <th>artifacts/binaries_count</th>\n      <th>artifacts/binaries_size</th>\n      <th>artifacts_count</th>\n      <th>artifacts_count_monthly_growth</th>\n      <th>artifacts_count_quarter_growth</th>\n      <th>artifacts_size</th>\n      <th>artifacts_size_monthly_growth</th>\n      <th>artifacts_size_quarter_growth</th>\n      <th>avg_resolution_days</th>\n      <th>...</th>\n      <th>pricing_views</th>\n      <th>pypi</th>\n      <th>pypi_monthly_growth</th>\n      <th>pypi_quarter_growth</th>\n      <th>qoe_score</th>\n      <th>replys_to_sent</th>\n      <th>support_views_views</th>\n      <th>unresolved_jira_cases</th>\n      <th>xray_views</th>\n      <th>class_pred_proba</th>\n    </tr>\n  </thead>\n  <tbody>\n    <tr>\n      <th>0</th>\n      <td>-1</td>\n      <td>1.301014</td>\n      <td>1.014757</td>\n      <td>580579</td>\n      <td>-0.012625</td>\n      <td>-0.130641</td>\n      <td>28743</td>\n      <td>-0.002787</td>\n      <td>0.065690</td>\n      <td>-1</td>\n      <td>...</td>\n      <td>-1</td>\n      <td>1</td>\n      <td>0.00</td>\n      <td>-0.25</td>\n      <td>-1.0</td>\n      <td>0.333333</td>\n      <td>-1</td>\n      <td>0</td>\n      <td>-1</td>\n      <td>0.332641</td>\n    </tr>\n    <tr>\n      <th>1</th>\n      <td>-1</td>\n      <td>1.226310</td>\n      <td>1.476726</td>\n      <td>182378</td>\n      <td>0.056636</td>\n      <td>0.215420</td>\n      <td>920</td>\n      <td>0.061820</td>\n      <td>0.189758</td>\n      <td>-1</td>\n      <td>...</td>\n      <td>-1</td>\n      <td>1</td>\n      <td>0.00</td>\n      <td>0.00</td>\n      <td>-1.0</td>\n      <td>0.000000</td>\n      <td>-1</td>\n      <td>0</td>\n      <td>-1</td>\n      <td>0.279469</td>\n    </tr>\n    <tr>\n      <th>2</th>\n      <td>-1</td>\n      <td>1.595081</td>\n      <td>1.051282</td>\n      <td>98324</td>\n      <td>0.013922</td>\n      <td>0.022989</td>\n      <td>82</td>\n      <td>0.018831</td>\n      <td>-0.010073</td>\n      <td>-1</td>\n      <td>...</td>\n      <td>-1</td>\n      <td>0</td>\n      <td>0.00</td>\n      <td>0.00</td>\n      <td>-1.0</td>\n      <td>0.500000</td>\n      <td>-1</td>\n      <td>0</td>\n      <td>-1</td>\n      <td>0.329004</td>\n    </tr>\n    <tr>\n      <th>3</th>\n      <td>-1</td>\n      <td>0.945803</td>\n      <td>1.117647</td>\n      <td>11099</td>\n      <td>0.016577</td>\n      <td>0.070325</td>\n      <td>19</td>\n      <td>0.000000</td>\n      <td>0.057190</td>\n      <td>-1</td>\n      <td>...</td>\n      <td>-1</td>\n      <td>1</td>\n      <td>0.00</td>\n      <td>0.00</td>\n      <td>-1.0</td>\n      <td>0.000000</td>\n      <td>-1</td>\n      <td>0</td>\n      <td>-1</td>\n      <td>0.178409</td>\n    </tr>\n    <tr>\n      <th>4</th>\n      <td>-1</td>\n      <td>1.853821</td>\n      <td>2.401145</td>\n      <td>1421458</td>\n      <td>-0.000187</td>\n      <td>0.048232</td>\n      <td>20549</td>\n      <td>-0.004205</td>\n      <td>0.043428</td>\n      <td>17</td>\n      <td>...</td>\n      <td>-1</td>\n      <td>12</td>\n      <td>0.00</td>\n      <td>0.00</td>\n      <td>-1.0</td>\n      <td>0.500000</td>\n      <td>-1</td>\n      <td>0</td>\n      <td>-1</td>\n      <td>0.594196</td>\n    </tr>\n    <tr>\n      <th>...</th>\n      <td>...</td>\n      <td>...</td>\n      <td>...</td>\n      <td>...</td>\n      <td>...</td>\n      <td>...</td>\n      <td>...</td>\n      <td>...</td>\n      <td>...</td>\n      <td>...</td>\n      <td>...</td>\n      <td>...</td>\n      <td>...</td>\n      <td>...</td>\n      <td>...</td>\n      <td>...</td>\n      <td>...</td>\n      <td>...</td>\n      <td>...</td>\n      <td>...</td>\n      <td>...</td>\n    </tr>\n    <tr>\n      <th>2048</th>\n      <td>-1</td>\n      <td>1.045947</td>\n      <td>1.021768</td>\n      <td>377680</td>\n      <td>0.024902</td>\n      <td>0.080763</td>\n      <td>1549</td>\n      <td>0.040114</td>\n      <td>0.095081</td>\n      <td>-1</td>\n      <td>...</td>\n      <td>-1</td>\n      <td>1</td>\n      <td>-0.25</td>\n      <td>0.25</td>\n      <td>-1.0</td>\n      <td>0.250000</td>\n      <td>-1</td>\n      <td>0</td>\n      <td>-1</td>\n      <td>0.424374</td>\n    </tr>\n    <tr>\n      <th>2049</th>\n      <td>-1</td>\n      <td>1.002824</td>\n      <td>1.000000</td>\n      <td>11009</td>\n      <td>0.003286</td>\n      <td>0.026199</td>\n      <td>3</td>\n      <td>0.000000</td>\n      <td>0.000000</td>\n      <td>-1</td>\n      <td>...</td>\n      <td>-1</td>\n      <td>0</td>\n      <td>0.00</td>\n      <td>0.00</td>\n      <td>-1.0</td>\n      <td>0.625000</td>\n      <td>-1</td>\n      <td>0</td>\n      <td>-1</td>\n      <td>0.272718</td>\n    </tr>\n    <tr>\n      <th>2050</th>\n      <td>2</td>\n      <td>1.463059</td>\n      <td>1.842723</td>\n      <td>110638</td>\n      <td>0.054630</td>\n      <td>0.131814</td>\n      <td>785</td>\n      <td>0.099802</td>\n      <td>0.364108</td>\n      <td>-1</td>\n      <td>...</td>\n      <td>3</td>\n      <td>0</td>\n      <td>0.00</td>\n      <td>0.00</td>\n      <td>-1.0</td>\n      <td>0.000000</td>\n      <td>0</td>\n      <td>0</td>\n      <td>0</td>\n      <td>0.307100</td>\n    </tr>\n    <tr>\n      <th>2051</th>\n      <td>-1</td>\n      <td>1.042163</td>\n      <td>1.012346</td>\n      <td>80233</td>\n      <td>0.016749</td>\n      <td>0.040836</td>\n      <td>82</td>\n      <td>0.006173</td>\n      <td>0.025404</td>\n      <td>-1</td>\n      <td>...</td>\n      <td>-1</td>\n      <td>2</td>\n      <td>0.00</td>\n      <td>0.50</td>\n      <td>-1.0</td>\n      <td>0.333333</td>\n      <td>-1</td>\n      <td>0</td>\n      <td>-1</td>\n      <td>0.357633</td>\n    </tr>\n    <tr>\n      <th>2052</th>\n      <td>-1</td>\n      <td>1.667965</td>\n      <td>5.031496</td>\n      <td>85625</td>\n      <td>0.048585</td>\n      <td>0.097476</td>\n      <td>1278</td>\n      <td>0.026023</td>\n      <td>0.054665</td>\n      <td>-1</td>\n      <td>...</td>\n      <td>-1</td>\n      <td>0</td>\n      <td>0.00</td>\n      <td>0.00</td>\n      <td>-1.0</td>\n      <td>0.000000</td>\n      <td>-1</td>\n      <td>0</td>\n      <td>-1</td>\n      <td>0.221946</td>\n    </tr>\n  </tbody>\n</table>\n<p>2053 rows × 104 columns</p>\n</div>"
     },
     "execution_count": 15,
     "metadata": {},
     "output_type": "execute_result"
    }
   ],
   "source": [
    "df_for_predict_clean"
   ],
   "metadata": {
    "collapsed": false,
    "pycharm": {
     "name": "#%%\n"
    }
   }
  },
  {
   "cell_type": "code",
   "execution_count": 16,
   "outputs": [],
   "source": [
    "####################\n",
    "# WHAT IF ANALYSIS #\n",
    "####################\n",
    "\n",
    "processed_df_for_fit = X\n",
    "processed_df_for_fit['class'] = y\n",
    "processed_df_for_fit['class_pred_proba'] = cbc.predict_proba(X)[:, 1]"
   ],
   "metadata": {
    "collapsed": false,
    "pycharm": {
     "name": "#%%\n"
    }
   }
  },
  {
   "cell_type": "code",
   "execution_count": 17,
   "outputs": [],
   "source": [
    "high_bar_for_proba = processed_df_for_fit['class_pred_proba'].quantile(.85)\n",
    "low_bar_for_proba = processed_df_for_fit['class_pred_proba'].quantile(.7)\n",
    "processed_df_for_fit['class_pred'] = processed_df_for_fit['class_pred_proba'].apply(\n",
    "    lambda x: 'High' if x >= high_bar_for_proba else 'Medium' if x >= low_bar_for_proba else 'Low')"
   ],
   "metadata": {
    "collapsed": false,
    "pycharm": {
     "name": "#%%\n"
    }
   }
  },
  {
   "cell_type": "code",
   "execution_count": 18,
   "outputs": [],
   "source": [
    "high_bar_for_proba = df_for_predict_clean['class_pred_proba'].quantile(.85)\n",
    "low_bar_for_proba = df_for_predict_clean['class_pred_proba'].quantile(.7)\n",
    "df_for_predict_clean['class_pred'] = df_for_predict_clean['class_pred_proba'].apply(\n",
    "    lambda x: 'High' if x >= high_bar_for_proba else 'Medium' if x >= low_bar_for_proba else 'Low')"
   ],
   "metadata": {
    "collapsed": false,
    "pycharm": {
     "name": "#%%\n"
    }
   }
  },
  {
   "cell_type": "code",
   "execution_count": 19,
   "outputs": [
    {
     "data": {
      "text/plain": "      artifactory_views  artifacts/binaries_count  artifacts/binaries_size  \\\n0                    -1                  1.010826                 1.005556   \n1                     0                  1.072605                 1.126799   \n2                    -1                  1.010057                 1.000000   \n3                    -1                  1.021839                 1.184615   \n4                    -1                  1.824033                 2.200704   \n...                 ...                       ...                      ...   \n2652                 -1                  1.028372                 1.000000   \n2653                 -1                  1.054695                 1.476603   \n2654                 -1                  1.018148                 1.007463   \n2655                 -1                  1.002872                 1.000000   \n2656                 -1                  1.030065                 1.002123   \n\n      artifacts_count  artifacts_count_monthly_growth  \\\n0               33612                        0.006322   \n1              133136                        0.110948   \n2              425446                       -0.192083   \n3               33923                        0.044085   \n4              151382                        0.040462   \n...               ...                             ...   \n2652            16238                        0.066810   \n2653           479153                        0.049289   \n2654            46508                       -0.033047   \n2655             3492                        0.000024   \n2656            13088                        0.289123   \n\n      artifacts_count_quarter_growth  artifacts_size  \\\n0                           0.022357             181   \n1                           0.108732            1253   \n2                          -0.015428             723   \n3                           0.130560              77   \n4                           0.305511            2500   \n...                              ...             ...   \n2652                        0.226497             146   \n2653                        0.311261            1704   \n2654                       -0.101608             135   \n2655                        0.070046               2   \n2656                        0.425191             472   \n\n      artifacts_size_monthly_growth  artifacts_size_quarter_growth  \\\n0                          0.028839                       0.102380   \n1                          0.061992                      -0.048989   \n2                         -0.156684                      -0.106017   \n3                          0.064162                       0.324329   \n4                          0.048097                       0.339663   \n...                             ...                            ...   \n2652                       0.094142                       0.552819   \n2653                       0.005481                       0.460036   \n2654                      -0.043601                      -0.142927   \n2655                       0.000000                       0.500000   \n2656                       5.692732                     118.000000   \n\n      avg_resolution_days  ...  pypi_monthly_growth  pypi_quarter_growth  \\\n0                      -1  ...                 0.00                 0.00   \n1                       7  ...                -0.25                 0.00   \n2                      -1  ...                 0.00                 0.00   \n3                      18  ...                 0.00                -0.25   \n4                      -1  ...                 0.00                 0.00   \n...                   ...  ...                  ...                  ...   \n2652                   -1  ...                 0.00                 0.00   \n2653                   -1  ...                 0.00                 0.00   \n2654                    0  ...                 0.25                 0.00   \n2655                   -1  ...                 0.00                 0.00   \n2656                   28  ...                 0.00                 0.50   \n\n      qoe_score  replys_to_sent  support_views_views  unresolved_jira_cases  \\\n0          -1.0       -1.000000                   -1                      0   \n1          -1.0        0.500000                    0                      1   \n2          -1.0       -1.000000                   -1                      0   \n3          -1.0        0.444444                   -1                      0   \n4          -1.0        0.000000                   -1                      0   \n...         ...             ...                  ...                    ...   \n2652       -1.0        0.500000                   -1                      0   \n2653       -1.0        0.142857                   -1                      1   \n2654       -1.0       -1.000000                   -1                      0   \n2655       -1.0       -1.000000                   -1                      0   \n2656       -1.0       -1.000000                   -1                      0   \n\n      xray_views  class  class_pred_proba  class_pred  \n0             -1      0          0.168478         Low  \n1              0      0          0.402800      Medium  \n2             -1      0          0.269789         Low  \n3             -1      1          0.710284        High  \n4             -1      0          0.245215         Low  \n...          ...    ...               ...         ...  \n2652          -1      0          0.277072         Low  \n2653          -1      0          0.502036        High  \n2654          -1      0          0.265595         Low  \n2655          -1      0          0.173082         Low  \n2656          -1      0          0.222784         Low  \n\n[2657 rows x 106 columns]",
      "text/html": "<div>\n<style scoped>\n    .dataframe tbody tr th:only-of-type {\n        vertical-align: middle;\n    }\n\n    .dataframe tbody tr th {\n        vertical-align: top;\n    }\n\n    .dataframe thead th {\n        text-align: right;\n    }\n</style>\n<table border=\"1\" class=\"dataframe\">\n  <thead>\n    <tr style=\"text-align: right;\">\n      <th></th>\n      <th>artifactory_views</th>\n      <th>artifacts/binaries_count</th>\n      <th>artifacts/binaries_size</th>\n      <th>artifacts_count</th>\n      <th>artifacts_count_monthly_growth</th>\n      <th>artifacts_count_quarter_growth</th>\n      <th>artifacts_size</th>\n      <th>artifacts_size_monthly_growth</th>\n      <th>artifacts_size_quarter_growth</th>\n      <th>avg_resolution_days</th>\n      <th>...</th>\n      <th>pypi_monthly_growth</th>\n      <th>pypi_quarter_growth</th>\n      <th>qoe_score</th>\n      <th>replys_to_sent</th>\n      <th>support_views_views</th>\n      <th>unresolved_jira_cases</th>\n      <th>xray_views</th>\n      <th>class</th>\n      <th>class_pred_proba</th>\n      <th>class_pred</th>\n    </tr>\n  </thead>\n  <tbody>\n    <tr>\n      <th>0</th>\n      <td>-1</td>\n      <td>1.010826</td>\n      <td>1.005556</td>\n      <td>33612</td>\n      <td>0.006322</td>\n      <td>0.022357</td>\n      <td>181</td>\n      <td>0.028839</td>\n      <td>0.102380</td>\n      <td>-1</td>\n      <td>...</td>\n      <td>0.00</td>\n      <td>0.00</td>\n      <td>-1.0</td>\n      <td>-1.000000</td>\n      <td>-1</td>\n      <td>0</td>\n      <td>-1</td>\n      <td>0</td>\n      <td>0.168478</td>\n      <td>Low</td>\n    </tr>\n    <tr>\n      <th>1</th>\n      <td>0</td>\n      <td>1.072605</td>\n      <td>1.126799</td>\n      <td>133136</td>\n      <td>0.110948</td>\n      <td>0.108732</td>\n      <td>1253</td>\n      <td>0.061992</td>\n      <td>-0.048989</td>\n      <td>7</td>\n      <td>...</td>\n      <td>-0.25</td>\n      <td>0.00</td>\n      <td>-1.0</td>\n      <td>0.500000</td>\n      <td>0</td>\n      <td>1</td>\n      <td>0</td>\n      <td>0</td>\n      <td>0.402800</td>\n      <td>Medium</td>\n    </tr>\n    <tr>\n      <th>2</th>\n      <td>-1</td>\n      <td>1.010057</td>\n      <td>1.000000</td>\n      <td>425446</td>\n      <td>-0.192083</td>\n      <td>-0.015428</td>\n      <td>723</td>\n      <td>-0.156684</td>\n      <td>-0.106017</td>\n      <td>-1</td>\n      <td>...</td>\n      <td>0.00</td>\n      <td>0.00</td>\n      <td>-1.0</td>\n      <td>-1.000000</td>\n      <td>-1</td>\n      <td>0</td>\n      <td>-1</td>\n      <td>0</td>\n      <td>0.269789</td>\n      <td>Low</td>\n    </tr>\n    <tr>\n      <th>3</th>\n      <td>-1</td>\n      <td>1.021839</td>\n      <td>1.184615</td>\n      <td>33923</td>\n      <td>0.044085</td>\n      <td>0.130560</td>\n      <td>77</td>\n      <td>0.064162</td>\n      <td>0.324329</td>\n      <td>18</td>\n      <td>...</td>\n      <td>0.00</td>\n      <td>-0.25</td>\n      <td>-1.0</td>\n      <td>0.444444</td>\n      <td>-1</td>\n      <td>0</td>\n      <td>-1</td>\n      <td>1</td>\n      <td>0.710284</td>\n      <td>High</td>\n    </tr>\n    <tr>\n      <th>4</th>\n      <td>-1</td>\n      <td>1.824033</td>\n      <td>2.200704</td>\n      <td>151382</td>\n      <td>0.040462</td>\n      <td>0.305511</td>\n      <td>2500</td>\n      <td>0.048097</td>\n      <td>0.339663</td>\n      <td>-1</td>\n      <td>...</td>\n      <td>0.00</td>\n      <td>0.00</td>\n      <td>-1.0</td>\n      <td>0.000000</td>\n      <td>-1</td>\n      <td>0</td>\n      <td>-1</td>\n      <td>0</td>\n      <td>0.245215</td>\n      <td>Low</td>\n    </tr>\n    <tr>\n      <th>...</th>\n      <td>...</td>\n      <td>...</td>\n      <td>...</td>\n      <td>...</td>\n      <td>...</td>\n      <td>...</td>\n      <td>...</td>\n      <td>...</td>\n      <td>...</td>\n      <td>...</td>\n      <td>...</td>\n      <td>...</td>\n      <td>...</td>\n      <td>...</td>\n      <td>...</td>\n      <td>...</td>\n      <td>...</td>\n      <td>...</td>\n      <td>...</td>\n      <td>...</td>\n      <td>...</td>\n    </tr>\n    <tr>\n      <th>2652</th>\n      <td>-1</td>\n      <td>1.028372</td>\n      <td>1.000000</td>\n      <td>16238</td>\n      <td>0.066810</td>\n      <td>0.226497</td>\n      <td>146</td>\n      <td>0.094142</td>\n      <td>0.552819</td>\n      <td>-1</td>\n      <td>...</td>\n      <td>0.00</td>\n      <td>0.00</td>\n      <td>-1.0</td>\n      <td>0.500000</td>\n      <td>-1</td>\n      <td>0</td>\n      <td>-1</td>\n      <td>0</td>\n      <td>0.277072</td>\n      <td>Low</td>\n    </tr>\n    <tr>\n      <th>2653</th>\n      <td>-1</td>\n      <td>1.054695</td>\n      <td>1.476603</td>\n      <td>479153</td>\n      <td>0.049289</td>\n      <td>0.311261</td>\n      <td>1704</td>\n      <td>0.005481</td>\n      <td>0.460036</td>\n      <td>-1</td>\n      <td>...</td>\n      <td>0.00</td>\n      <td>0.00</td>\n      <td>-1.0</td>\n      <td>0.142857</td>\n      <td>-1</td>\n      <td>1</td>\n      <td>-1</td>\n      <td>0</td>\n      <td>0.502036</td>\n      <td>High</td>\n    </tr>\n    <tr>\n      <th>2654</th>\n      <td>-1</td>\n      <td>1.018148</td>\n      <td>1.007463</td>\n      <td>46508</td>\n      <td>-0.033047</td>\n      <td>-0.101608</td>\n      <td>135</td>\n      <td>-0.043601</td>\n      <td>-0.142927</td>\n      <td>0</td>\n      <td>...</td>\n      <td>0.25</td>\n      <td>0.00</td>\n      <td>-1.0</td>\n      <td>-1.000000</td>\n      <td>-1</td>\n      <td>0</td>\n      <td>-1</td>\n      <td>0</td>\n      <td>0.265595</td>\n      <td>Low</td>\n    </tr>\n    <tr>\n      <th>2655</th>\n      <td>-1</td>\n      <td>1.002872</td>\n      <td>1.000000</td>\n      <td>3492</td>\n      <td>0.000024</td>\n      <td>0.070046</td>\n      <td>2</td>\n      <td>0.000000</td>\n      <td>0.500000</td>\n      <td>-1</td>\n      <td>...</td>\n      <td>0.00</td>\n      <td>0.00</td>\n      <td>-1.0</td>\n      <td>-1.000000</td>\n      <td>-1</td>\n      <td>0</td>\n      <td>-1</td>\n      <td>0</td>\n      <td>0.173082</td>\n      <td>Low</td>\n    </tr>\n    <tr>\n      <th>2656</th>\n      <td>-1</td>\n      <td>1.030065</td>\n      <td>1.002123</td>\n      <td>13088</td>\n      <td>0.289123</td>\n      <td>0.425191</td>\n      <td>472</td>\n      <td>5.692732</td>\n      <td>118.000000</td>\n      <td>28</td>\n      <td>...</td>\n      <td>0.00</td>\n      <td>0.50</td>\n      <td>-1.0</td>\n      <td>-1.000000</td>\n      <td>-1</td>\n      <td>0</td>\n      <td>-1</td>\n      <td>0</td>\n      <td>0.222784</td>\n      <td>Low</td>\n    </tr>\n  </tbody>\n</table>\n<p>2657 rows × 106 columns</p>\n</div>"
     },
     "execution_count": 19,
     "metadata": {},
     "output_type": "execute_result"
    }
   ],
   "source": [
    "processed_df_for_fit"
   ],
   "metadata": {
    "collapsed": false,
    "pycharm": {
     "name": "#%%\n"
    }
   }
  },
  {
   "cell_type": "code",
   "execution_count": 20,
   "outputs": [
    {
     "data": {
      "text/plain": "      artifactory_views  artifacts/binaries_count  artifacts/binaries_size  \\\n0                    -1                  1.301014                 1.014757   \n1                    -1                  1.226310                 1.476726   \n2                    -1                  1.595081                 1.051282   \n3                    -1                  0.945803                 1.117647   \n4                    -1                  1.853821                 2.401145   \n...                 ...                       ...                      ...   \n2048                 -1                  1.045947                 1.021768   \n2049                 -1                  1.002824                 1.000000   \n2050                  2                  1.463059                 1.842723   \n2051                 -1                  1.042163                 1.012346   \n2052                 -1                  1.667965                 5.031496   \n\n      artifacts_count  artifacts_count_monthly_growth  \\\n0              580579                       -0.012625   \n1              182378                        0.056636   \n2               98324                        0.013922   \n3               11099                        0.016577   \n4             1421458                       -0.000187   \n...               ...                             ...   \n2048           377680                        0.024902   \n2049            11009                        0.003286   \n2050           110638                        0.054630   \n2051            80233                        0.016749   \n2052            85625                        0.048585   \n\n      artifacts_count_quarter_growth  artifacts_size  \\\n0                          -0.130641           28743   \n1                           0.215420             920   \n2                           0.022989              82   \n3                           0.070325              19   \n4                           0.048232           20549   \n...                              ...             ...   \n2048                        0.080763            1549   \n2049                        0.026199               3   \n2050                        0.131814             785   \n2051                        0.040836              82   \n2052                        0.097476            1278   \n\n      artifacts_size_monthly_growth  artifacts_size_quarter_growth  \\\n0                         -0.002787                       0.065690   \n1                          0.061820                       0.189758   \n2                          0.018831                      -0.010073   \n3                          0.000000                       0.057190   \n4                         -0.004205                       0.043428   \n...                             ...                            ...   \n2048                       0.040114                       0.095081   \n2049                       0.000000                       0.000000   \n2050                       0.099802                       0.364108   \n2051                       0.006173                       0.025404   \n2052                       0.026023                       0.054665   \n\n      avg_resolution_days  ...  pypi  pypi_monthly_growth  \\\n0                      -1  ...     1                 0.00   \n1                      -1  ...     1                 0.00   \n2                      -1  ...     0                 0.00   \n3                      -1  ...     1                 0.00   \n4                      17  ...    12                 0.00   \n...                   ...  ...   ...                  ...   \n2048                   -1  ...     1                -0.25   \n2049                   -1  ...     0                 0.00   \n2050                   -1  ...     0                 0.00   \n2051                   -1  ...     2                 0.00   \n2052                   -1  ...     0                 0.00   \n\n      pypi_quarter_growth  qoe_score  replys_to_sent  support_views_views  \\\n0                   -0.25       -1.0        0.333333                   -1   \n1                    0.00       -1.0        0.000000                   -1   \n2                    0.00       -1.0        0.500000                   -1   \n3                    0.00       -1.0        0.000000                   -1   \n4                    0.00       -1.0        0.500000                   -1   \n...                   ...        ...             ...                  ...   \n2048                 0.25       -1.0        0.250000                   -1   \n2049                 0.00       -1.0        0.625000                   -1   \n2050                 0.00       -1.0        0.000000                    0   \n2051                 0.50       -1.0        0.333333                   -1   \n2052                 0.00       -1.0        0.000000                   -1   \n\n      unresolved_jira_cases  xray_views  class_pred_proba  class_pred  \n0                         0          -1          0.332641         Low  \n1                         0          -1          0.279469         Low  \n2                         0          -1          0.329004         Low  \n3                         0          -1          0.178409         Low  \n4                         0          -1          0.594196        High  \n...                     ...         ...               ...         ...  \n2048                      0          -1          0.424374      Medium  \n2049                      0          -1          0.272718         Low  \n2050                      0           0          0.307100         Low  \n2051                      0          -1          0.357633         Low  \n2052                      0          -1          0.221946         Low  \n\n[2053 rows x 105 columns]",
      "text/html": "<div>\n<style scoped>\n    .dataframe tbody tr th:only-of-type {\n        vertical-align: middle;\n    }\n\n    .dataframe tbody tr th {\n        vertical-align: top;\n    }\n\n    .dataframe thead th {\n        text-align: right;\n    }\n</style>\n<table border=\"1\" class=\"dataframe\">\n  <thead>\n    <tr style=\"text-align: right;\">\n      <th></th>\n      <th>artifactory_views</th>\n      <th>artifacts/binaries_count</th>\n      <th>artifacts/binaries_size</th>\n      <th>artifacts_count</th>\n      <th>artifacts_count_monthly_growth</th>\n      <th>artifacts_count_quarter_growth</th>\n      <th>artifacts_size</th>\n      <th>artifacts_size_monthly_growth</th>\n      <th>artifacts_size_quarter_growth</th>\n      <th>avg_resolution_days</th>\n      <th>...</th>\n      <th>pypi</th>\n      <th>pypi_monthly_growth</th>\n      <th>pypi_quarter_growth</th>\n      <th>qoe_score</th>\n      <th>replys_to_sent</th>\n      <th>support_views_views</th>\n      <th>unresolved_jira_cases</th>\n      <th>xray_views</th>\n      <th>class_pred_proba</th>\n      <th>class_pred</th>\n    </tr>\n  </thead>\n  <tbody>\n    <tr>\n      <th>0</th>\n      <td>-1</td>\n      <td>1.301014</td>\n      <td>1.014757</td>\n      <td>580579</td>\n      <td>-0.012625</td>\n      <td>-0.130641</td>\n      <td>28743</td>\n      <td>-0.002787</td>\n      <td>0.065690</td>\n      <td>-1</td>\n      <td>...</td>\n      <td>1</td>\n      <td>0.00</td>\n      <td>-0.25</td>\n      <td>-1.0</td>\n      <td>0.333333</td>\n      <td>-1</td>\n      <td>0</td>\n      <td>-1</td>\n      <td>0.332641</td>\n      <td>Low</td>\n    </tr>\n    <tr>\n      <th>1</th>\n      <td>-1</td>\n      <td>1.226310</td>\n      <td>1.476726</td>\n      <td>182378</td>\n      <td>0.056636</td>\n      <td>0.215420</td>\n      <td>920</td>\n      <td>0.061820</td>\n      <td>0.189758</td>\n      <td>-1</td>\n      <td>...</td>\n      <td>1</td>\n      <td>0.00</td>\n      <td>0.00</td>\n      <td>-1.0</td>\n      <td>0.000000</td>\n      <td>-1</td>\n      <td>0</td>\n      <td>-1</td>\n      <td>0.279469</td>\n      <td>Low</td>\n    </tr>\n    <tr>\n      <th>2</th>\n      <td>-1</td>\n      <td>1.595081</td>\n      <td>1.051282</td>\n      <td>98324</td>\n      <td>0.013922</td>\n      <td>0.022989</td>\n      <td>82</td>\n      <td>0.018831</td>\n      <td>-0.010073</td>\n      <td>-1</td>\n      <td>...</td>\n      <td>0</td>\n      <td>0.00</td>\n      <td>0.00</td>\n      <td>-1.0</td>\n      <td>0.500000</td>\n      <td>-1</td>\n      <td>0</td>\n      <td>-1</td>\n      <td>0.329004</td>\n      <td>Low</td>\n    </tr>\n    <tr>\n      <th>3</th>\n      <td>-1</td>\n      <td>0.945803</td>\n      <td>1.117647</td>\n      <td>11099</td>\n      <td>0.016577</td>\n      <td>0.070325</td>\n      <td>19</td>\n      <td>0.000000</td>\n      <td>0.057190</td>\n      <td>-1</td>\n      <td>...</td>\n      <td>1</td>\n      <td>0.00</td>\n      <td>0.00</td>\n      <td>-1.0</td>\n      <td>0.000000</td>\n      <td>-1</td>\n      <td>0</td>\n      <td>-1</td>\n      <td>0.178409</td>\n      <td>Low</td>\n    </tr>\n    <tr>\n      <th>4</th>\n      <td>-1</td>\n      <td>1.853821</td>\n      <td>2.401145</td>\n      <td>1421458</td>\n      <td>-0.000187</td>\n      <td>0.048232</td>\n      <td>20549</td>\n      <td>-0.004205</td>\n      <td>0.043428</td>\n      <td>17</td>\n      <td>...</td>\n      <td>12</td>\n      <td>0.00</td>\n      <td>0.00</td>\n      <td>-1.0</td>\n      <td>0.500000</td>\n      <td>-1</td>\n      <td>0</td>\n      <td>-1</td>\n      <td>0.594196</td>\n      <td>High</td>\n    </tr>\n    <tr>\n      <th>...</th>\n      <td>...</td>\n      <td>...</td>\n      <td>...</td>\n      <td>...</td>\n      <td>...</td>\n      <td>...</td>\n      <td>...</td>\n      <td>...</td>\n      <td>...</td>\n      <td>...</td>\n      <td>...</td>\n      <td>...</td>\n      <td>...</td>\n      <td>...</td>\n      <td>...</td>\n      <td>...</td>\n      <td>...</td>\n      <td>...</td>\n      <td>...</td>\n      <td>...</td>\n      <td>...</td>\n    </tr>\n    <tr>\n      <th>2048</th>\n      <td>-1</td>\n      <td>1.045947</td>\n      <td>1.021768</td>\n      <td>377680</td>\n      <td>0.024902</td>\n      <td>0.080763</td>\n      <td>1549</td>\n      <td>0.040114</td>\n      <td>0.095081</td>\n      <td>-1</td>\n      <td>...</td>\n      <td>1</td>\n      <td>-0.25</td>\n      <td>0.25</td>\n      <td>-1.0</td>\n      <td>0.250000</td>\n      <td>-1</td>\n      <td>0</td>\n      <td>-1</td>\n      <td>0.424374</td>\n      <td>Medium</td>\n    </tr>\n    <tr>\n      <th>2049</th>\n      <td>-1</td>\n      <td>1.002824</td>\n      <td>1.000000</td>\n      <td>11009</td>\n      <td>0.003286</td>\n      <td>0.026199</td>\n      <td>3</td>\n      <td>0.000000</td>\n      <td>0.000000</td>\n      <td>-1</td>\n      <td>...</td>\n      <td>0</td>\n      <td>0.00</td>\n      <td>0.00</td>\n      <td>-1.0</td>\n      <td>0.625000</td>\n      <td>-1</td>\n      <td>0</td>\n      <td>-1</td>\n      <td>0.272718</td>\n      <td>Low</td>\n    </tr>\n    <tr>\n      <th>2050</th>\n      <td>2</td>\n      <td>1.463059</td>\n      <td>1.842723</td>\n      <td>110638</td>\n      <td>0.054630</td>\n      <td>0.131814</td>\n      <td>785</td>\n      <td>0.099802</td>\n      <td>0.364108</td>\n      <td>-1</td>\n      <td>...</td>\n      <td>0</td>\n      <td>0.00</td>\n      <td>0.00</td>\n      <td>-1.0</td>\n      <td>0.000000</td>\n      <td>0</td>\n      <td>0</td>\n      <td>0</td>\n      <td>0.307100</td>\n      <td>Low</td>\n    </tr>\n    <tr>\n      <th>2051</th>\n      <td>-1</td>\n      <td>1.042163</td>\n      <td>1.012346</td>\n      <td>80233</td>\n      <td>0.016749</td>\n      <td>0.040836</td>\n      <td>82</td>\n      <td>0.006173</td>\n      <td>0.025404</td>\n      <td>-1</td>\n      <td>...</td>\n      <td>2</td>\n      <td>0.00</td>\n      <td>0.50</td>\n      <td>-1.0</td>\n      <td>0.333333</td>\n      <td>-1</td>\n      <td>0</td>\n      <td>-1</td>\n      <td>0.357633</td>\n      <td>Low</td>\n    </tr>\n    <tr>\n      <th>2052</th>\n      <td>-1</td>\n      <td>1.667965</td>\n      <td>5.031496</td>\n      <td>85625</td>\n      <td>0.048585</td>\n      <td>0.097476</td>\n      <td>1278</td>\n      <td>0.026023</td>\n      <td>0.054665</td>\n      <td>-1</td>\n      <td>...</td>\n      <td>0</td>\n      <td>0.00</td>\n      <td>0.00</td>\n      <td>-1.0</td>\n      <td>0.000000</td>\n      <td>-1</td>\n      <td>0</td>\n      <td>-1</td>\n      <td>0.221946</td>\n      <td>Low</td>\n    </tr>\n  </tbody>\n</table>\n<p>2053 rows × 105 columns</p>\n</div>"
     },
     "execution_count": 20,
     "metadata": {},
     "output_type": "execute_result"
    }
   ],
   "source": [
    "df_for_predict_clean"
   ],
   "metadata": {
    "collapsed": false,
    "pycharm": {
     "name": "#%%\n"
    }
   }
  },
  {
   "cell_type": "code",
   "execution_count": 21,
   "outputs": [],
   "source": [
    "top_model = cbc"
   ],
   "metadata": {
    "collapsed": false,
    "pycharm": {
     "name": "#%%\n"
    }
   }
  },
  {
   "cell_type": "code",
   "execution_count": 22,
   "outputs": [],
   "source": [
    "scaler = StandardScaler()\n",
    "bad_accounts = df_for_predict_clean[df_for_predict_clean['class_pred'] != 'High']"
   ],
   "metadata": {
    "collapsed": false,
    "pycharm": {
     "name": "#%%\n"
    }
   }
  },
  {
   "cell_type": "code",
   "execution_count": 23,
   "outputs": [
    {
     "name": "stdout",
     "output_type": "stream",
     "text": [
      "diff in classes:\n",
      "5\n",
      "out of\n",
      "2657\n"
     ]
    }
   ],
   "source": [
    "processed_df_for_fit['class_diff'] = processed_df_for_fit.apply(lambda row: 1 if\n",
    "((row['class'] == 1) & (row['class_pred_proba'] < 0.5))\n",
    "or ((row['class'] == 0) & (row['class_pred_proba'] >= 0.5))\n",
    "else 0, axis=1)\n",
    "# Predict class for train data (Test: how many are in different class from og label to predicted?)\n",
    "print('diff in classes:')\n",
    "print(np.sum(processed_df_for_fit['class_diff']))\n",
    "print('out of')\n",
    "print(processed_df_for_fit.shape[0])"
   ],
   "metadata": {
    "collapsed": false,
    "pycharm": {
     "name": "#%%\n"
    }
   }
  },
  {
   "cell_type": "code",
   "execution_count": 24,
   "outputs": [
    {
     "name": "stdout",
     "output_type": "stream",
     "text": [
      "The value counts of the predicted rating for the data of the train\n",
      "Low       1860\n",
      "High       399\n",
      "Medium     398\n",
      "Name: class_pred, dtype: int64\n",
      "cat val column of train data:\n",
      "    399\n",
      "Name: cat_val, dtype: int64\n",
      "cat val column of real time data:\n",
      "    1745\n",
      "Name: cat_val, dtype: int64\n"
     ]
    },
    {
     "name": "stderr",
     "output_type": "stream",
     "text": [
      "\n",
      "A value is trying to be set on a copy of a slice from a DataFrame.\n",
      "Try using .loc[row_indexer,col_indexer] = value instead\n",
      "\n",
      "See the caveats in the documentation: https://pandas.pydata.org/pandas-docs/stable/user_guide/indexing.html#returning-a-view-versus-a-copy\n"
     ]
    }
   ],
   "source": [
    "# Filter only high class (Test: how many are high class and how many are the rest?)\n",
    "print(\"The value counts of the predicted rating for the data of the train\")\n",
    "print(processed_df_for_fit['class_pred'].value_counts())\n",
    "\n",
    "train_data_for_whatif = processed_df_for_fit.loc[processed_df_for_fit['class_pred'] == 'High', :].drop(\n",
    "    ['class_diff', 'class_pred_proba', 'class', 'class_pred'], axis=1)\n",
    "\n",
    "# For both train data and new data, add column for categorical features (Test: Value counts the cat val column, both for train and test)\n",
    "cat_cols = get_cat_feature_names(train_data_for_whatif)\n",
    "train_data_for_whatif['cat_val'] = train_data_for_whatif[cat_cols].apply(lambda row: '_'.join(row.values.astype(str)), axis=1)\n",
    "bad_accounts['cat_val'] = bad_accounts[cat_cols].apply(lambda row: '_'.join(row.values.astype(str)), axis=1)\n",
    "print(\"cat val column of train data:\")\n",
    "print(train_data_for_whatif['cat_val'].value_counts())\n",
    "print(\"cat val column of real time data:\")\n",
    "print(bad_accounts['cat_val'].value_counts())\n",
    "\n",
    "bad_accounts = bad_accounts.drop(['class_pred'], axis=1)\n",
    "bad_accounts = bad_accounts.drop(cat_cols, axis=1)\n",
    "train_data_for_whatif = train_data_for_whatif.drop(cat_cols, axis=1)"
   ],
   "metadata": {
    "collapsed": false,
    "pycharm": {
     "name": "#%%\n"
    }
   }
  },
  {
   "cell_type": "code",
   "execution_count": 25,
   "outputs": [],
   "source": [
    "exclude_for_analysis = []"
   ],
   "metadata": {
    "collapsed": false,
    "pycharm": {
     "name": "#%%\n"
    }
   }
  },
  {
   "cell_type": "code",
   "execution_count": 26,
   "outputs": [
    {
     "name": "stdout",
     "output_type": "stream",
     "text": [
      "You should change the feature days_from_permissions_change to be bigger\n",
      "You should change the feature days_since_reply to be bigger\n",
      "You should change the feature days_from_permissions_change to be bigger\n",
      "You should change the feature days_from_permissions_change to be smaller\n",
      "You should change the feature company_age to be bigger\n",
      "You should change the feature docker to be smaller\n",
      "You should change the feature days_since_reply to be bigger\n",
      "You should change the feature days_since_reply to be bigger\n",
      "You should change the feature days_since_reply to be bigger\n",
      "You should change the feature days_from_permissions_change to be bigger\n",
      "You should change the feature days_from_users_change to be bigger\n",
      "You should change the feature days_since_reply to be bigger\n",
      "You should change the feature engineers to be smaller\n",
      "You should change the feature artifacts/binaries_size to be smaller\n",
      "You should change the feature n_tech to be smaller\n",
      "You should change the feature days_from_users_change to be bigger\n",
      "You should change the feature days_since_reply to be bigger\n",
      "You should change the feature number_of_users to be smaller\n",
      "You should change the feature days_from_permissions_change to be smaller\n",
      "You should change the feature engineers to be smaller\n",
      "You should change the feature docker to be smaller\n",
      "You should change the feature days_since_sent to be bigger\n",
      "You should change the feature number_of_permissions to be smaller\n",
      "You should change the feature engineers to be smaller\n",
      "You should change the feature company_age to be bigger\n",
      "You should change the feature engineers to be smaller\n",
      "You should change the feature days_since_reply to be bigger\n"
     ]
    },
    {
     "ename": "ValueError",
     "evalue": "cannot convert float NaN to integer",
     "output_type": "error",
     "traceback": [
      "\u001B[0;31m---------------------------------------------------------------------------\u001B[0m",
      "\u001B[0;31mValueError\u001B[0m                                Traceback (most recent call last)",
      "\u001B[0;32m/var/folders/3p/90mm5d1j34b1l2m7qvjjpb540000gn/T/ipykernel_1662/2162938343.py\u001B[0m in \u001B[0;36m<module>\u001B[0;34m\u001B[0m\n\u001B[1;32m     34\u001B[0m     \u001B[0;32mwhile\u001B[0m \u001B[0;32mnot\u001B[0m \u001B[0mfound_feature\u001B[0m\u001B[0;34m:\u001B[0m\u001B[0;34m\u001B[0m\u001B[0;34m\u001B[0m\u001B[0m\n\u001B[1;32m     35\u001B[0m         \u001B[0mfeature_name\u001B[0m \u001B[0;34m=\u001B[0m \u001B[0mlist\u001B[0m\u001B[0;34m(\u001B[0m\u001B[0mtrain_data_subset\u001B[0m\u001B[0;34m.\u001B[0m\u001B[0mcolumns\u001B[0m\u001B[0;34m)\u001B[0m\u001B[0;34m[\u001B[0m\u001B[0mmax_diff_loc\u001B[0m\u001B[0;34m]\u001B[0m\u001B[0;34m\u001B[0m\u001B[0;34m\u001B[0m\u001B[0m\n\u001B[0;32m---> 36\u001B[0;31m         \u001B[0mnb_val_bigger\u001B[0m \u001B[0;34m=\u001B[0m \u001B[0mint\u001B[0m\u001B[0;34m(\u001B[0m\u001B[0mrow\u001B[0m\u001B[0;34m.\u001B[0m\u001B[0miloc\u001B[0m\u001B[0;34m[\u001B[0m\u001B[0mmax_diff_loc\u001B[0m\u001B[0;34m]\u001B[0m\u001B[0;34m)\u001B[0m \u001B[0;34m>\u001B[0m \u001B[0mint\u001B[0m\u001B[0;34m(\u001B[0m\u001B[0mclosest_obs\u001B[0m\u001B[0;34m.\u001B[0m\u001B[0miloc\u001B[0m\u001B[0;34m[\u001B[0m\u001B[0;36m0\u001B[0m\u001B[0;34m,\u001B[0m \u001B[0mmax_diff_loc\u001B[0m\u001B[0;34m]\u001B[0m\u001B[0;34m)\u001B[0m\u001B[0;34m\u001B[0m\u001B[0;34m\u001B[0m\u001B[0m\n\u001B[0m\u001B[1;32m     37\u001B[0m         \u001B[0mnb_val_equal\u001B[0m \u001B[0;34m=\u001B[0m \u001B[0mint\u001B[0m\u001B[0;34m(\u001B[0m\u001B[0mrow\u001B[0m\u001B[0;34m.\u001B[0m\u001B[0miloc\u001B[0m\u001B[0;34m[\u001B[0m\u001B[0mmax_diff_loc\u001B[0m\u001B[0;34m]\u001B[0m\u001B[0;34m)\u001B[0m \u001B[0;34m==\u001B[0m \u001B[0mint\u001B[0m\u001B[0;34m(\u001B[0m\u001B[0mclosest_obs\u001B[0m\u001B[0;34m.\u001B[0m\u001B[0miloc\u001B[0m\u001B[0;34m[\u001B[0m\u001B[0;36m0\u001B[0m\u001B[0;34m,\u001B[0m \u001B[0mmax_diff_loc\u001B[0m\u001B[0;34m]\u001B[0m\u001B[0;34m)\u001B[0m\u001B[0;34m\u001B[0m\u001B[0;34m\u001B[0m\u001B[0m\n\u001B[1;32m     38\u001B[0m         \u001B[0mstr_for_parse\u001B[0m \u001B[0;34m=\u001B[0m \u001B[0;34m\" to be bigger\"\u001B[0m \u001B[0;32mif\u001B[0m \u001B[0mnb_val_bigger\u001B[0m \u001B[0;32melse\u001B[0m \u001B[0;34m\" to be smaller\"\u001B[0m\u001B[0;34m\u001B[0m\u001B[0;34m\u001B[0m\u001B[0m\n",
      "\u001B[0;31mValueError\u001B[0m: cannot convert float NaN to integer"
     ]
    }
   ],
   "source": [
    "for index, row in bad_accounts.iterrows():\n",
    "    row_trans = pd.DataFrame(row)\n",
    "    # For each instance of new data in iteration, bring train data of same categorical values\n",
    "    train_data_subset = train_data_for_whatif.loc[train_data_for_whatif['cat_val'] == row['cat_val'], :]\n",
    "    if train_data_subset.shape[0] == 0:\n",
    "        train_data_subset = train_data_for_whatif.loc[train_data_for_whatif['cat_val'] == '-1_-1_-1', :]\n",
    "\n",
    "    # Attach the subset of train data with the current instance\n",
    "    train_data_subset_w_instance = pd.concat([train_data_subset, row_trans.transpose()])\n",
    "\n",
    "    # Remove the newly added categorical column\n",
    "    train_data_subset_w_instance = train_data_subset_w_instance.drop(['cat_val'], axis=1)\n",
    "\n",
    "    # Scale the concated df\n",
    "    df_whatif_scaled = pd.DataFrame(scaler.fit_transform(train_data_subset_w_instance),\n",
    "                                    columns=train_data_subset_w_instance.columns)\n",
    "    df_whatif_scaled = df_whatif_scaled.fillna(0)\n",
    "\n",
    "    # Find nearest neighbour for the instance we care for from the other data set\n",
    "    sample = df_whatif_scaled.iloc[-1]\n",
    "    df_whatif_scaled_wo_sample = df_whatif_scaled.iloc[:-1, :]\n",
    "    dists = [cityblock(sample, df_whatif_scaled_wo_sample.iloc[i]) for i in\n",
    "             (range(df_whatif_scaled_wo_sample.shape[0]))]\n",
    "    closest_obs = train_data_subset.iloc[[np.argmin(dists)], range(train_data_subset.shape[1])].drop('cat_val', axis=1)\n",
    "\n",
    "    # Calculate shap values for the neighboor's features and the current instance's features, calculate diffs\n",
    "    df_concat_for_shap = pd.concat([closest_obs, row_trans.transpose()], axis=0)\n",
    "    shap_values_total = shap.TreeExplainer(top_model).shap_values(df_concat_for_shap)\n",
    "\n",
    "    # Create recommendations based on the top diff feature\n",
    "    shap_diff = np.subtract(shap_values_total[0], shap_values_total[1])\n",
    "    max_diff_loc = np.argmax(shap_diff)\n",
    "    found_feature = False\n",
    "    while not found_feature:\n",
    "        feature_name = list(train_data_subset.columns)[max_diff_loc]\n",
    "        nb_val_bigger = int(row.iloc[max_diff_loc]) > int(closest_obs.iloc[0, max_diff_loc])\n",
    "        nb_val_equal = int(row.iloc[max_diff_loc]) == int(closest_obs.iloc[0, max_diff_loc])\n",
    "        str_for_parse = \" to be bigger\" if nb_val_bigger else \" to be smaller\"\n",
    "        if not nb_val_equal and feature_name not in exclude_for_analysis:\n",
    "            print(\"You should change the feature \" + feature_name + str_for_parse)\n",
    "            found_feature = True\n",
    "        else:\n",
    "            shap_diff[np.argmax(shap_diff)] = -100000000000\n",
    "            max_diff_loc = np.argmax(shap_diff)"
   ],
   "metadata": {
    "collapsed": false,
    "pycharm": {
     "name": "#%%\n"
    }
   }
  },
  {
   "cell_type": "code",
   "execution_count": null,
   "outputs": [],
   "source": [
    "\n"
   ],
   "metadata": {
    "collapsed": false,
    "pycharm": {
     "name": "#%%\n"
    }
   }
  }
 ],
 "metadata": {
  "kernelspec": {
   "display_name": "Python 3 (ipykernel)",
   "language": "python",
   "name": "python3"
  },
  "language_info": {
   "codemirror_mode": {
    "name": "ipython",
    "version": 3
   },
   "file_extension": ".py",
   "mimetype": "text/x-python",
   "name": "python",
   "nbconvert_exporter": "python",
   "pygments_lexer": "ipython3",
   "version": "3.8.2"
  },
  "varInspector": {
   "cols": {
    "lenName": 16,
    "lenType": 16,
    "lenVar": 40
   },
   "kernels_config": {
    "python": {
     "delete_cmd_postfix": "",
     "delete_cmd_prefix": "del ",
     "library": "var_list.py",
     "varRefreshCmd": "print(var_dic_list())"
    },
    "r": {
     "delete_cmd_postfix": ") ",
     "delete_cmd_prefix": "rm(",
     "library": "var_list.r",
     "varRefreshCmd": "cat(var_dic_list()) "
    }
   },
   "types_to_exclude": [
    "module",
    "function",
    "builtin_function_or_method",
    "instance",
    "_Feature"
   ],
   "window_display": false
  }
 },
 "nbformat": 4,
 "nbformat_minor": 1
}